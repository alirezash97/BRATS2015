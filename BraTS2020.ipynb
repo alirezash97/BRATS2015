{
  "nbformat": 4,
  "nbformat_minor": 0,
  "metadata": {
    "colab": {
      "name": "BraTS2020.ipynb",
      "provenance": [],
      "mount_file_id": "1f8KUfHENzynHcLDFGV_J4lwwQt2tjbaF",
      "authorship_tag": "ABX9TyNsBqYsDwh4f2B9QOz7Vz8e",
      "include_colab_link": true
    },
    "kernelspec": {
      "name": "python3",
      "display_name": "Python 3"
    }
  },
  "cells": [
    {
      "cell_type": "markdown",
      "metadata": {
        "id": "view-in-github",
        "colab_type": "text"
      },
      "source": [
        "<a href=\"https://colab.research.google.com/github/alirezash97/BRATS2015/blob/master/BraTS2020.ipynb\" target=\"_parent\"><img src=\"https://colab.research.google.com/assets/colab-badge.svg\" alt=\"Open In Colab\"/></a>"
      ]
    },
    {
      "cell_type": "code",
      "metadata": {
        "id": "wPuabDSM5Odq",
        "colab_type": "code",
        "colab": {}
      },
      "source": [
        "# !wget 'https://www.cbica.upenn.edu/MICCAI_BraTS2020_TrainingData'"
      ],
      "execution_count": 0,
      "outputs": []
    },
    {
      "cell_type": "code",
      "metadata": {
        "id": "Kwoe8nMu5ehU",
        "colab_type": "code",
        "colab": {}
      },
      "source": [
        "# !unzip /content/MICCAI_BraTS2020_TrainingData -d '/content/drive/My Drive/BRATS2020/'"
      ],
      "execution_count": 0,
      "outputs": []
    },
    {
      "cell_type": "code",
      "metadata": {
        "id": "Hv49FBX66rwE",
        "colab_type": "code",
        "colab": {}
      },
      "source": [
        "import os\n",
        "import numpy as np\n",
        "from nibabel.testing import data_path\n",
        "import nibabel as nib\n",
        "import matplotlib.pyplot as plt\n"
      ],
      "execution_count": 0,
      "outputs": []
    },
    {
      "cell_type": "code",
      "metadata": {
        "id": "DDDX_B0tDqMq",
        "colab_type": "code",
        "colab": {}
      },
      "source": [
        "import glob, os\n",
        "images_path = glob.glob('/content/drive/My Drive/BRATS2020/MICCAI_BraTS2020_TrainingData/**/*.nii.gz', recursive=True)"
      ],
      "execution_count": 0,
      "outputs": []
    },
    {
      "cell_type": "code",
      "metadata": {
        "id": "ynUxRs9LErvb",
        "colab_type": "code",
        "colab": {}
      },
      "source": [
        "X_trainset_filenames = []\n",
        "y_trainset_filenames = []\n",
        "\n",
        "for item in images_path:\n",
        "  if 'seg' in item:\n",
        "    y_trainset_filenames.append(os.path.join(data_path, item))\n",
        "  else:\n",
        "    X_trainset_filenames.append(os.path.join(data_path, item))\n",
        "\n",
        "\n"
      ],
      "execution_count": 0,
      "outputs": []
    },
    {
      "cell_type": "code",
      "metadata": {
        "id": "DuYO0wBrFhXF",
        "colab_type": "code",
        "colab": {
          "base_uri": "https://localhost:8080/",
          "height": 50
        },
        "outputId": "aa873d60-26c8-4532-d9d7-1ec272949475"
      },
      "source": [
        "print(len(X_trainset_filenames))\n",
        "print(len(y_trainset_filenames))"
      ],
      "execution_count": 73,
      "outputs": [
        {
          "output_type": "stream",
          "text": [
            "1476\n",
            "369\n"
          ],
          "name": "stdout"
        }
      ]
    },
    {
      "cell_type": "code",
      "metadata": {
        "id": "KoAJ39yAGA41",
        "colab_type": "code",
        "colab": {}
      },
      "source": [
        "X_trainset_nibfile = []\n",
        "y_trainset_nibfile = []\n",
        "\n",
        "for item in X_trainset_filenames:\n",
        "  X_trainset_nibfile.append(nib.load(item))\n",
        "\n",
        "for item in y_trainset_filenames:\n",
        "  y_trainset_nibfile.append(nib.load(item))\n",
        "\n"
      ],
      "execution_count": 0,
      "outputs": []
    },
    {
      "cell_type": "code",
      "metadata": {
        "id": "WuRu57boGb-D",
        "colab_type": "code",
        "colab": {
          "base_uri": "https://localhost:8080/",
          "height": 50
        },
        "outputId": "8a41e468-e414-4dba-c795-eb6e469ff603"
      },
      "source": [
        "print(len(X_trainset_nibfile))\n",
        "print(len(y_trainset_nibfile))"
      ],
      "execution_count": 77,
      "outputs": [
        {
          "output_type": "stream",
          "text": [
            "1476\n",
            "369\n"
          ],
          "name": "stdout"
        }
      ]
    },
    {
      "cell_type": "code",
      "metadata": {
        "id": "YSXFDvJ2Gpz3",
        "colab_type": "code",
        "colab": {
          "base_uri": "https://localhost:8080/",
          "height": 50
        },
        "outputId": "12c6a5a8-a704-48ff-8415-a2d41e970651"
      },
      "source": [
        "print(X_trainset_nibfile[1].shape)\n",
        "print(y_trainset_nibfile[1].shape)"
      ],
      "execution_count": 80,
      "outputs": [
        {
          "output_type": "stream",
          "text": [
            "(240, 240, 155)\n",
            "(240, 240, 155)\n"
          ],
          "name": "stdout"
        }
      ]
    },
    {
      "cell_type": "code",
      "metadata": {
        "id": "jrkbXGaZ-mYx",
        "colab_type": "code",
        "colab": {}
      },
      "source": [
        "# example_filename = os.path.join(data_path, '/content/drive/My Drive/BRATS2020/MICCAI_BraTS2020_TrainingData/BraTS20_Training_001/BraTS20_Training_001_t1ce.nii.gz')"
      ],
      "execution_count": 0,
      "outputs": []
    },
    {
      "cell_type": "code",
      "metadata": {
        "id": "XZ8YayGs-wak",
        "colab_type": "code",
        "colab": {}
      },
      "source": [
        "# img = nib.load(example_filename)"
      ],
      "execution_count": 0,
      "outputs": []
    },
    {
      "cell_type": "code",
      "metadata": {
        "id": "6xBOONjnBVDe",
        "colab_type": "code",
        "colab": {}
      },
      "source": [
        "# image =  img.get_fdata()"
      ],
      "execution_count": 0,
      "outputs": []
    },
    {
      "cell_type": "code",
      "metadata": {
        "id": "3us9iObhBYDC",
        "colab_type": "code",
        "colab": {
          "base_uri": "https://localhost:8080/",
          "height": 286
        },
        "outputId": "20fc09c6-ffc7-440d-f9a1-fd47bdcebf03"
      },
      "source": [
        "# plt.imshow((image[:, :, 106:109] * 255).astype(np.uint8))"
      ],
      "execution_count": 58,
      "outputs": [
        {
          "output_type": "execute_result",
          "data": {
            "text/plain": [
              "<matplotlib.image.AxesImage at 0x7f703e91d0b8>"
            ]
          },
          "metadata": {
            "tags": []
          },
          "execution_count": 58
        },
        {
          "output_type": "display_data",
          "data": {
            "image/png": "[encoded data removed]",
            "text/plain": [
              "<Figure size 432x288 with 1 Axes>"
            ]
          },
          "metadata": {
            "tags": [],
            "needs_background": "light"
          }
        }
      ]
    },
    {
      "cell_type": "code",
      "metadata": {
        "id": "QK5NO5XwBqTk",
        "colab_type": "code",
        "colab": {}
      },
      "source": [
        ""
      ],
      "execution_count": 0,
      "outputs": []
    }
  ]
}