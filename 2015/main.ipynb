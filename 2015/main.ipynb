{
  "nbformat": 4,
  "nbformat_minor": 0,
  "metadata": {
    "colab": {
      "name": "main.ipynb",
      "provenance": [],
      "mount_file_id": "https://github.com/alirezash97/BRATS2015/blob/master/main.ipynb",
      "authorship_tag": "ABX9TyMYlIJeR0EFMS4qAGFUCWuy",
      "include_colab_link": true
    },
    "kernelspec": {
      "name": "python3",
      "display_name": "Python 3"
    }
  },
  "cells": [
    {
      "cell_type": "markdown",
      "metadata": {
        "id": "view-in-github",
        "colab_type": "text"
      },
      "source": [
        "<a href=\"https://colab.research.google.com/github/alirezash97/BRATS2015/blob/master/main.ipynb\" target=\"_parent\"><img src=\"https://colab.research.google.com/assets/colab-badge.svg\" alt=\"Open In Colab\"/></a>"
      ]
    },
    {
      "cell_type": "code",
      "metadata": {
        "id": "BZrH-sn7AZww",
        "colab_type": "code",
        "colab": {}
      },
      "source": [
        "!sudo apt-get install python-pip python-numpy python-scipy libboost-python-dev build-essential"
      ],
      "execution_count": 0,
      "outputs": []
    },
    {
      "cell_type": "code",
      "metadata": {
        "id": "P-IVUCknAgux",
        "colab_type": "code",
        "colab": {}
      },
      "source": [
        "!sudo pip install nibabel pydicom medpy"
      ],
      "execution_count": 0,
      "outputs": []
    },
    {
      "cell_type": "code",
      "metadata": {
        "id": "aVQisU1x8bwL",
        "colab_type": "code",
        "colab": {}
      },
      "source": [
        "!pip install kaggle\n",
        "!mkdir .kaggle\n",
        "import json\n",
        "token = {\"username\":\"alirezashafaei97\",\"key\":\"9cb262aa0c5658ffc4eb45857c41903c\"}\n",
        "with open('/content/.kaggle/kaggle.json', 'w') as file:\n",
        "    json.dump(token, file)\n",
        "!mkdir ~/.kaggle\n",
        "!cp /content/.kaggle/kaggle.json ~/.kaggle/kaggle.json\n",
        "!kaggle config set -n path -v{/content}\n",
        "!chmod 600 /root/.kaggle/kaggle.json\n",
        "!kaggle datasets download -d andrewmvd/brain-tumor-segmentation-in-mri-brats-2015 -p /content\n",
        "\n"
      ],
      "execution_count": 0,
      "outputs": []
    },
    {
      "cell_type": "code",
      "metadata": {
        "id": "TW9OhHBd8_IU",
        "colab_type": "code",
        "colab": {}
      },
      "source": [
        "!unzip /content/brain-tumor-segmentation-in-mri-brats-2015.zip -d /content/BTS"
      ],
      "execution_count": 0,
      "outputs": []
    },
    {
      "cell_type": "code",
      "metadata": {
        "id": "vB8LBFb4zYDd",
        "colab_type": "code",
        "colab": {}
      },
      "source": [
        ""
      ],
      "execution_count": 0,
      "outputs": []
    },
    {
      "cell_type": "code",
      "metadata": {
        "id": "tgqS6C6J_2Z_",
        "colab_type": "code",
        "colab": {}
      },
      "source": [
        "import glob, os\n",
        "HGG = glob.glob('/content/BTS/train/HGG/**/*.mha', recursive=True)\n",
        "LGG = glob.glob('/content/BTS/train/LGG/**/*.mha', recursive=True)"
      ],
      "execution_count": 0,
      "outputs": []
    },
    {
      "cell_type": "code",
      "metadata": {
        "id": "Z0xnV0q3DdiU",
        "colab_type": "code",
        "outputId": "ba631bf8-414f-49a8-be47-3000c665ad63",
        "colab": {
          "base_uri": "https://localhost:8080/",
          "height": 50
        }
      },
      "source": [
        "print(len(HGG))\n",
        "print(len(LGG))"
      ],
      "execution_count": 6,
      "outputs": [
        {
          "output_type": "stream",
          "text": [
            "1100\n",
            "270\n"
          ],
          "name": "stdout"
        }
      ]
    },
    {
      "cell_type": "code",
      "metadata": {
        "id": "MfUQ55lBKnPE",
        "colab_type": "code",
        "colab": {}
      },
      "source": [
        "T1_HGG = []\n",
        "S_HGG = []\n",
        "T1_LGG = []\n",
        "S_LGG = []\n",
        "for item in HGG:\n",
        "  if 'T1.' in item:\n",
        "    T1_HGG.append(item)\n",
        "  elif 'O.OT.' in item:\n",
        "    S_HGG.append(item)\n",
        "  else:\n",
        "    pass\n",
        "\n",
        "# for item in LGG:\n",
        "#   if 'T1.' in item:\n",
        "#     T1_LGG.append(item)\n",
        "#   elif 'O.OT.' in item:\n",
        "#     S_LGG.append(item)\n",
        "#   else:\n",
        "#     pass\n"
      ],
      "execution_count": 0,
      "outputs": []
    },
    {
      "cell_type": "code",
      "metadata": {
        "id": "LYsA6IXNOk35",
        "colab_type": "code",
        "outputId": "c69473d3-f9cd-4c58-d0e4-595092b468aa",
        "colab": {
          "base_uri": "https://localhost:8080/",
          "height": 50
        }
      },
      "source": [
        "print(len(T1_HGG))\n",
        "print(len(S_HGG))\n",
        "# print(len(T1_LGG))\n",
        "# print(len(S_LGG))"
      ],
      "execution_count": 8,
      "outputs": [
        {
          "output_type": "stream",
          "text": [
            "220\n",
            "215\n"
          ],
          "name": "stdout"
        }
      ]
    },
    {
      "cell_type": "code",
      "metadata": {
        "id": "Tdq_DDhdhic8",
        "colab_type": "code",
        "colab": {}
      },
      "source": [
        "T1_HGG_validation = T1_HGG[199:215]\n",
        "S_HGG_validation = S_HGG[199:]\n",
        "T1_HGG = T1_HGG[:199]\n",
        "S_HGG = S_HGG[:199]"
      ],
      "execution_count": 0,
      "outputs": []
    },
    {
      "cell_type": "code",
      "metadata": {
        "id": "Yub4OLKIPuNL",
        "colab_type": "code",
        "colab": {}
      },
      "source": [
        "from medpy.io import load\n",
        "import numpy as np\n",
        "\n",
        "\n",
        "def generator(samples, targets, batch_size=2):\n",
        "    \n",
        "\n",
        "\n",
        "    num_samples = len(samples)\n",
        "    while True: # Loop forever so the generator never terminates\n",
        "\n",
        " \n",
        "        # Get index to start each batch: [0, batch_size, 2*batch_size, ..., max multiple of batch_size &lt;= num_samples]\n",
        "        for offset in range(0, num_samples, batch_size):\n",
        "            # Get the samples you'll use in this batch\n",
        "            batch_samples = samples[offset:offset+batch_size]\n",
        "            batch_targets = targets[offset:offset+batch_size]\n",
        " \n",
        "            # Initialise X_train and y_train arrays for this batch\n",
        "            X_train = []\n",
        "            y_train = []\n",
        " \n",
        "            # For each example\n",
        "            for batch_sample in batch_samples:\n",
        "                # Load image (X)\n",
        "                temp, header = load(batch_sample)\n",
        "                tempp = np.zeros((48, 240, 240, 3))\n",
        "                for i in range (1, 49):\n",
        "                  tempp[i-1, :, :, :] = temp[:, :, i*3:(i+1)*3]\n",
        "\n",
        "                X_train.append(tempp)\n",
        "\n",
        "            for batch_target in batch_targets:\n",
        "                # Load image (X)\n",
        "                temp, header = load(batch_target)\n",
        "                tempp = np.zeros((48, 240, 240, 3))\n",
        "                for i in range (1, 49):\n",
        "                  tempp[i-1, :, :, :] = temp[:, :, i*3:(i+1)*3]\n",
        "\n",
        "                y_train.append(tempp)\n",
        " \n",
        "            # Make sure they're numpy arrays (as opposed to lists)\n",
        "            X_train = np.array(X_train)\n",
        "            y_train = np.array(y_train)\n",
        " \n",
        "            # The generator-y part: yield the next training batch            \n",
        "            yield X_train, y_train\n",
        "\n",
        "\n",
        "\n",
        "  "
      ],
      "execution_count": 0,
      "outputs": []
    },
    {
      "cell_type": "code",
      "metadata": {
        "id": "D1GZffAoffcI",
        "colab_type": "code",
        "colab": {}
      },
      "source": [
        "train_generator = generator(T1_HGG, S_HGG, batch_size=1)\n",
        "validation_generator = generator(T1_HGG_validation, S_HGG_validation, batch_size=1)"
      ],
      "execution_count": 0,
      "outputs": []
    },
    {
      "cell_type": "code",
      "metadata": {
        "id": "oEXSDmkV9WMN",
        "colab_type": "code",
        "colab": {}
      },
      "source": [
        "# from medpy.io import load\n",
        "# import matplotlib.pyplot as plt\n",
        "# import numpy as np\n",
        "\n",
        "\n",
        "\n",
        "# trainset_HGG = np.zeros((10, 240, 240, 155))\n",
        "# targetset_HGG = np.zeros((10, 240, 240, 155))\n",
        "# # trainset_LGG = np.zeros((100, 240, 240, 155))\n",
        "\n",
        "\n",
        "# # for index, dir_address in enumerate(HGG) :\n",
        "  \n",
        "# #   temp = load(dir_address)\n",
        "# #   trainset_HGG[index, :, :, :] = np.array(temp)\n",
        "\n",
        "\n",
        "\n",
        "# for index, dir_address in enumerate(T1_HGG) :\n",
        "  \n",
        "#   temp, header = load(dir_address)\n",
        "#   trainset_HGG[index, :, :, :] = np.array(temp)\n",
        "\n",
        "# for index, dir_address in enumerate(S_HGG) :\n",
        "  \n",
        "#   temp, header = load(dir_address)\n",
        "#   targetset_HGG[index, :, :, :] = np.array(temp)\n",
        "\n"
      ],
      "execution_count": 0,
      "outputs": []
    },
    {
      "cell_type": "code",
      "metadata": {
        "id": "Qc9aJsKdEfAR",
        "colab_type": "code",
        "outputId": "5403ccda-762e-4d25-fa11-6749b21c22f0",
        "colab": {
          "base_uri": "https://localhost:8080/",
          "height": 286
        }
      },
      "source": [
        "\n",
        "# plt.imshow((trainset_HGG[9, :, :, 70:73] * 255).astype(np.uint8))"
      ],
      "execution_count": 0,
      "outputs": [
        {
          "output_type": "execute_result",
          "data": {
            "text/plain": [
              "<matplotlib.image.AxesImage at 0x7ff9b44193c8>"
            ]
          },
          "metadata": {
            "tags": []
          },
          "execution_count": 7
        },
        {
          "output_type": "display_data",
          "data": {
            "image/png": "[encoded data removed]",
            "text/plain": [
              "<Figure size 432x288 with 1 Axes>"
            ]
          },
          "metadata": {
            "tags": [],
            "needs_background": "light"
          }
        }
      ]
    },
    {
      "cell_type": "code",
      "metadata": {
        "id": "h-TxSQptq4Vn",
        "colab_type": "code",
        "outputId": "de85c74d-fd9c-4dce-9fe5-a3516a1deb21",
        "colab": {
          "base_uri": "https://localhost:8080/",
          "height": 286
        }
      },
      "source": [
        "# plt.imshow(targetset_HGG[9, :, :, 92], cmap='gray')\n",
        "# plt.imshow((targetset_HGG[12, :, :, 80:83] * 255).astype(np.uint8))"
      ],
      "execution_count": 0,
      "outputs": [
        {
          "output_type": "execute_result",
          "data": {
            "text/plain": [
              "<matplotlib.image.AxesImage at 0x7ff9b3f5dc88>"
            ]
          },
          "metadata": {
            "tags": []
          },
          "execution_count": 8
        },
        {
          "output_type": "display_data",
          "data": {
            "image/png": "[encoded data removed]",
            "text/plain": [
              "<Figure size 432x288 with 1 Axes>"
            ]
          },
          "metadata": {
            "tags": [],
            "needs_background": "light"
          }
        }
      ]
    },
    {
      "cell_type": "code",
      "metadata": {
        "id": "6dFD_YGqHQ4W",
        "colab_type": "code",
        "colab": {}
      },
      "source": [
        "# import numpy as np\n",
        "# import matplotlib.pyplot as plt\n",
        "\n",
        "# def ploter(image_data, a, b):\n",
        "#   fig=plt.figure(figsize=(10, 10))\n",
        "#   columns = 4\n",
        "#   rows = 5\n",
        "#   counter = 0\n",
        "#   for i in range(a, b):\n",
        "#       counter += 1\n",
        "#       img = image_data[:, :, i]\n",
        "#       fig.add_subplot(rows, columns, counter)\n",
        "#       plt.imshow(img, cmap='gray')\n",
        "#   plt.show()\n"
      ],
      "execution_count": 0,
      "outputs": []
    },
    {
      "cell_type": "code",
      "metadata": {
        "id": "BmSuvtSaMcmR",
        "colab_type": "code",
        "outputId": "a05467bd-38b9-47b8-ffc5-bc0c5aa90728",
        "colab": {
          "base_uri": "https://localhost:8080/",
          "height": 595
        }
      },
      "source": [
        "\n",
        "# ploter(targetset_HGG[12, :, :, :], 80, 100)\n"
      ],
      "execution_count": 0,
      "outputs": [
        {
          "output_type": "display_data",
          "data": {
            "image/png": "[encoded data removed]",
            "text/plain": [
              "<Figure size 720x720 with 20 Axes>"
            ]
          },
          "metadata": {
            "tags": [],
            "needs_background": "light"
          }
        }
      ]
    },
    {
      "cell_type": "code",
      "metadata": {
        "id": "XqIsRce2WdaZ",
        "colab_type": "code",
        "outputId": "f4a28d80-6194-4d7f-e611-a65c7c033dbd",
        "colab": {
          "base_uri": "https://localhost:8080/",
          "height": 50
        }
      },
      "source": [
        "# print(trainset_HGG.shape)\n",
        "# print(targetset_HGG.shape)"
      ],
      "execution_count": 0,
      "outputs": [
        {
          "output_type": "stream",
          "text": [
            "(50, 240, 240, 155)\n",
            "(50, 240, 240, 155)\n"
          ],
          "name": "stdout"
        }
      ]
    },
    {
      "cell_type": "code",
      "metadata": {
        "id": "e3a4LcHtLZGi",
        "colab_type": "code",
        "colab": {}
      },
      "source": [
        "# from sklearn.model_selection import train_test_split\n",
        "\n",
        "# X_train, X_test, y_train, y_test = train_test_split(trainset_HGG, targetset_HGG, test_size=0.2)"
      ],
      "execution_count": 0,
      "outputs": []
    },
    {
      "cell_type": "code",
      "metadata": {
        "id": "WT--KEgrKFhc",
        "colab_type": "code",
        "colab": {}
      },
      "source": [
        "pip install keras-segmentation"
      ],
      "execution_count": 0,
      "outputs": []
    },
    {
      "cell_type": "code",
      "metadata": {
        "id": "s4tsa7MR0dZ7",
        "colab_type": "code",
        "colab": {}
      },
      "source": [
        ""
      ],
      "execution_count": 0,
      "outputs": []
    },
    {
      "cell_type": "code",
      "metadata": {
        "id": "Jr-U5PhDSI0n",
        "colab_type": "code",
        "colab": {}
      },
      "source": [
        "from keras.layers import Conv3D, Dropout, MaxPooling3D, concatenate, UpSampling3D\n",
        "\n",
        "from keras import Model, Input\n",
        "\n",
        "import numpy as np \n",
        "import os\n",
        "import skimage.io as io\n",
        "import skimage.transform as trans\n",
        "import numpy as np\n",
        "from keras.metrics import MeanIoU\n",
        "from keras.models import *\n",
        "from keras.layers import *\n",
        "from keras.optimizers import *\n",
        "from keras.callbacks import ModelCheckpoint, LearningRateScheduler\n",
        "from keras import backend as keras\n",
        "\n",
        "\n",
        "prev_chance0, checker0 = (0.1, 0)\n",
        "prev_chance1, checker1 = (0.1, 0)\n",
        "prev_chance2, checker2 = (0.1, 0)\n",
        "\n",
        "\n",
        "\n",
        "def unet(prev_chance0, checker0, prev_chance1, checker1, prev_chance2, checker2, pretrained_weights = None, input_size = (48, 240, 240, 3)):\n",
        "    inputs = Input(input_size)\n",
        "    conv1 = Conv3D(4, 3, activation = 'relu', padding = 'same', kernel_initializer = 'he_normal')(inputs)\n",
        "    conv1 = Conv3D(4, 3, activation = 'relu', padding = 'same', kernel_initializer = 'he_normal')(conv1)\n",
        "    pool1 = MaxPooling3D(pool_size=(1, 2, 2))(conv1)\n",
        "    conv2 = Conv3D(8, 3, activation = 'relu', padding = 'same', kernel_initializer = 'he_normal')(pool1)\n",
        "    conv2 = Conv3D(8, 3, activation = 'relu', padding = 'same', kernel_initializer = 'he_normal')(conv2)\n",
        "    pool2 = MaxPooling3D(pool_size=(1, 2, 2))(conv2)\n",
        "    conv3 = Conv3D(16, 3, activation = 'relu', padding = 'same', kernel_initializer = 'he_normal')(pool2)\n",
        "    \n",
        "    #######\n",
        "    prev_chance0, conv3, checker0 = Acid16(prev_chance0, conv3, checker0)\n",
        "    # conv3 = Conv3D(16, 3, activation = 'relu', padding = 'same', kernel_initializer = 'he_normal')(conv3)\n",
        "    #######\n",
        "\n",
        "    pool3 = MaxPooling3D(pool_size=(1, 2, 2))(conv3)\n",
        "    conv4 = Conv3D(32, 3, activation = 'relu', padding = 'same', kernel_initializer = 'he_normal')(pool3)\n",
        "    \n",
        "    #######\n",
        "    prev_chance1, conv4, checker1 = Acid32(prev_chance1, conv4, checker1)\n",
        "    # conv4 = Conv3D(32, 3, activation = 'relu', padding = 'same', kernel_initializer = 'he_normal')(conv4)\n",
        "    #######\n",
        "\n",
        "    drop4 = Dropout(0.5)(conv4)\n",
        "    pool4 = MaxPooling3D(pool_size=(1, 2, 2))(drop4)\n",
        "\n",
        "    conv5 = Conv3D(64, 3, activation = 'relu', padding = 'same', kernel_initializer = 'he_normal')(pool4)\n",
        "    \n",
        "    ########\n",
        "    prev_chance2, conv5, checker2 = Acid64(prev_chance2, conv5, checker2)\n",
        "    # conv5 = Conv3D(64, 3, activation = 'relu', padding = 'same', kernel_initializer = 'he_normal')(conv5)\n",
        "    ########\n",
        "    \n",
        "    drop5 = Dropout(0.5)(conv5)\n",
        "\n",
        "    up6 = Conv3D(32, 2, activation = 'relu', padding = 'same', kernel_initializer = 'he_normal')(UpSampling3D(size = (1, 2, 2))(drop5))\n",
        "    merge6 = concatenate([drop4,up6], axis = -1)\n",
        "    conv6 = Conv3D(32, 3, activation = 'relu', padding = 'same', kernel_initializer = 'he_normal')(merge6)\n",
        "    conv6 = Conv3D(32, 3, activation = 'relu', padding = 'same', kernel_initializer = 'he_normal')(conv6)\n",
        "\n",
        "    up7 = Conv3D(16, 2, activation = 'relu', padding = 'same', kernel_initializer = 'he_normal')(UpSampling3D(size = (1, 2, 2))(conv6))\n",
        "    merge7 = concatenate([conv3,up7], axis = -1)\n",
        "    conv7 = Conv3D(16, 3, activation = 'relu', padding = 'same', kernel_initializer = 'he_normal')(merge7)\n",
        "    conv7 = Conv3D(16, 3, activation = 'relu', padding = 'same', kernel_initializer = 'he_normal')(conv7)\n",
        "\n",
        "    up8 = Conv3D(8, 2, activation = 'relu', padding = 'same', kernel_initializer = 'he_normal')(UpSampling3D(size = (1, 2, 2))(conv7)) #\n",
        "    merge8 = concatenate([conv2,up8], axis = -1)\n",
        "    conv8 = Conv3D(8, 3, activation = 'relu', padding = 'same', kernel_initializer = 'he_normal')(merge8)\n",
        "    conv8 = Conv3D(8, 3, activation = 'relu', padding = 'same', kernel_initializer = 'he_normal')(conv8)\n",
        "\n",
        "    up9 = Conv3D(4, 2, activation = 'relu', padding = 'same', kernel_initializer = 'he_normal')(UpSampling3D(size = (1, 2, 2))(conv8))\n",
        "    merge9 = concatenate([conv1,up9], axis = -1)\n",
        "    conv9 = Conv3D(4, 3, activation = 'relu', padding = 'same', kernel_initializer = 'he_normal')(merge9)\n",
        "    conv9 = Conv3D(4, 3, activation = 'relu', padding = 'same', kernel_initializer = 'he_normal')(conv9)\n",
        "    conv10 = Conv3D(3, 1, activation = 'sigmoid')(conv9)\n",
        "\n",
        "    model = Model(input=inputs, output = conv10)\n",
        "\n",
        "    model.compile(optimizer = Adam(lr = 1e-4), loss = soft_dice_loss, metrics = [dice_coefficient])\n",
        "  \n",
        "    #model.summary()\n",
        "\n",
        "    if(pretrained_weights):\n",
        "    \tmodel.load_weights(pretrained_weights)\n",
        "\n",
        "    return model"
      ],
      "execution_count": 0,
      "outputs": []
    },
    {
      "cell_type": "code",
      "metadata": {
        "id": "ntKESDf4nKSV",
        "colab_type": "code",
        "colab": {}
      },
      "source": [
        "from keras import backend as K\n",
        "\n",
        "def soft_dice_loss(y_true, y_pred, axis=(1, 2, 3), \n",
        "                   epsilon=0.00001):\n",
        "  \n",
        "    dice_numerator = 2. * K.sum(y_true * y_pred, axis=axis) + epsilon\n",
        "    dice_denominator = K.sum(y_true**2, axis=axis) + K.sum(y_pred**2, axis=axis) + epsilon\n",
        "    dice_loss = 1 - K.mean((dice_numerator)/(dice_denominator))\n",
        "\n",
        "\n",
        "    return dice_loss\n",
        "\n",
        "\n",
        "def dice_coefficient(y_true, y_pred, axis=(1, 2, 3), \n",
        "                     epsilon=0.00001):\n",
        "\n",
        "    dice_numerator = 2. * K.sum(y_true * y_pred, axis=axis) + epsilon\n",
        "    dice_denominator = K.sum(y_true, axis=axis) + K.sum(y_pred, axis=axis) + epsilon\n",
        "    dice_coefficient = K.mean((dice_numerator)/(dice_denominator))\n",
        "    \n",
        " \n",
        "    return dice_coefficient\n",
        "\n",
        "\n",
        "# def dice_coefficient(y_true, y_pred, smooth=1.):\n",
        "#     y_true_f = K.flatten(y_true)\n",
        "#     y_pred_f = K.flatten(y_pred)\n",
        "#     intersection = K.sum(y_true_f * y_pred_f)\n",
        "#     return (2. * intersection + smooth) / (K.sum(y_true_f) + K.sum(y_pred_f) + smooth)\n",
        "\n",
        "\n",
        "# def dice_coefficient_loss(y_true, y_pred):\n",
        "#     return 1-dice_coefficient(y_true, y_pred)"
      ],
      "execution_count": 0,
      "outputs": []
    },
    {
      "cell_type": "code",
      "metadata": {
        "id": "uVv3SKpZTZ0l",
        "colab_type": "code",
        "outputId": "370987d6-2e72-4694-e957-db13157c9269",
        "colab": {
          "base_uri": "https://localhost:8080/",
          "height": 1000
        }
      },
      "source": [
        "model = unet(prev_chance0, checker0, prev_chance1, checker1, prev_chance2, checker2)\n",
        "model.summary()"
      ],
      "execution_count": 55,
      "outputs": [
        {
          "output_type": "stream",
          "text": [
            "Model: \"model_9\"\n",
            "__________________________________________________________________________________________________\n",
            "Layer (type)                    Output Shape         Param #     Connected to                     \n",
            "==================================================================================================\n",
            "input_9 (InputLayer)            (None, 48, 240, 240, 0                                            \n",
            "__________________________________________________________________________________________________\n",
            "conv3d_185 (Conv3D)             (None, 48, 240, 240, 328         input_9[0][0]                    \n",
            "__________________________________________________________________________________________________\n",
            "conv3d_186 (Conv3D)             (None, 48, 240, 240, 436         conv3d_185[0][0]                 \n",
            "__________________________________________________________________________________________________\n",
            "max_pooling3d_33 (MaxPooling3D) (None, 48, 120, 120, 0           conv3d_186[0][0]                 \n",
            "__________________________________________________________________________________________________\n",
            "conv3d_187 (Conv3D)             (None, 48, 120, 120, 872         max_pooling3d_33[0][0]           \n",
            "__________________________________________________________________________________________________\n",
            "conv3d_188 (Conv3D)             (None, 48, 120, 120, 1736        conv3d_187[0][0]                 \n",
            "__________________________________________________________________________________________________\n",
            "max_pooling3d_34 (MaxPooling3D) (None, 48, 60, 60, 8 0           conv3d_188[0][0]                 \n",
            "__________________________________________________________________________________________________\n",
            "conv3d_189 (Conv3D)             (None, 48, 60, 60, 1 3472        max_pooling3d_34[0][0]           \n",
            "__________________________________________________________________________________________________\n",
            "conv3d_190 (Conv3D)             (None, 48, 60, 60, 1 6928        conv3d_189[0][0]                 \n",
            "__________________________________________________________________________________________________\n",
            "max_pooling3d_35 (MaxPooling3D) (None, 48, 30, 30, 1 0           conv3d_190[0][0]                 \n",
            "__________________________________________________________________________________________________\n",
            "conv3d_191 (Conv3D)             (None, 48, 30, 30, 3 13856       max_pooling3d_35[0][0]           \n",
            "__________________________________________________________________________________________________\n",
            "conv3d_192 (Conv3D)             (None, 48, 30, 30, 3 27680       conv3d_191[0][0]                 \n",
            "__________________________________________________________________________________________________\n",
            "dropout_17 (Dropout)            (None, 48, 30, 30, 3 0           conv3d_192[0][0]                 \n",
            "__________________________________________________________________________________________________\n",
            "max_pooling3d_36 (MaxPooling3D) (None, 48, 15, 15, 3 0           dropout_17[0][0]                 \n",
            "__________________________________________________________________________________________________\n",
            "conv3d_193 (Conv3D)             (None, 48, 15, 15, 6 55360       max_pooling3d_36[0][0]           \n",
            "__________________________________________________________________________________________________\n",
            "conv3d_194 (Conv3D)             (None, 48, 15, 15, 6 110656      conv3d_193[0][0]                 \n",
            "__________________________________________________________________________________________________\n",
            "dropout_18 (Dropout)            (None, 48, 15, 15, 6 0           conv3d_194[0][0]                 \n",
            "__________________________________________________________________________________________________\n",
            "up_sampling3d_33 (UpSampling3D) (None, 48, 30, 30, 6 0           dropout_18[0][0]                 \n",
            "__________________________________________________________________________________________________\n",
            "conv3d_195 (Conv3D)             (None, 48, 30, 30, 3 16416       up_sampling3d_33[0][0]           \n",
            "__________________________________________________________________________________________________\n",
            "concatenate_33 (Concatenate)    (None, 48, 30, 30, 6 0           dropout_17[0][0]                 \n",
            "                                                                 conv3d_195[0][0]                 \n",
            "__________________________________________________________________________________________________\n",
            "conv3d_196 (Conv3D)             (None, 48, 30, 30, 3 55328       concatenate_33[0][0]             \n",
            "__________________________________________________________________________________________________\n",
            "conv3d_197 (Conv3D)             (None, 48, 30, 30, 3 27680       conv3d_196[0][0]                 \n",
            "__________________________________________________________________________________________________\n",
            "up_sampling3d_34 (UpSampling3D) (None, 48, 60, 60, 3 0           conv3d_197[0][0]                 \n",
            "__________________________________________________________________________________________________\n",
            "conv3d_198 (Conv3D)             (None, 48, 60, 60, 1 4112        up_sampling3d_34[0][0]           \n",
            "__________________________________________________________________________________________________\n",
            "concatenate_34 (Concatenate)    (None, 48, 60, 60, 3 0           conv3d_190[0][0]                 \n",
            "                                                                 conv3d_198[0][0]                 \n",
            "__________________________________________________________________________________________________\n",
            "conv3d_199 (Conv3D)             (None, 48, 60, 60, 1 13840       concatenate_34[0][0]             \n",
            "__________________________________________________________________________________________________\n",
            "conv3d_200 (Conv3D)             (None, 48, 60, 60, 1 6928        conv3d_199[0][0]                 \n",
            "__________________________________________________________________________________________________\n",
            "up_sampling3d_35 (UpSampling3D) (None, 48, 120, 120, 0           conv3d_200[0][0]                 \n",
            "__________________________________________________________________________________________________\n",
            "conv3d_201 (Conv3D)             (None, 48, 120, 120, 1032        up_sampling3d_35[0][0]           \n",
            "__________________________________________________________________________________________________\n",
            "concatenate_35 (Concatenate)    (None, 48, 120, 120, 0           conv3d_188[0][0]                 \n",
            "                                                                 conv3d_201[0][0]                 \n",
            "__________________________________________________________________________________________________\n",
            "conv3d_202 (Conv3D)             (None, 48, 120, 120, 3464        concatenate_35[0][0]             \n",
            "__________________________________________________________________________________________________\n",
            "conv3d_203 (Conv3D)             (None, 48, 120, 120, 1736        conv3d_202[0][0]                 \n",
            "__________________________________________________________________________________________________\n",
            "up_sampling3d_36 (UpSampling3D) (None, 48, 240, 240, 0           conv3d_203[0][0]                 \n",
            "__________________________________________________________________________________________________\n",
            "conv3d_204 (Conv3D)             (None, 48, 240, 240, 260         up_sampling3d_36[0][0]           \n",
            "__________________________________________________________________________________________________\n",
            "concatenate_36 (Concatenate)    (None, 48, 240, 240, 0           conv3d_186[0][0]                 \n",
            "                                                                 conv3d_204[0][0]                 \n",
            "__________________________________________________________________________________________________\n",
            "conv3d_205 (Conv3D)             (None, 48, 240, 240, 868         concatenate_36[0][0]             \n",
            "__________________________________________________________________________________________________\n",
            "conv3d_206 (Conv3D)             (None, 48, 240, 240, 436         conv3d_205[0][0]                 \n",
            "__________________________________________________________________________________________________\n",
            "conv3d_207 (Conv3D)             (None, 48, 240, 240, 15          conv3d_206[0][0]                 \n",
            "==================================================================================================\n",
            "Total params: 353,439\n",
            "Trainable params: 353,439\n",
            "Non-trainable params: 0\n",
            "__________________________________________________________________________________________________\n"
          ],
          "name": "stdout"
        },
        {
          "output_type": "stream",
          "text": [
            "/usr/local/lib/python3.6/dist-packages/ipykernel_launcher.py:80: UserWarning: Update your `Model` call to the Keras 2 API: `Model(inputs=Tensor(\"in..., outputs=Tensor(\"co...)`\n"
          ],
          "name": "stderr"
        }
      ]
    },
    {
      "cell_type": "code",
      "metadata": {
        "id": "1C2mmTejmTo7",
        "colab_type": "code",
        "outputId": "7f72d708-9e15-4d55-ca77-229d80fb4e9a",
        "colab": {
          "base_uri": "https://localhost:8080/",
          "height": 138
        }
      },
      "source": [
        "from keras.callbacks import EarlyStopping, ModelCheckpoint\n",
        "\n",
        "# callback\n",
        "my_callbacks = [\n",
        "        EarlyStopping(monitor='val_loss', patience=6),\n",
        "        ModelCheckpoint(filepath='/content/drive/My Drive/BRATS2020/AcidModel.{epoch:02d}-{val_loss:.2f}.h5', monitor='val_loss', save_best_only=False)\n",
        "]\n",
        "\n",
        "\n",
        "\n",
        "\n",
        "# Fit model using generator\n",
        "history = model.fit_generator(train_generator, steps_per_epoch=199, epochs=20, validation_data=validation_generator, validation_steps=16, callbacks=my_callbacks)\n",
        "\n",
        "\n",
        "# history = model.fit(X_train, y_train, epochs=40, batch_size=4, validation_data=(X_test, y_test))"
      ],
      "execution_count": 0,
      "outputs": [
        {
          "output_type": "stream",
          "text": [
            "Epoch 1/20\n",
            "199/199 [==============================] - 5930s 30s/step - loss: 0.9133 - dice_coefficient: 0.0638 - val_loss: 0.8637 - val_dice_coefficient: 0.0767\n",
            "Epoch 2/20\n",
            "199/199 [==============================] - 6021s 30s/step - loss: 0.8712 - dice_coefficient: 0.1295 - val_loss: 0.8356 - val_dice_coefficient: 0.1965\n",
            "Epoch 3/20\n",
            " 10/199 [>.............................] - ETA: 1:34:15 - loss: 0.8455 - dice_coefficient: 0.1773"
          ],
          "name": "stdout"
        }
      ]
    },
    {
      "cell_type": "code",
      "metadata": {
        "id": "YjOo-B2-nM34",
        "colab_type": "code",
        "colab": {}
      },
      "source": [
        "import numpy as np\n",
        "import random\n",
        "\n",
        "\n",
        "\n",
        "def Acid16(prev_chance, X, checker):\n",
        "\n",
        "  if checker == 0:\n",
        "    chance = random.uniform(0, 1)\n",
        "    checker = 1\n",
        "  else:\n",
        "    chance = prev_chance\n",
        "    checker = 0\n",
        "\n",
        "  if chance > 0.8:\n",
        "    X = Conv3D(16, 3, activation = 'relu', padding = 'same', kernel_initializer = 'he_normal')(X)\n",
        "  elif 0.8 > chance > 0.6:\n",
        "    X = Conv3D(16, 3, activation = 'relu', padding = 'same', kernel_initializer = 'he_normal')(X)\n",
        "  elif 0.6 > chance > 0.4:\n",
        "    X = Conv3D(16, 3, activation = 'relu', padding = 'same', kernel_initializer = 'he_normal')(X)\n",
        "  elif 0.4 > chance > 0.2:\n",
        "    X = Conv3D(16, 3, activation = 'relu', padding = 'same', kernel_initializer = 'he_normal')(X)\n",
        "  elif 0.2 > chance :\n",
        "    X = Conv3D(16, 3, activation = 'relu', padding = 'same', kernel_initializer = 'he_normal')(X)\n",
        "\n",
        "  return chance, X, checker"
      ],
      "execution_count": 0,
      "outputs": []
    },
    {
      "cell_type": "code",
      "metadata": {
        "id": "K9nZ-aAoxqUQ",
        "colab_type": "code",
        "colab": {}
      },
      "source": [
        "import numpy as np\n",
        "import random\n",
        "\n",
        "\n",
        "\n",
        "def Acid32(prev_chance, X, checker):\n",
        "\n",
        "  if checker == 0:\n",
        "    chance = random.uniform(0, 1)\n",
        "    checker = 1\n",
        "  else:\n",
        "    chance = prev_chance\n",
        "    checker = 0\n",
        "\n",
        "  if chance > 0.8:\n",
        "    X = Conv3D(32, 3, activation = 'relu', padding = 'same', kernel_initializer = 'he_normal')(X)\n",
        "  elif 0.8 > chance > 0.6:\n",
        "    X = Conv3D(32, 3, activation = 'relu', padding = 'same', kernel_initializer = 'he_normal')(X)\n",
        "  elif 0.6 > chance > 0.4:\n",
        "    X = Conv3D(32, 3, activation = 'relu', padding = 'same', kernel_initializer = 'he_normal')(X)\n",
        "  elif 0.4 > chance > 0.2:\n",
        "    X = Conv3D(32, 3, activation = 'relu', padding = 'same', kernel_initializer = 'he_normal')(X)\n",
        "  elif 0.2 > chance :\n",
        "    X = Conv3D(32, 3, activation = 'relu', padding = 'same', kernel_initializer = 'he_normal')(X)\n",
        "\n",
        "  return chance, X, checker"
      ],
      "execution_count": 0,
      "outputs": []
    },
    {
      "cell_type": "code",
      "metadata": {
        "id": "LZXaZZ-Mxrcy",
        "colab_type": "code",
        "colab": {}
      },
      "source": [
        "import numpy as np\n",
        "import random\n",
        "\n",
        "\n",
        "\n",
        "def Acid64(prev_chance, X, checker):\n",
        "\n",
        "  if checker == 0:\n",
        "    chance = random.uniform(0, 1)\n",
        "    checker = 1\n",
        "  else:\n",
        "    chance = prev_chance\n",
        "    checker = 0\n",
        "\n",
        "  if chance > 0.8:\n",
        "    X = Conv3D(64, 3, activation = 'relu', padding = 'same', kernel_initializer = 'he_normal')(X)\n",
        "  elif 0.8 > chance > 0.6:\n",
        "    X = Conv3D(64, 3, activation = 'relu', padding = 'same', kernel_initializer = 'he_normal')(X)\n",
        "  elif 0.6 > chance > 0.4:\n",
        "    X = Conv3D(64, 3, activation = 'relu', padding = 'same', kernel_initializer = 'he_normal')(X)\n",
        "  elif 0.4 > chance > 0.2:\n",
        "    X = Conv3D(64, 3, activation = 'relu', padding = 'same', kernel_initializer = 'he_normal')(X)\n",
        "  elif 0.2 > chance :\n",
        "    X = Conv3D(64, 3, activation = 'relu', padding = 'same', kernel_initializer = 'he_normal')(X)\n",
        "\n",
        "  return chance, X, checker"
      ],
      "execution_count": 0,
      "outputs": []
    }
  ]
}
