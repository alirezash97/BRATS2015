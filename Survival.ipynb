{
  "nbformat": 4,
  "nbformat_minor": 0,
  "metadata": {
    "colab": {
      "name": "Survival.ipynb",
      "provenance": [],
      "include_colab_link": true
    },
    "kernelspec": {
      "name": "python3",
      "display_name": "Python 3"
    },
    "widgets": {
      "application/vnd.jupyter.widget-state+json": {
        "28bbf3d4b71f470abe99ff0f2106c35d": {
          "model_module": "@jupyter-widgets/controls",
          "model_name": "VBoxModel",
          "state": {
            "_view_name": "VBoxView",
            "_dom_classes": [
              "widget-interact"
            ],
            "_model_name": "VBoxModel",
            "_view_module": "@jupyter-widgets/controls",
            "_model_module_version": "1.5.0",
            "_view_count": null,
            "_view_module_version": "1.5.0",
            "box_style": "",
            "layout": "IPY_MODEL_35898b2eec27494b87ca4a888c2c0464",
            "_model_module": "@jupyter-widgets/controls",
            "children": [
              "IPY_MODEL_e95d44ca7e2142d9bab063bcda77d0d2",
              "IPY_MODEL_6c2e3d1245fc49c6ad6059227026c831"
            ]
          }
        },
        "35898b2eec27494b87ca4a888c2c0464": {
          "model_module": "@jupyter-widgets/base",
          "model_name": "LayoutModel",
          "state": {
            "_view_name": "LayoutView",
            "grid_template_rows": null,
            "right": null,
            "justify_content": null,
            "_view_module": "@jupyter-widgets/base",
            "overflow": null,
            "_model_module_version": "1.2.0",
            "_view_count": null,
            "flex_flow": null,
            "width": null,
            "min_width": null,
            "border": null,
            "align_items": null,
            "bottom": null,
            "_model_module": "@jupyter-widgets/base",
            "top": null,
            "grid_column": null,
            "overflow_y": null,
            "overflow_x": null,
            "grid_auto_flow": null,
            "grid_area": null,
            "grid_template_columns": null,
            "flex": null,
            "_model_name": "LayoutModel",
            "justify_items": null,
            "grid_row": null,
            "max_height": null,
            "align_content": null,
            "visibility": null,
            "align_self": null,
            "height": null,
            "min_height": null,
            "padding": null,
            "grid_auto_rows": null,
            "grid_gap": null,
            "max_width": null,
            "order": null,
            "_view_module_version": "1.2.0",
            "grid_template_areas": null,
            "object_position": null,
            "object_fit": null,
            "grid_auto_columns": null,
            "margin": null,
            "display": null,
            "left": null
          }
        },
        "e95d44ca7e2142d9bab063bcda77d0d2": {
          "model_module": "@jupyter-widgets/controls",
          "model_name": "IntSliderModel",
          "state": {
            "_view_name": "IntSliderView",
            "style": "IPY_MODEL_08d6e190cd12430d85bfce1f550d58af",
            "_dom_classes": [],
            "description": "layer",
            "step": 1,
            "_model_name": "IntSliderModel",
            "orientation": "horizontal",
            "max": 154,
            "_view_module": "@jupyter-widgets/controls",
            "_model_module_version": "1.5.0",
            "value": 77,
            "_view_count": null,
            "disabled": false,
            "_view_module_version": "1.5.0",
            "min": 0,
            "continuous_update": true,
            "readout_format": "d",
            "description_tooltip": null,
            "readout": true,
            "_model_module": "@jupyter-widgets/controls",
            "layout": "IPY_MODEL_e5a543e212a147ceb673e0c239347cc9"
          }
        },
        "6c2e3d1245fc49c6ad6059227026c831": {
          "model_module": "@jupyter-widgets/output",
          "model_name": "OutputModel",
          "state": {
            "_view_name": "OutputView",
            "msg_id": "",
            "_dom_classes": [],
            "_model_name": "OutputModel",
            "outputs": [
              {
                "output_type": "display_data",
                "metadata": {
                  "tags": [],
                  "needs_background": "light"
                },
                "image/png": "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\n",
                "text/plain": "<Figure size 720x360 with 1 Axes>"
              },
              {
                "output_type": "display_data",
                "metadata": {
                  "tags": []
                },
                "text/plain": "77"
              }
            ],
            "_view_module": "@jupyter-widgets/output",
            "_model_module_version": "1.0.0",
            "_view_count": null,
            "_view_module_version": "1.0.0",
            "layout": "IPY_MODEL_cd5dfc57cacb41ecbbebf2d34a1c7c47",
            "_model_module": "@jupyter-widgets/output"
          }
        },
        "08d6e190cd12430d85bfce1f550d58af": {
          "model_module": "@jupyter-widgets/controls",
          "model_name": "SliderStyleModel",
          "state": {
            "_view_name": "StyleView",
            "handle_color": null,
            "_model_name": "SliderStyleModel",
            "description_width": "",
            "_view_module": "@jupyter-widgets/base",
            "_model_module_version": "1.5.0",
            "_view_count": null,
            "_view_module_version": "1.2.0",
            "_model_module": "@jupyter-widgets/controls"
          }
        },
        "e5a543e212a147ceb673e0c239347cc9": {
          "model_module": "@jupyter-widgets/base",
          "model_name": "LayoutModel",
          "state": {
            "_view_name": "LayoutView",
            "grid_template_rows": null,
            "right": null,
            "justify_content": null,
            "_view_module": "@jupyter-widgets/base",
            "overflow": null,
            "_model_module_version": "1.2.0",
            "_view_count": null,
            "flex_flow": null,
            "width": null,
            "min_width": null,
            "border": null,
            "align_items": null,
            "bottom": null,
            "_model_module": "@jupyter-widgets/base",
            "top": null,
            "grid_column": null,
            "overflow_y": null,
            "overflow_x": null,
            "grid_auto_flow": null,
            "grid_area": null,
            "grid_template_columns": null,
            "flex": null,
            "_model_name": "LayoutModel",
            "justify_items": null,
            "grid_row": null,
            "max_height": null,
            "align_content": null,
            "visibility": null,
            "align_self": null,
            "height": null,
            "min_height": null,
            "padding": null,
            "grid_auto_rows": null,
            "grid_gap": null,
            "max_width": null,
            "order": null,
            "_view_module_version": "1.2.0",
            "grid_template_areas": null,
            "object_position": null,
            "object_fit": null,
            "grid_auto_columns": null,
            "margin": null,
            "display": null,
            "left": null
          }
        },
        "cd5dfc57cacb41ecbbebf2d34a1c7c47": {
          "model_module": "@jupyter-widgets/base",
          "model_name": "LayoutModel",
          "state": {
            "_view_name": "LayoutView",
            "grid_template_rows": null,
            "right": null,
            "justify_content": null,
            "_view_module": "@jupyter-widgets/base",
            "overflow": null,
            "_model_module_version": "1.2.0",
            "_view_count": null,
            "flex_flow": null,
            "width": null,
            "min_width": null,
            "border": null,
            "align_items": null,
            "bottom": null,
            "_model_module": "@jupyter-widgets/base",
            "top": null,
            "grid_column": null,
            "overflow_y": null,
            "overflow_x": null,
            "grid_auto_flow": null,
            "grid_area": null,
            "grid_template_columns": null,
            "flex": null,
            "_model_name": "LayoutModel",
            "justify_items": null,
            "grid_row": null,
            "max_height": null,
            "align_content": null,
            "visibility": null,
            "align_self": null,
            "height": null,
            "min_height": null,
            "padding": null,
            "grid_auto_rows": null,
            "grid_gap": null,
            "max_width": null,
            "order": null,
            "_view_module_version": "1.2.0",
            "grid_template_areas": null,
            "object_position": null,
            "object_fit": null,
            "grid_auto_columns": null,
            "margin": null,
            "display": null,
            "left": null
          }
        },
        "f66fd40cbd78458babcb8658f20bda7a": {
          "model_module": "@jupyter-widgets/controls",
          "model_name": "VBoxModel",
          "state": {
            "_view_name": "VBoxView",
            "_dom_classes": [
              "widget-interact"
            ],
            "_model_name": "VBoxModel",
            "_view_module": "@jupyter-widgets/controls",
            "_model_module_version": "1.5.0",
            "_view_count": null,
            "_view_module_version": "1.5.0",
            "box_style": "",
            "layout": "IPY_MODEL_6eb1c83f59844fc0abb443982a7f9762",
            "_model_module": "@jupyter-widgets/controls",
            "children": [
              "IPY_MODEL_16f0c469f9574486b7c29b2be9ca8310",
              "IPY_MODEL_d66bc8052da748c4abae5b115f92a1b1"
            ]
          }
        },
        "6eb1c83f59844fc0abb443982a7f9762": {
          "model_module": "@jupyter-widgets/base",
          "model_name": "LayoutModel",
          "state": {
            "_view_name": "LayoutView",
            "grid_template_rows": null,
            "right": null,
            "justify_content": null,
            "_view_module": "@jupyter-widgets/base",
            "overflow": null,
            "_model_module_version": "1.2.0",
            "_view_count": null,
            "flex_flow": null,
            "width": null,
            "min_width": null,
            "border": null,
            "align_items": null,
            "bottom": null,
            "_model_module": "@jupyter-widgets/base",
            "top": null,
            "grid_column": null,
            "overflow_y": null,
            "overflow_x": null,
            "grid_auto_flow": null,
            "grid_area": null,
            "grid_template_columns": null,
            "flex": null,
            "_model_name": "LayoutModel",
            "justify_items": null,
            "grid_row": null,
            "max_height": null,
            "align_content": null,
            "visibility": null,
            "align_self": null,
            "height": null,
            "min_height": null,
            "padding": null,
            "grid_auto_rows": null,
            "grid_gap": null,
            "max_width": null,
            "order": null,
            "_view_module_version": "1.2.0",
            "grid_template_areas": null,
            "object_position": null,
            "object_fit": null,
            "grid_auto_columns": null,
            "margin": null,
            "display": null,
            "left": null
          }
        },
        "16f0c469f9574486b7c29b2be9ca8310": {
          "model_module": "@jupyter-widgets/controls",
          "model_name": "IntSliderModel",
          "state": {
            "_view_name": "IntSliderView",
            "style": "IPY_MODEL_74d2b1a6e4b142889964e8c266dd5886",
            "_dom_classes": [],
            "description": "layer",
            "step": 1,
            "_model_name": "IntSliderModel",
            "orientation": "horizontal",
            "max": 63,
            "_view_module": "@jupyter-widgets/controls",
            "_model_module_version": "1.5.0",
            "value": 31,
            "_view_count": null,
            "disabled": false,
            "_view_module_version": "1.5.0",
            "min": 0,
            "continuous_update": true,
            "readout_format": "d",
            "description_tooltip": null,
            "readout": true,
            "_model_module": "@jupyter-widgets/controls",
            "layout": "IPY_MODEL_ac8acd42c95c417788d14524ef3b9ce8"
          }
        },
        "d66bc8052da748c4abae5b115f92a1b1": {
          "model_module": "@jupyter-widgets/output",
          "model_name": "OutputModel",
          "state": {
            "_view_name": "OutputView",
            "msg_id": "",
            "_dom_classes": [],
            "_model_name": "OutputModel",
            "outputs": [
              {
                "output_type": "display_data",
                "metadata": {
                  "tags": [],
                  "needs_background": "light"
                },
                "image/png": "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\n",
                "text/plain": "<Figure size 720x360 with 1 Axes>"
              },
              {
                "output_type": "display_data",
                "metadata": {
                  "tags": []
                },
                "text/plain": "31"
              }
            ],
            "_view_module": "@jupyter-widgets/output",
            "_model_module_version": "1.0.0",
            "_view_count": null,
            "_view_module_version": "1.0.0",
            "layout": "IPY_MODEL_6c0315bc09374433ba24726857a8c70d",
            "_model_module": "@jupyter-widgets/output"
          }
        },
        "74d2b1a6e4b142889964e8c266dd5886": {
          "model_module": "@jupyter-widgets/controls",
          "model_name": "SliderStyleModel",
          "state": {
            "_view_name": "StyleView",
            "handle_color": null,
            "_model_name": "SliderStyleModel",
            "description_width": "",
            "_view_module": "@jupyter-widgets/base",
            "_model_module_version": "1.5.0",
            "_view_count": null,
            "_view_module_version": "1.2.0",
            "_model_module": "@jupyter-widgets/controls"
          }
        },
        "ac8acd42c95c417788d14524ef3b9ce8": {
          "model_module": "@jupyter-widgets/base",
          "model_name": "LayoutModel",
          "state": {
            "_view_name": "LayoutView",
            "grid_template_rows": null,
            "right": null,
            "justify_content": null,
            "_view_module": "@jupyter-widgets/base",
            "overflow": null,
            "_model_module_version": "1.2.0",
            "_view_count": null,
            "flex_flow": null,
            "width": null,
            "min_width": null,
            "border": null,
            "align_items": null,
            "bottom": null,
            "_model_module": "@jupyter-widgets/base",
            "top": null,
            "grid_column": null,
            "overflow_y": null,
            "overflow_x": null,
            "grid_auto_flow": null,
            "grid_area": null,
            "grid_template_columns": null,
            "flex": null,
            "_model_name": "LayoutModel",
            "justify_items": null,
            "grid_row": null,
            "max_height": null,
            "align_content": null,
            "visibility": null,
            "align_self": null,
            "height": null,
            "min_height": null,
            "padding": null,
            "grid_auto_rows": null,
            "grid_gap": null,
            "max_width": null,
            "order": null,
            "_view_module_version": "1.2.0",
            "grid_template_areas": null,
            "object_position": null,
            "object_fit": null,
            "grid_auto_columns": null,
            "margin": null,
            "display": null,
            "left": null
          }
        },
        "6c0315bc09374433ba24726857a8c70d": {
          "model_module": "@jupyter-widgets/base",
          "model_name": "LayoutModel",
          "state": {
            "_view_name": "LayoutView",
            "grid_template_rows": null,
            "right": null,
            "justify_content": null,
            "_view_module": "@jupyter-widgets/base",
            "overflow": null,
            "_model_module_version": "1.2.0",
            "_view_count": null,
            "flex_flow": null,
            "width": null,
            "min_width": null,
            "border": null,
            "align_items": null,
            "bottom": null,
            "_model_module": "@jupyter-widgets/base",
            "top": null,
            "grid_column": null,
            "overflow_y": null,
            "overflow_x": null,
            "grid_auto_flow": null,
            "grid_area": null,
            "grid_template_columns": null,
            "flex": null,
            "_model_name": "LayoutModel",
            "justify_items": null,
            "grid_row": null,
            "max_height": null,
            "align_content": null,
            "visibility": null,
            "align_self": null,
            "height": null,
            "min_height": null,
            "padding": null,
            "grid_auto_rows": null,
            "grid_gap": null,
            "max_width": null,
            "order": null,
            "_view_module_version": "1.2.0",
            "grid_template_areas": null,
            "object_position": null,
            "object_fit": null,
            "grid_auto_columns": null,
            "margin": null,
            "display": null,
            "left": null
          }
        },
        "779d0e5e91eb4d28b310891db0041c4f": {
          "model_module": "@jupyter-widgets/controls",
          "model_name": "VBoxModel",
          "state": {
            "_view_name": "VBoxView",
            "_dom_classes": [
              "widget-interact"
            ],
            "_model_name": "VBoxModel",
            "_view_module": "@jupyter-widgets/controls",
            "_model_module_version": "1.5.0",
            "_view_count": null,
            "_view_module_version": "1.5.0",
            "box_style": "",
            "layout": "IPY_MODEL_d4a0a090292c4faa8c4f6c7f07f74632",
            "_model_module": "@jupyter-widgets/controls",
            "children": [
              "IPY_MODEL_59a6af21d6674132930ab653ad8e457a",
              "IPY_MODEL_2118302ea1224235805b4f574c2d0c89"
            ]
          }
        },
        "d4a0a090292c4faa8c4f6c7f07f74632": {
          "model_module": "@jupyter-widgets/base",
          "model_name": "LayoutModel",
          "state": {
            "_view_name": "LayoutView",
            "grid_template_rows": null,
            "right": null,
            "justify_content": null,
            "_view_module": "@jupyter-widgets/base",
            "overflow": null,
            "_model_module_version": "1.2.0",
            "_view_count": null,
            "flex_flow": null,
            "width": null,
            "min_width": null,
            "border": null,
            "align_items": null,
            "bottom": null,
            "_model_module": "@jupyter-widgets/base",
            "top": null,
            "grid_column": null,
            "overflow_y": null,
            "overflow_x": null,
            "grid_auto_flow": null,
            "grid_area": null,
            "grid_template_columns": null,
            "flex": null,
            "_model_name": "LayoutModel",
            "justify_items": null,
            "grid_row": null,
            "max_height": null,
            "align_content": null,
            "visibility": null,
            "align_self": null,
            "height": null,
            "min_height": null,
            "padding": null,
            "grid_auto_rows": null,
            "grid_gap": null,
            "max_width": null,
            "order": null,
            "_view_module_version": "1.2.0",
            "grid_template_areas": null,
            "object_position": null,
            "object_fit": null,
            "grid_auto_columns": null,
            "margin": null,
            "display": null,
            "left": null
          }
        },
        "59a6af21d6674132930ab653ad8e457a": {
          "model_module": "@jupyter-widgets/controls",
          "model_name": "IntSliderModel",
          "state": {
            "_view_name": "IntSliderView",
            "style": "IPY_MODEL_ba1e2c56c14d48c28f318296a6caff0d",
            "_dom_classes": [],
            "description": "layer",
            "step": 1,
            "_model_name": "IntSliderModel",
            "orientation": "horizontal",
            "max": 63,
            "_view_module": "@jupyter-widgets/controls",
            "_model_module_version": "1.5.0",
            "value": 31,
            "_view_count": null,
            "disabled": false,
            "_view_module_version": "1.5.0",
            "min": 0,
            "continuous_update": true,
            "readout_format": "d",
            "description_tooltip": null,
            "readout": true,
            "_model_module": "@jupyter-widgets/controls",
            "layout": "IPY_MODEL_a3a8e0624c4645c78b90ec96ab825861"
          }
        },
        "2118302ea1224235805b4f574c2d0c89": {
          "model_module": "@jupyter-widgets/output",
          "model_name": "OutputModel",
          "state": {
            "_view_name": "OutputView",
            "msg_id": "",
            "_dom_classes": [],
            "_model_name": "OutputModel",
            "outputs": [
              {
                "output_type": "display_data",
                "metadata": {
                  "tags": [],
                  "needs_background": "light"
                },
                "image/png": "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\n",
                "text/plain": "<Figure size 720x360 with 1 Axes>"
              },
              {
                "output_type": "display_data",
                "metadata": {
                  "tags": []
                },
                "text/plain": "31"
              }
            ],
            "_view_module": "@jupyter-widgets/output",
            "_model_module_version": "1.0.0",
            "_view_count": null,
            "_view_module_version": "1.0.0",
            "layout": "IPY_MODEL_12eefb7af2894cd687f7877ac124c44b",
            "_model_module": "@jupyter-widgets/output"
          }
        },
        "ba1e2c56c14d48c28f318296a6caff0d": {
          "model_module": "@jupyter-widgets/controls",
          "model_name": "SliderStyleModel",
          "state": {
            "_view_name": "StyleView",
            "handle_color": null,
            "_model_name": "SliderStyleModel",
            "description_width": "",
            "_view_module": "@jupyter-widgets/base",
            "_model_module_version": "1.5.0",
            "_view_count": null,
            "_view_module_version": "1.2.0",
            "_model_module": "@jupyter-widgets/controls"
          }
        },
        "a3a8e0624c4645c78b90ec96ab825861": {
          "model_module": "@jupyter-widgets/base",
          "model_name": "LayoutModel",
          "state": {
            "_view_name": "LayoutView",
            "grid_template_rows": null,
            "right": null,
            "justify_content": null,
            "_view_module": "@jupyter-widgets/base",
            "overflow": null,
            "_model_module_version": "1.2.0",
            "_view_count": null,
            "flex_flow": null,
            "width": null,
            "min_width": null,
            "border": null,
            "align_items": null,
            "bottom": null,
            "_model_module": "@jupyter-widgets/base",
            "top": null,
            "grid_column": null,
            "overflow_y": null,
            "overflow_x": null,
            "grid_auto_flow": null,
            "grid_area": null,
            "grid_template_columns": null,
            "flex": null,
            "_model_name": "LayoutModel",
            "justify_items": null,
            "grid_row": null,
            "max_height": null,
            "align_content": null,
            "visibility": null,
            "align_self": null,
            "height": null,
            "min_height": null,
            "padding": null,
            "grid_auto_rows": null,
            "grid_gap": null,
            "max_width": null,
            "order": null,
            "_view_module_version": "1.2.0",
            "grid_template_areas": null,
            "object_position": null,
            "object_fit": null,
            "grid_auto_columns": null,
            "margin": null,
            "display": null,
            "left": null
          }
        },
        "12eefb7af2894cd687f7877ac124c44b": {
          "model_module": "@jupyter-widgets/base",
          "model_name": "LayoutModel",
          "state": {
            "_view_name": "LayoutView",
            "grid_template_rows": null,
            "right": null,
            "justify_content": null,
            "_view_module": "@jupyter-widgets/base",
            "overflow": null,
            "_model_module_version": "1.2.0",
            "_view_count": null,
            "flex_flow": null,
            "width": null,
            "min_width": null,
            "border": null,
            "align_items": null,
            "bottom": null,
            "_model_module": "@jupyter-widgets/base",
            "top": null,
            "grid_column": null,
            "overflow_y": null,
            "overflow_x": null,
            "grid_auto_flow": null,
            "grid_area": null,
            "grid_template_columns": null,
            "flex": null,
            "_model_name": "LayoutModel",
            "justify_items": null,
            "grid_row": null,
            "max_height": null,
            "align_content": null,
            "visibility": null,
            "align_self": null,
            "height": null,
            "min_height": null,
            "padding": null,
            "grid_auto_rows": null,
            "grid_gap": null,
            "max_width": null,
            "order": null,
            "_view_module_version": "1.2.0",
            "grid_template_areas": null,
            "object_position": null,
            "object_fit": null,
            "grid_auto_columns": null,
            "margin": null,
            "display": null,
            "left": null
          }
        }
      }
    },
    "accelerator": "GPU"
  },
  "cells": [
    {
      "cell_type": "markdown",
      "metadata": {
        "id": "view-in-github",
        "colab_type": "text"
      },
      "source": [
        "<a href=\"https://colab.research.google.com/github/alirezash97/BraTS/blob/master/Survival.ipynb\" target=\"_parent\"><img src=\"https://colab.research.google.com/assets/colab-badge.svg\" alt=\"Open In Colab\"/></a>"
      ]
    },
    {
      "cell_type": "code",
      "metadata": {
        "id": "9Pih2fajhmV6",
        "colab_type": "code",
        "colab": {}
      },
      "source": [
        "# from google.colab import drive\n",
        "# drive.mount('/content/drive')"
      ],
      "execution_count": 1,
      "outputs": []
    },
    {
      "cell_type": "code",
      "metadata": {
        "id": "e-rsO906hRlB",
        "colab_type": "code",
        "colab": {}
      },
      "source": [
        "import tensorflow as tf\n",
        "import os\n",
        "import numpy as np\n",
        "from nibabel.testing import data_path\n",
        "import nibabel as nib\n",
        "import matplotlib.pyplot as plt\n",
        "from keras.utils import to_categorical\n",
        "import cv2\n",
        "import keras \n",
        "import random\n",
        "from keras import Model\n",
        "from keras.optimizers import Adam"
      ],
      "execution_count": 2,
      "outputs": []
    },
    {
      "cell_type": "code",
      "metadata": {
        "id": "AgPl_eCpbWcH",
        "colab_type": "code",
        "colab": {}
      },
      "source": [
        "from sklearn.datasets import load_boston\n",
        "from keras.models import Sequential\n",
        "from keras.initializers import glorot_uniform\n",
        "from keras.layers import Dense, Conv2D, Flatten, Input, BatchNormalization, Activation, MaxPooling2D, Add, AveragePooling2D, Dropout\n",
        "from sklearn.model_selection import train_test_split\n",
        "from sklearn.metrics import mean_squared_error\n",
        "import matplotlib.pyplot as plt"
      ],
      "execution_count": 3,
      "outputs": []
    },
    {
      "cell_type": "code",
      "metadata": {
        "id": "uSSlCYlqhyOT",
        "colab_type": "code",
        "colab": {}
      },
      "source": [
        "import glob, os\n",
        "images_path = glob.glob('/content/drive/My Drive/BRATS2020/MICCAI_BraTS2020_TrainingData/**/*.nii.gz', recursive=True)"
      ],
      "execution_count": 4,
      "outputs": []
    },
    {
      "cell_type": "code",
      "metadata": {
        "id": "zw7XGW-mh08q",
        "colab_type": "code",
        "colab": {}
      },
      "source": [
        "\n",
        "X_trainset_filenames = []\n",
        "\n",
        "for item in images_path:\n",
        "  if 'seg' in item:\n",
        "    X_trainset_filenames.append(os.path.join(data_path, item))\n",
        "  else:\n",
        "    pass"
      ],
      "execution_count": 5,
      "outputs": []
    },
    {
      "cell_type": "code",
      "metadata": {
        "id": "KaM3SMoLh4F2",
        "colab_type": "code",
        "colab": {
          "base_uri": "https://localhost:8080/",
          "height": 34
        },
        "outputId": "3d03e9c5-b905-4fb1-d48b-42a219df579e"
      },
      "source": [
        "print(len(X_trainset_filenames))"
      ],
      "execution_count": 6,
      "outputs": [
        {
          "output_type": "stream",
          "text": [
            "369\n"
          ],
          "name": "stdout"
        }
      ]
    },
    {
      "cell_type": "code",
      "metadata": {
        "id": "O4zHhjCIh6gU",
        "colab_type": "code",
        "colab": {}
      },
      "source": [
        "def shuffle(input_path):\n",
        "\n",
        "  a_list = list(range(0, len(input_path)))\n",
        "  random.shuffle(a_list)\n",
        "\n",
        "\n",
        "  new_input_path = []\n",
        "  for i in a_list:\n",
        "    \n",
        "    new_input_path.append(input_path[i])\n",
        "\n",
        "  return new_input_path"
      ],
      "execution_count": 7,
      "outputs": []
    },
    {
      "cell_type": "code",
      "metadata": {
        "id": "X3Gvw___h-GP",
        "colab_type": "code",
        "colab": {}
      },
      "source": [
        " X_trainset_filenames = shuffle(X_trainset_filenames)"
      ],
      "execution_count": 8,
      "outputs": []
    },
    {
      "cell_type": "code",
      "metadata": {
        "id": "wsmeoapQqFf4",
        "colab_type": "code",
        "colab": {
          "base_uri": "https://localhost:8080/",
          "height": 34
        },
        "outputId": "2111a5ef-d514-4548-83e1-12ed9c23c0b0"
      },
      "source": [
        "print( X_trainset_filenames[0])"
      ],
      "execution_count": 9,
      "outputs": [
        {
          "output_type": "stream",
          "text": [
            "/content/drive/My Drive/BRATS2020/MICCAI_BraTS2020_TrainingData/BraTS20_Training_064/BraTS20_Training_064_seg.nii.gz\n"
          ],
          "name": "stdout"
        }
      ]
    },
    {
      "cell_type": "code",
      "metadata": {
        "id": "bD3XCXFIqXxe",
        "colab_type": "code",
        "colab": {
          "base_uri": "https://localhost:8080/",
          "height": 35
        },
        "outputId": "cfa5bed9-2ca8-4e0b-97f6-7c917338ff71"
      },
      "source": [
        "X_trainset_filenames[60][81:84]"
      ],
      "execution_count": 10,
      "outputs": [
        {
          "output_type": "execute_result",
          "data": {
            "application/vnd.google.colaboratory.intrinsic+json": {
              "type": "string"
            },
            "text/plain": [
              "'183'"
            ]
          },
          "metadata": {
            "tags": []
          },
          "execution_count": 10
        }
      ]
    },
    {
      "cell_type": "code",
      "metadata": {
        "id": "1SRmPrrqiFtY",
        "colab_type": "code",
        "colab": {}
      },
      "source": [
        "\n",
        "def load_case(label_nifty_file):\n",
        "    \n",
        "    # load the label file, get the image content and return a numpy array for each\n",
        "\n",
        "    label = np.array(nib.load(label_nifty_file).get_fdata())\n",
        "\n",
        "    for i in range(240):\n",
        "          for j in range(240):\n",
        "            for k in range(155):\n",
        "              if label[i, j, k] == 4.0 :\n",
        "                label[i, j, k] = 3.0\n",
        "              else:\n",
        "                pass\n",
        "    \n",
        "    \n",
        "    return label"
      ],
      "execution_count": 11,
      "outputs": []
    },
    {
      "cell_type": "code",
      "metadata": {
        "id": "BbAdGL9-lJsw",
        "colab_type": "code",
        "colab": {
          "base_uri": "https://localhost:8080/",
          "height": 390,
          "referenced_widgets": [
            "28bbf3d4b71f470abe99ff0f2106c35d",
            "35898b2eec27494b87ca4a888c2c0464",
            "e95d44ca7e2142d9bab063bcda77d0d2",
            "6c2e3d1245fc49c6ad6059227026c831",
            "08d6e190cd12430d85bfce1f550d58af",
            "e5a543e212a147ceb673e0c239347cc9",
            "cd5dfc57cacb41ecbbebf2d34a1c7c47"
          ]
        },
        "outputId": "a9c8bdaa-29bb-40ab-e304-5fe4b2ff8ecc"
      },
      "source": [
        "\n",
        "\n",
        "from ipywidgets import interact\n",
        "\n",
        "M = load_case(X_trainset_filenames[0])\n",
        "print(M.shape)\n",
        "\n",
        "def explore_3dimage(layer):\n",
        "    plt.figure(figsize=(10, 5))\n",
        "    channel = 3\n",
        "    plt.imshow(M[:, :, layer]);\n",
        "    plt.title('Explore Layers of Tumor prediction', fontsize=20)\n",
        "    plt.axis('off')\n",
        "    return layer\n",
        "\n",
        "# Run the ipywidgets interact() function to explore the data\n",
        "interact(explore_3dimage, layer=(0, 155 - 1));"
      ],
      "execution_count": 12,
      "outputs": [
        {
          "output_type": "stream",
          "text": [
            "(240, 240, 155)\n"
          ],
          "name": "stdout"
        },
        {
          "output_type": "display_data",
          "data": {
            "application/vnd.jupyter.widget-view+json": {
              "model_id": "28bbf3d4b71f470abe99ff0f2106c35d",
              "version_minor": 0,
              "version_major": 2
            },
            "text/plain": [
              "interactive(children=(IntSlider(value=77, description='layer', max=154), Output()), _dom_classes=('widget-inte…"
            ]
          },
          "metadata": {
            "tags": []
          }
        }
      ]
    },
    {
      "cell_type": "code",
      "metadata": {
        "id": "G0EEyNq1ngDZ",
        "colab_type": "code",
        "colab": {}
      },
      "source": [
        "\n",
        "## get the most important part for survival task (the tumor)\n",
        "\n",
        "\n",
        "def get_max(image, out_x, out_y, out_z, stride, number_of_images_to_extract):\n",
        "  \n",
        "  x = image.shape[0]\n",
        "  y = image.shape[1]\n",
        "  z = image.shape[2]\n",
        "\n",
        "\n",
        "  total_number_of_cubes = ( int((z - out_z)/stride) * int((x - out_x)/stride) * int((y - out_y)/stride) )\n",
        "  details = np.zeros((total_number_of_cubes, 4))\n",
        "\n",
        "  counter = 0\n",
        "  for i in range( int((z - out_z)/stride) ):\n",
        "    for j in range( int((x - out_x)/stride) ):\n",
        "      for k in range( int((y - out_y)/stride) ):\n",
        "\n",
        "        \n",
        "        temp = np.sum(image[ (j*stride):((j*stride)+out_x), (k*stride):((k*stride)+out_y), (i*stride):((i*stride)+out_z) ])\n",
        "        details[counter] = (j*stride), (k*stride), (i*stride), temp\n",
        "        counter += 1\n",
        "\n",
        "  \n",
        "\n",
        "  \n",
        "  final_extracted_images = []\n",
        "  for l in range(number_of_images_to_extract):\n",
        "    \n",
        "    max_ind = np.unravel_index(np.argmax(details, axis=None), details.shape) \n",
        "  \n",
        "    x_start = int(details[max_ind[0], 0])\n",
        "    y_start = int(details[max_ind[0], 1])\n",
        "    z_start = int(details[max_ind[0], 2])\n",
        "\n",
        "    temp = image[ x_start:(x_start+out_x) , y_start:(y_start+out_y) , z_start:(z_start+out_z) ]\n",
        "    final_extracted_images.append(temp)\n",
        "    details[max_ind[0], 3] = 0\n",
        "\n",
        "\n",
        "\n",
        "  return np.array(final_extracted_images)\n",
        "\n",
        "\n"
      ],
      "execution_count": 13,
      "outputs": []
    },
    {
      "cell_type": "code",
      "metadata": {
        "id": "Ir_Rf-zqufxe",
        "colab_type": "code",
        "colab": {}
      },
      "source": [
        "image = get_max(M, 64, 64, 64, 8, 3)"
      ],
      "execution_count": 14,
      "outputs": []
    },
    {
      "cell_type": "code",
      "metadata": {
        "id": "HOKRk9fs8Slv",
        "colab_type": "code",
        "colab": {
          "base_uri": "https://localhost:8080/",
          "height": 34
        },
        "outputId": "269c16b7-84c0-42a8-bbb4-7ffd0deb1cec"
      },
      "source": [
        "print(image.shape)\n"
      ],
      "execution_count": 15,
      "outputs": [
        {
          "output_type": "stream",
          "text": [
            "(3, 64, 64, 64)\n"
          ],
          "name": "stdout"
        }
      ]
    },
    {
      "cell_type": "code",
      "metadata": {
        "id": "R625Q3C_xGXR",
        "colab_type": "code",
        "colab": {
          "base_uri": "https://localhost:8080/",
          "height": 373,
          "referenced_widgets": [
            "f66fd40cbd78458babcb8658f20bda7a",
            "6eb1c83f59844fc0abb443982a7f9762",
            "16f0c469f9574486b7c29b2be9ca8310",
            "d66bc8052da748c4abae5b115f92a1b1",
            "74d2b1a6e4b142889964e8c266dd5886",
            "ac8acd42c95c417788d14524ef3b9ce8",
            "6c0315bc09374433ba24726857a8c70d"
          ]
        },
        "outputId": "ac5e6359-025e-4cef-c321-eae5f68c1842"
      },
      "source": [
        "from ipywidgets import interact\n",
        "\n",
        "\n",
        "\n",
        "def explore_3dimage(layer):\n",
        "    plt.figure(figsize=(10, 5))\n",
        "    channel = 3\n",
        "    plt.imshow(image[0, :, :, layer]);\n",
        "    plt.title('Explore Layers of Tumor prediction', fontsize=20)\n",
        "    plt.axis('off')\n",
        "    return layer\n",
        "\n",
        "# Run the ipywidgets interact() function to explore the data\n",
        "interact(explore_3dimage, layer=(0, 64 - 1));"
      ],
      "execution_count": 16,
      "outputs": [
        {
          "output_type": "display_data",
          "data": {
            "application/vnd.jupyter.widget-view+json": {
              "model_id": "f66fd40cbd78458babcb8658f20bda7a",
              "version_minor": 0,
              "version_major": 2
            },
            "text/plain": [
              "interactive(children=(IntSlider(value=31, description='layer', max=63), Output()), _dom_classes=('widget-inter…"
            ]
          },
          "metadata": {
            "tags": []
          }
        }
      ]
    },
    {
      "cell_type": "code",
      "metadata": {
        "id": "qUMbRml03r7-",
        "colab_type": "code",
        "colab": {}
      },
      "source": [
        "def standardize(image):\n",
        "\n",
        "    one = 1\n",
        "    # initialize to array of zeros, with same shape as the image\n",
        "    standardized_image = np.zeros((image.shape[0], image.shape[1], image.shape[2]))\n",
        "\n",
        "    \n",
        "    # iterate over the `z` dimension\n",
        "    for z in range(image.shape[2]):\n",
        "        # get a slice of the image \n",
        "        # at z-th dimension `z`\n",
        "        image_slice = image[:,:,z]\n",
        "\n",
        "        # subtract the mean from image_slice\n",
        "        centered = image_slice - np.mean(image_slice)\n",
        "            \n",
        "        # divide by the standard deviation (only if it is different from zero)\n",
        "        if np.std(centered) != 0:\n",
        "            centered_scaled = centered / np.std(centered)\n",
        "        else:\n",
        "            ### error exception ### \n",
        "            centered_scaled = centered / one\n",
        "\n",
        "        # update  the slice of standardized image\n",
        "        # with the scaled centered and scaled image\n",
        "        standardized_image[:, :, z] = centered_scaled\n",
        "\n",
        "\n",
        "\n",
        "    return standardized_image"
      ],
      "execution_count": 17,
      "outputs": []
    },
    {
      "cell_type": "code",
      "metadata": {
        "id": "4gc0V8hJ5hqA",
        "colab_type": "code",
        "colab": {
          "base_uri": "https://localhost:8080/",
          "height": 373,
          "referenced_widgets": [
            "779d0e5e91eb4d28b310891db0041c4f",
            "d4a0a090292c4faa8c4f6c7f07f74632",
            "59a6af21d6674132930ab653ad8e457a",
            "2118302ea1224235805b4f574c2d0c89",
            "ba1e2c56c14d48c28f318296a6caff0d",
            "a3a8e0624c4645c78b90ec96ab825861",
            "12eefb7af2894cd687f7877ac124c44b"
          ]
        },
        "outputId": "f0ca1606-9009-4217-beef-2bd6f018afc1"
      },
      "source": [
        "std_image = standardize(image[0])\n",
        "\n",
        "def explore_3dimage(layer):\n",
        "    plt.figure(figsize=(10, 5))\n",
        "    channel = 3\n",
        "    plt.imshow(std_image[:, :, layer]);\n",
        "    plt.title('Explore Layers of Tumor prediction', fontsize=20)\n",
        "    plt.axis('off')\n",
        "    return layer\n",
        "\n",
        "# Run the ipywidgets interact() function to explore the data\n",
        "interact(explore_3dimage, layer=(0, 64 - 1));\n"
      ],
      "execution_count": 18,
      "outputs": [
        {
          "output_type": "display_data",
          "data": {
            "application/vnd.jupyter.widget-view+json": {
              "model_id": "779d0e5e91eb4d28b310891db0041c4f",
              "version_minor": 0,
              "version_major": 2
            },
            "text/plain": [
              "interactive(children=(IntSlider(value=31, description='layer', max=63), Output()), _dom_classes=('widget-inter…"
            ]
          },
          "metadata": {
            "tags": []
          }
        }
      ]
    },
    {
      "cell_type": "code",
      "metadata": {
        "id": "NpXCI1lkzEgl",
        "colab_type": "code",
        "colab": {}
      },
      "source": [
        "import pandas as pd \n",
        "c = pd.read_csv(\"/content/drive/My Drive/BRATS2020/MICCAI_BraTS2020_TrainingData/survival_info.csv\")"
      ],
      "execution_count": 19,
      "outputs": []
    },
    {
      "cell_type": "code",
      "metadata": {
        "id": "RYO-HfilsfMx",
        "colab_type": "code",
        "colab": {}
      },
      "source": [
        "import csv\n",
        "\n",
        "def find_days_by_patient_number(input): \n",
        "    o = open('/content/drive/My Drive/BRATS2020/MICCAI_BraTS2020_TrainingData/survival_info.csv', 'r') \n",
        "    myData = csv.reader(o) \n",
        "    index = 0 \n",
        "    \n",
        "    for row in myData:\n",
        "\n",
        "      if input in row[0]: \n",
        "        return row[2]\n",
        "      else : index+=1\n",
        "# ind = find_index('201')"
      ],
      "execution_count": 20,
      "outputs": []
    },
    {
      "cell_type": "code",
      "metadata": {
        "id": "4O4O1uBXbZHU",
        "colab_type": "code",
        "colab": {}
      },
      "source": [
        "# print(ind)"
      ],
      "execution_count": 21,
      "outputs": []
    },
    {
      "cell_type": "code",
      "metadata": {
        "id": "tRiff3EDtlBG",
        "colab_type": "code",
        "colab": {}
      },
      "source": [
        "# with open('/content/drive/My Drive/BRATS2020/MICCAI_BraTS2020_TrainingData/survival_info.csv') as fd:\n",
        "#     reader=csv.reader(fd)\n",
        "#     interestingrows=[row for idx, row in enumerate(reader) if idx in (ind, ind)]"
      ],
      "execution_count": 22,
      "outputs": []
    },
    {
      "cell_type": "code",
      "metadata": {
        "id": "2_Yljczwt3Ah",
        "colab_type": "code",
        "colab": {}
      },
      "source": [
        "# interestingrows"
      ],
      "execution_count": 23,
      "outputs": []
    },
    {
      "cell_type": "code",
      "metadata": {
        "id": "6cX2lQCw40rF",
        "colab_type": "code",
        "colab": {}
      },
      "source": [
        "def identity_block(X, f, filters, stage, block):\n",
        "    \"\"\"\n",
        "    Implementation of the identity block as defined in Figure 3\n",
        "    Arguments:\n",
        "    X -- input tensor of shape (m, n_H_prev, n_W_prev, n_C_prev)\n",
        "    f -- integer, specifying the shape of the middle CONV's window for the main path\n",
        "    filters -- python list of integers, defining the number of filters in the CONV layers of the main path\n",
        "    stage -- integer, used to name the layers, depending on their position in the network\n",
        "    block -- string/character, used to name the layers, depending on their position in the network\n",
        "    Returns:\n",
        "    X -- output of the identity block, tensor of shape (n_H, n_W, n_C)\n",
        "    \"\"\"\n",
        "\n",
        "    # defining name basis\n",
        "    conv_name_base = 'res' + str(stage) + block + '_branch'\n",
        "    bn_name_base = 'bn' + str(stage) + block + '_branch'\n",
        "\n",
        "    # Retrieve Filters\n",
        "    F1, F2, F3 = filters\n",
        "\n",
        "    # Save the input value. You'll need this later to add back to the main path.\n",
        "    X_shortcut = X\n",
        "\n",
        "    # First component of main path\n",
        "    X = Conv2D(filters=F1, kernel_size=1, strides=1, padding='valid', name=conv_name_base + '2a', kernel_initializer=glorot_uniform(seed=0))(X)\n",
        "    X = BatchNormalization( name=bn_name_base + '2a')(X)\n",
        "    X = Activation('relu')(X)\n",
        "\n",
        "    # Second component of main path\n",
        "    X = Conv2D(filters=F2, kernel_size=f, strides=1, padding='same', name=conv_name_base + '2b', kernel_initializer=glorot_uniform(seed=0))(X)\n",
        "    X = BatchNormalization( name=bn_name_base + '2b')(X)\n",
        "    X = Activation('relu')(X)\n",
        "\n",
        "    # Third component of main path\n",
        "    X = Conv2D(filters=F3, kernel_size=1, strides=1, padding='valid', name=conv_name_base + '2c', kernel_initializer=glorot_uniform(seed=0))(X)\n",
        "    X = BatchNormalization( name=bn_name_base + '2c')(X)\n",
        "\n",
        "    # Final step: Add shortcut value to main path, and pass it through a RELU activation\n",
        "    X = Add()([X, X_shortcut])\n",
        "    X = Activation('relu')(X)\n",
        "\n",
        "    ### END CODE HERE ###\n",
        "\n",
        "    return X"
      ],
      "execution_count": 24,
      "outputs": []
    },
    {
      "cell_type": "code",
      "metadata": {
        "id": "PZXZI2cKbQ3V",
        "colab_type": "code",
        "colab": {}
      },
      "source": [
        "def convolutional_block(X, f, filters, stage, block, s=2):\n",
        "    \"\"\"\n",
        "    Implementation of the convolutional block as defined in Figure 4\n",
        "    Arguments:\n",
        "    X -- input tensor of shape (m, n_H_prev, n_W_prev, n_C_prev)\n",
        "    f -- integer, specifying the shape of the middle CONV's window for the main path\n",
        "    filters -- python list of integers, defining the number of filters in the CONV layers of the main path\n",
        "    stage -- integer, used to name the layers, depending on their position in the network\n",
        "    block -- string/character, used to name the layers, depending on their position in the network\n",
        "    s -- Integer, specifying the stride to be used\n",
        "    Returns:\n",
        "    X -- output of the convolutional block, tensor of shape (n_H, n_W, n_C)\n",
        "    \"\"\"\n",
        "\n",
        "    # defining name basis\n",
        "    conv_name_base = 'res' + str(stage) + block + '_branch'\n",
        "    bn_name_base = 'bn' + str(stage) + block + '_branch'\n",
        "\n",
        "    # Retrieve Filters\n",
        "    F1, F2, F3 = filters\n",
        "\n",
        "    # Save the input value\n",
        "    X_shortcut = X\n",
        "\n",
        "    # First component of main path\n",
        "    X = Conv2D(F1, 1, strides=s, name=conv_name_base + '2a', kernel_initializer=glorot_uniform(seed=0))(X)\n",
        "    X = BatchNormalization( name=bn_name_base + '2a')(X)\n",
        "    X = Activation('relu')(X)\n",
        "\n",
        "    # Second component of main path\n",
        "    X = Conv2D(filters=F2, kernel_size=f, strides=1, padding='same', name=conv_name_base + '2b', kernel_initializer=glorot_uniform(seed=0))(X)\n",
        "    X = BatchNormalization( name=bn_name_base + '2b')(X)\n",
        "    X = Activation('relu')(X)\n",
        "\n",
        "    # Third component of main path\n",
        "    X = Conv2D(filters=F3, kernel_size=1, strides=1, padding='valid', name=conv_name_base + '2c', kernel_initializer=glorot_uniform(seed=0))(X)\n",
        "    X = BatchNormalization(name=bn_name_base + '2c')(X)\n",
        "\n",
        "    # Shortcut path\n",
        "    X_shortcut = Conv2D(F3, 1, strides=s, name=conv_name_base + '1', kernel_initializer=glorot_uniform(seed=0))(X_shortcut)\n",
        "    X_shortcut = BatchNormalization( name=bn_name_base + '1')(X_shortcut)\n",
        "\n",
        "    # Final step: Add shortcut value to main path, and pass it through a RELU activation (≈2 lines)\n",
        "    X = Add()([X, X_shortcut])\n",
        "    X = Activation('relu')(X)\n",
        "\n",
        "    return X"
      ],
      "execution_count": 25,
      "outputs": []
    },
    {
      "cell_type": "code",
      "metadata": {
        "id": "D3tDc5RDdTiY",
        "colab_type": "code",
        "colab": {}
      },
      "source": [
        "def ResNet50(input_shape=(64, 64, 64)):\n",
        "    \"\"\"\n",
        "    Implementation of the popular ResNet50 the following architecture:\n",
        "    CONV2D -> BATCHNORM -> RELU -> MAXPOOL -> CONVBLOCK -> IDBLOCK*2 -> CONVBLOCK -> IDBLOCK*3\n",
        "    -> CONVBLOCK -> IDBLOCK*5 -> CONVBLOCK -> IDBLOCK*2 -> AVGPOOL -> TOPLAYER\n",
        "    Arguments:\n",
        "    input_shape -- shape of the images of the dataset\n",
        "    classes -- integer, number of classes\n",
        "    Returns:\n",
        "    model -- a Model() instance in Keras\n",
        "    \"\"\"\n",
        "\n",
        "    # Define the input as a tensor with shape input_shape\n",
        "    res_X_input = Input(shape=input_shape)\n",
        "\n",
        "    # Zero-Padding\n",
        "    # X = ZeroPadding1D((3, 3))(X_input)\n",
        "\n",
        "    # Stage 1\n",
        "    res_X = Conv2D(64, 7, strides=1, name='conv1', kernel_initializer=glorot_uniform(seed=0))(res_X_input)\n",
        "    res_X = BatchNormalization(name='bn_conv1')(res_X)\n",
        "    res_X = Activation('relu')(res_X)\n",
        "    res_X = MaxPooling2D(3, strides=2)(res_X)\n",
        "\n",
        "    # Stage 2\n",
        "    res_X = convolutional_block(res_X, f=3, filters=[64, 64, 256], stage=2, block='a', s=1)\n",
        "    res_X = identity_block(res_X, 3, [64, 64, 256], stage=2, block='b')\n",
        "    res_X = identity_block(res_X, 3, [64, 64, 256], stage=2, block='c')\n",
        "\n",
        "    ### START CODE HERE ###\n",
        "\n",
        "    # Stage 3\n",
        "    res_X = convolutional_block(res_X, f=3, filters=[128, 128, 512], stage=3, block='a', s=2)\n",
        "    res_X = identity_block(res_X, 3, [128, 128, 512], stage=3, block='b')\n",
        "    res_X = identity_block(res_X, 3, [128, 128, 512], stage=3, block='c')\n",
        "    res_X = identity_block(res_X, 3, [128, 128, 512], stage=3, block='d')\n",
        "\n",
        "    # Stage 4\n",
        "    res_X = convolutional_block(res_X, f=3, filters=[256, 256, 1024], stage=4, block='a', s=2)\n",
        "    res_X = identity_block(res_X, 3, [256, 256, 1024], stage=4, block='b')\n",
        "    res_X = identity_block(res_X, 3, [256, 256, 1024], stage=4, block='c')\n",
        "    res_X = identity_block(res_X, 3, [256, 256, 1024], stage=4, block='d')\n",
        "    res_X = identity_block(res_X, 3, [256, 256, 1024], stage=4, block='e')\n",
        "    res_X = identity_block(res_X, 3, [256, 256, 1024], stage=4, block='f')\n",
        "\n",
        "    # Stage 5\n",
        "    res_X = convolutional_block(res_X, f=3, filters=[512, 512, 2048], stage=5, block='a', s=2)\n",
        "    res_X = identity_block(res_X, 3, [512, 512, 2048], stage=5, block='b')\n",
        "    res_X = identity_block(res_X, 3, [512, 512, 2048], stage=5, block='c')\n",
        "\n",
        "    # Average Pooling\n",
        "    res_X = AveragePooling2D(2, name='avg_pool')(res_X)\n",
        "\n",
        "    ### END CODE HERE ###\n",
        "\n",
        "    # output layer\n",
        "    res_X = Flatten()(res_X)\n",
        "    res_X = Dense(1024, activation='relu', name='fc0' , kernel_initializer=glorot_uniform(seed=0))(res_X)\n",
        "    drp0 = Dropout(0.5)(res_X)\n",
        "    res_X = Dense(256, activation='relu', name='fc1' , kernel_initializer=glorot_uniform(seed=0))(drp0)\n",
        "    drp1 = Dropout(0.25)(res_X)\n",
        "    res_X = Dense(64, activation='relu', name='fc2' , kernel_initializer=glorot_uniform(seed=0))(drp1)\n",
        "    drp2 = Dropout(0.125)(res_X)\n",
        "    res_X = Dense(1, activation='linear', name='fc3' , kernel_initializer=glorot_uniform(seed=0))(drp1)\n",
        "\n",
        "\n",
        "\n",
        "    # Create model\n",
        "    res_model = Model(inputs=res_X_input, outputs=res_X, name='ResNet50')\n",
        "\n",
        "    return res_model"
      ],
      "execution_count": 26,
      "outputs": []
    },
    {
      "cell_type": "code",
      "metadata": {
        "id": "QVeY7Wz1dfED",
        "colab_type": "code",
        "colab": {}
      },
      "source": [
        "res_model = ResNet50(input_shape = (64, 64, 64))"
      ],
      "execution_count": 27,
      "outputs": []
    },
    {
      "cell_type": "code",
      "metadata": {
        "id": "F2pN3N0DjQU6",
        "colab_type": "code",
        "colab": {
          "base_uri": "https://localhost:8080/",
          "height": 1000
        },
        "outputId": "159884da-a068-478a-eff7-a9d15bc85d27"
      },
      "source": [
        "res_model.summary()"
      ],
      "execution_count": 28,
      "outputs": [
        {
          "output_type": "stream",
          "text": [
            "Model: \"ResNet50\"\n",
            "__________________________________________________________________________________________________\n",
            "Layer (type)                    Output Shape         Param #     Connected to                     \n",
            "==================================================================================================\n",
            "input_1 (InputLayer)            [(None, 64, 64, 64)] 0                                            \n",
            "__________________________________________________________________________________________________\n",
            "conv1 (Conv2D)                  (None, 58, 58, 64)   200768      input_1[0][0]                    \n",
            "__________________________________________________________________________________________________\n",
            "bn_conv1 (BatchNormalization)   (None, 58, 58, 64)   256         conv1[0][0]                      \n",
            "__________________________________________________________________________________________________\n",
            "activation (Activation)         (None, 58, 58, 64)   0           bn_conv1[0][0]                   \n",
            "__________________________________________________________________________________________________\n",
            "max_pooling2d (MaxPooling2D)    (None, 28, 28, 64)   0           activation[0][0]                 \n",
            "__________________________________________________________________________________________________\n",
            "res2a_branch2a (Conv2D)         (None, 28, 28, 64)   4160        max_pooling2d[0][0]              \n",
            "__________________________________________________________________________________________________\n",
            "bn2a_branch2a (BatchNormalizati (None, 28, 28, 64)   256         res2a_branch2a[0][0]             \n",
            "__________________________________________________________________________________________________\n",
            "activation_1 (Activation)       (None, 28, 28, 64)   0           bn2a_branch2a[0][0]              \n",
            "__________________________________________________________________________________________________\n",
            "res2a_branch2b (Conv2D)         (None, 28, 28, 64)   36928       activation_1[0][0]               \n",
            "__________________________________________________________________________________________________\n",
            "bn2a_branch2b (BatchNormalizati (None, 28, 28, 64)   256         res2a_branch2b[0][0]             \n",
            "__________________________________________________________________________________________________\n",
            "activation_2 (Activation)       (None, 28, 28, 64)   0           bn2a_branch2b[0][0]              \n",
            "__________________________________________________________________________________________________\n",
            "res2a_branch2c (Conv2D)         (None, 28, 28, 256)  16640       activation_2[0][0]               \n",
            "__________________________________________________________________________________________________\n",
            "res2a_branch1 (Conv2D)          (None, 28, 28, 256)  16640       max_pooling2d[0][0]              \n",
            "__________________________________________________________________________________________________\n",
            "bn2a_branch2c (BatchNormalizati (None, 28, 28, 256)  1024        res2a_branch2c[0][0]             \n",
            "__________________________________________________________________________________________________\n",
            "bn2a_branch1 (BatchNormalizatio (None, 28, 28, 256)  1024        res2a_branch1[0][0]              \n",
            "__________________________________________________________________________________________________\n",
            "add (Add)                       (None, 28, 28, 256)  0           bn2a_branch2c[0][0]              \n",
            "                                                                 bn2a_branch1[0][0]               \n",
            "__________________________________________________________________________________________________\n",
            "activation_3 (Activation)       (None, 28, 28, 256)  0           add[0][0]                        \n",
            "__________________________________________________________________________________________________\n",
            "res2b_branch2a (Conv2D)         (None, 28, 28, 64)   16448       activation_3[0][0]               \n",
            "__________________________________________________________________________________________________\n",
            "bn2b_branch2a (BatchNormalizati (None, 28, 28, 64)   256         res2b_branch2a[0][0]             \n",
            "__________________________________________________________________________________________________\n",
            "activation_4 (Activation)       (None, 28, 28, 64)   0           bn2b_branch2a[0][0]              \n",
            "__________________________________________________________________________________________________\n",
            "res2b_branch2b (Conv2D)         (None, 28, 28, 64)   36928       activation_4[0][0]               \n",
            "__________________________________________________________________________________________________\n",
            "bn2b_branch2b (BatchNormalizati (None, 28, 28, 64)   256         res2b_branch2b[0][0]             \n",
            "__________________________________________________________________________________________________\n",
            "activation_5 (Activation)       (None, 28, 28, 64)   0           bn2b_branch2b[0][0]              \n",
            "__________________________________________________________________________________________________\n",
            "res2b_branch2c (Conv2D)         (None, 28, 28, 256)  16640       activation_5[0][0]               \n",
            "__________________________________________________________________________________________________\n",
            "bn2b_branch2c (BatchNormalizati (None, 28, 28, 256)  1024        res2b_branch2c[0][0]             \n",
            "__________________________________________________________________________________________________\n",
            "add_1 (Add)                     (None, 28, 28, 256)  0           bn2b_branch2c[0][0]              \n",
            "                                                                 activation_3[0][0]               \n",
            "__________________________________________________________________________________________________\n",
            "activation_6 (Activation)       (None, 28, 28, 256)  0           add_1[0][0]                      \n",
            "__________________________________________________________________________________________________\n",
            "res2c_branch2a (Conv2D)         (None, 28, 28, 64)   16448       activation_6[0][0]               \n",
            "__________________________________________________________________________________________________\n",
            "bn2c_branch2a (BatchNormalizati (None, 28, 28, 64)   256         res2c_branch2a[0][0]             \n",
            "__________________________________________________________________________________________________\n",
            "activation_7 (Activation)       (None, 28, 28, 64)   0           bn2c_branch2a[0][0]              \n",
            "__________________________________________________________________________________________________\n",
            "res2c_branch2b (Conv2D)         (None, 28, 28, 64)   36928       activation_7[0][0]               \n",
            "__________________________________________________________________________________________________\n",
            "bn2c_branch2b (BatchNormalizati (None, 28, 28, 64)   256         res2c_branch2b[0][0]             \n",
            "__________________________________________________________________________________________________\n",
            "activation_8 (Activation)       (None, 28, 28, 64)   0           bn2c_branch2b[0][0]              \n",
            "__________________________________________________________________________________________________\n",
            "res2c_branch2c (Conv2D)         (None, 28, 28, 256)  16640       activation_8[0][0]               \n",
            "__________________________________________________________________________________________________\n",
            "bn2c_branch2c (BatchNormalizati (None, 28, 28, 256)  1024        res2c_branch2c[0][0]             \n",
            "__________________________________________________________________________________________________\n",
            "add_2 (Add)                     (None, 28, 28, 256)  0           bn2c_branch2c[0][0]              \n",
            "                                                                 activation_6[0][0]               \n",
            "__________________________________________________________________________________________________\n",
            "activation_9 (Activation)       (None, 28, 28, 256)  0           add_2[0][0]                      \n",
            "__________________________________________________________________________________________________\n",
            "res3a_branch2a (Conv2D)         (None, 14, 14, 128)  32896       activation_9[0][0]               \n",
            "__________________________________________________________________________________________________\n",
            "bn3a_branch2a (BatchNormalizati (None, 14, 14, 128)  512         res3a_branch2a[0][0]             \n",
            "__________________________________________________________________________________________________\n",
            "activation_10 (Activation)      (None, 14, 14, 128)  0           bn3a_branch2a[0][0]              \n",
            "__________________________________________________________________________________________________\n",
            "res3a_branch2b (Conv2D)         (None, 14, 14, 128)  147584      activation_10[0][0]              \n",
            "__________________________________________________________________________________________________\n",
            "bn3a_branch2b (BatchNormalizati (None, 14, 14, 128)  512         res3a_branch2b[0][0]             \n",
            "__________________________________________________________________________________________________\n",
            "activation_11 (Activation)      (None, 14, 14, 128)  0           bn3a_branch2b[0][0]              \n",
            "__________________________________________________________________________________________________\n",
            "res3a_branch2c (Conv2D)         (None, 14, 14, 512)  66048       activation_11[0][0]              \n",
            "__________________________________________________________________________________________________\n",
            "res3a_branch1 (Conv2D)          (None, 14, 14, 512)  131584      activation_9[0][0]               \n",
            "__________________________________________________________________________________________________\n",
            "bn3a_branch2c (BatchNormalizati (None, 14, 14, 512)  2048        res3a_branch2c[0][0]             \n",
            "__________________________________________________________________________________________________\n",
            "bn3a_branch1 (BatchNormalizatio (None, 14, 14, 512)  2048        res3a_branch1[0][0]              \n",
            "__________________________________________________________________________________________________\n",
            "add_3 (Add)                     (None, 14, 14, 512)  0           bn3a_branch2c[0][0]              \n",
            "                                                                 bn3a_branch1[0][0]               \n",
            "__________________________________________________________________________________________________\n",
            "activation_12 (Activation)      (None, 14, 14, 512)  0           add_3[0][0]                      \n",
            "__________________________________________________________________________________________________\n",
            "res3b_branch2a (Conv2D)         (None, 14, 14, 128)  65664       activation_12[0][0]              \n",
            "__________________________________________________________________________________________________\n",
            "bn3b_branch2a (BatchNormalizati (None, 14, 14, 128)  512         res3b_branch2a[0][0]             \n",
            "__________________________________________________________________________________________________\n",
            "activation_13 (Activation)      (None, 14, 14, 128)  0           bn3b_branch2a[0][0]              \n",
            "__________________________________________________________________________________________________\n",
            "res3b_branch2b (Conv2D)         (None, 14, 14, 128)  147584      activation_13[0][0]              \n",
            "__________________________________________________________________________________________________\n",
            "bn3b_branch2b (BatchNormalizati (None, 14, 14, 128)  512         res3b_branch2b[0][0]             \n",
            "__________________________________________________________________________________________________\n",
            "activation_14 (Activation)      (None, 14, 14, 128)  0           bn3b_branch2b[0][0]              \n",
            "__________________________________________________________________________________________________\n",
            "res3b_branch2c (Conv2D)         (None, 14, 14, 512)  66048       activation_14[0][0]              \n",
            "__________________________________________________________________________________________________\n",
            "bn3b_branch2c (BatchNormalizati (None, 14, 14, 512)  2048        res3b_branch2c[0][0]             \n",
            "__________________________________________________________________________________________________\n",
            "add_4 (Add)                     (None, 14, 14, 512)  0           bn3b_branch2c[0][0]              \n",
            "                                                                 activation_12[0][0]              \n",
            "__________________________________________________________________________________________________\n",
            "activation_15 (Activation)      (None, 14, 14, 512)  0           add_4[0][0]                      \n",
            "__________________________________________________________________________________________________\n",
            "res3c_branch2a (Conv2D)         (None, 14, 14, 128)  65664       activation_15[0][0]              \n",
            "__________________________________________________________________________________________________\n",
            "bn3c_branch2a (BatchNormalizati (None, 14, 14, 128)  512         res3c_branch2a[0][0]             \n",
            "__________________________________________________________________________________________________\n",
            "activation_16 (Activation)      (None, 14, 14, 128)  0           bn3c_branch2a[0][0]              \n",
            "__________________________________________________________________________________________________\n",
            "res3c_branch2b (Conv2D)         (None, 14, 14, 128)  147584      activation_16[0][0]              \n",
            "__________________________________________________________________________________________________\n",
            "bn3c_branch2b (BatchNormalizati (None, 14, 14, 128)  512         res3c_branch2b[0][0]             \n",
            "__________________________________________________________________________________________________\n",
            "activation_17 (Activation)      (None, 14, 14, 128)  0           bn3c_branch2b[0][0]              \n",
            "__________________________________________________________________________________________________\n",
            "res3c_branch2c (Conv2D)         (None, 14, 14, 512)  66048       activation_17[0][0]              \n",
            "__________________________________________________________________________________________________\n",
            "bn3c_branch2c (BatchNormalizati (None, 14, 14, 512)  2048        res3c_branch2c[0][0]             \n",
            "__________________________________________________________________________________________________\n",
            "add_5 (Add)                     (None, 14, 14, 512)  0           bn3c_branch2c[0][0]              \n",
            "                                                                 activation_15[0][0]              \n",
            "__________________________________________________________________________________________________\n",
            "activation_18 (Activation)      (None, 14, 14, 512)  0           add_5[0][0]                      \n",
            "__________________________________________________________________________________________________\n",
            "res3d_branch2a (Conv2D)         (None, 14, 14, 128)  65664       activation_18[0][0]              \n",
            "__________________________________________________________________________________________________\n",
            "bn3d_branch2a (BatchNormalizati (None, 14, 14, 128)  512         res3d_branch2a[0][0]             \n",
            "__________________________________________________________________________________________________\n",
            "activation_19 (Activation)      (None, 14, 14, 128)  0           bn3d_branch2a[0][0]              \n",
            "__________________________________________________________________________________________________\n",
            "res3d_branch2b (Conv2D)         (None, 14, 14, 128)  147584      activation_19[0][0]              \n",
            "__________________________________________________________________________________________________\n",
            "bn3d_branch2b (BatchNormalizati (None, 14, 14, 128)  512         res3d_branch2b[0][0]             \n",
            "__________________________________________________________________________________________________\n",
            "activation_20 (Activation)      (None, 14, 14, 128)  0           bn3d_branch2b[0][0]              \n",
            "__________________________________________________________________________________________________\n",
            "res3d_branch2c (Conv2D)         (None, 14, 14, 512)  66048       activation_20[0][0]              \n",
            "__________________________________________________________________________________________________\n",
            "bn3d_branch2c (BatchNormalizati (None, 14, 14, 512)  2048        res3d_branch2c[0][0]             \n",
            "__________________________________________________________________________________________________\n",
            "add_6 (Add)                     (None, 14, 14, 512)  0           bn3d_branch2c[0][0]              \n",
            "                                                                 activation_18[0][0]              \n",
            "__________________________________________________________________________________________________\n",
            "activation_21 (Activation)      (None, 14, 14, 512)  0           add_6[0][0]                      \n",
            "__________________________________________________________________________________________________\n",
            "res4a_branch2a (Conv2D)         (None, 7, 7, 256)    131328      activation_21[0][0]              \n",
            "__________________________________________________________________________________________________\n",
            "bn4a_branch2a (BatchNormalizati (None, 7, 7, 256)    1024        res4a_branch2a[0][0]             \n",
            "__________________________________________________________________________________________________\n",
            "activation_22 (Activation)      (None, 7, 7, 256)    0           bn4a_branch2a[0][0]              \n",
            "__________________________________________________________________________________________________\n",
            "res4a_branch2b (Conv2D)         (None, 7, 7, 256)    590080      activation_22[0][0]              \n",
            "__________________________________________________________________________________________________\n",
            "bn4a_branch2b (BatchNormalizati (None, 7, 7, 256)    1024        res4a_branch2b[0][0]             \n",
            "__________________________________________________________________________________________________\n",
            "activation_23 (Activation)      (None, 7, 7, 256)    0           bn4a_branch2b[0][0]              \n",
            "__________________________________________________________________________________________________\n",
            "res4a_branch2c (Conv2D)         (None, 7, 7, 1024)   263168      activation_23[0][0]              \n",
            "__________________________________________________________________________________________________\n",
            "res4a_branch1 (Conv2D)          (None, 7, 7, 1024)   525312      activation_21[0][0]              \n",
            "__________________________________________________________________________________________________\n",
            "bn4a_branch2c (BatchNormalizati (None, 7, 7, 1024)   4096        res4a_branch2c[0][0]             \n",
            "__________________________________________________________________________________________________\n",
            "bn4a_branch1 (BatchNormalizatio (None, 7, 7, 1024)   4096        res4a_branch1[0][0]              \n",
            "__________________________________________________________________________________________________\n",
            "add_7 (Add)                     (None, 7, 7, 1024)   0           bn4a_branch2c[0][0]              \n",
            "                                                                 bn4a_branch1[0][0]               \n",
            "__________________________________________________________________________________________________\n",
            "activation_24 (Activation)      (None, 7, 7, 1024)   0           add_7[0][0]                      \n",
            "__________________________________________________________________________________________________\n",
            "res4b_branch2a (Conv2D)         (None, 7, 7, 256)    262400      activation_24[0][0]              \n",
            "__________________________________________________________________________________________________\n",
            "bn4b_branch2a (BatchNormalizati (None, 7, 7, 256)    1024        res4b_branch2a[0][0]             \n",
            "__________________________________________________________________________________________________\n",
            "activation_25 (Activation)      (None, 7, 7, 256)    0           bn4b_branch2a[0][0]              \n",
            "__________________________________________________________________________________________________\n",
            "res4b_branch2b (Conv2D)         (None, 7, 7, 256)    590080      activation_25[0][0]              \n",
            "__________________________________________________________________________________________________\n",
            "bn4b_branch2b (BatchNormalizati (None, 7, 7, 256)    1024        res4b_branch2b[0][0]             \n",
            "__________________________________________________________________________________________________\n",
            "activation_26 (Activation)      (None, 7, 7, 256)    0           bn4b_branch2b[0][0]              \n",
            "__________________________________________________________________________________________________\n",
            "res4b_branch2c (Conv2D)         (None, 7, 7, 1024)   263168      activation_26[0][0]              \n",
            "__________________________________________________________________________________________________\n",
            "bn4b_branch2c (BatchNormalizati (None, 7, 7, 1024)   4096        res4b_branch2c[0][0]             \n",
            "__________________________________________________________________________________________________\n",
            "add_8 (Add)                     (None, 7, 7, 1024)   0           bn4b_branch2c[0][0]              \n",
            "                                                                 activation_24[0][0]              \n",
            "__________________________________________________________________________________________________\n",
            "activation_27 (Activation)      (None, 7, 7, 1024)   0           add_8[0][0]                      \n",
            "__________________________________________________________________________________________________\n",
            "res4c_branch2a (Conv2D)         (None, 7, 7, 256)    262400      activation_27[0][0]              \n",
            "__________________________________________________________________________________________________\n",
            "bn4c_branch2a (BatchNormalizati (None, 7, 7, 256)    1024        res4c_branch2a[0][0]             \n",
            "__________________________________________________________________________________________________\n",
            "activation_28 (Activation)      (None, 7, 7, 256)    0           bn4c_branch2a[0][0]              \n",
            "__________________________________________________________________________________________________\n",
            "res4c_branch2b (Conv2D)         (None, 7, 7, 256)    590080      activation_28[0][0]              \n",
            "__________________________________________________________________________________________________\n",
            "bn4c_branch2b (BatchNormalizati (None, 7, 7, 256)    1024        res4c_branch2b[0][0]             \n",
            "__________________________________________________________________________________________________\n",
            "activation_29 (Activation)      (None, 7, 7, 256)    0           bn4c_branch2b[0][0]              \n",
            "__________________________________________________________________________________________________\n",
            "res4c_branch2c (Conv2D)         (None, 7, 7, 1024)   263168      activation_29[0][0]              \n",
            "__________________________________________________________________________________________________\n",
            "bn4c_branch2c (BatchNormalizati (None, 7, 7, 1024)   4096        res4c_branch2c[0][0]             \n",
            "__________________________________________________________________________________________________\n",
            "add_9 (Add)                     (None, 7, 7, 1024)   0           bn4c_branch2c[0][0]              \n",
            "                                                                 activation_27[0][0]              \n",
            "__________________________________________________________________________________________________\n",
            "activation_30 (Activation)      (None, 7, 7, 1024)   0           add_9[0][0]                      \n",
            "__________________________________________________________________________________________________\n",
            "res4d_branch2a (Conv2D)         (None, 7, 7, 256)    262400      activation_30[0][0]              \n",
            "__________________________________________________________________________________________________\n",
            "bn4d_branch2a (BatchNormalizati (None, 7, 7, 256)    1024        res4d_branch2a[0][0]             \n",
            "__________________________________________________________________________________________________\n",
            "activation_31 (Activation)      (None, 7, 7, 256)    0           bn4d_branch2a[0][0]              \n",
            "__________________________________________________________________________________________________\n",
            "res4d_branch2b (Conv2D)         (None, 7, 7, 256)    590080      activation_31[0][0]              \n",
            "__________________________________________________________________________________________________\n",
            "bn4d_branch2b (BatchNormalizati (None, 7, 7, 256)    1024        res4d_branch2b[0][0]             \n",
            "__________________________________________________________________________________________________\n",
            "activation_32 (Activation)      (None, 7, 7, 256)    0           bn4d_branch2b[0][0]              \n",
            "__________________________________________________________________________________________________\n",
            "res4d_branch2c (Conv2D)         (None, 7, 7, 1024)   263168      activation_32[0][0]              \n",
            "__________________________________________________________________________________________________\n",
            "bn4d_branch2c (BatchNormalizati (None, 7, 7, 1024)   4096        res4d_branch2c[0][0]             \n",
            "__________________________________________________________________________________________________\n",
            "add_10 (Add)                    (None, 7, 7, 1024)   0           bn4d_branch2c[0][0]              \n",
            "                                                                 activation_30[0][0]              \n",
            "__________________________________________________________________________________________________\n",
            "activation_33 (Activation)      (None, 7, 7, 1024)   0           add_10[0][0]                     \n",
            "__________________________________________________________________________________________________\n",
            "res4e_branch2a (Conv2D)         (None, 7, 7, 256)    262400      activation_33[0][0]              \n",
            "__________________________________________________________________________________________________\n",
            "bn4e_branch2a (BatchNormalizati (None, 7, 7, 256)    1024        res4e_branch2a[0][0]             \n",
            "__________________________________________________________________________________________________\n",
            "activation_34 (Activation)      (None, 7, 7, 256)    0           bn4e_branch2a[0][0]              \n",
            "__________________________________________________________________________________________________\n",
            "res4e_branch2b (Conv2D)         (None, 7, 7, 256)    590080      activation_34[0][0]              \n",
            "__________________________________________________________________________________________________\n",
            "bn4e_branch2b (BatchNormalizati (None, 7, 7, 256)    1024        res4e_branch2b[0][0]             \n",
            "__________________________________________________________________________________________________\n",
            "activation_35 (Activation)      (None, 7, 7, 256)    0           bn4e_branch2b[0][0]              \n",
            "__________________________________________________________________________________________________\n",
            "res4e_branch2c (Conv2D)         (None, 7, 7, 1024)   263168      activation_35[0][0]              \n",
            "__________________________________________________________________________________________________\n",
            "bn4e_branch2c (BatchNormalizati (None, 7, 7, 1024)   4096        res4e_branch2c[0][0]             \n",
            "__________________________________________________________________________________________________\n",
            "add_11 (Add)                    (None, 7, 7, 1024)   0           bn4e_branch2c[0][0]              \n",
            "                                                                 activation_33[0][0]              \n",
            "__________________________________________________________________________________________________\n",
            "activation_36 (Activation)      (None, 7, 7, 1024)   0           add_11[0][0]                     \n",
            "__________________________________________________________________________________________________\n",
            "res4f_branch2a (Conv2D)         (None, 7, 7, 256)    262400      activation_36[0][0]              \n",
            "__________________________________________________________________________________________________\n",
            "bn4f_branch2a (BatchNormalizati (None, 7, 7, 256)    1024        res4f_branch2a[0][0]             \n",
            "__________________________________________________________________________________________________\n",
            "activation_37 (Activation)      (None, 7, 7, 256)    0           bn4f_branch2a[0][0]              \n",
            "__________________________________________________________________________________________________\n",
            "res4f_branch2b (Conv2D)         (None, 7, 7, 256)    590080      activation_37[0][0]              \n",
            "__________________________________________________________________________________________________\n",
            "bn4f_branch2b (BatchNormalizati (None, 7, 7, 256)    1024        res4f_branch2b[0][0]             \n",
            "__________________________________________________________________________________________________\n",
            "activation_38 (Activation)      (None, 7, 7, 256)    0           bn4f_branch2b[0][0]              \n",
            "__________________________________________________________________________________________________\n",
            "res4f_branch2c (Conv2D)         (None, 7, 7, 1024)   263168      activation_38[0][0]              \n",
            "__________________________________________________________________________________________________\n",
            "bn4f_branch2c (BatchNormalizati (None, 7, 7, 1024)   4096        res4f_branch2c[0][0]             \n",
            "__________________________________________________________________________________________________\n",
            "add_12 (Add)                    (None, 7, 7, 1024)   0           bn4f_branch2c[0][0]              \n",
            "                                                                 activation_36[0][0]              \n",
            "__________________________________________________________________________________________________\n",
            "activation_39 (Activation)      (None, 7, 7, 1024)   0           add_12[0][0]                     \n",
            "__________________________________________________________________________________________________\n",
            "res5a_branch2a (Conv2D)         (None, 4, 4, 512)    524800      activation_39[0][0]              \n",
            "__________________________________________________________________________________________________\n",
            "bn5a_branch2a (BatchNormalizati (None, 4, 4, 512)    2048        res5a_branch2a[0][0]             \n",
            "__________________________________________________________________________________________________\n",
            "activation_40 (Activation)      (None, 4, 4, 512)    0           bn5a_branch2a[0][0]              \n",
            "__________________________________________________________________________________________________\n",
            "res5a_branch2b (Conv2D)         (None, 4, 4, 512)    2359808     activation_40[0][0]              \n",
            "__________________________________________________________________________________________________\n",
            "bn5a_branch2b (BatchNormalizati (None, 4, 4, 512)    2048        res5a_branch2b[0][0]             \n",
            "__________________________________________________________________________________________________\n",
            "activation_41 (Activation)      (None, 4, 4, 512)    0           bn5a_branch2b[0][0]              \n",
            "__________________________________________________________________________________________________\n",
            "res5a_branch2c (Conv2D)         (None, 4, 4, 2048)   1050624     activation_41[0][0]              \n",
            "__________________________________________________________________________________________________\n",
            "res5a_branch1 (Conv2D)          (None, 4, 4, 2048)   2099200     activation_39[0][0]              \n",
            "__________________________________________________________________________________________________\n",
            "bn5a_branch2c (BatchNormalizati (None, 4, 4, 2048)   8192        res5a_branch2c[0][0]             \n",
            "__________________________________________________________________________________________________\n",
            "bn5a_branch1 (BatchNormalizatio (None, 4, 4, 2048)   8192        res5a_branch1[0][0]              \n",
            "__________________________________________________________________________________________________\n",
            "add_13 (Add)                    (None, 4, 4, 2048)   0           bn5a_branch2c[0][0]              \n",
            "                                                                 bn5a_branch1[0][0]               \n",
            "__________________________________________________________________________________________________\n",
            "activation_42 (Activation)      (None, 4, 4, 2048)   0           add_13[0][0]                     \n",
            "__________________________________________________________________________________________________\n",
            "res5b_branch2a (Conv2D)         (None, 4, 4, 512)    1049088     activation_42[0][0]              \n",
            "__________________________________________________________________________________________________\n",
            "bn5b_branch2a (BatchNormalizati (None, 4, 4, 512)    2048        res5b_branch2a[0][0]             \n",
            "__________________________________________________________________________________________________\n",
            "activation_43 (Activation)      (None, 4, 4, 512)    0           bn5b_branch2a[0][0]              \n",
            "__________________________________________________________________________________________________\n",
            "res5b_branch2b (Conv2D)         (None, 4, 4, 512)    2359808     activation_43[0][0]              \n",
            "__________________________________________________________________________________________________\n",
            "bn5b_branch2b (BatchNormalizati (None, 4, 4, 512)    2048        res5b_branch2b[0][0]             \n",
            "__________________________________________________________________________________________________\n",
            "activation_44 (Activation)      (None, 4, 4, 512)    0           bn5b_branch2b[0][0]              \n",
            "__________________________________________________________________________________________________\n",
            "res5b_branch2c (Conv2D)         (None, 4, 4, 2048)   1050624     activation_44[0][0]              \n",
            "__________________________________________________________________________________________________\n",
            "bn5b_branch2c (BatchNormalizati (None, 4, 4, 2048)   8192        res5b_branch2c[0][0]             \n",
            "__________________________________________________________________________________________________\n",
            "add_14 (Add)                    (None, 4, 4, 2048)   0           bn5b_branch2c[0][0]              \n",
            "                                                                 activation_42[0][0]              \n",
            "__________________________________________________________________________________________________\n",
            "activation_45 (Activation)      (None, 4, 4, 2048)   0           add_14[0][0]                     \n",
            "__________________________________________________________________________________________________\n",
            "res5c_branch2a (Conv2D)         (None, 4, 4, 512)    1049088     activation_45[0][0]              \n",
            "__________________________________________________________________________________________________\n",
            "bn5c_branch2a (BatchNormalizati (None, 4, 4, 512)    2048        res5c_branch2a[0][0]             \n",
            "__________________________________________________________________________________________________\n",
            "activation_46 (Activation)      (None, 4, 4, 512)    0           bn5c_branch2a[0][0]              \n",
            "__________________________________________________________________________________________________\n",
            "res5c_branch2b (Conv2D)         (None, 4, 4, 512)    2359808     activation_46[0][0]              \n",
            "__________________________________________________________________________________________________\n",
            "bn5c_branch2b (BatchNormalizati (None, 4, 4, 512)    2048        res5c_branch2b[0][0]             \n",
            "__________________________________________________________________________________________________\n",
            "activation_47 (Activation)      (None, 4, 4, 512)    0           bn5c_branch2b[0][0]              \n",
            "__________________________________________________________________________________________________\n",
            "res5c_branch2c (Conv2D)         (None, 4, 4, 2048)   1050624     activation_47[0][0]              \n",
            "__________________________________________________________________________________________________\n",
            "bn5c_branch2c (BatchNormalizati (None, 4, 4, 2048)   8192        res5c_branch2c[0][0]             \n",
            "__________________________________________________________________________________________________\n",
            "add_15 (Add)                    (None, 4, 4, 2048)   0           bn5c_branch2c[0][0]              \n",
            "                                                                 activation_45[0][0]              \n",
            "__________________________________________________________________________________________________\n",
            "activation_48 (Activation)      (None, 4, 4, 2048)   0           add_15[0][0]                     \n",
            "__________________________________________________________________________________________________\n",
            "avg_pool (AveragePooling2D)     (None, 2, 2, 2048)   0           activation_48[0][0]              \n",
            "__________________________________________________________________________________________________\n",
            "flatten (Flatten)               (None, 8192)         0           avg_pool[0][0]                   \n",
            "__________________________________________________________________________________________________\n",
            "fc0 (Dense)                     (None, 1024)         8389632     flatten[0][0]                    \n",
            "__________________________________________________________________________________________________\n",
            "dropout (Dropout)               (None, 1024)         0           fc0[0][0]                        \n",
            "__________________________________________________________________________________________________\n",
            "fc1 (Dense)                     (None, 256)          262400      dropout[0][0]                    \n",
            "__________________________________________________________________________________________________\n",
            "dropout_1 (Dropout)             (None, 256)          0           fc1[0][0]                        \n",
            "__________________________________________________________________________________________________\n",
            "fc3 (Dense)                     (None, 1)            257         dropout_1[0][0]                  \n",
            "==================================================================================================\n",
            "Total params: 32,431,297\n",
            "Trainable params: 32,378,177\n",
            "Non-trainable params: 53,120\n",
            "__________________________________________________________________________________________________\n"
          ],
          "name": "stdout"
        }
      ]
    },
    {
      "cell_type": "code",
      "metadata": {
        "id": "P3M-FYWU5PJR",
        "colab_type": "code",
        "colab": {}
      },
      "source": [
        ""
      ],
      "execution_count": 28,
      "outputs": []
    },
    {
      "cell_type": "code",
      "metadata": {
        "id": "yde1OzV8l3IY",
        "colab_type": "code",
        "colab": {}
      },
      "source": [
        "def generator(X_path, y_path, batch_size=2):\n",
        "    \n",
        "\n",
        "   \n",
        "    num_samples = len(X_path)\n",
        "    while True: # Loop forever so the generator never terminates\n",
        "\n",
        "      \n",
        "      # Get index to start each batch: [0, batch_size, 2*batch_size, ..., max multiple of batch_size &lt;= num_samples]\n",
        "      for offset in range(0, int(num_samples), batch_size):\n",
        "            \n",
        "          # Get the samples you'll use in this batch\n",
        "          batch_samples = X_path[ (offset * batch_size) : ((offset+1) * batch_size) ]\n",
        " \n",
        "            \n",
        "             \n",
        "              \n",
        "              # Initialise X_train and y_train arrays for this batch\n",
        "         \n",
        "\n",
        "          for i in batch_samples:\n",
        "\n",
        "            X_train = []\n",
        "            y_train = []\n",
        "\n",
        "            X_input = load_case(i)\n",
        "            X = get_max(X_input, 64, 64, 64, 8, 10)\n",
        "            \n",
        "            rand_array = np.random.randint(10, size=3)\n",
        "            \n",
        "            for j in range(3):\n",
        "              \n",
        "              rand_num = rand_array[j]\n",
        "              X_temp = np.reshape(X[rand_num, :, :, :], (64, 64, 64))\n",
        "              X_temp = standardize(X_temp)\n",
        "              \n",
        "\n",
        "\n",
        "              patient_number = i[81:84]\n",
        "              days = find_days_by_patient_number(patient_number)\n",
        "              if days != None and 'ALIVE' not in days:\n",
        "              \n",
        "                X_train.append(X_temp)\n",
        "                # for i in range(4):\n",
        "                y_train.append(int(days))\n",
        "                \n",
        "                  \n",
        "  \n",
        "              # Make sure they're numpy arrays (as opposed to lists)\n",
        "\n",
        "            X_train = np.array(X_train)\n",
        "            y_train = np.array(y_train)\n",
        "\n",
        "            \n",
        "\n",
        "\n",
        "\n",
        "\n",
        "            if X_train.ndim == 4:             \n",
        "              yield X_train, y_train\n",
        "            else:\n",
        "              pass"
      ],
      "execution_count": 29,
      "outputs": []
    },
    {
      "cell_type": "code",
      "metadata": {
        "id": "FEba7UJRoSn7",
        "colab_type": "code",
        "colab": {}
      },
      "source": [
        "\n",
        "X_train_filenames = X_trainset_filenames[:309]\n",
        "X_valid_filenames = X_trainset_filenames[309:]\n",
        "\n",
        "\n",
        "y_train_path = '/content/drive/My Drive/BRATS2020/MICCAI_BraTS2020_TrainingData/survival_info.csv'\n",
        "\n",
        "train_generator = generator(X_train_filenames, y_train_path, batch_size=3)\n",
        "validation_generator = generator(X_valid_filenames, y_train_path, batch_size=3)"
      ],
      "execution_count": 30,
      "outputs": []
    },
    {
      "cell_type": "code",
      "metadata": {
        "id": "IcT6EoIbzhub",
        "colab_type": "code",
        "colab": {}
      },
      "source": [
        "\n",
        "opt = Adam(lr=1e-4)\n",
        "\n",
        "\n",
        "res_model.compile(optimizer=opt, loss='mse')"
      ],
      "execution_count": 31,
      "outputs": []
    },
    {
      "cell_type": "code",
      "metadata": {
        "id": "9DHmLHFqzM50",
        "colab_type": "code",
        "colab": {
          "base_uri": "https://localhost:8080/",
          "height": 50
        },
        "outputId": "c313bfa0-8fc3-4960-8ff8-bb985a6c5714"
      },
      "source": [
        "from keras.callbacks import EarlyStopping, ModelCheckpoint, LearningRateScheduler\n",
        "\n",
        "initial_learning_rate = 0.001\n",
        "\n",
        "\n",
        "def scheduler(epoch):\n",
        "  \n",
        "  ## decrease learning rate every 3 epochs to 0.1(latest_value) ##\n",
        "  return float(initial_learning_rate * tf.math.exp(0.1 * (int(epoch/3))))\n",
        "  \n",
        "\n",
        "\n",
        "# callback\n",
        "my_callbacks = [\n",
        "        LearningRateScheduler(scheduler), \n",
        "        EarlyStopping(monitor='val_loss', patience=6),\n",
        "        ModelCheckpoint(filepath='/content/drive/My Drive/BRATS2020/Survival_FlowerModel_update.{epoch:02d}-{val_loss:.2f}.h5', monitor='val_loss', save_best_only=False)\n",
        "]\n",
        "\n",
        "\n",
        "\n",
        "#### steps per epoch should be x/batch*8 because model generates 8 subvolumes per training sample\n",
        "# Fit model using generator\n",
        "history = res_model.fit(train_generator, steps_per_epoch=309, epochs=50, validation_data=validation_generator, validation_steps=60, callbacks=my_callbacks)"
      ],
      "execution_count": null,
      "outputs": [
        {
          "output_type": "stream",
          "text": [
            "Epoch 1/50\n",
            " 59/309 [====>.........................] - ETA: 29:07 - loss: 213202.9844"
          ],
          "name": "stdout"
        }
      ]
    },
    {
      "cell_type": "code",
      "metadata": {
        "id": "N7-SmRYVUuIB",
        "colab_type": "code",
        "colab": {}
      },
      "source": [
        ""
      ],
      "execution_count": null,
      "outputs": []
    }
  ]
}