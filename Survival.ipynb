{
  "nbformat": 4,
  "nbformat_minor": 0,
  "metadata": {
    "colab": {
      "name": "Survival.ipynb",
      "provenance": [],
      "authorship_tag": "ABX9TyPeF45nriF+rSMVX/2xq9RU",
      "include_colab_link": true
    },
    "kernelspec": {
      "name": "python3",
      "display_name": "Python 3"
    },
    "widgets": {
      "application/vnd.jupyter.widget-state+json": {
        "28f80056891e49919685738cfe641d8a": {
          "model_module": "@jupyter-widgets/controls",
          "model_name": "VBoxModel",
          "state": {
            "_view_name": "VBoxView",
            "_dom_classes": [
              "widget-interact"
            ],
            "_model_name": "VBoxModel",
            "_view_module": "@jupyter-widgets/controls",
            "_model_module_version": "1.5.0",
            "_view_count": null,
            "_view_module_version": "1.5.0",
            "box_style": "",
            "layout": "IPY_MODEL_5ce0b14f24c84d7190848ad705bc7ac5",
            "_model_module": "@jupyter-widgets/controls",
            "children": [
              "IPY_MODEL_b2fccfcef3e14d4db392c5035c2671a3",
              "IPY_MODEL_5b6f5943427b468ab484b84932a847e5"
            ]
          }
        },
        "5ce0b14f24c84d7190848ad705bc7ac5": {
          "model_module": "@jupyter-widgets/base",
          "model_name": "LayoutModel",
          "state": {
            "_view_name": "LayoutView",
            "grid_template_rows": null,
            "right": null,
            "justify_content": null,
            "_view_module": "@jupyter-widgets/base",
            "overflow": null,
            "_model_module_version": "1.2.0",
            "_view_count": null,
            "flex_flow": null,
            "width": null,
            "min_width": null,
            "border": null,
            "align_items": null,
            "bottom": null,
            "_model_module": "@jupyter-widgets/base",
            "top": null,
            "grid_column": null,
            "overflow_y": null,
            "overflow_x": null,
            "grid_auto_flow": null,
            "grid_area": null,
            "grid_template_columns": null,
            "flex": null,
            "_model_name": "LayoutModel",
            "justify_items": null,
            "grid_row": null,
            "max_height": null,
            "align_content": null,
            "visibility": null,
            "align_self": null,
            "height": null,
            "min_height": null,
            "padding": null,
            "grid_auto_rows": null,
            "grid_gap": null,
            "max_width": null,
            "order": null,
            "_view_module_version": "1.2.0",
            "grid_template_areas": null,
            "object_position": null,
            "object_fit": null,
            "grid_auto_columns": null,
            "margin": null,
            "display": null,
            "left": null
          }
        },
        "b2fccfcef3e14d4db392c5035c2671a3": {
          "model_module": "@jupyter-widgets/controls",
          "model_name": "IntSliderModel",
          "state": {
            "_view_name": "IntSliderView",
            "style": "IPY_MODEL_68af2ae41f43432a98d354b789744e57",
            "_dom_classes": [],
            "description": "layer",
            "step": 1,
            "_model_name": "IntSliderModel",
            "orientation": "horizontal",
            "max": 154,
            "_view_module": "@jupyter-widgets/controls",
            "_model_module_version": "1.5.0",
            "value": 124,
            "_view_count": null,
            "disabled": false,
            "_view_module_version": "1.5.0",
            "min": 0,
            "continuous_update": true,
            "readout_format": "d",
            "description_tooltip": null,
            "readout": true,
            "_model_module": "@jupyter-widgets/controls",
            "layout": "IPY_MODEL_ca42c14c8b1945f3ae44d687571083d7"
          }
        },
        "5b6f5943427b468ab484b84932a847e5": {
          "model_module": "@jupyter-widgets/output",
          "model_name": "OutputModel",
          "state": {
            "_view_name": "OutputView",
            "msg_id": "",
            "_dom_classes": [],
            "_model_name": "OutputModel",
            "outputs": [
              {
                "output_type": "display_data",
                "metadata": {
                  "tags": [],
                  "needs_background": "light"
                },
                "image/png": "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\n",
                "text/plain": "<Figure size 720x360 with 1 Axes>"
              },
              {
                "output_type": "display_data",
                "metadata": {
                  "tags": []
                },
                "text/plain": "124"
              }
            ],
            "_view_module": "@jupyter-widgets/output",
            "_model_module_version": "1.0.0",
            "_view_count": null,
            "_view_module_version": "1.0.0",
            "layout": "IPY_MODEL_3a3c086c1bc848e7a60ecf27544094ed",
            "_model_module": "@jupyter-widgets/output"
          }
        },
        "68af2ae41f43432a98d354b789744e57": {
          "model_module": "@jupyter-widgets/controls",
          "model_name": "SliderStyleModel",
          "state": {
            "_view_name": "StyleView",
            "handle_color": null,
            "_model_name": "SliderStyleModel",
            "description_width": "",
            "_view_module": "@jupyter-widgets/base",
            "_model_module_version": "1.5.0",
            "_view_count": null,
            "_view_module_version": "1.2.0",
            "_model_module": "@jupyter-widgets/controls"
          }
        },
        "ca42c14c8b1945f3ae44d687571083d7": {
          "model_module": "@jupyter-widgets/base",
          "model_name": "LayoutModel",
          "state": {
            "_view_name": "LayoutView",
            "grid_template_rows": null,
            "right": null,
            "justify_content": null,
            "_view_module": "@jupyter-widgets/base",
            "overflow": null,
            "_model_module_version": "1.2.0",
            "_view_count": null,
            "flex_flow": null,
            "width": null,
            "min_width": null,
            "border": null,
            "align_items": null,
            "bottom": null,
            "_model_module": "@jupyter-widgets/base",
            "top": null,
            "grid_column": null,
            "overflow_y": null,
            "overflow_x": null,
            "grid_auto_flow": null,
            "grid_area": null,
            "grid_template_columns": null,
            "flex": null,
            "_model_name": "LayoutModel",
            "justify_items": null,
            "grid_row": null,
            "max_height": null,
            "align_content": null,
            "visibility": null,
            "align_self": null,
            "height": null,
            "min_height": null,
            "padding": null,
            "grid_auto_rows": null,
            "grid_gap": null,
            "max_width": null,
            "order": null,
            "_view_module_version": "1.2.0",
            "grid_template_areas": null,
            "object_position": null,
            "object_fit": null,
            "grid_auto_columns": null,
            "margin": null,
            "display": null,
            "left": null
          }
        },
        "3a3c086c1bc848e7a60ecf27544094ed": {
          "model_module": "@jupyter-widgets/base",
          "model_name": "LayoutModel",
          "state": {
            "_view_name": "LayoutView",
            "grid_template_rows": null,
            "right": null,
            "justify_content": null,
            "_view_module": "@jupyter-widgets/base",
            "overflow": null,
            "_model_module_version": "1.2.0",
            "_view_count": null,
            "flex_flow": null,
            "width": null,
            "min_width": null,
            "border": null,
            "align_items": null,
            "bottom": null,
            "_model_module": "@jupyter-widgets/base",
            "top": null,
            "grid_column": null,
            "overflow_y": null,
            "overflow_x": null,
            "grid_auto_flow": null,
            "grid_area": null,
            "grid_template_columns": null,
            "flex": null,
            "_model_name": "LayoutModel",
            "justify_items": null,
            "grid_row": null,
            "max_height": null,
            "align_content": null,
            "visibility": null,
            "align_self": null,
            "height": null,
            "min_height": null,
            "padding": null,
            "grid_auto_rows": null,
            "grid_gap": null,
            "max_width": null,
            "order": null,
            "_view_module_version": "1.2.0",
            "grid_template_areas": null,
            "object_position": null,
            "object_fit": null,
            "grid_auto_columns": null,
            "margin": null,
            "display": null,
            "left": null
          }
        },
        "963c6915efcc4e839ae63be7473ee124": {
          "model_module": "@jupyter-widgets/controls",
          "model_name": "VBoxModel",
          "state": {
            "_view_name": "VBoxView",
            "_dom_classes": [
              "widget-interact"
            ],
            "_model_name": "VBoxModel",
            "_view_module": "@jupyter-widgets/controls",
            "_model_module_version": "1.5.0",
            "_view_count": null,
            "_view_module_version": "1.5.0",
            "box_style": "",
            "layout": "IPY_MODEL_e27e5ceab6834db480869389e0ce433a",
            "_model_module": "@jupyter-widgets/controls",
            "children": [
              "IPY_MODEL_d8371295b1ab4922b79ee339ec153150",
              "IPY_MODEL_431a2bbfdd494bccbdc043c9555e3f3d"
            ]
          }
        },
        "e27e5ceab6834db480869389e0ce433a": {
          "model_module": "@jupyter-widgets/base",
          "model_name": "LayoutModel",
          "state": {
            "_view_name": "LayoutView",
            "grid_template_rows": null,
            "right": null,
            "justify_content": null,
            "_view_module": "@jupyter-widgets/base",
            "overflow": null,
            "_model_module_version": "1.2.0",
            "_view_count": null,
            "flex_flow": null,
            "width": null,
            "min_width": null,
            "border": null,
            "align_items": null,
            "bottom": null,
            "_model_module": "@jupyter-widgets/base",
            "top": null,
            "grid_column": null,
            "overflow_y": null,
            "overflow_x": null,
            "grid_auto_flow": null,
            "grid_area": null,
            "grid_template_columns": null,
            "flex": null,
            "_model_name": "LayoutModel",
            "justify_items": null,
            "grid_row": null,
            "max_height": null,
            "align_content": null,
            "visibility": null,
            "align_self": null,
            "height": null,
            "min_height": null,
            "padding": null,
            "grid_auto_rows": null,
            "grid_gap": null,
            "max_width": null,
            "order": null,
            "_view_module_version": "1.2.0",
            "grid_template_areas": null,
            "object_position": null,
            "object_fit": null,
            "grid_auto_columns": null,
            "margin": null,
            "display": null,
            "left": null
          }
        },
        "d8371295b1ab4922b79ee339ec153150": {
          "model_module": "@jupyter-widgets/controls",
          "model_name": "IntSliderModel",
          "state": {
            "_view_name": "IntSliderView",
            "style": "IPY_MODEL_6f0e2cb5e9994232b7a921d5b6969c33",
            "_dom_classes": [],
            "description": "layer",
            "step": 1,
            "_model_name": "IntSliderModel",
            "orientation": "horizontal",
            "max": 63,
            "_view_module": "@jupyter-widgets/controls",
            "_model_module_version": "1.5.0",
            "value": 35,
            "_view_count": null,
            "disabled": false,
            "_view_module_version": "1.5.0",
            "min": 0,
            "continuous_update": true,
            "readout_format": "d",
            "description_tooltip": null,
            "readout": true,
            "_model_module": "@jupyter-widgets/controls",
            "layout": "IPY_MODEL_c2e97577f4bc4cb5975fd59759223f05"
          }
        },
        "431a2bbfdd494bccbdc043c9555e3f3d": {
          "model_module": "@jupyter-widgets/output",
          "model_name": "OutputModel",
          "state": {
            "_view_name": "OutputView",
            "msg_id": "",
            "_dom_classes": [],
            "_model_name": "OutputModel",
            "outputs": [
              {
                "output_type": "display_data",
                "metadata": {
                  "tags": [],
                  "needs_background": "light"
                },
                "image/png": "iVBORw0KGgoAAAANSUhEUgAAAWwAAAEzCAYAAAAVRzmbAAAABHNCSVQICAgIfAhkiAAAAAlwSFlzAAALEgAACxIB0t1+/AAAADh0RVh0U29mdHdhcmUAbWF0cGxvdGxpYiB2ZXJzaW9uMy4yLjIsIGh0dHA6Ly9tYXRwbG90bGliLm9yZy+WH4yJAAAYvElEQVR4nO3de7hcVXnH8d8LBGlBwr1ykwMFtFUfo0IF1IdYlaBFpa2IWFsiLRf7UG2LVryAh/I8osYKgkLRFo5arZdoQrEUpaQRQQMilyKCXA/lIkIgBCUhF7L6x1qb7LPPmpk9k5kz8858P8+TZ3L2XrNnzZ6131nzrrX3thCCAACDb7N+VwAAUA8BGwCcIGADgBMEbABwgoANAE4QsAHACbcB28wmzWyy3/VAf5nZtmZ2bmoP680smNmcftcL3ZU73s1sfvq85/fwdYOZLe3V9ttVK2CnSrf6N7fHdXWt1Lgm+l2XIfMpSX8j6RZJZ0k6Q9LDuYJmtrRmWw58VqPBW8dvizbLn9Fk3eQm1APo1BGS7gghvLlG2QlJSyvLjpT0UkmXSLqpsq76NwbLIknLJP2yh6/xe5JW9XD7bWkrYIcQxntUD6BTu0m6qk7BEMJEdZmZjSkG7MW59RhcIYSVklb2+DVu7+X229X1HLaZ7W1mT5jZ42a2V2Xd1mZ2m5k9U06hmNlE+gm6j5n9vZndbmZPm9kDZna2mW3bxus/x8xONbNbzGyVmT1pZj80s7dnyo4VP33NbH8z+4aZPWJmGyr1m2dml5nZcjNbY2Z3m9kCM9uus73U8j3MNrMPmNmStA/WmtmjZvYfZnZwpez26X3ebWbWYHuXpvd5QGX5K81soZk9nF7jfjO70Mx2y2yjSCdsaWanm9kv0r6YSOu3NLP3mtkNZrYi1WnSzC4xs9e38d53NbPPp+cW7/s7ZvaKXH0kmaRDS2mMpXVfq0U9ijY5llk3N60bz9XJzGalfXR3ase/MLPjS+VOSu1zdfp8zzCz7LFoZm83s6vMbGUqf4uZfcjMnpMpO5n+bWtmn0n/X1etZ+Z55ePghWa2OB2/T5nZ1WZ2WOY5z+aPzezw9N5Xps+kKLOFmf21mS1Lx+EqM7vRzE7OvV+LTjazW9N+e9DMPmdmsxvUu2EO28z2sDi2cWfab4+b2XVmdlpaPzfVdS9Je1mDVFijNmXxGD0rfbZPpzb/vVxbL7cXM5tjZv9pMUauMrMfmNkhDT6a6UIILf9JCrFo67Kp/NvSc66RtEVp+ZfS8o9Vyk+k5ZdIWiHpQkmfVPxJGiRdL2mrynMmJU1Wlm2p+JM3SLpN0gJJn5f0q7Ts45XyY2n5D9PrXivpbEn/LOnlqczHUpnHUv0XSPpeWnarpG1r7pP56TkTNcoeJGmtpP9O++ITkr4m6TeS1kk6vFL+orTtN2S2taek9ZKuryw/Li1/StK/K+aCF0l6RtJDkp5fKV/s10sVc8QXp8/olLT+a2n9LZI+m+r8ZUn3SPp0zX20t6QH03auVMxJ/5ukNenfEZX9OZ7KTqb/j0uaX7edVtre/AbLxzLPmZvWjTfYR9+W9ICkL1Ta33xJnym1pXPS/gmSPph5nY+ndY9KuiC1vZ+lZUslbZk5Jh5SPF7uSa//aUnHttgHY2mbP1A8Dq5K+35C0urUJo5u0J6/m9rRpak9fD2tnyXp8lTmdsVj6hxJN6dlX8nU47Np3UOSzpX0T5LukvSTtKx6vBd1qH52B6R9XLynT0o6L7WpZ0rveVzSE+nfeOnfkZXYt7Sy/e0Uj/0g6TrFtv4vkp6UtEHSiQ3ay3cV0ytXps/lm2nfrpb0glrttWajDunfeIN/p2aec356zlnp72PT30skbdbg4Fguaa/S8s0UG3+QdFqmcVY/wA+lspdp6hfFLql8kHRIpqFOC+Zp/WvTuh9J2q5BYzm75j4sytcJ2LMl7ZRZvodiw70t00CDpIWZ54yndceXlu2v+IVwl6TdK+VflxrRogbB6H+rdUv13aAYKDbP1GHHmvuo+CL8SGX5IYpB4TFJ22Ta5tI622/wmkXbqx70xfKxzHPmqnnA/km5vUjaJ+3vFZLuLe9zxYN/uWJQLrfZg9O2/k/S80rLt1AMjkHShzPHRFD8ot+6jX1QPg4WZNrWulT3bUvLi/a8QZUORKXdnVduE5I2l/Svad1bK59xSG1yh9LyrST9OK2rHu9FHeaXlm2Z9nGQ9M7cMZTZZ5O5/dKofSl2okJ6tNLy/RRTNGvK7abUXnLt7MS0/Pxan1XNDzS0+PdE5jlbKfaQN0g6WbF3+IikXZscNKdl1u2jGEDubbWjJd2ZXu+Fme38ZXqNizIN9WFJz8k8Z1Fa/6IG++VGSY/U3IdF45qoeyA12M65aTvVHvBPFA+s8sG9uaT7Fb/5tyktPztt448avMYixQD53NKypaocZKV122rjLyrr8H3tkbZxn6RZmfVfSev/otUB1ebrFm2veiAVy8cyzykOwPHK8mIfvS7znCVp3XGZdRendXuVln0xLTshU37/dEzckzkmgqSXtrkPiuPgifJnntkXx2ba86JM+c0Uv1x/qdKXUGn9dorH6Tcz7/fdTfZ39Xgv6jC/tOxP07JLar73yep2m7UvxS+EpyT9WqUvltL6M9NzTs/U/+pM+VmKx+31derb7qBjNkfaoOzTZna0Yq/rvFTht4UQmo3o/iCznXvM7H5JY2a2XQjhidwTzey5kvaV9GDIDxQsSY8vy6y7OYSwJrP8YMWdeZSZHZVZv6Wknc1sxxDCY7l6dcrMXiXpfakOu6TXKttdsfdVOF8xNXKc4k9pSXqTYiC8IITwm1LZIg9+qJkdmHn5XRSD/f6SflpZd121cAjhSTO7VNKbJd1kZt9WTDNdG0KoO8JefC4/DCGsy6xfIuldqdyXa26zX67PLHsoPVb3pxTTQFL8rO5L/395elxSLRxCuMPMHpC0t5nNDnHwrfC04q+gTtwQQvh1ZvlSxV/IL1NM5ZRNaw+K7WYHxQ7URy0/tLJacQZGoXi/02KApKsVv6DqOCg9/lfN8u16gaTflnRNCOHxzPolkj6qfJyZ1i5CCOvM7FeStq/z4u1O62vXHYqN5xBJP5f0/Rblf9Vg+cOKgwOzFXsBOcXARKMvhGJ5bqAwO29X0o6K++hjDdYXtlHsUXSFmf2xpIWKB98Vku5W/FbfoPhtfaik6qDT1xVzfseb2SdCCBsknZDWXVgpu2N6/ECLqmyTWdZoXx0t6YOS3qmN0z+fNrOFkt4fQmj02RY25fMbKJUAWlifHputm1VaVmd/PF9xf5S3+UhIXbcONDv+ynXKrSsr2td+an7slNtXse1pdQghrDez5U22U1a0jweblurcprTTRrFrvWIHqaVen+l4qmKwXi7pRYo55mZ+p8Hy56XHZlN4inXPa7B+1ybbaNTAV0paEUKwFv/ua/D8Tp2pmPM8IIRwZAjhlBDC6SFOq/xF7gkhhNWKP13HJB1mZntKeqNiL/fmzPuSpNkt3lfuF092X4UQVocQxkMI+ysGkncp9ozepfjl08qmfH69sCE95jo1M/Gl0en+6DRYS50df7nXK8otatG+9s48Z1odzGwLSTvVeQPaGBR3r1m+XX1tpz0L2Gmqyj8qBpgXp8czzOzVTZ52aGY7+yjOdJhslA6RpPRT7m5Ju5vZfpkir02PN9R7B5LipPztzexFbTynG/aV9PMQwm3lhWkqVLP9d4HiAXSiYs5+c03vXUvxfUnSaza9qtOFEO4PIXxV0jzFQaRXm9mOLZ52Y3p8dTpAqzr5/DbFivS4Z2bdAZll3Vbsj7nVFWa2r2L65N5mx0QHXp5Si1VFHW7MrMu5XTFwHmRms1oVTorPdVoMUGzztXqg2ti231iz/DNtbFuKcWyVpJdaflpvT9tpTwK2mW2vOFXsGUnvSD+Hj1bs+n/NzHZo8NT3WWnudgpQC1I9L67x0hcpzstdYGbPfghmtpOk00pl6jo7PX7R8nOTtzazg6rLu2BS0n7l17SYCByX9PuNnhRCuFNxytARkk5SPGi+nin6OcXc/Nlmtn91pcU51bWDuZntbGYvyazaWvFn73rFXwwNhRAeUEz/jEn628r2X6mYalmhOCA6E4rc7PHlhel9vm8GXr9opx81s51Lr7+54pSwzRRnW3TTbEmnlxdYnLv/Z4o9xlr7PoSwXnHcaldJ55rZb1XLWJxvX27LE+nxI+X4YGZbKU4xrOtSxePnLWZ2TOZ196gsekxxHGpaHXNCCGslfVXScxV/CZe3/buS3qt4bH2ljTrX1lYO25pPwF8cQihO5b1I8Wfxe4tlIYSbzewUxWAxIektmW1cozho9Q3FBjJP8Sy0nyrOE27l04rfrG+VdLOZXaY4QHCU4kDap0IIV9fYjlKdrzSzUxUbzJ1pe/cqBqG9FHsDV0s6vO42FXuQEw3W3RBCOFcb54LfmAbw1kl6lWKwLgb3Gjlf0usVf1qel1Il1fd1u5kdp/g53WpmlyuON8xS/NxeozjN7IU139Puqa63KI5Z3K84c+QIxZ+O5zYYzKo6SbENLLB4ssb1ij3coxRTFO+uuZ1uuERx0OyYdJBfq7hv3prWTTsRq5tCCD8ys09J+gdJP0tjAU8ptu8XK7a7BV1+2ask/VX6grxGMeAerfjlcGII4ck2tnWm4rF7kqQ3m9kSxbzyLoq57VdJ+oji2JZCCNeY2XmK14Up3u86xf29QjVPPw8hrE0TBL6v2Dk8UbHXvZXiIOfrNDXuXSnpQEmXm9lVilPybg4hXNrkZU5VPEZOToP2/6OYsnm7YiA/OYRwb536tq3m1JdW0/qenVqjuMMbTquR9J20/u9KyybSsn0knaL4k+ppxQ/4HGVOTlGD6TiKH8yHFU8wWK04/eZqScdkyo6pxlQ7xZ9k31Qc6V+rGMxuUjwJ4oCa+3B+jX24uFL+JsWDdLli7+Yl2ji/dW6D19k81a/hdMRS2ZekfX+fYkN9PO23CyX9YaXsUqUUdmY72yn2zIqDco3iAbZU0jFqY6qfYvC/INVpbXrviyUd2KRtLq27/czzi7Y3P7NuT0nfSPtlteLUyT9Ri2l9LV5nLLOu4Wcq6R2p/f5a8Zi4VTHQbZUpO6kmU9Sa7INnjwPFoFacwLZKMXDPa9Kep+23UhmT9OeKQfHx9Hk+mN7PhyXtmSl/suJJb2sUj7fPK/b8p723ZnVQ/HI9X7GDtVaxJ32tps9d3zq1twcUfwlOiQeN2ldq859U/FJfo/hr9gpJh2XKZttLJ5+bpSf0VepxHitp7xDCZH9r41vK+d+lOO2oJzlqDBeLp9/fK+lLIYT5fa0MmnJ7PWw09H7Fnsrn+l0RAN3V63nYmAFm9nzFQbn9JL1b8XoN3+prpQB0HQF7OOyjODC6SjGP9p4QT5wBMEQGIocNAGiNHDYAOOE2JfKGzY7qy0+DlZftu8nbWLd45yl//3T8gk3e5qg76Ka3Tfl72ZypZ8PP24378mKjKzZ8q/aF7AYJPWwAcIKADQBOELABwAm3Oexh8orx90z5m5x2c9V8tTQ9Z10tM1t39bROwEyghw0AThCwAcAJAjYAOEEOewBVc9o55LmB0UMPGwCcIGADgBMEbABwgoANAE64vbyql4s/VS/01CvDPAiZO1Gmldlv4kQZNMbFnwAAPUXABgAnCNgA4AQnzjRRJ19dzZUuP+HgKX/XyS3XOVFmlLTKWZOfxqiihw0AThCwAcAJAjYAOEEOu4lOcqU7feHHUxeMt35ONc9NTnsqctZARA8bAJwgYAOAEwRsAHCCHHZJdd51J7nT6jxs6aZNqNFoarXfc/PjyXNjFNDDBgAnCNgA4AQBGwCcIGADgBMjPejYySDj9x6aOog4b7c5U/7uxo0EhulEmk7qvpN+3LoQMILoYQOAEwRsAHCCgA0AToxUDnvaSS2LqyWm5rCr+eqcOmVmQjVXPKg35Z115KOtC32h+eplcxZOWzZPczIlgeFCDxsAnCBgA4ATBGwAcGJoc9jTL8LUWi/y0bl5yO3ml3PlvczNrpOzbvfCTbmb9M4WF3/C8KOHDQBOELABwAkCNgA44TaH3Trf3Dof3a88sJc501Wd5OOr+enczQeqqmWq867n7dZyE8BQoocNAE4QsAHACQI2ADhBwAYAJ9wOOnbDoAz2eRmE7KRe02/40H6Zgy6beqJMnZNkOrk5BTDo6GEDgBMEbABwgoANAE5YCKHfdejIhof381lxtT5hZ1Bz2P2Su9hTVasTdMhho+yKDd+yftehE/SwAcAJAjYAOEHABgAnyGGjp+btNvXmuLmLdlXLAL1GDhsA0FMEbABwgoANAE6M9LVERknfbtp7wtQ/69x8oM5NDqqYZ41RQA8bAJwgYAOAEwRsAHCCgA0ATjDoiIaqF6Hq5K7p1ed0MqBYRze2y8AlBh09bABwgoANAE4QsAHACS7+tIm6cULKoNywYCZuBpzbX7OOfHTK3+sW79x0fa/0Iofdq5x9Gbn39nHxJwBATxGwAcAJAjYAODHS87C7kbOtM1cZG+X2cTc+hzo36h1WdfLk5LmHAz1sAHCCgA0AThCwAcCJkc5h98Iw5bTr1L0bc7W7sY1lcxZO+buTnDbXI8Ggo4cNAE4QsAHACQI2ADhBwAYAJ0Z60HFQLro0KNq9GcEg68YgZCdm4mJPGF30sAHACQI2ADhBwAYAJ7iBQROd5Gy7ceIMufX+GKULSHVygk+r/Hxum4N6MhI3MAAA9BQBGwCcIGADgBNDOw+7V7lj8ssYBtXccjfyxL2ag96LunpFDxsAnCBgA4ATBGwAcGJoc9h1tMpH9+ri/J6uyYHR4OkaKKOc06aHDQBOELABwAkCNgA4QcAGACdGetCxE9UBw04GJjn5prlWg7LsP5SN0iAkPWwAcIKADQBOELABwImhzWHP1Akr3KAAGCy5k4CGJa9NDxsAnCBgA4ATBGwAcIKb8Jb066JMneS0h3mucjfmunfDKN2Ud9hVc9jchBcA0FMEbABwgoANAE4M7TxsT4Y5H92JQXm/y+YsnPI3OW30Gz1sAHCCgA0AThCwAcAJAjYAODHSJ85w9/LmBmXwb1Aw6Dg8rjv8LE6cAQD0DgEbAJwgYAOAEyN94kw1RzvqOW1y1lORs8agoYcNAE4QsAHACQI2ADgx0jnsqkHNadfJLXMzYGD40cMGACcI2ADgBAEbAJwgh91ELsc7E3ntmcotc+OEqZh3jUFHDxsAnCBgA4ATBGwAcIKADQBOjPQNDGZCv05o8XTSz6Bg0HF0cAMDAEBPEbABwAkCNgA4QQ67ywb1IkyDktOuYyb2B/nq0UYOGwDQUwRsAHCCgA0ATozUxZ+qedxe5Eo9zTseVFyUCsijhw0AThCwAcAJAjYAODFSOexWuc9BnUM96urcHJnPAaOAHjYAOEHABgAnCNgA4AQBGwCcGKlBx6puXBBpUC6qxKBbc1zsCcOAHjYAOEHABgAnCNgA4AQ3MCgZlHx0J3qRw66zP+qc1NKubrwXctZohhsYAAB6ioANAE4QsAHACbfzsFvlKNct3nnasla50V7kYz3rRi55puaHk7PGKKCHDQBOELABwAkCNgA44XYe9h9c/qG2K17Na3cjv9qvPPcwXzuEfDR6jXnYAICeImADgBMEbABwgoANAE6M1KBjK8vmLOz2JrOqA5XDPIBYB4OMmGkMOgIAeoqADQBOELABwAm3F3/qhTq51G7kufuRsyZPDPhHDxsAnCBgA4ATBGwAcIIcdpv6kQvO5c3JSQOjhx42ADhBwAYAJwjYAOAEOWwHyFcDkOhhA4AbBGwAcIKADQBOELABwAkCNgA4QcAGACcI2ADgBAEbAJwgYAOAEwRsAHCCgA0AThCwAcAJAjYAOEHABgAnCNgA4AQBGwCcIGADgBMEbABwgoANAE4QsAHACQI2ADhBwAYAJwjYAOAEARsAnCBgA4ATBGwAcIKADQBOELABwAkCNgA4QcAGACcI2ADgBAEbAJwgYAOAE1v0uwKdmv2mu6b8vfKyfftUEwCYGfSwAcAJAjYAOEHABgAnCNgA4ITbQceqURuErL7fqmF//8AooocNAE4QsAHACQI2ADgxNDnsQdUq1wwAddHDBgAnCNgA4AQBGwCcGNocdie5427MXZ6pnDXzrIHRQw8bAJwgYAOAEwRsAHBiaHPYnWDONDCcph3bG/pTj01FDxsAnCBgA4ATBGwAcIKADQBOMOjo1KjdsAEAPWwAcIOADQBOELABwAly2EOqzklA5L0xjIb5BDh62ADgBAEbAJwgYAOAE+Swh0QneTvmcmMYDHPOuooeNgA4QcAGACcI2ADgBAEbAJwgYAOAEwRsAHCCgA0AThCwAcAJAjYAOEHABgAnCNgA4AQBGwCcIGADgBMEbABwgoANAE4QsAHACW5ggGe1uhA8NzgA+oseNgA4QcAGACcI2ADgBDlsuJPLtZNfxyighw0AThCwAcAJAjYAOEHABgAnGHTEwGt1Qk/dMmV1Binb3WanrzMIPA3kduNz8YoeNgA4QcAGACcI2ADghIUQ+l0HAEAN9LABwAkCNgA4QcAGACcI2ADgBAEbAJwgYAOAE/8PLz2tqvVK9/UAAAAASUVORK5CYII=\n",
                "text/plain": "<Figure size 720x360 with 1 Axes>"
              },
              {
                "output_type": "display_data",
                "metadata": {
                  "tags": []
                },
                "text/plain": "35"
              }
            ],
            "_view_module": "@jupyter-widgets/output",
            "_model_module_version": "1.0.0",
            "_view_count": null,
            "_view_module_version": "1.0.0",
            "layout": "IPY_MODEL_3fb516d088094da090f0228606a1d2f9",
            "_model_module": "@jupyter-widgets/output"
          }
        },
        "6f0e2cb5e9994232b7a921d5b6969c33": {
          "model_module": "@jupyter-widgets/controls",
          "model_name": "SliderStyleModel",
          "state": {
            "_view_name": "StyleView",
            "handle_color": null,
            "_model_name": "SliderStyleModel",
            "description_width": "",
            "_view_module": "@jupyter-widgets/base",
            "_model_module_version": "1.5.0",
            "_view_count": null,
            "_view_module_version": "1.2.0",
            "_model_module": "@jupyter-widgets/controls"
          }
        },
        "c2e97577f4bc4cb5975fd59759223f05": {
          "model_module": "@jupyter-widgets/base",
          "model_name": "LayoutModel",
          "state": {
            "_view_name": "LayoutView",
            "grid_template_rows": null,
            "right": null,
            "justify_content": null,
            "_view_module": "@jupyter-widgets/base",
            "overflow": null,
            "_model_module_version": "1.2.0",
            "_view_count": null,
            "flex_flow": null,
            "width": null,
            "min_width": null,
            "border": null,
            "align_items": null,
            "bottom": null,
            "_model_module": "@jupyter-widgets/base",
            "top": null,
            "grid_column": null,
            "overflow_y": null,
            "overflow_x": null,
            "grid_auto_flow": null,
            "grid_area": null,
            "grid_template_columns": null,
            "flex": null,
            "_model_name": "LayoutModel",
            "justify_items": null,
            "grid_row": null,
            "max_height": null,
            "align_content": null,
            "visibility": null,
            "align_self": null,
            "height": null,
            "min_height": null,
            "padding": null,
            "grid_auto_rows": null,
            "grid_gap": null,
            "max_width": null,
            "order": null,
            "_view_module_version": "1.2.0",
            "grid_template_areas": null,
            "object_position": null,
            "object_fit": null,
            "grid_auto_columns": null,
            "margin": null,
            "display": null,
            "left": null
          }
        },
        "3fb516d088094da090f0228606a1d2f9": {
          "model_module": "@jupyter-widgets/base",
          "model_name": "LayoutModel",
          "state": {
            "_view_name": "LayoutView",
            "grid_template_rows": null,
            "right": null,
            "justify_content": null,
            "_view_module": "@jupyter-widgets/base",
            "overflow": null,
            "_model_module_version": "1.2.0",
            "_view_count": null,
            "flex_flow": null,
            "width": null,
            "min_width": null,
            "border": null,
            "align_items": null,
            "bottom": null,
            "_model_module": "@jupyter-widgets/base",
            "top": null,
            "grid_column": null,
            "overflow_y": null,
            "overflow_x": null,
            "grid_auto_flow": null,
            "grid_area": null,
            "grid_template_columns": null,
            "flex": null,
            "_model_name": "LayoutModel",
            "justify_items": null,
            "grid_row": null,
            "max_height": null,
            "align_content": null,
            "visibility": null,
            "align_self": null,
            "height": null,
            "min_height": null,
            "padding": null,
            "grid_auto_rows": null,
            "grid_gap": null,
            "max_width": null,
            "order": null,
            "_view_module_version": "1.2.0",
            "grid_template_areas": null,
            "object_position": null,
            "object_fit": null,
            "grid_auto_columns": null,
            "margin": null,
            "display": null,
            "left": null
          }
        }
      }
    }
  },
  "cells": [
    {
      "cell_type": "markdown",
      "metadata": {
        "id": "view-in-github",
        "colab_type": "text"
      },
      "source": [
        "<a href=\"https://colab.research.google.com/github/alirezash97/BraTS/blob/master/Survival.ipynb\" target=\"_parent\"><img src=\"https://colab.research.google.com/assets/colab-badge.svg\" alt=\"Open In Colab\"/></a>"
      ]
    },
    {
      "cell_type": "code",
      "metadata": {
        "id": "9Pih2fajhmV6",
        "colab_type": "code",
        "colab": {
          "base_uri": "https://localhost:8080/",
          "height": 121
        },
        "outputId": "c710a34a-f9ab-4c6f-e67a-224f4db32c92"
      },
      "source": [
        "from google.colab import drive\n",
        "drive.mount('/content/drive')"
      ],
      "execution_count": 1,
      "outputs": [
        {
          "output_type": "stream",
          "text": [
            "Go to this URL in a browser: https://accounts.google.com/o/oauth2/auth?client_id=947318989803-6bn6qk8qdgf4n4g3pfee6491hc0brc4i.apps.googleusercontent.com&redirect_uri=urn%3aietf%3awg%3aoauth%3a2.0%3aoob&scope=email%20https%3a%2f%2fwww.googleapis.com%2fauth%2fdocs.test%20https%3a%2f%2fwww.googleapis.com%2fauth%2fdrive%20https%3a%2f%2fwww.googleapis.com%2fauth%2fdrive.photos.readonly%20https%3a%2f%2fwww.googleapis.com%2fauth%2fpeopleapi.readonly&response_type=code\n",
            "\n",
            "Enter your authorization code:\n",
            "··········\n",
            "Mounted at /content/drive\n"
          ],
          "name": "stdout"
        }
      ]
    },
    {
      "cell_type": "code",
      "metadata": {
        "id": "e-rsO906hRlB",
        "colab_type": "code",
        "colab": {}
      },
      "source": [
        "import tensorflow as tf\n",
        "import os\n",
        "import numpy as np\n",
        "from nibabel.testing import data_path\n",
        "import nibabel as nib\n",
        "import matplotlib.pyplot as plt\n",
        "from keras.utils import to_categorical\n",
        "import cv2\n",
        "import keras \n",
        "import random"
      ],
      "execution_count": 87,
      "outputs": []
    },
    {
      "cell_type": "code",
      "metadata": {
        "id": "uSSlCYlqhyOT",
        "colab_type": "code",
        "colab": {}
      },
      "source": [
        "import glob, os\n",
        "images_path = glob.glob('/content/drive/My Drive/BRATS2020/MICCAI_BraTS2020_TrainingData/**/*.nii.gz', recursive=True)"
      ],
      "execution_count": 19,
      "outputs": []
    },
    {
      "cell_type": "code",
      "metadata": {
        "id": "zw7XGW-mh08q",
        "colab_type": "code",
        "colab": {}
      },
      "source": [
        "\n",
        "X_trainset_filenames = []\n",
        "\n",
        "for item in images_path:\n",
        "  if 'seg' in item:\n",
        "    X_trainset_filenames.append(os.path.join(data_path, item))\n",
        "  else:\n",
        "    pass"
      ],
      "execution_count": 88,
      "outputs": []
    },
    {
      "cell_type": "code",
      "metadata": {
        "id": "KaM3SMoLh4F2",
        "colab_type": "code",
        "colab": {
          "base_uri": "https://localhost:8080/",
          "height": 34
        },
        "outputId": "41720869-5eb2-47b4-c7f2-675de1228fbf"
      },
      "source": [
        "print(len(X_trainset_filenames))"
      ],
      "execution_count": 89,
      "outputs": [
        {
          "output_type": "stream",
          "text": [
            "369\n"
          ],
          "name": "stdout"
        }
      ]
    },
    {
      "cell_type": "code",
      "metadata": {
        "id": "O4zHhjCIh6gU",
        "colab_type": "code",
        "colab": {}
      },
      "source": [
        "def shuffle(input_path):\n",
        "\n",
        "  a_list = list(range(0, len(input_path)))\n",
        "  random.shuffle(a_list)\n",
        "\n",
        "\n",
        "  new_input_path = []\n",
        "  for i in a_list:\n",
        "    \n",
        "    new_input_path.append(input_path[i])\n",
        "\n",
        "  return new_input_path"
      ],
      "execution_count": 91,
      "outputs": []
    },
    {
      "cell_type": "code",
      "metadata": {
        "id": "X3Gvw___h-GP",
        "colab_type": "code",
        "colab": {}
      },
      "source": [
        " X_trainset_filenames = shuffle( X_trainset_filenames)"
      ],
      "execution_count": 101,
      "outputs": []
    },
    {
      "cell_type": "code",
      "metadata": {
        "id": "1SRmPrrqiFtY",
        "colab_type": "code",
        "colab": {}
      },
      "source": [
        "\n",
        "def load_case(label_nifty_file):\n",
        "    \n",
        "    # load the label file, get the image content and return a numpy array for each\n",
        "\n",
        "    label = np.array(nib.load(label_nifty_file).get_fdata())\n",
        "\n",
        "    for i in range(240):\n",
        "          for j in range(240):\n",
        "            for k in range(155):\n",
        "              if label[i, j, k] == 4.0 :\n",
        "                label[i, j, k] = 3.0\n",
        "              else:\n",
        "                pass\n",
        "    \n",
        "    \n",
        "    return label"
      ],
      "execution_count": 100,
      "outputs": []
    },
    {
      "cell_type": "code",
      "metadata": {
        "id": "BbAdGL9-lJsw",
        "colab_type": "code",
        "colab": {
          "base_uri": "https://localhost:8080/",
          "height": 373,
          "referenced_widgets": [
            "28f80056891e49919685738cfe641d8a",
            "5ce0b14f24c84d7190848ad705bc7ac5",
            "b2fccfcef3e14d4db392c5035c2671a3",
            "5b6f5943427b468ab484b84932a847e5",
            "68af2ae41f43432a98d354b789744e57",
            "ca42c14c8b1945f3ae44d687571083d7",
            "3a3c086c1bc848e7a60ecf27544094ed"
          ]
        },
        "outputId": "cab2d57f-7c02-43d4-8b4b-2a10f475a2fe"
      },
      "source": [
        "\n",
        "\n",
        "from ipywidgets import interact\n",
        "\n",
        "M = load_case(X_trainset_filenames[0])\n",
        "\n",
        "def explore_3dimage(layer):\n",
        "    plt.figure(figsize=(10, 5))\n",
        "    channel = 3\n",
        "    plt.imshow(M[:, :, layer]);\n",
        "    plt.title('Explore Layers of Tumor prediction', fontsize=20)\n",
        "    plt.axis('off')\n",
        "    return layer\n",
        "\n",
        "# Run the ipywidgets interact() function to explore the data\n",
        "interact(explore_3dimage, layer=(0, 155 - 1));"
      ],
      "execution_count": 102,
      "outputs": [
        {
          "output_type": "display_data",
          "data": {
            "application/vnd.jupyter.widget-view+json": {
              "model_id": "28f80056891e49919685738cfe641d8a",
              "version_minor": 0,
              "version_major": 2
            },
            "text/plain": [
              "interactive(children=(IntSlider(value=77, description='layer', max=154), Output()), _dom_classes=('widget-inte…"
            ]
          },
          "metadata": {
            "tags": []
          }
        }
      ]
    },
    {
      "cell_type": "code",
      "metadata": {
        "id": "G0EEyNq1ngDZ",
        "colab_type": "code",
        "colab": {}
      },
      "source": [
        "\n",
        "## get the most important part for survival task (the tumor)\n",
        "\n",
        "\n",
        "def get_max(image, out_x, out_y, out_z, stride, number_of_images_to_extract):\n",
        "  \n",
        "  x = image.shape[0]\n",
        "  y = image.shape[1]\n",
        "  z = image.shape[2]\n",
        "\n",
        "\n",
        "  total_number_of_cubes = ( int((z - out_z)/stride) * int((x - out_x)/stride) * int((y - out_y)/stride) )\n",
        "  details = np.zeros((total_number_of_cubes, 4))\n",
        "\n",
        "  counter = 0\n",
        "  for i in range( int((z - out_z)/stride) ):\n",
        "    for j in range( int((x - out_x)/stride) ):\n",
        "      for k in range( int((y - out_y)/stride) ):\n",
        "\n",
        "        \n",
        "        temp = np.sum(image[ (j*stride):((j*stride)+out_x), (k*stride):((k*stride)+out_y), (i*stride):((i*stride)+out_z) ])\n",
        "        details[counter] = (j*stride), (k*stride), (i*stride), temp\n",
        "        counter += 1\n",
        "\n",
        "  \n",
        "\n",
        "  \n",
        "  final_extracted_images = []\n",
        "  for l in range(number_of_images_to_extract):\n",
        "    \n",
        "    max_ind = np.unravel_index(np.argmax(details, axis=None), details.shape) \n",
        "  \n",
        "    x_start = int(details[max_ind[0], 0])\n",
        "    y_start = int(details[max_ind[0], 1])\n",
        "    z_start = int(details[max_ind[0], 2])\n",
        "\n",
        "    temp = image[ x_start:(x_start+out_x) , y_start:(y_start+out_y) , z_start:(z_start+out_z) ]\n",
        "    final_extracted_images.append(temp)\n",
        "    details[max_ind[0], 3] = 0\n",
        "\n",
        "\n",
        "\n",
        "  return np.array(final_extracted_images)\n",
        "\n",
        "\n"
      ],
      "execution_count": 112,
      "outputs": []
    },
    {
      "cell_type": "code",
      "metadata": {
        "id": "Ir_Rf-zqufxe",
        "colab_type": "code",
        "colab": {}
      },
      "source": [
        "image = get_max(M, 64, 64, 64, 8, 5)"
      ],
      "execution_count": 113,
      "outputs": []
    },
    {
      "cell_type": "code",
      "metadata": {
        "id": "HOKRk9fs8Slv",
        "colab_type": "code",
        "colab": {
          "base_uri": "https://localhost:8080/",
          "height": 34
        },
        "outputId": "abe9d2b6-ad56-4068-e13e-117c41d720ab"
      },
      "source": [
        "print(image.shape)"
      ],
      "execution_count": 117,
      "outputs": [
        {
          "output_type": "stream",
          "text": [
            "(5, 64, 64, 64)\n"
          ],
          "name": "stdout"
        }
      ]
    },
    {
      "cell_type": "code",
      "metadata": {
        "id": "R625Q3C_xGXR",
        "colab_type": "code",
        "colab": {
          "base_uri": "https://localhost:8080/",
          "height": 373,
          "referenced_widgets": [
            "963c6915efcc4e839ae63be7473ee124",
            "e27e5ceab6834db480869389e0ce433a",
            "d8371295b1ab4922b79ee339ec153150",
            "431a2bbfdd494bccbdc043c9555e3f3d",
            "6f0e2cb5e9994232b7a921d5b6969c33",
            "c2e97577f4bc4cb5975fd59759223f05",
            "3fb516d088094da090f0228606a1d2f9"
          ]
        },
        "outputId": "a68da931-1d41-494a-d606-f17d9fb52d7a"
      },
      "source": [
        "from ipywidgets import interact\n",
        "\n",
        "\n",
        "\n",
        "def explore_3dimage(layer):\n",
        "    plt.figure(figsize=(10, 5))\n",
        "    channel = 3\n",
        "    plt.imshow(image[2, :, :, layer]);\n",
        "    plt.title('Explore Layers of Tumor prediction', fontsize=20)\n",
        "    plt.axis('off')\n",
        "    return layer\n",
        "\n",
        "# Run the ipywidgets interact() function to explore the data\n",
        "interact(explore_3dimage, layer=(0, 64 - 1));"
      ],
      "execution_count": 116,
      "outputs": [
        {
          "output_type": "display_data",
          "data": {
            "application/vnd.jupyter.widget-view+json": {
              "model_id": "963c6915efcc4e839ae63be7473ee124",
              "version_minor": 0,
              "version_major": 2
            },
            "text/plain": [
              "interactive(children=(IntSlider(value=31, description='layer', max=63), Output()), _dom_classes=('widget-inter…"
            ]
          },
          "metadata": {
            "tags": []
          }
        }
      ]
    },
    {
      "cell_type": "code",
      "metadata": {
        "id": "NpXCI1lkzEgl",
        "colab_type": "code",
        "colab": {
          "base_uri": "https://localhost:8080/",
          "height": 402
        },
        "outputId": "8356bac0-9808-43db-f556-f45c0542bc68"
      },
      "source": [
        "import pandas as pd \n",
        "pd.read_csv(\"/content/drive/My Drive/BRATS2020/MICCAI_BraTS2020_TrainingData/survival_info.csv\")"
      ],
      "execution_count": 105,
      "outputs": [
        {
          "output_type": "execute_result",
          "data": {
            "text/html": [
              "<div>\n",
              "<style scoped>\n",
              "    .dataframe tbody tr th:only-of-type {\n",
              "        vertical-align: middle;\n",
              "    }\n",
              "\n",
              "    .dataframe tbody tr th {\n",
              "        vertical-align: top;\n",
              "    }\n",
              "\n",
              "    .dataframe thead th {\n",
              "        text-align: right;\n",
              "    }\n",
              "</style>\n",
              "<table border=\"1\" class=\"dataframe\">\n",
              "  <thead>\n",
              "    <tr style=\"text-align: right;\">\n",
              "      <th></th>\n",
              "      <th>Brats20ID</th>\n",
              "      <th>Age</th>\n",
              "      <th>Survival_days</th>\n",
              "      <th>Extent_of_Resection</th>\n",
              "    </tr>\n",
              "  </thead>\n",
              "  <tbody>\n",
              "    <tr>\n",
              "      <th>0</th>\n",
              "      <td>BraTS20_Training_001</td>\n",
              "      <td>60.463</td>\n",
              "      <td>289</td>\n",
              "      <td>GTR</td>\n",
              "    </tr>\n",
              "    <tr>\n",
              "      <th>1</th>\n",
              "      <td>BraTS20_Training_002</td>\n",
              "      <td>52.263</td>\n",
              "      <td>616</td>\n",
              "      <td>GTR</td>\n",
              "    </tr>\n",
              "    <tr>\n",
              "      <th>2</th>\n",
              "      <td>BraTS20_Training_003</td>\n",
              "      <td>54.301</td>\n",
              "      <td>464</td>\n",
              "      <td>GTR</td>\n",
              "    </tr>\n",
              "    <tr>\n",
              "      <th>3</th>\n",
              "      <td>BraTS20_Training_004</td>\n",
              "      <td>39.068</td>\n",
              "      <td>788</td>\n",
              "      <td>GTR</td>\n",
              "    </tr>\n",
              "    <tr>\n",
              "      <th>4</th>\n",
              "      <td>BraTS20_Training_005</td>\n",
              "      <td>68.493</td>\n",
              "      <td>465</td>\n",
              "      <td>GTR</td>\n",
              "    </tr>\n",
              "    <tr>\n",
              "      <th>...</th>\n",
              "      <td>...</td>\n",
              "      <td>...</td>\n",
              "      <td>...</td>\n",
              "      <td>...</td>\n",
              "    </tr>\n",
              "    <tr>\n",
              "      <th>231</th>\n",
              "      <td>BraTS20_Training_363</td>\n",
              "      <td>57.000</td>\n",
              "      <td>62</td>\n",
              "      <td>GTR</td>\n",
              "    </tr>\n",
              "    <tr>\n",
              "      <th>232</th>\n",
              "      <td>BraTS20_Training_366</td>\n",
              "      <td>72.000</td>\n",
              "      <td>633</td>\n",
              "      <td>GTR</td>\n",
              "    </tr>\n",
              "    <tr>\n",
              "      <th>233</th>\n",
              "      <td>BraTS20_Training_367</td>\n",
              "      <td>60.000</td>\n",
              "      <td>437</td>\n",
              "      <td>STR</td>\n",
              "    </tr>\n",
              "    <tr>\n",
              "      <th>234</th>\n",
              "      <td>BraTS20_Training_368</td>\n",
              "      <td>49.000</td>\n",
              "      <td>442</td>\n",
              "      <td>GTR</td>\n",
              "    </tr>\n",
              "    <tr>\n",
              "      <th>235</th>\n",
              "      <td>BraTS20_Training_369</td>\n",
              "      <td>50.000</td>\n",
              "      <td>145</td>\n",
              "      <td>GTR</td>\n",
              "    </tr>\n",
              "  </tbody>\n",
              "</table>\n",
              "<p>236 rows × 4 columns</p>\n",
              "</div>"
            ],
            "text/plain": [
              "                Brats20ID     Age Survival_days Extent_of_Resection\n",
              "0    BraTS20_Training_001  60.463           289                 GTR\n",
              "1    BraTS20_Training_002  52.263           616                 GTR\n",
              "2    BraTS20_Training_003  54.301           464                 GTR\n",
              "3    BraTS20_Training_004  39.068           788                 GTR\n",
              "4    BraTS20_Training_005  68.493           465                 GTR\n",
              "..                    ...     ...           ...                 ...\n",
              "231  BraTS20_Training_363  57.000            62                 GTR\n",
              "232  BraTS20_Training_366  72.000           633                 GTR\n",
              "233  BraTS20_Training_367  60.000           437                 STR\n",
              "234  BraTS20_Training_368  49.000           442                 GTR\n",
              "235  BraTS20_Training_369  50.000           145                 GTR\n",
              "\n",
              "[236 rows x 4 columns]"
            ]
          },
          "metadata": {
            "tags": []
          },
          "execution_count": 105
        }
      ]
    },
    {
      "cell_type": "code",
      "metadata": {
        "id": "6cX2lQCw40rF",
        "colab_type": "code",
        "colab": {}
      },
      "source": [
        ""
      ],
      "execution_count": null,
      "outputs": []
    }
  ]
}