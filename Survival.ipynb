{
  "nbformat": 4,
  "nbformat_minor": 0,
  "metadata": {
    "colab": {
      "name": "Survival.ipynb",
      "provenance": [],
      "include_colab_link": true
    },
    "kernelspec": {
      "name": "python3",
      "display_name": "Python 3"
    },
    "widgets": {
      "application/vnd.jupyter.widget-state+json": {
        "14786a8ac1b64350b3e498089b24d6d8": {
          "model_module": "@jupyter-widgets/controls",
          "model_name": "VBoxModel",
          "state": {
            "_view_name": "VBoxView",
            "_dom_classes": [
              "widget-interact"
            ],
            "_model_name": "VBoxModel",
            "_view_module": "@jupyter-widgets/controls",
            "_model_module_version": "1.5.0",
            "_view_count": null,
            "_view_module_version": "1.5.0",
            "box_style": "",
            "layout": "IPY_MODEL_062054c873844a388dc53d79735dbf15",
            "_model_module": "@jupyter-widgets/controls",
            "children": [
              "IPY_MODEL_312210657ea043d8bbabc774161488ce",
              "IPY_MODEL_deaae5b74cfb45c791a752b7cba2bfab"
            ]
          }
        },
        "062054c873844a388dc53d79735dbf15": {
          "model_module": "@jupyter-widgets/base",
          "model_name": "LayoutModel",
          "state": {
            "_view_name": "LayoutView",
            "grid_template_rows": null,
            "right": null,
            "justify_content": null,
            "_view_module": "@jupyter-widgets/base",
            "overflow": null,
            "_model_module_version": "1.2.0",
            "_view_count": null,
            "flex_flow": null,
            "width": null,
            "min_width": null,
            "border": null,
            "align_items": null,
            "bottom": null,
            "_model_module": "@jupyter-widgets/base",
            "top": null,
            "grid_column": null,
            "overflow_y": null,
            "overflow_x": null,
            "grid_auto_flow": null,
            "grid_area": null,
            "grid_template_columns": null,
            "flex": null,
            "_model_name": "LayoutModel",
            "justify_items": null,
            "grid_row": null,
            "max_height": null,
            "align_content": null,
            "visibility": null,
            "align_self": null,
            "height": null,
            "min_height": null,
            "padding": null,
            "grid_auto_rows": null,
            "grid_gap": null,
            "max_width": null,
            "order": null,
            "_view_module_version": "1.2.0",
            "grid_template_areas": null,
            "object_position": null,
            "object_fit": null,
            "grid_auto_columns": null,
            "margin": null,
            "display": null,
            "left": null
          }
        },
        "312210657ea043d8bbabc774161488ce": {
          "model_module": "@jupyter-widgets/controls",
          "model_name": "IntSliderModel",
          "state": {
            "_view_name": "IntSliderView",
            "style": "IPY_MODEL_38144128e9964f8d9caf9eee38154669",
            "_dom_classes": [],
            "description": "layer",
            "step": 1,
            "_model_name": "IntSliderModel",
            "orientation": "horizontal",
            "max": 154,
            "_view_module": "@jupyter-widgets/controls",
            "_model_module_version": "1.5.0",
            "value": 77,
            "_view_count": null,
            "disabled": false,
            "_view_module_version": "1.5.0",
            "min": 0,
            "continuous_update": true,
            "readout_format": "d",
            "description_tooltip": null,
            "readout": true,
            "_model_module": "@jupyter-widgets/controls",
            "layout": "IPY_MODEL_9ff25ef5cab345fb9f6f7072ea0dc80f"
          }
        },
        "deaae5b74cfb45c791a752b7cba2bfab": {
          "model_module": "@jupyter-widgets/output",
          "model_name": "OutputModel",
          "state": {
            "_view_name": "OutputView",
            "msg_id": "",
            "_dom_classes": [],
            "_model_name": "OutputModel",
            "outputs": [
              {
                "output_type": "display_data",
                "metadata": {
                  "tags": [],
                  "needs_background": "light"
                },
                "image/png": "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\n",
                "text/plain": "<Figure size 720x360 with 1 Axes>"
              },
              {
                "output_type": "display_data",
                "metadata": {
                  "tags": []
                },
                "text/plain": "77"
              }
            ],
            "_view_module": "@jupyter-widgets/output",
            "_model_module_version": "1.0.0",
            "_view_count": null,
            "_view_module_version": "1.0.0",
            "layout": "IPY_MODEL_cea5232ecf14456e9cd8a2ee919b34b6",
            "_model_module": "@jupyter-widgets/output"
          }
        },
        "38144128e9964f8d9caf9eee38154669": {
          "model_module": "@jupyter-widgets/controls",
          "model_name": "SliderStyleModel",
          "state": {
            "_view_name": "StyleView",
            "handle_color": null,
            "_model_name": "SliderStyleModel",
            "description_width": "",
            "_view_module": "@jupyter-widgets/base",
            "_model_module_version": "1.5.0",
            "_view_count": null,
            "_view_module_version": "1.2.0",
            "_model_module": "@jupyter-widgets/controls"
          }
        },
        "9ff25ef5cab345fb9f6f7072ea0dc80f": {
          "model_module": "@jupyter-widgets/base",
          "model_name": "LayoutModel",
          "state": {
            "_view_name": "LayoutView",
            "grid_template_rows": null,
            "right": null,
            "justify_content": null,
            "_view_module": "@jupyter-widgets/base",
            "overflow": null,
            "_model_module_version": "1.2.0",
            "_view_count": null,
            "flex_flow": null,
            "width": null,
            "min_width": null,
            "border": null,
            "align_items": null,
            "bottom": null,
            "_model_module": "@jupyter-widgets/base",
            "top": null,
            "grid_column": null,
            "overflow_y": null,
            "overflow_x": null,
            "grid_auto_flow": null,
            "grid_area": null,
            "grid_template_columns": null,
            "flex": null,
            "_model_name": "LayoutModel",
            "justify_items": null,
            "grid_row": null,
            "max_height": null,
            "align_content": null,
            "visibility": null,
            "align_self": null,
            "height": null,
            "min_height": null,
            "padding": null,
            "grid_auto_rows": null,
            "grid_gap": null,
            "max_width": null,
            "order": null,
            "_view_module_version": "1.2.0",
            "grid_template_areas": null,
            "object_position": null,
            "object_fit": null,
            "grid_auto_columns": null,
            "margin": null,
            "display": null,
            "left": null
          }
        },
        "cea5232ecf14456e9cd8a2ee919b34b6": {
          "model_module": "@jupyter-widgets/base",
          "model_name": "LayoutModel",
          "state": {
            "_view_name": "LayoutView",
            "grid_template_rows": null,
            "right": null,
            "justify_content": null,
            "_view_module": "@jupyter-widgets/base",
            "overflow": null,
            "_model_module_version": "1.2.0",
            "_view_count": null,
            "flex_flow": null,
            "width": null,
            "min_width": null,
            "border": null,
            "align_items": null,
            "bottom": null,
            "_model_module": "@jupyter-widgets/base",
            "top": null,
            "grid_column": null,
            "overflow_y": null,
            "overflow_x": null,
            "grid_auto_flow": null,
            "grid_area": null,
            "grid_template_columns": null,
            "flex": null,
            "_model_name": "LayoutModel",
            "justify_items": null,
            "grid_row": null,
            "max_height": null,
            "align_content": null,
            "visibility": null,
            "align_self": null,
            "height": null,
            "min_height": null,
            "padding": null,
            "grid_auto_rows": null,
            "grid_gap": null,
            "max_width": null,
            "order": null,
            "_view_module_version": "1.2.0",
            "grid_template_areas": null,
            "object_position": null,
            "object_fit": null,
            "grid_auto_columns": null,
            "margin": null,
            "display": null,
            "left": null
          }
        },
        "c09de799fb9f408081ca164dc04a0f68": {
          "model_module": "@jupyter-widgets/controls",
          "model_name": "VBoxModel",
          "state": {
            "_view_name": "VBoxView",
            "_dom_classes": [
              "widget-interact"
            ],
            "_model_name": "VBoxModel",
            "_view_module": "@jupyter-widgets/controls",
            "_model_module_version": "1.5.0",
            "_view_count": null,
            "_view_module_version": "1.5.0",
            "box_style": "",
            "layout": "IPY_MODEL_b8e9ec2a04814ee59470adcafa074342",
            "_model_module": "@jupyter-widgets/controls",
            "children": [
              "IPY_MODEL_3374f20bbaf841b49e74a12e538c8a4a",
              "IPY_MODEL_5c67d98dea8e4db89246398b8f1c9f5f"
            ]
          }
        },
        "b8e9ec2a04814ee59470adcafa074342": {
          "model_module": "@jupyter-widgets/base",
          "model_name": "LayoutModel",
          "state": {
            "_view_name": "LayoutView",
            "grid_template_rows": null,
            "right": null,
            "justify_content": null,
            "_view_module": "@jupyter-widgets/base",
            "overflow": null,
            "_model_module_version": "1.2.0",
            "_view_count": null,
            "flex_flow": null,
            "width": null,
            "min_width": null,
            "border": null,
            "align_items": null,
            "bottom": null,
            "_model_module": "@jupyter-widgets/base",
            "top": null,
            "grid_column": null,
            "overflow_y": null,
            "overflow_x": null,
            "grid_auto_flow": null,
            "grid_area": null,
            "grid_template_columns": null,
            "flex": null,
            "_model_name": "LayoutModel",
            "justify_items": null,
            "grid_row": null,
            "max_height": null,
            "align_content": null,
            "visibility": null,
            "align_self": null,
            "height": null,
            "min_height": null,
            "padding": null,
            "grid_auto_rows": null,
            "grid_gap": null,
            "max_width": null,
            "order": null,
            "_view_module_version": "1.2.0",
            "grid_template_areas": null,
            "object_position": null,
            "object_fit": null,
            "grid_auto_columns": null,
            "margin": null,
            "display": null,
            "left": null
          }
        },
        "3374f20bbaf841b49e74a12e538c8a4a": {
          "model_module": "@jupyter-widgets/controls",
          "model_name": "IntSliderModel",
          "state": {
            "_view_name": "IntSliderView",
            "style": "IPY_MODEL_874aaa857b314d22adf77bdc6d88666f",
            "_dom_classes": [],
            "description": "layer",
            "step": 1,
            "_model_name": "IntSliderModel",
            "orientation": "horizontal",
            "max": 63,
            "_view_module": "@jupyter-widgets/controls",
            "_model_module_version": "1.5.0",
            "value": 31,
            "_view_count": null,
            "disabled": false,
            "_view_module_version": "1.5.0",
            "min": 0,
            "continuous_update": true,
            "readout_format": "d",
            "description_tooltip": null,
            "readout": true,
            "_model_module": "@jupyter-widgets/controls",
            "layout": "IPY_MODEL_02d28bfaa88141fa9db415142125dc82"
          }
        },
        "5c67d98dea8e4db89246398b8f1c9f5f": {
          "model_module": "@jupyter-widgets/output",
          "model_name": "OutputModel",
          "state": {
            "_view_name": "OutputView",
            "msg_id": "",
            "_dom_classes": [],
            "_model_name": "OutputModel",
            "outputs": [
              {
                "output_type": "display_data",
                "metadata": {
                  "tags": [],
                  "needs_background": "light"
                },
                "image/png": "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\n",
                "text/plain": "<Figure size 720x360 with 1 Axes>"
              },
              {
                "output_type": "display_data",
                "metadata": {
                  "tags": []
                },
                "text/plain": "31"
              }
            ],
            "_view_module": "@jupyter-widgets/output",
            "_model_module_version": "1.0.0",
            "_view_count": null,
            "_view_module_version": "1.0.0",
            "layout": "IPY_MODEL_1185ee91737f43518f347362ca7bf388",
            "_model_module": "@jupyter-widgets/output"
          }
        },
        "874aaa857b314d22adf77bdc6d88666f": {
          "model_module": "@jupyter-widgets/controls",
          "model_name": "SliderStyleModel",
          "state": {
            "_view_name": "StyleView",
            "handle_color": null,
            "_model_name": "SliderStyleModel",
            "description_width": "",
            "_view_module": "@jupyter-widgets/base",
            "_model_module_version": "1.5.0",
            "_view_count": null,
            "_view_module_version": "1.2.0",
            "_model_module": "@jupyter-widgets/controls"
          }
        },
        "02d28bfaa88141fa9db415142125dc82": {
          "model_module": "@jupyter-widgets/base",
          "model_name": "LayoutModel",
          "state": {
            "_view_name": "LayoutView",
            "grid_template_rows": null,
            "right": null,
            "justify_content": null,
            "_view_module": "@jupyter-widgets/base",
            "overflow": null,
            "_model_module_version": "1.2.0",
            "_view_count": null,
            "flex_flow": null,
            "width": null,
            "min_width": null,
            "border": null,
            "align_items": null,
            "bottom": null,
            "_model_module": "@jupyter-widgets/base",
            "top": null,
            "grid_column": null,
            "overflow_y": null,
            "overflow_x": null,
            "grid_auto_flow": null,
            "grid_area": null,
            "grid_template_columns": null,
            "flex": null,
            "_model_name": "LayoutModel",
            "justify_items": null,
            "grid_row": null,
            "max_height": null,
            "align_content": null,
            "visibility": null,
            "align_self": null,
            "height": null,
            "min_height": null,
            "padding": null,
            "grid_auto_rows": null,
            "grid_gap": null,
            "max_width": null,
            "order": null,
            "_view_module_version": "1.2.0",
            "grid_template_areas": null,
            "object_position": null,
            "object_fit": null,
            "grid_auto_columns": null,
            "margin": null,
            "display": null,
            "left": null
          }
        },
        "1185ee91737f43518f347362ca7bf388": {
          "model_module": "@jupyter-widgets/base",
          "model_name": "LayoutModel",
          "state": {
            "_view_name": "LayoutView",
            "grid_template_rows": null,
            "right": null,
            "justify_content": null,
            "_view_module": "@jupyter-widgets/base",
            "overflow": null,
            "_model_module_version": "1.2.0",
            "_view_count": null,
            "flex_flow": null,
            "width": null,
            "min_width": null,
            "border": null,
            "align_items": null,
            "bottom": null,
            "_model_module": "@jupyter-widgets/base",
            "top": null,
            "grid_column": null,
            "overflow_y": null,
            "overflow_x": null,
            "grid_auto_flow": null,
            "grid_area": null,
            "grid_template_columns": null,
            "flex": null,
            "_model_name": "LayoutModel",
            "justify_items": null,
            "grid_row": null,
            "max_height": null,
            "align_content": null,
            "visibility": null,
            "align_self": null,
            "height": null,
            "min_height": null,
            "padding": null,
            "grid_auto_rows": null,
            "grid_gap": null,
            "max_width": null,
            "order": null,
            "_view_module_version": "1.2.0",
            "grid_template_areas": null,
            "object_position": null,
            "object_fit": null,
            "grid_auto_columns": null,
            "margin": null,
            "display": null,
            "left": null
          }
        }
      }
    },
    "accelerator": "GPU"
  },
  "cells": [
    {
      "cell_type": "markdown",
      "metadata": {
        "id": "view-in-github",
        "colab_type": "text"
      },
      "source": [
        "<a href=\"https://colab.research.google.com/github/alirezash97/BraTS/blob/master/Survival.ipynb\" target=\"_parent\"><img src=\"https://colab.research.google.com/assets/colab-badge.svg\" alt=\"Open In Colab\"/></a>"
      ]
    },
    {
      "cell_type": "code",
      "metadata": {
        "id": "9Pih2fajhmV6",
        "colab_type": "code",
        "colab": {
          "base_uri": "https://localhost:8080/",
          "height": 121
        },
        "outputId": "3e6fa502-8807-42d0-9306-a42d651b1def"
      },
      "source": [
        "# from google.colab import drive\n",
        "# drive.mount('/content/drive')"
      ],
      "execution_count": 1,
      "outputs": [
        {
          "output_type": "stream",
          "text": [
            "Go to this URL in a browser: https://accounts.google.com/o/oauth2/auth?client_id=947318989803-6bn6qk8qdgf4n4g3pfee6491hc0brc4i.apps.googleusercontent.com&redirect_uri=urn%3aietf%3awg%3aoauth%3a2.0%3aoob&scope=email%20https%3a%2f%2fwww.googleapis.com%2fauth%2fdocs.test%20https%3a%2f%2fwww.googleapis.com%2fauth%2fdrive%20https%3a%2f%2fwww.googleapis.com%2fauth%2fdrive.photos.readonly%20https%3a%2f%2fwww.googleapis.com%2fauth%2fpeopleapi.readonly&response_type=code\n",
            "\n",
            "Enter your authorization code:\n",
            "··········\n",
            "Mounted at /content/drive\n"
          ],
          "name": "stdout"
        }
      ]
    },
    {
      "cell_type": "code",
      "metadata": {
        "id": "e-rsO906hRlB",
        "colab_type": "code",
        "colab": {}
      },
      "source": [
        "import tensorflow as tf\n",
        "import os\n",
        "import numpy as np\n",
        "from nibabel.testing import data_path\n",
        "import nibabel as nib\n",
        "import matplotlib.pyplot as plt\n",
        "from keras.utils import to_categorical\n",
        "import cv2\n",
        "import keras \n",
        "import random\n",
        "from keras import Model\n",
        "from keras.optimizers import Adam"
      ],
      "execution_count": 1,
      "outputs": []
    },
    {
      "cell_type": "code",
      "metadata": {
        "id": "AgPl_eCpbWcH",
        "colab_type": "code",
        "colab": {}
      },
      "source": [
        "from sklearn.datasets import load_boston\n",
        "from keras.models import Sequential\n",
        "from keras.initializers import glorot_uniform\n",
        "from keras.layers import Dense, Conv2D, Flatten, Input, BatchNormalization, Activation, MaxPooling2D, Add, AveragePooling2D, Dropout\n",
        "from sklearn.model_selection import train_test_split\n",
        "from sklearn.metrics import mean_squared_error\n",
        "import matplotlib.pyplot as plt"
      ],
      "execution_count": 2,
      "outputs": []
    },
    {
      "cell_type": "code",
      "metadata": {
        "id": "uSSlCYlqhyOT",
        "colab_type": "code",
        "colab": {}
      },
      "source": [
        "import glob, os\n",
        "images_path = glob.glob('/content/drive/My Drive/BRATS2020/MICCAI_BraTS2020_TrainingData/**/*.nii.gz', recursive=True)"
      ],
      "execution_count": 3,
      "outputs": []
    },
    {
      "cell_type": "code",
      "metadata": {
        "id": "zw7XGW-mh08q",
        "colab_type": "code",
        "colab": {}
      },
      "source": [
        "\n",
        "X_trainset_filenames = []\n",
        "\n",
        "for item in images_path:\n",
        "  if 'seg' in item:\n",
        "    X_trainset_filenames.append(os.path.join(data_path, item))\n",
        "  else:\n",
        "    pass"
      ],
      "execution_count": 22,
      "outputs": []
    },
    {
      "cell_type": "code",
      "metadata": {
        "id": "KaM3SMoLh4F2",
        "colab_type": "code",
        "colab": {
          "base_uri": "https://localhost:8080/",
          "height": 34
        },
        "outputId": "b50276aa-b494-47e6-9d3e-8f51e4382a3e"
      },
      "source": [
        "print(len(X_trainset_filenames))"
      ],
      "execution_count": 23,
      "outputs": [
        {
          "output_type": "stream",
          "text": [
            "369\n"
          ],
          "name": "stdout"
        }
      ]
    },
    {
      "cell_type": "code",
      "metadata": {
        "id": "O4zHhjCIh6gU",
        "colab_type": "code",
        "colab": {}
      },
      "source": [
        "def shuffle(input_path):\n",
        "\n",
        "  a_list = list(range(0, len(input_path)))\n",
        "  random.shuffle(a_list)\n",
        "\n",
        "\n",
        "  new_input_path = []\n",
        "  for i in a_list:\n",
        "    \n",
        "    new_input_path.append(input_path[i])\n",
        "\n",
        "  return new_input_path"
      ],
      "execution_count": 24,
      "outputs": []
    },
    {
      "cell_type": "code",
      "metadata": {
        "id": "X3Gvw___h-GP",
        "colab_type": "code",
        "colab": {}
      },
      "source": [
        " X_trainset_filenames = shuffle(X_trainset_filenames)"
      ],
      "execution_count": 25,
      "outputs": []
    },
    {
      "cell_type": "code",
      "metadata": {
        "id": "wsmeoapQqFf4",
        "colab_type": "code",
        "colab": {
          "base_uri": "https://localhost:8080/",
          "height": 34
        },
        "outputId": "0dcb7b04-a093-4504-9cc3-516874fab70f"
      },
      "source": [
        "print( X_trainset_filenames[0])"
      ],
      "execution_count": 7,
      "outputs": [
        {
          "output_type": "stream",
          "text": [
            "/content/drive/My Drive/BRATS2020/MICCAI_BraTS2020_TrainingData/BraTS20_Training_242/BraTS20_Training_242_seg.nii.gz\n"
          ],
          "name": "stdout"
        }
      ]
    },
    {
      "cell_type": "code",
      "metadata": {
        "id": "bD3XCXFIqXxe",
        "colab_type": "code",
        "colab": {
          "base_uri": "https://localhost:8080/",
          "height": 35
        },
        "outputId": "1e2cdf43-8c0c-4883-d75c-bc60f491bf9e"
      },
      "source": [
        "X_trainset_filenames[60][81:84]"
      ],
      "execution_count": null,
      "outputs": [
        {
          "output_type": "execute_result",
          "data": {
            "application/vnd.google.colaboratory.intrinsic+json": {
              "type": "string"
            },
            "text/plain": [
              "'363'"
            ]
          },
          "metadata": {
            "tags": []
          },
          "execution_count": 9
        }
      ]
    },
    {
      "cell_type": "code",
      "metadata": {
        "id": "1SRmPrrqiFtY",
        "colab_type": "code",
        "colab": {}
      },
      "source": [
        "\n",
        "def load_case(label_nifty_file):\n",
        "    \n",
        "    # load the label file, get the image content and return a numpy array for each\n",
        "\n",
        "    label = np.array(nib.load(label_nifty_file).get_fdata())\n",
        "\n",
        "    for i in range(240):\n",
        "          for j in range(240):\n",
        "            for k in range(155):\n",
        "              if label[i, j, k] == 4.0 :\n",
        "                label[i, j, k] = 3.0\n",
        "              else:\n",
        "                pass\n",
        "    \n",
        "    \n",
        "    return label"
      ],
      "execution_count": 8,
      "outputs": []
    },
    {
      "cell_type": "code",
      "metadata": {
        "id": "BbAdGL9-lJsw",
        "colab_type": "code",
        "colab": {
          "base_uri": "https://localhost:8080/",
          "height": 373,
          "referenced_widgets": [
            "14786a8ac1b64350b3e498089b24d6d8",
            "062054c873844a388dc53d79735dbf15",
            "312210657ea043d8bbabc774161488ce",
            "deaae5b74cfb45c791a752b7cba2bfab",
            "38144128e9964f8d9caf9eee38154669",
            "9ff25ef5cab345fb9f6f7072ea0dc80f",
            "cea5232ecf14456e9cd8a2ee919b34b6"
          ]
        },
        "outputId": "42d40ec1-ad57-40d2-dfee-a991ee35cf90"
      },
      "source": [
        "\n",
        "\n",
        "from ipywidgets import interact\n",
        "\n",
        "M = load_case(X_trainset_filenames[0])\n",
        "\n",
        "def explore_3dimage(layer):\n",
        "    plt.figure(figsize=(10, 5))\n",
        "    channel = 3\n",
        "    plt.imshow(M[:, :, layer]);\n",
        "    plt.title('Explore Layers of Tumor prediction', fontsize=20)\n",
        "    plt.axis('off')\n",
        "    return layer\n",
        "\n",
        "# Run the ipywidgets interact() function to explore the data\n",
        "interact(explore_3dimage, layer=(0, 155 - 1));"
      ],
      "execution_count": 10,
      "outputs": [
        {
          "output_type": "display_data",
          "data": {
            "application/vnd.jupyter.widget-view+json": {
              "model_id": "14786a8ac1b64350b3e498089b24d6d8",
              "version_minor": 0,
              "version_major": 2
            },
            "text/plain": [
              "interactive(children=(IntSlider(value=77, description='layer', max=154), Output()), _dom_classes=('widget-inte…"
            ]
          },
          "metadata": {
            "tags": []
          }
        }
      ]
    },
    {
      "cell_type": "code",
      "metadata": {
        "id": "G0EEyNq1ngDZ",
        "colab_type": "code",
        "colab": {}
      },
      "source": [
        "\n",
        "## get the most important part for survival task (the tumor)\n",
        "\n",
        "\n",
        "def get_max(image, out_x, out_y, out_z, stride, number_of_images_to_extract):\n",
        "  \n",
        "  x = image.shape[0]\n",
        "  y = image.shape[1]\n",
        "  z = image.shape[2]\n",
        "\n",
        "\n",
        "  total_number_of_cubes = ( int((z - out_z)/stride) * int((x - out_x)/stride) * int((y - out_y)/stride) )\n",
        "  details = np.zeros((total_number_of_cubes, 4))\n",
        "\n",
        "  counter = 0\n",
        "  for i in range( int((z - out_z)/stride) ):\n",
        "    for j in range( int((x - out_x)/stride) ):\n",
        "      for k in range( int((y - out_y)/stride) ):\n",
        "\n",
        "        \n",
        "        temp = np.sum(image[ (j*stride):((j*stride)+out_x), (k*stride):((k*stride)+out_y), (i*stride):((i*stride)+out_z) ])\n",
        "        details[counter] = (j*stride), (k*stride), (i*stride), temp\n",
        "        counter += 1\n",
        "\n",
        "  \n",
        "\n",
        "  \n",
        "  final_extracted_images = []\n",
        "  for l in range(number_of_images_to_extract):\n",
        "    \n",
        "    max_ind = np.unravel_index(np.argmax(details, axis=None), details.shape) \n",
        "  \n",
        "    x_start = int(details[max_ind[0], 0])\n",
        "    y_start = int(details[max_ind[0], 1])\n",
        "    z_start = int(details[max_ind[0], 2])\n",
        "\n",
        "    temp = image[ x_start:(x_start+out_x) , y_start:(y_start+out_y) , z_start:(z_start+out_z) ]\n",
        "    final_extracted_images.append(temp)\n",
        "    details[max_ind[0], 3] = 0\n",
        "\n",
        "\n",
        "\n",
        "  return np.array(final_extracted_images)\n",
        "\n",
        "\n"
      ],
      "execution_count": 9,
      "outputs": []
    },
    {
      "cell_type": "code",
      "metadata": {
        "id": "Ir_Rf-zqufxe",
        "colab_type": "code",
        "colab": {
          "base_uri": "https://localhost:8080/",
          "height": 162
        },
        "outputId": "30074acc-5393-4582-c945-6bc6bdb5199a"
      },
      "source": [
        "image = get_max(M, 64, 64, 64, 8, 3)"
      ],
      "execution_count": 10,
      "outputs": [
        {
          "output_type": "error",
          "ename": "NameError",
          "evalue": "ignored",
          "traceback": [
            "\u001b[0;31m---------------------------------------------------------------------------\u001b[0m",
            "\u001b[0;31mNameError\u001b[0m                                 Traceback (most recent call last)",
            "\u001b[0;32m<ipython-input-10-e637354bec34>\u001b[0m in \u001b[0;36m<module>\u001b[0;34m()\u001b[0m\n\u001b[0;32m----> 1\u001b[0;31m \u001b[0mimage\u001b[0m \u001b[0;34m=\u001b[0m \u001b[0mget_max\u001b[0m\u001b[0;34m(\u001b[0m\u001b[0mM\u001b[0m\u001b[0;34m,\u001b[0m \u001b[0;36m64\u001b[0m\u001b[0;34m,\u001b[0m \u001b[0;36m64\u001b[0m\u001b[0;34m,\u001b[0m \u001b[0;36m64\u001b[0m\u001b[0;34m,\u001b[0m \u001b[0;36m8\u001b[0m\u001b[0;34m,\u001b[0m \u001b[0;36m3\u001b[0m\u001b[0;34m)\u001b[0m\u001b[0;34m\u001b[0m\u001b[0;34m\u001b[0m\u001b[0m\n\u001b[0m",
            "\u001b[0;31mNameError\u001b[0m: name 'M' is not defined"
          ]
        }
      ]
    },
    {
      "cell_type": "code",
      "metadata": {
        "id": "HOKRk9fs8Slv",
        "colab_type": "code",
        "colab": {
          "base_uri": "https://localhost:8080/",
          "height": 34
        },
        "outputId": "f80d387a-b7f2-4987-974c-5a8611cca2e4"
      },
      "source": [
        "print(image.shape)"
      ],
      "execution_count": null,
      "outputs": [
        {
          "output_type": "stream",
          "text": [
            "(3, 64, 64, 64)\n"
          ],
          "name": "stdout"
        }
      ]
    },
    {
      "cell_type": "code",
      "metadata": {
        "id": "R625Q3C_xGXR",
        "colab_type": "code",
        "colab": {
          "base_uri": "https://localhost:8080/",
          "height": 373,
          "referenced_widgets": [
            "c09de799fb9f408081ca164dc04a0f68",
            "b8e9ec2a04814ee59470adcafa074342",
            "3374f20bbaf841b49e74a12e538c8a4a",
            "5c67d98dea8e4db89246398b8f1c9f5f",
            "874aaa857b314d22adf77bdc6d88666f",
            "02d28bfaa88141fa9db415142125dc82",
            "1185ee91737f43518f347362ca7bf388"
          ]
        },
        "outputId": "aacac2bd-503a-42e1-c93d-677d6f35b27b"
      },
      "source": [
        "from ipywidgets import interact\n",
        "\n",
        "\n",
        "\n",
        "def explore_3dimage(layer):\n",
        "    plt.figure(figsize=(10, 5))\n",
        "    channel = 3\n",
        "    plt.imshow(image[0, :, :, layer]);\n",
        "    plt.title('Explore Layers of Tumor prediction', fontsize=20)\n",
        "    plt.axis('off')\n",
        "    return layer\n",
        "\n",
        "# Run the ipywidgets interact() function to explore the data\n",
        "interact(explore_3dimage, layer=(0, 64 - 1));"
      ],
      "execution_count": 13,
      "outputs": [
        {
          "output_type": "display_data",
          "data": {
            "application/vnd.jupyter.widget-view+json": {
              "model_id": "c09de799fb9f408081ca164dc04a0f68",
              "version_minor": 0,
              "version_major": 2
            },
            "text/plain": [
              "interactive(children=(IntSlider(value=31, description='layer', max=63), Output()), _dom_classes=('widget-inter…"
            ]
          },
          "metadata": {
            "tags": []
          }
        }
      ]
    },
    {
      "cell_type": "code",
      "metadata": {
        "id": "NpXCI1lkzEgl",
        "colab_type": "code",
        "colab": {}
      },
      "source": [
        "import pandas as pd \n",
        "c = pd.read_csv(\"/content/drive/My Drive/BRATS2020/MICCAI_BraTS2020_TrainingData/survival_info.csv\")"
      ],
      "execution_count": 11,
      "outputs": []
    },
    {
      "cell_type": "code",
      "metadata": {
        "id": "RYO-HfilsfMx",
        "colab_type": "code",
        "colab": {}
      },
      "source": [
        "import csv\n",
        "\n",
        "def find_days_by_patient_number(input): \n",
        "    o = open('/content/drive/My Drive/BRATS2020/MICCAI_BraTS2020_TrainingData/survival_info.csv', 'r') \n",
        "    myData = csv.reader(o) \n",
        "    index = 0 \n",
        "    \n",
        "    for row in myData:\n",
        "\n",
        "      if input in row[0]: \n",
        "        return row[2]\n",
        "      else : index+=1\n",
        "# ind = find_index('201')"
      ],
      "execution_count": 12,
      "outputs": []
    },
    {
      "cell_type": "code",
      "metadata": {
        "id": "4O4O1uBXbZHU",
        "colab_type": "code",
        "colab": {
          "base_uri": "https://localhost:8080/",
          "height": 34
        },
        "outputId": "5056a56b-c255-4768-ed0c-6e4e3464a463"
      },
      "source": [
        "# print(ind)"
      ],
      "execution_count": null,
      "outputs": [
        {
          "output_type": "stream",
          "text": [
            "317\n"
          ],
          "name": "stdout"
        }
      ]
    },
    {
      "cell_type": "code",
      "metadata": {
        "id": "tRiff3EDtlBG",
        "colab_type": "code",
        "colab": {}
      },
      "source": [
        "# with open('/content/drive/My Drive/BRATS2020/MICCAI_BraTS2020_TrainingData/survival_info.csv') as fd:\n",
        "#     reader=csv.reader(fd)\n",
        "#     interestingrows=[row for idx, row in enumerate(reader) if idx in (ind, ind)]"
      ],
      "execution_count": null,
      "outputs": []
    },
    {
      "cell_type": "code",
      "metadata": {
        "id": "2_Yljczwt3Ah",
        "colab_type": "code",
        "colab": {
          "base_uri": "https://localhost:8080/",
          "height": 34
        },
        "outputId": "3a90f690-8fce-4742-d1dc-a138d1c1acab"
      },
      "source": [
        "# interestingrows"
      ],
      "execution_count": null,
      "outputs": [
        {
          "output_type": "execute_result",
          "data": {
            "text/plain": [
              "[['BraTS20_Training_032', '63.192', '488', 'NA']]"
            ]
          },
          "metadata": {
            "tags": []
          },
          "execution_count": 20
        }
      ]
    },
    {
      "cell_type": "code",
      "metadata": {
        "id": "6cX2lQCw40rF",
        "colab_type": "code",
        "colab": {}
      },
      "source": [
        "def identity_block(X, f, filters, stage, block):\n",
        "    \"\"\"\n",
        "    Implementation of the identity block as defined in Figure 3\n",
        "    Arguments:\n",
        "    X -- input tensor of shape (m, n_H_prev, n_W_prev, n_C_prev)\n",
        "    f -- integer, specifying the shape of the middle CONV's window for the main path\n",
        "    filters -- python list of integers, defining the number of filters in the CONV layers of the main path\n",
        "    stage -- integer, used to name the layers, depending on their position in the network\n",
        "    block -- string/character, used to name the layers, depending on their position in the network\n",
        "    Returns:\n",
        "    X -- output of the identity block, tensor of shape (n_H, n_W, n_C)\n",
        "    \"\"\"\n",
        "\n",
        "    # defining name basis\n",
        "    conv_name_base = 'res' + str(stage) + block + '_branch'\n",
        "    bn_name_base = 'bn' + str(stage) + block + '_branch'\n",
        "\n",
        "    # Retrieve Filters\n",
        "    F1, F2, F3 = filters\n",
        "\n",
        "    # Save the input value. You'll need this later to add back to the main path.\n",
        "    X_shortcut = X\n",
        "\n",
        "    # First component of main path\n",
        "    X = Conv2D(filters=F1, kernel_size=1, strides=1, padding='valid', name=conv_name_base + '2a', kernel_initializer=glorot_uniform(seed=0))(X)\n",
        "    X = BatchNormalization( name=bn_name_base + '2a')(X)\n",
        "    X = Activation('relu')(X)\n",
        "\n",
        "    # Second component of main path\n",
        "    X = Conv2D(filters=F2, kernel_size=f, strides=1, padding='same', name=conv_name_base + '2b', kernel_initializer=glorot_uniform(seed=0))(X)\n",
        "    X = BatchNormalization( name=bn_name_base + '2b')(X)\n",
        "    X = Activation('relu')(X)\n",
        "\n",
        "    # Third component of main path\n",
        "    X = Conv2D(filters=F3, kernel_size=1, strides=1, padding='valid', name=conv_name_base + '2c', kernel_initializer=glorot_uniform(seed=0))(X)\n",
        "    X = BatchNormalization( name=bn_name_base + '2c')(X)\n",
        "\n",
        "    # Final step: Add shortcut value to main path, and pass it through a RELU activation\n",
        "    X = Add()([X, X_shortcut])\n",
        "    X = Activation('relu')(X)\n",
        "\n",
        "    ### END CODE HERE ###\n",
        "\n",
        "    return X"
      ],
      "execution_count": 13,
      "outputs": []
    },
    {
      "cell_type": "code",
      "metadata": {
        "id": "PZXZI2cKbQ3V",
        "colab_type": "code",
        "colab": {}
      },
      "source": [
        "def convolutional_block(X, f, filters, stage, block, s=2):\n",
        "    \"\"\"\n",
        "    Implementation of the convolutional block as defined in Figure 4\n",
        "    Arguments:\n",
        "    X -- input tensor of shape (m, n_H_prev, n_W_prev, n_C_prev)\n",
        "    f -- integer, specifying the shape of the middle CONV's window for the main path\n",
        "    filters -- python list of integers, defining the number of filters in the CONV layers of the main path\n",
        "    stage -- integer, used to name the layers, depending on their position in the network\n",
        "    block -- string/character, used to name the layers, depending on their position in the network\n",
        "    s -- Integer, specifying the stride to be used\n",
        "    Returns:\n",
        "    X -- output of the convolutional block, tensor of shape (n_H, n_W, n_C)\n",
        "    \"\"\"\n",
        "\n",
        "    # defining name basis\n",
        "    conv_name_base = 'res' + str(stage) + block + '_branch'\n",
        "    bn_name_base = 'bn' + str(stage) + block + '_branch'\n",
        "\n",
        "    # Retrieve Filters\n",
        "    F1, F2, F3 = filters\n",
        "\n",
        "    # Save the input value\n",
        "    X_shortcut = X\n",
        "\n",
        "    # First component of main path\n",
        "    X = Conv2D(F1, 1, strides=s, name=conv_name_base + '2a', kernel_initializer=glorot_uniform(seed=0))(X)\n",
        "    X = BatchNormalization( name=bn_name_base + '2a')(X)\n",
        "    X = Activation('relu')(X)\n",
        "\n",
        "    # Second component of main path\n",
        "    X = Conv2D(filters=F2, kernel_size=f, strides=1, padding='same', name=conv_name_base + '2b', kernel_initializer=glorot_uniform(seed=0))(X)\n",
        "    X = BatchNormalization( name=bn_name_base + '2b')(X)\n",
        "    X = Activation('relu')(X)\n",
        "\n",
        "    # Third component of main path\n",
        "    X = Conv2D(filters=F3, kernel_size=1, strides=1, padding='valid', name=conv_name_base + '2c', kernel_initializer=glorot_uniform(seed=0))(X)\n",
        "    X = BatchNormalization(name=bn_name_base + '2c')(X)\n",
        "\n",
        "    # Shortcut path\n",
        "    X_shortcut = Conv2D(F3, 1, strides=s, name=conv_name_base + '1', kernel_initializer=glorot_uniform(seed=0))(X_shortcut)\n",
        "    X_shortcut = BatchNormalization( name=bn_name_base + '1')(X_shortcut)\n",
        "\n",
        "    # Final step: Add shortcut value to main path, and pass it through a RELU activation (≈2 lines)\n",
        "    X = Add()([X, X_shortcut])\n",
        "    X = Activation('relu')(X)\n",
        "\n",
        "    return X"
      ],
      "execution_count": 14,
      "outputs": []
    },
    {
      "cell_type": "code",
      "metadata": {
        "id": "D3tDc5RDdTiY",
        "colab_type": "code",
        "colab": {}
      },
      "source": [
        "def ResNet50(input_shape=(64, 64, 64)):\n",
        "    \"\"\"\n",
        "    Implementation of the popular ResNet50 the following architecture:\n",
        "    CONV2D -> BATCHNORM -> RELU -> MAXPOOL -> CONVBLOCK -> IDBLOCK*2 -> CONVBLOCK -> IDBLOCK*3\n",
        "    -> CONVBLOCK -> IDBLOCK*5 -> CONVBLOCK -> IDBLOCK*2 -> AVGPOOL -> TOPLAYER\n",
        "    Arguments:\n",
        "    input_shape -- shape of the images of the dataset\n",
        "    classes -- integer, number of classes\n",
        "    Returns:\n",
        "    model -- a Model() instance in Keras\n",
        "    \"\"\"\n",
        "\n",
        "    # Define the input as a tensor with shape input_shape\n",
        "    res_X_input = Input(shape=input_shape)\n",
        "\n",
        "    # Zero-Padding\n",
        "    # X = ZeroPadding1D((3, 3))(X_input)\n",
        "\n",
        "    # Stage 1\n",
        "    res_X = Conv2D(64, 7, strides=1, name='conv1', kernel_initializer=glorot_uniform(seed=0))(res_X_input)\n",
        "    res_X = BatchNormalization(name='bn_conv1')(res_X)\n",
        "    res_X = Activation('relu')(res_X)\n",
        "    res_X = MaxPooling2D(3, strides=2)(res_X)\n",
        "\n",
        "    # Stage 2\n",
        "    res_X = convolutional_block(res_X, f=3, filters=[64, 64, 256], stage=2, block='a', s=1)\n",
        "    res_X = identity_block(res_X, 3, [64, 64, 256], stage=2, block='b')\n",
        "    res_X = identity_block(res_X, 3, [64, 64, 256], stage=2, block='c')\n",
        "\n",
        "    ### START CODE HERE ###\n",
        "\n",
        "    # Stage 3\n",
        "    res_X = convolutional_block(res_X, f=3, filters=[128, 128, 512], stage=3, block='a', s=2)\n",
        "    res_X = identity_block(res_X, 3, [128, 128, 512], stage=3, block='b')\n",
        "    res_X = identity_block(res_X, 3, [128, 128, 512], stage=3, block='c')\n",
        "    res_X = identity_block(res_X, 3, [128, 128, 512], stage=3, block='d')\n",
        "\n",
        "    # Stage 4\n",
        "    res_X = convolutional_block(res_X, f=3, filters=[256, 256, 1024], stage=4, block='a', s=2)\n",
        "    res_X = identity_block(res_X, 3, [256, 256, 1024], stage=4, block='b')\n",
        "    res_X = identity_block(res_X, 3, [256, 256, 1024], stage=4, block='c')\n",
        "    res_X = identity_block(res_X, 3, [256, 256, 1024], stage=4, block='d')\n",
        "    res_X = identity_block(res_X, 3, [256, 256, 1024], stage=4, block='e')\n",
        "    res_X = identity_block(res_X, 3, [256, 256, 1024], stage=4, block='f')\n",
        "\n",
        "    # Stage 5\n",
        "    res_X = convolutional_block(res_X, f=3, filters=[512, 512, 2048], stage=5, block='a', s=2)\n",
        "    res_X = identity_block(res_X, 3, [512, 512, 2048], stage=5, block='b')\n",
        "    res_X = identity_block(res_X, 3, [512, 512, 2048], stage=5, block='c')\n",
        "\n",
        "    # Average Pooling\n",
        "    res_X = AveragePooling2D(2, name='avg_pool')(res_X)\n",
        "\n",
        "    ### END CODE HERE ###\n",
        "\n",
        "    # output layer\n",
        "    res_X = Flatten()(res_X)\n",
        "    res_X = Dense(1024, activation='relu', name='fc0' , kernel_initializer=glorot_uniform(seed=0))(res_X)\n",
        "    drp0 = Dropout(0.5)(res_X)\n",
        "    res_X = Dense(256, activation='relu', name='fc1' , kernel_initializer=glorot_uniform(seed=0))(drp0)\n",
        "    drp1 = Dropout(0.25)(res_X)\n",
        "    res_X = Dense(64, activation='relu', name='fc2' , kernel_initializer=glorot_uniform(seed=0))(drp1)\n",
        "    drp2 = Dropout(0.125)(res_X)\n",
        "    res_X = Dense(1, activation='linear', name='fc3' , kernel_initializer=glorot_uniform(seed=0))(drp1)\n",
        "\n",
        "\n",
        "\n",
        "    # Create model\n",
        "    res_model = Model(inputs=res_X_input, outputs=res_X, name='ResNet50')\n",
        "\n",
        "    return res_model"
      ],
      "execution_count": 15,
      "outputs": []
    },
    {
      "cell_type": "code",
      "metadata": {
        "id": "QVeY7Wz1dfED",
        "colab_type": "code",
        "colab": {}
      },
      "source": [
        "res_model = ResNet50(input_shape = (64, 64, 64))"
      ],
      "execution_count": 16,
      "outputs": []
    },
    {
      "cell_type": "code",
      "metadata": {
        "id": "F2pN3N0DjQU6",
        "colab_type": "code",
        "colab": {
          "base_uri": "https://localhost:8080/",
          "height": 1000
        },
        "outputId": "65afee39-b193-4f03-e643-aa77e17b77d4"
      },
      "source": [
        "res_model.summary()"
      ],
      "execution_count": 17,
      "outputs": [
        {
          "output_type": "stream",
          "text": [
            "Model: \"ResNet50\"\n",
            "__________________________________________________________________________________________________\n",
            "Layer (type)                    Output Shape         Param #     Connected to                     \n",
            "==================================================================================================\n",
            "input_1 (InputLayer)            [(None, 64, 64, 64)] 0                                            \n",
            "__________________________________________________________________________________________________\n",
            "conv1 (Conv2D)                  (None, 58, 58, 64)   200768      input_1[0][0]                    \n",
            "__________________________________________________________________________________________________\n",
            "bn_conv1 (BatchNormalization)   (None, 58, 58, 64)   256         conv1[0][0]                      \n",
            "__________________________________________________________________________________________________\n",
            "activation (Activation)         (None, 58, 58, 64)   0           bn_conv1[0][0]                   \n",
            "__________________________________________________________________________________________________\n",
            "max_pooling2d (MaxPooling2D)    (None, 28, 28, 64)   0           activation[0][0]                 \n",
            "__________________________________________________________________________________________________\n",
            "res2a_branch2a (Conv2D)         (None, 28, 28, 64)   4160        max_pooling2d[0][0]              \n",
            "__________________________________________________________________________________________________\n",
            "bn2a_branch2a (BatchNormalizati (None, 28, 28, 64)   256         res2a_branch2a[0][0]             \n",
            "__________________________________________________________________________________________________\n",
            "activation_1 (Activation)       (None, 28, 28, 64)   0           bn2a_branch2a[0][0]              \n",
            "__________________________________________________________________________________________________\n",
            "res2a_branch2b (Conv2D)         (None, 28, 28, 64)   36928       activation_1[0][0]               \n",
            "__________________________________________________________________________________________________\n",
            "bn2a_branch2b (BatchNormalizati (None, 28, 28, 64)   256         res2a_branch2b[0][0]             \n",
            "__________________________________________________________________________________________________\n",
            "activation_2 (Activation)       (None, 28, 28, 64)   0           bn2a_branch2b[0][0]              \n",
            "__________________________________________________________________________________________________\n",
            "res2a_branch2c (Conv2D)         (None, 28, 28, 256)  16640       activation_2[0][0]               \n",
            "__________________________________________________________________________________________________\n",
            "res2a_branch1 (Conv2D)          (None, 28, 28, 256)  16640       max_pooling2d[0][0]              \n",
            "__________________________________________________________________________________________________\n",
            "bn2a_branch2c (BatchNormalizati (None, 28, 28, 256)  1024        res2a_branch2c[0][0]             \n",
            "__________________________________________________________________________________________________\n",
            "bn2a_branch1 (BatchNormalizatio (None, 28, 28, 256)  1024        res2a_branch1[0][0]              \n",
            "__________________________________________________________________________________________________\n",
            "add (Add)                       (None, 28, 28, 256)  0           bn2a_branch2c[0][0]              \n",
            "                                                                 bn2a_branch1[0][0]               \n",
            "__________________________________________________________________________________________________\n",
            "activation_3 (Activation)       (None, 28, 28, 256)  0           add[0][0]                        \n",
            "__________________________________________________________________________________________________\n",
            "res2b_branch2a (Conv2D)         (None, 28, 28, 64)   16448       activation_3[0][0]               \n",
            "__________________________________________________________________________________________________\n",
            "bn2b_branch2a (BatchNormalizati (None, 28, 28, 64)   256         res2b_branch2a[0][0]             \n",
            "__________________________________________________________________________________________________\n",
            "activation_4 (Activation)       (None, 28, 28, 64)   0           bn2b_branch2a[0][0]              \n",
            "__________________________________________________________________________________________________\n",
            "res2b_branch2b (Conv2D)         (None, 28, 28, 64)   36928       activation_4[0][0]               \n",
            "__________________________________________________________________________________________________\n",
            "bn2b_branch2b (BatchNormalizati (None, 28, 28, 64)   256         res2b_branch2b[0][0]             \n",
            "__________________________________________________________________________________________________\n",
            "activation_5 (Activation)       (None, 28, 28, 64)   0           bn2b_branch2b[0][0]              \n",
            "__________________________________________________________________________________________________\n",
            "res2b_branch2c (Conv2D)         (None, 28, 28, 256)  16640       activation_5[0][0]               \n",
            "__________________________________________________________________________________________________\n",
            "bn2b_branch2c (BatchNormalizati (None, 28, 28, 256)  1024        res2b_branch2c[0][0]             \n",
            "__________________________________________________________________________________________________\n",
            "add_1 (Add)                     (None, 28, 28, 256)  0           bn2b_branch2c[0][0]              \n",
            "                                                                 activation_3[0][0]               \n",
            "__________________________________________________________________________________________________\n",
            "activation_6 (Activation)       (None, 28, 28, 256)  0           add_1[0][0]                      \n",
            "__________________________________________________________________________________________________\n",
            "res2c_branch2a (Conv2D)         (None, 28, 28, 64)   16448       activation_6[0][0]               \n",
            "__________________________________________________________________________________________________\n",
            "bn2c_branch2a (BatchNormalizati (None, 28, 28, 64)   256         res2c_branch2a[0][0]             \n",
            "__________________________________________________________________________________________________\n",
            "activation_7 (Activation)       (None, 28, 28, 64)   0           bn2c_branch2a[0][0]              \n",
            "__________________________________________________________________________________________________\n",
            "res2c_branch2b (Conv2D)         (None, 28, 28, 64)   36928       activation_7[0][0]               \n",
            "__________________________________________________________________________________________________\n",
            "bn2c_branch2b (BatchNormalizati (None, 28, 28, 64)   256         res2c_branch2b[0][0]             \n",
            "__________________________________________________________________________________________________\n",
            "activation_8 (Activation)       (None, 28, 28, 64)   0           bn2c_branch2b[0][0]              \n",
            "__________________________________________________________________________________________________\n",
            "res2c_branch2c (Conv2D)         (None, 28, 28, 256)  16640       activation_8[0][0]               \n",
            "__________________________________________________________________________________________________\n",
            "bn2c_branch2c (BatchNormalizati (None, 28, 28, 256)  1024        res2c_branch2c[0][0]             \n",
            "__________________________________________________________________________________________________\n",
            "add_2 (Add)                     (None, 28, 28, 256)  0           bn2c_branch2c[0][0]              \n",
            "                                                                 activation_6[0][0]               \n",
            "__________________________________________________________________________________________________\n",
            "activation_9 (Activation)       (None, 28, 28, 256)  0           add_2[0][0]                      \n",
            "__________________________________________________________________________________________________\n",
            "res3a_branch2a (Conv2D)         (None, 14, 14, 128)  32896       activation_9[0][0]               \n",
            "__________________________________________________________________________________________________\n",
            "bn3a_branch2a (BatchNormalizati (None, 14, 14, 128)  512         res3a_branch2a[0][0]             \n",
            "__________________________________________________________________________________________________\n",
            "activation_10 (Activation)      (None, 14, 14, 128)  0           bn3a_branch2a[0][0]              \n",
            "__________________________________________________________________________________________________\n",
            "res3a_branch2b (Conv2D)         (None, 14, 14, 128)  147584      activation_10[0][0]              \n",
            "__________________________________________________________________________________________________\n",
            "bn3a_branch2b (BatchNormalizati (None, 14, 14, 128)  512         res3a_branch2b[0][0]             \n",
            "__________________________________________________________________________________________________\n",
            "activation_11 (Activation)      (None, 14, 14, 128)  0           bn3a_branch2b[0][0]              \n",
            "__________________________________________________________________________________________________\n",
            "res3a_branch2c (Conv2D)         (None, 14, 14, 512)  66048       activation_11[0][0]              \n",
            "__________________________________________________________________________________________________\n",
            "res3a_branch1 (Conv2D)          (None, 14, 14, 512)  131584      activation_9[0][0]               \n",
            "__________________________________________________________________________________________________\n",
            "bn3a_branch2c (BatchNormalizati (None, 14, 14, 512)  2048        res3a_branch2c[0][0]             \n",
            "__________________________________________________________________________________________________\n",
            "bn3a_branch1 (BatchNormalizatio (None, 14, 14, 512)  2048        res3a_branch1[0][0]              \n",
            "__________________________________________________________________________________________________\n",
            "add_3 (Add)                     (None, 14, 14, 512)  0           bn3a_branch2c[0][0]              \n",
            "                                                                 bn3a_branch1[0][0]               \n",
            "__________________________________________________________________________________________________\n",
            "activation_12 (Activation)      (None, 14, 14, 512)  0           add_3[0][0]                      \n",
            "__________________________________________________________________________________________________\n",
            "res3b_branch2a (Conv2D)         (None, 14, 14, 128)  65664       activation_12[0][0]              \n",
            "__________________________________________________________________________________________________\n",
            "bn3b_branch2a (BatchNormalizati (None, 14, 14, 128)  512         res3b_branch2a[0][0]             \n",
            "__________________________________________________________________________________________________\n",
            "activation_13 (Activation)      (None, 14, 14, 128)  0           bn3b_branch2a[0][0]              \n",
            "__________________________________________________________________________________________________\n",
            "res3b_branch2b (Conv2D)         (None, 14, 14, 128)  147584      activation_13[0][0]              \n",
            "__________________________________________________________________________________________________\n",
            "bn3b_branch2b (BatchNormalizati (None, 14, 14, 128)  512         res3b_branch2b[0][0]             \n",
            "__________________________________________________________________________________________________\n",
            "activation_14 (Activation)      (None, 14, 14, 128)  0           bn3b_branch2b[0][0]              \n",
            "__________________________________________________________________________________________________\n",
            "res3b_branch2c (Conv2D)         (None, 14, 14, 512)  66048       activation_14[0][0]              \n",
            "__________________________________________________________________________________________________\n",
            "bn3b_branch2c (BatchNormalizati (None, 14, 14, 512)  2048        res3b_branch2c[0][0]             \n",
            "__________________________________________________________________________________________________\n",
            "add_4 (Add)                     (None, 14, 14, 512)  0           bn3b_branch2c[0][0]              \n",
            "                                                                 activation_12[0][0]              \n",
            "__________________________________________________________________________________________________\n",
            "activation_15 (Activation)      (None, 14, 14, 512)  0           add_4[0][0]                      \n",
            "__________________________________________________________________________________________________\n",
            "res3c_branch2a (Conv2D)         (None, 14, 14, 128)  65664       activation_15[0][0]              \n",
            "__________________________________________________________________________________________________\n",
            "bn3c_branch2a (BatchNormalizati (None, 14, 14, 128)  512         res3c_branch2a[0][0]             \n",
            "__________________________________________________________________________________________________\n",
            "activation_16 (Activation)      (None, 14, 14, 128)  0           bn3c_branch2a[0][0]              \n",
            "__________________________________________________________________________________________________\n",
            "res3c_branch2b (Conv2D)         (None, 14, 14, 128)  147584      activation_16[0][0]              \n",
            "__________________________________________________________________________________________________\n",
            "bn3c_branch2b (BatchNormalizati (None, 14, 14, 128)  512         res3c_branch2b[0][0]             \n",
            "__________________________________________________________________________________________________\n",
            "activation_17 (Activation)      (None, 14, 14, 128)  0           bn3c_branch2b[0][0]              \n",
            "__________________________________________________________________________________________________\n",
            "res3c_branch2c (Conv2D)         (None, 14, 14, 512)  66048       activation_17[0][0]              \n",
            "__________________________________________________________________________________________________\n",
            "bn3c_branch2c (BatchNormalizati (None, 14, 14, 512)  2048        res3c_branch2c[0][0]             \n",
            "__________________________________________________________________________________________________\n",
            "add_5 (Add)                     (None, 14, 14, 512)  0           bn3c_branch2c[0][0]              \n",
            "                                                                 activation_15[0][0]              \n",
            "__________________________________________________________________________________________________\n",
            "activation_18 (Activation)      (None, 14, 14, 512)  0           add_5[0][0]                      \n",
            "__________________________________________________________________________________________________\n",
            "res3d_branch2a (Conv2D)         (None, 14, 14, 128)  65664       activation_18[0][0]              \n",
            "__________________________________________________________________________________________________\n",
            "bn3d_branch2a (BatchNormalizati (None, 14, 14, 128)  512         res3d_branch2a[0][0]             \n",
            "__________________________________________________________________________________________________\n",
            "activation_19 (Activation)      (None, 14, 14, 128)  0           bn3d_branch2a[0][0]              \n",
            "__________________________________________________________________________________________________\n",
            "res3d_branch2b (Conv2D)         (None, 14, 14, 128)  147584      activation_19[0][0]              \n",
            "__________________________________________________________________________________________________\n",
            "bn3d_branch2b (BatchNormalizati (None, 14, 14, 128)  512         res3d_branch2b[0][0]             \n",
            "__________________________________________________________________________________________________\n",
            "activation_20 (Activation)      (None, 14, 14, 128)  0           bn3d_branch2b[0][0]              \n",
            "__________________________________________________________________________________________________\n",
            "res3d_branch2c (Conv2D)         (None, 14, 14, 512)  66048       activation_20[0][0]              \n",
            "__________________________________________________________________________________________________\n",
            "bn3d_branch2c (BatchNormalizati (None, 14, 14, 512)  2048        res3d_branch2c[0][0]             \n",
            "__________________________________________________________________________________________________\n",
            "add_6 (Add)                     (None, 14, 14, 512)  0           bn3d_branch2c[0][0]              \n",
            "                                                                 activation_18[0][0]              \n",
            "__________________________________________________________________________________________________\n",
            "activation_21 (Activation)      (None, 14, 14, 512)  0           add_6[0][0]                      \n",
            "__________________________________________________________________________________________________\n",
            "res4a_branch2a (Conv2D)         (None, 7, 7, 256)    131328      activation_21[0][0]              \n",
            "__________________________________________________________________________________________________\n",
            "bn4a_branch2a (BatchNormalizati (None, 7, 7, 256)    1024        res4a_branch2a[0][0]             \n",
            "__________________________________________________________________________________________________\n",
            "activation_22 (Activation)      (None, 7, 7, 256)    0           bn4a_branch2a[0][0]              \n",
            "__________________________________________________________________________________________________\n",
            "res4a_branch2b (Conv2D)         (None, 7, 7, 256)    590080      activation_22[0][0]              \n",
            "__________________________________________________________________________________________________\n",
            "bn4a_branch2b (BatchNormalizati (None, 7, 7, 256)    1024        res4a_branch2b[0][0]             \n",
            "__________________________________________________________________________________________________\n",
            "activation_23 (Activation)      (None, 7, 7, 256)    0           bn4a_branch2b[0][0]              \n",
            "__________________________________________________________________________________________________\n",
            "res4a_branch2c (Conv2D)         (None, 7, 7, 1024)   263168      activation_23[0][0]              \n",
            "__________________________________________________________________________________________________\n",
            "res4a_branch1 (Conv2D)          (None, 7, 7, 1024)   525312      activation_21[0][0]              \n",
            "__________________________________________________________________________________________________\n",
            "bn4a_branch2c (BatchNormalizati (None, 7, 7, 1024)   4096        res4a_branch2c[0][0]             \n",
            "__________________________________________________________________________________________________\n",
            "bn4a_branch1 (BatchNormalizatio (None, 7, 7, 1024)   4096        res4a_branch1[0][0]              \n",
            "__________________________________________________________________________________________________\n",
            "add_7 (Add)                     (None, 7, 7, 1024)   0           bn4a_branch2c[0][0]              \n",
            "                                                                 bn4a_branch1[0][0]               \n",
            "__________________________________________________________________________________________________\n",
            "activation_24 (Activation)      (None, 7, 7, 1024)   0           add_7[0][0]                      \n",
            "__________________________________________________________________________________________________\n",
            "res4b_branch2a (Conv2D)         (None, 7, 7, 256)    262400      activation_24[0][0]              \n",
            "__________________________________________________________________________________________________\n",
            "bn4b_branch2a (BatchNormalizati (None, 7, 7, 256)    1024        res4b_branch2a[0][0]             \n",
            "__________________________________________________________________________________________________\n",
            "activation_25 (Activation)      (None, 7, 7, 256)    0           bn4b_branch2a[0][0]              \n",
            "__________________________________________________________________________________________________\n",
            "res4b_branch2b (Conv2D)         (None, 7, 7, 256)    590080      activation_25[0][0]              \n",
            "__________________________________________________________________________________________________\n",
            "bn4b_branch2b (BatchNormalizati (None, 7, 7, 256)    1024        res4b_branch2b[0][0]             \n",
            "__________________________________________________________________________________________________\n",
            "activation_26 (Activation)      (None, 7, 7, 256)    0           bn4b_branch2b[0][0]              \n",
            "__________________________________________________________________________________________________\n",
            "res4b_branch2c (Conv2D)         (None, 7, 7, 1024)   263168      activation_26[0][0]              \n",
            "__________________________________________________________________________________________________\n",
            "bn4b_branch2c (BatchNormalizati (None, 7, 7, 1024)   4096        res4b_branch2c[0][0]             \n",
            "__________________________________________________________________________________________________\n",
            "add_8 (Add)                     (None, 7, 7, 1024)   0           bn4b_branch2c[0][0]              \n",
            "                                                                 activation_24[0][0]              \n",
            "__________________________________________________________________________________________________\n",
            "activation_27 (Activation)      (None, 7, 7, 1024)   0           add_8[0][0]                      \n",
            "__________________________________________________________________________________________________\n",
            "res4c_branch2a (Conv2D)         (None, 7, 7, 256)    262400      activation_27[0][0]              \n",
            "__________________________________________________________________________________________________\n",
            "bn4c_branch2a (BatchNormalizati (None, 7, 7, 256)    1024        res4c_branch2a[0][0]             \n",
            "__________________________________________________________________________________________________\n",
            "activation_28 (Activation)      (None, 7, 7, 256)    0           bn4c_branch2a[0][0]              \n",
            "__________________________________________________________________________________________________\n",
            "res4c_branch2b (Conv2D)         (None, 7, 7, 256)    590080      activation_28[0][0]              \n",
            "__________________________________________________________________________________________________\n",
            "bn4c_branch2b (BatchNormalizati (None, 7, 7, 256)    1024        res4c_branch2b[0][0]             \n",
            "__________________________________________________________________________________________________\n",
            "activation_29 (Activation)      (None, 7, 7, 256)    0           bn4c_branch2b[0][0]              \n",
            "__________________________________________________________________________________________________\n",
            "res4c_branch2c (Conv2D)         (None, 7, 7, 1024)   263168      activation_29[0][0]              \n",
            "__________________________________________________________________________________________________\n",
            "bn4c_branch2c (BatchNormalizati (None, 7, 7, 1024)   4096        res4c_branch2c[0][0]             \n",
            "__________________________________________________________________________________________________\n",
            "add_9 (Add)                     (None, 7, 7, 1024)   0           bn4c_branch2c[0][0]              \n",
            "                                                                 activation_27[0][0]              \n",
            "__________________________________________________________________________________________________\n",
            "activation_30 (Activation)      (None, 7, 7, 1024)   0           add_9[0][0]                      \n",
            "__________________________________________________________________________________________________\n",
            "res4d_branch2a (Conv2D)         (None, 7, 7, 256)    262400      activation_30[0][0]              \n",
            "__________________________________________________________________________________________________\n",
            "bn4d_branch2a (BatchNormalizati (None, 7, 7, 256)    1024        res4d_branch2a[0][0]             \n",
            "__________________________________________________________________________________________________\n",
            "activation_31 (Activation)      (None, 7, 7, 256)    0           bn4d_branch2a[0][0]              \n",
            "__________________________________________________________________________________________________\n",
            "res4d_branch2b (Conv2D)         (None, 7, 7, 256)    590080      activation_31[0][0]              \n",
            "__________________________________________________________________________________________________\n",
            "bn4d_branch2b (BatchNormalizati (None, 7, 7, 256)    1024        res4d_branch2b[0][0]             \n",
            "__________________________________________________________________________________________________\n",
            "activation_32 (Activation)      (None, 7, 7, 256)    0           bn4d_branch2b[0][0]              \n",
            "__________________________________________________________________________________________________\n",
            "res4d_branch2c (Conv2D)         (None, 7, 7, 1024)   263168      activation_32[0][0]              \n",
            "__________________________________________________________________________________________________\n",
            "bn4d_branch2c (BatchNormalizati (None, 7, 7, 1024)   4096        res4d_branch2c[0][0]             \n",
            "__________________________________________________________________________________________________\n",
            "add_10 (Add)                    (None, 7, 7, 1024)   0           bn4d_branch2c[0][0]              \n",
            "                                                                 activation_30[0][0]              \n",
            "__________________________________________________________________________________________________\n",
            "activation_33 (Activation)      (None, 7, 7, 1024)   0           add_10[0][0]                     \n",
            "__________________________________________________________________________________________________\n",
            "res4e_branch2a (Conv2D)         (None, 7, 7, 256)    262400      activation_33[0][0]              \n",
            "__________________________________________________________________________________________________\n",
            "bn4e_branch2a (BatchNormalizati (None, 7, 7, 256)    1024        res4e_branch2a[0][0]             \n",
            "__________________________________________________________________________________________________\n",
            "activation_34 (Activation)      (None, 7, 7, 256)    0           bn4e_branch2a[0][0]              \n",
            "__________________________________________________________________________________________________\n",
            "res4e_branch2b (Conv2D)         (None, 7, 7, 256)    590080      activation_34[0][0]              \n",
            "__________________________________________________________________________________________________\n",
            "bn4e_branch2b (BatchNormalizati (None, 7, 7, 256)    1024        res4e_branch2b[0][0]             \n",
            "__________________________________________________________________________________________________\n",
            "activation_35 (Activation)      (None, 7, 7, 256)    0           bn4e_branch2b[0][0]              \n",
            "__________________________________________________________________________________________________\n",
            "res4e_branch2c (Conv2D)         (None, 7, 7, 1024)   263168      activation_35[0][0]              \n",
            "__________________________________________________________________________________________________\n",
            "bn4e_branch2c (BatchNormalizati (None, 7, 7, 1024)   4096        res4e_branch2c[0][0]             \n",
            "__________________________________________________________________________________________________\n",
            "add_11 (Add)                    (None, 7, 7, 1024)   0           bn4e_branch2c[0][0]              \n",
            "                                                                 activation_33[0][0]              \n",
            "__________________________________________________________________________________________________\n",
            "activation_36 (Activation)      (None, 7, 7, 1024)   0           add_11[0][0]                     \n",
            "__________________________________________________________________________________________________\n",
            "res4f_branch2a (Conv2D)         (None, 7, 7, 256)    262400      activation_36[0][0]              \n",
            "__________________________________________________________________________________________________\n",
            "bn4f_branch2a (BatchNormalizati (None, 7, 7, 256)    1024        res4f_branch2a[0][0]             \n",
            "__________________________________________________________________________________________________\n",
            "activation_37 (Activation)      (None, 7, 7, 256)    0           bn4f_branch2a[0][0]              \n",
            "__________________________________________________________________________________________________\n",
            "res4f_branch2b (Conv2D)         (None, 7, 7, 256)    590080      activation_37[0][0]              \n",
            "__________________________________________________________________________________________________\n",
            "bn4f_branch2b (BatchNormalizati (None, 7, 7, 256)    1024        res4f_branch2b[0][0]             \n",
            "__________________________________________________________________________________________________\n",
            "activation_38 (Activation)      (None, 7, 7, 256)    0           bn4f_branch2b[0][0]              \n",
            "__________________________________________________________________________________________________\n",
            "res4f_branch2c (Conv2D)         (None, 7, 7, 1024)   263168      activation_38[0][0]              \n",
            "__________________________________________________________________________________________________\n",
            "bn4f_branch2c (BatchNormalizati (None, 7, 7, 1024)   4096        res4f_branch2c[0][0]             \n",
            "__________________________________________________________________________________________________\n",
            "add_12 (Add)                    (None, 7, 7, 1024)   0           bn4f_branch2c[0][0]              \n",
            "                                                                 activation_36[0][0]              \n",
            "__________________________________________________________________________________________________\n",
            "activation_39 (Activation)      (None, 7, 7, 1024)   0           add_12[0][0]                     \n",
            "__________________________________________________________________________________________________\n",
            "res5a_branch2a (Conv2D)         (None, 4, 4, 512)    524800      activation_39[0][0]              \n",
            "__________________________________________________________________________________________________\n",
            "bn5a_branch2a (BatchNormalizati (None, 4, 4, 512)    2048        res5a_branch2a[0][0]             \n",
            "__________________________________________________________________________________________________\n",
            "activation_40 (Activation)      (None, 4, 4, 512)    0           bn5a_branch2a[0][0]              \n",
            "__________________________________________________________________________________________________\n",
            "res5a_branch2b (Conv2D)         (None, 4, 4, 512)    2359808     activation_40[0][0]              \n",
            "__________________________________________________________________________________________________\n",
            "bn5a_branch2b (BatchNormalizati (None, 4, 4, 512)    2048        res5a_branch2b[0][0]             \n",
            "__________________________________________________________________________________________________\n",
            "activation_41 (Activation)      (None, 4, 4, 512)    0           bn5a_branch2b[0][0]              \n",
            "__________________________________________________________________________________________________\n",
            "res5a_branch2c (Conv2D)         (None, 4, 4, 2048)   1050624     activation_41[0][0]              \n",
            "__________________________________________________________________________________________________\n",
            "res5a_branch1 (Conv2D)          (None, 4, 4, 2048)   2099200     activation_39[0][0]              \n",
            "__________________________________________________________________________________________________\n",
            "bn5a_branch2c (BatchNormalizati (None, 4, 4, 2048)   8192        res5a_branch2c[0][0]             \n",
            "__________________________________________________________________________________________________\n",
            "bn5a_branch1 (BatchNormalizatio (None, 4, 4, 2048)   8192        res5a_branch1[0][0]              \n",
            "__________________________________________________________________________________________________\n",
            "add_13 (Add)                    (None, 4, 4, 2048)   0           bn5a_branch2c[0][0]              \n",
            "                                                                 bn5a_branch1[0][0]               \n",
            "__________________________________________________________________________________________________\n",
            "activation_42 (Activation)      (None, 4, 4, 2048)   0           add_13[0][0]                     \n",
            "__________________________________________________________________________________________________\n",
            "res5b_branch2a (Conv2D)         (None, 4, 4, 512)    1049088     activation_42[0][0]              \n",
            "__________________________________________________________________________________________________\n",
            "bn5b_branch2a (BatchNormalizati (None, 4, 4, 512)    2048        res5b_branch2a[0][0]             \n",
            "__________________________________________________________________________________________________\n",
            "activation_43 (Activation)      (None, 4, 4, 512)    0           bn5b_branch2a[0][0]              \n",
            "__________________________________________________________________________________________________\n",
            "res5b_branch2b (Conv2D)         (None, 4, 4, 512)    2359808     activation_43[0][0]              \n",
            "__________________________________________________________________________________________________\n",
            "bn5b_branch2b (BatchNormalizati (None, 4, 4, 512)    2048        res5b_branch2b[0][0]             \n",
            "__________________________________________________________________________________________________\n",
            "activation_44 (Activation)      (None, 4, 4, 512)    0           bn5b_branch2b[0][0]              \n",
            "__________________________________________________________________________________________________\n",
            "res5b_branch2c (Conv2D)         (None, 4, 4, 2048)   1050624     activation_44[0][0]              \n",
            "__________________________________________________________________________________________________\n",
            "bn5b_branch2c (BatchNormalizati (None, 4, 4, 2048)   8192        res5b_branch2c[0][0]             \n",
            "__________________________________________________________________________________________________\n",
            "add_14 (Add)                    (None, 4, 4, 2048)   0           bn5b_branch2c[0][0]              \n",
            "                                                                 activation_42[0][0]              \n",
            "__________________________________________________________________________________________________\n",
            "activation_45 (Activation)      (None, 4, 4, 2048)   0           add_14[0][0]                     \n",
            "__________________________________________________________________________________________________\n",
            "res5c_branch2a (Conv2D)         (None, 4, 4, 512)    1049088     activation_45[0][0]              \n",
            "__________________________________________________________________________________________________\n",
            "bn5c_branch2a (BatchNormalizati (None, 4, 4, 512)    2048        res5c_branch2a[0][0]             \n",
            "__________________________________________________________________________________________________\n",
            "activation_46 (Activation)      (None, 4, 4, 512)    0           bn5c_branch2a[0][0]              \n",
            "__________________________________________________________________________________________________\n",
            "res5c_branch2b (Conv2D)         (None, 4, 4, 512)    2359808     activation_46[0][0]              \n",
            "__________________________________________________________________________________________________\n",
            "bn5c_branch2b (BatchNormalizati (None, 4, 4, 512)    2048        res5c_branch2b[0][0]             \n",
            "__________________________________________________________________________________________________\n",
            "activation_47 (Activation)      (None, 4, 4, 512)    0           bn5c_branch2b[0][0]              \n",
            "__________________________________________________________________________________________________\n",
            "res5c_branch2c (Conv2D)         (None, 4, 4, 2048)   1050624     activation_47[0][0]              \n",
            "__________________________________________________________________________________________________\n",
            "bn5c_branch2c (BatchNormalizati (None, 4, 4, 2048)   8192        res5c_branch2c[0][0]             \n",
            "__________________________________________________________________________________________________\n",
            "add_15 (Add)                    (None, 4, 4, 2048)   0           bn5c_branch2c[0][0]              \n",
            "                                                                 activation_45[0][0]              \n",
            "__________________________________________________________________________________________________\n",
            "activation_48 (Activation)      (None, 4, 4, 2048)   0           add_15[0][0]                     \n",
            "__________________________________________________________________________________________________\n",
            "avg_pool (AveragePooling2D)     (None, 2, 2, 2048)   0           activation_48[0][0]              \n",
            "__________________________________________________________________________________________________\n",
            "flatten (Flatten)               (None, 8192)         0           avg_pool[0][0]                   \n",
            "__________________________________________________________________________________________________\n",
            "fc0 (Dense)                     (None, 1024)         8389632     flatten[0][0]                    \n",
            "__________________________________________________________________________________________________\n",
            "dropout (Dropout)               (None, 1024)         0           fc0[0][0]                        \n",
            "__________________________________________________________________________________________________\n",
            "fc1 (Dense)                     (None, 256)          262400      dropout[0][0]                    \n",
            "__________________________________________________________________________________________________\n",
            "dropout_1 (Dropout)             (None, 256)          0           fc1[0][0]                        \n",
            "__________________________________________________________________________________________________\n",
            "fc3 (Dense)                     (None, 1)            257         dropout_1[0][0]                  \n",
            "==================================================================================================\n",
            "Total params: 32,431,297\n",
            "Trainable params: 32,378,177\n",
            "Non-trainable params: 53,120\n",
            "__________________________________________________________________________________________________\n"
          ],
          "name": "stdout"
        }
      ]
    },
    {
      "cell_type": "code",
      "metadata": {
        "id": "yde1OzV8l3IY",
        "colab_type": "code",
        "colab": {}
      },
      "source": [
        "def generator(X_path, y_path, batch_size=2):\n",
        "    \n",
        "\n",
        "   \n",
        "    num_samples = len(X_path)\n",
        "    while True: # Loop forever so the generator never terminates\n",
        "\n",
        "      \n",
        "      # Get index to start each batch: [0, batch_size, 2*batch_size, ..., max multiple of batch_size &lt;= num_samples]\n",
        "      for offset in range(0, int(num_samples), batch_size):\n",
        "            \n",
        "          # Get the samples you'll use in this batch\n",
        "          batch_samples = X_path[ (offset * batch_size) : ((offset+1) * batch_size) ]\n",
        " \n",
        "            \n",
        "             \n",
        "              \n",
        "              # Initialise X_train and y_train arrays for this batch\n",
        "         \n",
        "\n",
        "          for i in batch_samples:\n",
        "\n",
        "            X_train = []\n",
        "            y_train = []\n",
        "\n",
        "            X_input = load_case(i)\n",
        "            X = get_max(X_input, 64, 64, 64, 8, 10)\n",
        "            \n",
        "            rand_array = np.random.randint(10, size=3)\n",
        "            \n",
        "            for j in range(3):\n",
        "              \n",
        "              rand_num = rand_array[j]\n",
        "              X_temp = np.reshape(X[rand_num, :, :, :], (64, 64, 64))\n",
        "              \n",
        "\n",
        "\n",
        "              patient_number = i[81:84]\n",
        "              days = find_days_by_patient_number(patient_number)\n",
        "              if days != None and 'ALIVE' not in days:\n",
        "              \n",
        "                X_train.append(X_temp)\n",
        "                # for i in range(4):\n",
        "                y_train.append(int(days))\n",
        "                \n",
        "                  \n",
        "  \n",
        "              # Make sure they're numpy arrays (as opposed to lists)\n",
        "\n",
        "            X_train = np.array(X_train)\n",
        "            y_train = np.array(y_train)\n",
        "\n",
        "            \n",
        "\n",
        "\n",
        "\n",
        "\n",
        "            if X_train.ndim == 4:             \n",
        "              yield X_train, y_train\n",
        "            else:\n",
        "              pass"
      ],
      "execution_count": 54,
      "outputs": []
    },
    {
      "cell_type": "code",
      "metadata": {
        "id": "FEba7UJRoSn7",
        "colab_type": "code",
        "colab": {}
      },
      "source": [
        "\n",
        "X_train_filenames = X_trainset_filenames[:309]\n",
        "X_valid_filenames = X_trainset_filenames[309:]\n",
        "\n",
        "\n",
        "y_train_path = '/content/drive/My Drive/BRATS2020/MICCAI_BraTS2020_TrainingData/survival_info.csv'\n",
        "\n",
        "train_generator = generator(X_train_filenames, y_train_path, batch_size=3)\n",
        "validation_generator = generator(X_valid_filenames, y_train_path, batch_size=3)"
      ],
      "execution_count": 55,
      "outputs": []
    },
    {
      "cell_type": "code",
      "metadata": {
        "id": "IcT6EoIbzhub",
        "colab_type": "code",
        "colab": {}
      },
      "source": [
        "\n",
        "opt = Adam(lr=1e-4)\n",
        "\n",
        "\n",
        "res_model.compile(optimizer=opt, loss='mean_absolute_percentage_error')"
      ],
      "execution_count": 56,
      "outputs": []
    },
    {
      "cell_type": "code",
      "metadata": {
        "id": "9DHmLHFqzM50",
        "colab_type": "code",
        "colab": {
          "base_uri": "https://localhost:8080/",
          "height": 50
        },
        "outputId": "637daefc-cb73-4ae8-efa5-69aa34b8b673"
      },
      "source": [
        "from keras.callbacks import EarlyStopping, ModelCheckpoint, LearningRateScheduler\n",
        "\n",
        "initial_learning_rate = 0.0001\n",
        "\n",
        "\n",
        "def scheduler(epoch):\n",
        "  \n",
        "  ## decrease learning rate every 3 epochs to 0.1(latest_value) ##\n",
        "  return float(initial_learning_rate * tf.math.exp(0.1 * (int(epoch/3))))\n",
        "  \n",
        "\n",
        "\n",
        "# callback\n",
        "my_callbacks = [\n",
        "        LearningRateScheduler(scheduler), \n",
        "        EarlyStopping(monitor='val_loss', patience=6),\n",
        "        ModelCheckpoint(filepath='/content/drive/My Drive/BRATS2020/Survival_FlowerModel_update.{epoch:02d}-{val_loss:.2f}.h5', monitor='val_loss', save_best_only=False)\n",
        "]\n",
        "\n",
        "\n",
        "\n",
        "#### steps per epoch should be x/batch*8 because model generates 8 subvolumes per training sample\n",
        "# Fit model using generator\n",
        "history = res_model.fit(train_generator, steps_per_epoch=309, epochs=50, validation_data=validation_generator, validation_steps=60, callbacks=my_callbacks)"
      ],
      "execution_count": null,
      "outputs": [
        {
          "output_type": "stream",
          "text": [
            "Epoch 1/50\n",
            "120/309 [==========>...................] - ETA: 21:57 - loss: 94.1249"
          ],
          "name": "stdout"
        }
      ]
    },
    {
      "cell_type": "code",
      "metadata": {
        "id": "N7-SmRYVUuIB",
        "colab_type": "code",
        "colab": {}
      },
      "source": [
        ""
      ],
      "execution_count": null,
      "outputs": []
    }
  ]
}