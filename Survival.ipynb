{
  "nbformat": 4,
  "nbformat_minor": 0,
  "metadata": {
    "colab": {
      "name": "Survival.ipynb",
      "provenance": [],
      "authorship_tag": "ABX9TyPzSjqwOBZ4r3mjloD2bXn2",
      "include_colab_link": true
    },
    "kernelspec": {
      "name": "python3",
      "display_name": "Python 3"
    },
    "widgets": {
      "application/vnd.jupyter.widget-state+json": {
        "1e00e72cc37e40ecb79e7eefc9c79f20": {
          "model_module": "@jupyter-widgets/controls",
          "model_name": "VBoxModel",
          "state": {
            "_view_name": "VBoxView",
            "_dom_classes": [
              "widget-interact"
            ],
            "_model_name": "VBoxModel",
            "_view_module": "@jupyter-widgets/controls",
            "_model_module_version": "1.5.0",
            "_view_count": null,
            "_view_module_version": "1.5.0",
            "box_style": "",
            "layout": "IPY_MODEL_0ff4a4b255684cb59c397f50c33149af",
            "_model_module": "@jupyter-widgets/controls",
            "children": [
              "IPY_MODEL_697c2ca2507b4cd7b7d5f6988ee53ce7",
              "IPY_MODEL_526a4fd1fbf5453e842bee2ad15880e2"
            ]
          }
        },
        "0ff4a4b255684cb59c397f50c33149af": {
          "model_module": "@jupyter-widgets/base",
          "model_name": "LayoutModel",
          "state": {
            "_view_name": "LayoutView",
            "grid_template_rows": null,
            "right": null,
            "justify_content": null,
            "_view_module": "@jupyter-widgets/base",
            "overflow": null,
            "_model_module_version": "1.2.0",
            "_view_count": null,
            "flex_flow": null,
            "width": null,
            "min_width": null,
            "border": null,
            "align_items": null,
            "bottom": null,
            "_model_module": "@jupyter-widgets/base",
            "top": null,
            "grid_column": null,
            "overflow_y": null,
            "overflow_x": null,
            "grid_auto_flow": null,
            "grid_area": null,
            "grid_template_columns": null,
            "flex": null,
            "_model_name": "LayoutModel",
            "justify_items": null,
            "grid_row": null,
            "max_height": null,
            "align_content": null,
            "visibility": null,
            "align_self": null,
            "height": null,
            "min_height": null,
            "padding": null,
            "grid_auto_rows": null,
            "grid_gap": null,
            "max_width": null,
            "order": null,
            "_view_module_version": "1.2.0",
            "grid_template_areas": null,
            "object_position": null,
            "object_fit": null,
            "grid_auto_columns": null,
            "margin": null,
            "display": null,
            "left": null
          }
        },
        "697c2ca2507b4cd7b7d5f6988ee53ce7": {
          "model_module": "@jupyter-widgets/controls",
          "model_name": "IntSliderModel",
          "state": {
            "_view_name": "IntSliderView",
            "style": "IPY_MODEL_131cd9718a6f4fae8dbc79f2c49adde5",
            "_dom_classes": [],
            "description": "layer",
            "step": 1,
            "_model_name": "IntSliderModel",
            "orientation": "horizontal",
            "max": 154,
            "_view_module": "@jupyter-widgets/controls",
            "_model_module_version": "1.5.0",
            "value": 77,
            "_view_count": null,
            "disabled": false,
            "_view_module_version": "1.5.0",
            "min": 0,
            "continuous_update": true,
            "readout_format": "d",
            "description_tooltip": null,
            "readout": true,
            "_model_module": "@jupyter-widgets/controls",
            "layout": "IPY_MODEL_1d7688b043be4087b2016be7bc1a20d0"
          }
        },
        "526a4fd1fbf5453e842bee2ad15880e2": {
          "model_module": "@jupyter-widgets/output",
          "model_name": "OutputModel",
          "state": {
            "_view_name": "OutputView",
            "msg_id": "",
            "_dom_classes": [],
            "_model_name": "OutputModel",
            "outputs": [
              {
                "output_type": "display_data",
                "metadata": {
                  "tags": [],
                  "needs_background": "light"
                },
                "image/png": "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\n",
                "text/plain": "<Figure size 720x360 with 1 Axes>"
              },
              {
                "output_type": "display_data",
                "metadata": {
                  "tags": []
                },
                "text/plain": "77"
              }
            ],
            "_view_module": "@jupyter-widgets/output",
            "_model_module_version": "1.0.0",
            "_view_count": null,
            "_view_module_version": "1.0.0",
            "layout": "IPY_MODEL_97bfb9602e644172b8d210544873a080",
            "_model_module": "@jupyter-widgets/output"
          }
        },
        "131cd9718a6f4fae8dbc79f2c49adde5": {
          "model_module": "@jupyter-widgets/controls",
          "model_name": "SliderStyleModel",
          "state": {
            "_view_name": "StyleView",
            "handle_color": null,
            "_model_name": "SliderStyleModel",
            "description_width": "",
            "_view_module": "@jupyter-widgets/base",
            "_model_module_version": "1.5.0",
            "_view_count": null,
            "_view_module_version": "1.2.0",
            "_model_module": "@jupyter-widgets/controls"
          }
        },
        "1d7688b043be4087b2016be7bc1a20d0": {
          "model_module": "@jupyter-widgets/base",
          "model_name": "LayoutModel",
          "state": {
            "_view_name": "LayoutView",
            "grid_template_rows": null,
            "right": null,
            "justify_content": null,
            "_view_module": "@jupyter-widgets/base",
            "overflow": null,
            "_model_module_version": "1.2.0",
            "_view_count": null,
            "flex_flow": null,
            "width": null,
            "min_width": null,
            "border": null,
            "align_items": null,
            "bottom": null,
            "_model_module": "@jupyter-widgets/base",
            "top": null,
            "grid_column": null,
            "overflow_y": null,
            "overflow_x": null,
            "grid_auto_flow": null,
            "grid_area": null,
            "grid_template_columns": null,
            "flex": null,
            "_model_name": "LayoutModel",
            "justify_items": null,
            "grid_row": null,
            "max_height": null,
            "align_content": null,
            "visibility": null,
            "align_self": null,
            "height": null,
            "min_height": null,
            "padding": null,
            "grid_auto_rows": null,
            "grid_gap": null,
            "max_width": null,
            "order": null,
            "_view_module_version": "1.2.0",
            "grid_template_areas": null,
            "object_position": null,
            "object_fit": null,
            "grid_auto_columns": null,
            "margin": null,
            "display": null,
            "left": null
          }
        },
        "97bfb9602e644172b8d210544873a080": {
          "model_module": "@jupyter-widgets/base",
          "model_name": "LayoutModel",
          "state": {
            "_view_name": "LayoutView",
            "grid_template_rows": null,
            "right": null,
            "justify_content": null,
            "_view_module": "@jupyter-widgets/base",
            "overflow": null,
            "_model_module_version": "1.2.0",
            "_view_count": null,
            "flex_flow": null,
            "width": null,
            "min_width": null,
            "border": null,
            "align_items": null,
            "bottom": null,
            "_model_module": "@jupyter-widgets/base",
            "top": null,
            "grid_column": null,
            "overflow_y": null,
            "overflow_x": null,
            "grid_auto_flow": null,
            "grid_area": null,
            "grid_template_columns": null,
            "flex": null,
            "_model_name": "LayoutModel",
            "justify_items": null,
            "grid_row": null,
            "max_height": null,
            "align_content": null,
            "visibility": null,
            "align_self": null,
            "height": null,
            "min_height": null,
            "padding": null,
            "grid_auto_rows": null,
            "grid_gap": null,
            "max_width": null,
            "order": null,
            "_view_module_version": "1.2.0",
            "grid_template_areas": null,
            "object_position": null,
            "object_fit": null,
            "grid_auto_columns": null,
            "margin": null,
            "display": null,
            "left": null
          }
        },
        "17f9fe131e4d4a70bafc7175b5103fe5": {
          "model_module": "@jupyter-widgets/controls",
          "model_name": "VBoxModel",
          "state": {
            "_view_name": "VBoxView",
            "_dom_classes": [
              "widget-interact"
            ],
            "_model_name": "VBoxModel",
            "_view_module": "@jupyter-widgets/controls",
            "_model_module_version": "1.5.0",
            "_view_count": null,
            "_view_module_version": "1.5.0",
            "box_style": "",
            "layout": "IPY_MODEL_dccb21cbc7b14b7abb6e3aac4f1f89f7",
            "_model_module": "@jupyter-widgets/controls",
            "children": [
              "IPY_MODEL_505a401495ab41258fcd9822703f24e2",
              "IPY_MODEL_5832048b9db644c3ac6906211fc999c8"
            ]
          }
        },
        "dccb21cbc7b14b7abb6e3aac4f1f89f7": {
          "model_module": "@jupyter-widgets/base",
          "model_name": "LayoutModel",
          "state": {
            "_view_name": "LayoutView",
            "grid_template_rows": null,
            "right": null,
            "justify_content": null,
            "_view_module": "@jupyter-widgets/base",
            "overflow": null,
            "_model_module_version": "1.2.0",
            "_view_count": null,
            "flex_flow": null,
            "width": null,
            "min_width": null,
            "border": null,
            "align_items": null,
            "bottom": null,
            "_model_module": "@jupyter-widgets/base",
            "top": null,
            "grid_column": null,
            "overflow_y": null,
            "overflow_x": null,
            "grid_auto_flow": null,
            "grid_area": null,
            "grid_template_columns": null,
            "flex": null,
            "_model_name": "LayoutModel",
            "justify_items": null,
            "grid_row": null,
            "max_height": null,
            "align_content": null,
            "visibility": null,
            "align_self": null,
            "height": null,
            "min_height": null,
            "padding": null,
            "grid_auto_rows": null,
            "grid_gap": null,
            "max_width": null,
            "order": null,
            "_view_module_version": "1.2.0",
            "grid_template_areas": null,
            "object_position": null,
            "object_fit": null,
            "grid_auto_columns": null,
            "margin": null,
            "display": null,
            "left": null
          }
        },
        "505a401495ab41258fcd9822703f24e2": {
          "model_module": "@jupyter-widgets/controls",
          "model_name": "IntSliderModel",
          "state": {
            "_view_name": "IntSliderView",
            "style": "IPY_MODEL_7687bec9f9944cd8aa5a312d58dcadb5",
            "_dom_classes": [],
            "description": "layer",
            "step": 1,
            "_model_name": "IntSliderModel",
            "orientation": "horizontal",
            "max": 63,
            "_view_module": "@jupyter-widgets/controls",
            "_model_module_version": "1.5.0",
            "value": 31,
            "_view_count": null,
            "disabled": false,
            "_view_module_version": "1.5.0",
            "min": 0,
            "continuous_update": true,
            "readout_format": "d",
            "description_tooltip": null,
            "readout": true,
            "_model_module": "@jupyter-widgets/controls",
            "layout": "IPY_MODEL_e1dc76915f7a4d0886489fba7d681686"
          }
        },
        "5832048b9db644c3ac6906211fc999c8": {
          "model_module": "@jupyter-widgets/output",
          "model_name": "OutputModel",
          "state": {
            "_view_name": "OutputView",
            "msg_id": "",
            "_dom_classes": [],
            "_model_name": "OutputModel",
            "outputs": [
              {
                "output_type": "display_data",
                "metadata": {
                  "tags": [],
                  "needs_background": "light"
                },
                "image/png": "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\n",
                "text/plain": "<Figure size 720x360 with 1 Axes>"
              },
              {
                "output_type": "display_data",
                "metadata": {
                  "tags": []
                },
                "text/plain": "31"
              }
            ],
            "_view_module": "@jupyter-widgets/output",
            "_model_module_version": "1.0.0",
            "_view_count": null,
            "_view_module_version": "1.0.0",
            "layout": "IPY_MODEL_bd4ed4bc7efe4f01ab81625f62f65759",
            "_model_module": "@jupyter-widgets/output"
          }
        },
        "7687bec9f9944cd8aa5a312d58dcadb5": {
          "model_module": "@jupyter-widgets/controls",
          "model_name": "SliderStyleModel",
          "state": {
            "_view_name": "StyleView",
            "handle_color": null,
            "_model_name": "SliderStyleModel",
            "description_width": "",
            "_view_module": "@jupyter-widgets/base",
            "_model_module_version": "1.5.0",
            "_view_count": null,
            "_view_module_version": "1.2.0",
            "_model_module": "@jupyter-widgets/controls"
          }
        },
        "e1dc76915f7a4d0886489fba7d681686": {
          "model_module": "@jupyter-widgets/base",
          "model_name": "LayoutModel",
          "state": {
            "_view_name": "LayoutView",
            "grid_template_rows": null,
            "right": null,
            "justify_content": null,
            "_view_module": "@jupyter-widgets/base",
            "overflow": null,
            "_model_module_version": "1.2.0",
            "_view_count": null,
            "flex_flow": null,
            "width": null,
            "min_width": null,
            "border": null,
            "align_items": null,
            "bottom": null,
            "_model_module": "@jupyter-widgets/base",
            "top": null,
            "grid_column": null,
            "overflow_y": null,
            "overflow_x": null,
            "grid_auto_flow": null,
            "grid_area": null,
            "grid_template_columns": null,
            "flex": null,
            "_model_name": "LayoutModel",
            "justify_items": null,
            "grid_row": null,
            "max_height": null,
            "align_content": null,
            "visibility": null,
            "align_self": null,
            "height": null,
            "min_height": null,
            "padding": null,
            "grid_auto_rows": null,
            "grid_gap": null,
            "max_width": null,
            "order": null,
            "_view_module_version": "1.2.0",
            "grid_template_areas": null,
            "object_position": null,
            "object_fit": null,
            "grid_auto_columns": null,
            "margin": null,
            "display": null,
            "left": null
          }
        },
        "bd4ed4bc7efe4f01ab81625f62f65759": {
          "model_module": "@jupyter-widgets/base",
          "model_name": "LayoutModel",
          "state": {
            "_view_name": "LayoutView",
            "grid_template_rows": null,
            "right": null,
            "justify_content": null,
            "_view_module": "@jupyter-widgets/base",
            "overflow": null,
            "_model_module_version": "1.2.0",
            "_view_count": null,
            "flex_flow": null,
            "width": null,
            "min_width": null,
            "border": null,
            "align_items": null,
            "bottom": null,
            "_model_module": "@jupyter-widgets/base",
            "top": null,
            "grid_column": null,
            "overflow_y": null,
            "overflow_x": null,
            "grid_auto_flow": null,
            "grid_area": null,
            "grid_template_columns": null,
            "flex": null,
            "_model_name": "LayoutModel",
            "justify_items": null,
            "grid_row": null,
            "max_height": null,
            "align_content": null,
            "visibility": null,
            "align_self": null,
            "height": null,
            "min_height": null,
            "padding": null,
            "grid_auto_rows": null,
            "grid_gap": null,
            "max_width": null,
            "order": null,
            "_view_module_version": "1.2.0",
            "grid_template_areas": null,
            "object_position": null,
            "object_fit": null,
            "grid_auto_columns": null,
            "margin": null,
            "display": null,
            "left": null
          }
        }
      }
    },
    "accelerator": "GPU"
  },
  "cells": [
    {
      "cell_type": "markdown",
      "metadata": {
        "id": "view-in-github",
        "colab_type": "text"
      },
      "source": [
        "<a href=\"https://colab.research.google.com/github/alirezash97/BraTS/blob/master/Survival.ipynb\" target=\"_parent\"><img src=\"https://colab.research.google.com/assets/colab-badge.svg\" alt=\"Open In Colab\"/></a>"
      ]
    },
    {
      "cell_type": "code",
      "metadata": {
        "id": "9Pih2fajhmV6",
        "colab_type": "code",
        "colab": {
          "base_uri": "https://localhost:8080/",
          "height": 121
        },
        "outputId": "99766b36-663c-4f65-90a9-36bea1735c78"
      },
      "source": [
        "# from google.colab import drive\n",
        "# drive.mount('/content/drive')"
      ],
      "execution_count": 1,
      "outputs": [
        {
          "output_type": "stream",
          "text": [
            "Go to this URL in a browser: https://accounts.google.com/o/oauth2/auth?client_id=947318989803-6bn6qk8qdgf4n4g3pfee6491hc0brc4i.apps.googleusercontent.com&redirect_uri=urn%3aietf%3awg%3aoauth%3a2.0%3aoob&scope=email%20https%3a%2f%2fwww.googleapis.com%2fauth%2fdocs.test%20https%3a%2f%2fwww.googleapis.com%2fauth%2fdrive%20https%3a%2f%2fwww.googleapis.com%2fauth%2fdrive.photos.readonly%20https%3a%2f%2fwww.googleapis.com%2fauth%2fpeopleapi.readonly&response_type=code\n",
            "\n",
            "Enter your authorization code:\n",
            "··········\n",
            "Mounted at /content/drive\n"
          ],
          "name": "stdout"
        }
      ]
    },
    {
      "cell_type": "code",
      "metadata": {
        "id": "e-rsO906hRlB",
        "colab_type": "code",
        "colab": {}
      },
      "source": [
        "import tensorflow as tf\n",
        "import os\n",
        "import numpy as np\n",
        "from nibabel.testing import data_path\n",
        "import nibabel as nib\n",
        "import matplotlib.pyplot as plt\n",
        "from keras.utils import to_categorical\n",
        "import cv2\n",
        "import keras \n",
        "import random\n",
        "from keras import Model"
      ],
      "execution_count": 54,
      "outputs": []
    },
    {
      "cell_type": "code",
      "metadata": {
        "id": "AgPl_eCpbWcH",
        "colab_type": "code",
        "colab": {}
      },
      "source": [
        "from sklearn.datasets import load_boston\n",
        "from keras.models import Sequential\n",
        "from keras.initializers import glorot_uniform\n",
        "from keras.layers import Dense, Conv2D, Flatten, Input, BatchNormalization, Activation, MaxPooling2D, Add, AveragePooling2D\n",
        "from sklearn.model_selection import train_test_split\n",
        "from sklearn.metrics import mean_squared_error\n",
        "import matplotlib.pyplot as plt"
      ],
      "execution_count": 50,
      "outputs": []
    },
    {
      "cell_type": "code",
      "metadata": {
        "id": "uSSlCYlqhyOT",
        "colab_type": "code",
        "colab": {}
      },
      "source": [
        "import glob, os\n",
        "images_path = glob.glob('/content/drive/My Drive/BRATS2020/MICCAI_BraTS2020_TrainingData/**/*.nii.gz', recursive=True)"
      ],
      "execution_count": 4,
      "outputs": []
    },
    {
      "cell_type": "code",
      "metadata": {
        "id": "zw7XGW-mh08q",
        "colab_type": "code",
        "colab": {}
      },
      "source": [
        "\n",
        "X_trainset_filenames = []\n",
        "\n",
        "for item in images_path:\n",
        "  if 'seg' in item:\n",
        "    X_trainset_filenames.append(os.path.join(data_path, item))\n",
        "  else:\n",
        "    pass"
      ],
      "execution_count": 5,
      "outputs": []
    },
    {
      "cell_type": "code",
      "metadata": {
        "id": "KaM3SMoLh4F2",
        "colab_type": "code",
        "colab": {
          "base_uri": "https://localhost:8080/",
          "height": 34
        },
        "outputId": "2670c240-2d03-4edc-b71b-aeb2dc203e7b"
      },
      "source": [
        "print(len(X_trainset_filenames))"
      ],
      "execution_count": 6,
      "outputs": [
        {
          "output_type": "stream",
          "text": [
            "369\n"
          ],
          "name": "stdout"
        }
      ]
    },
    {
      "cell_type": "code",
      "metadata": {
        "id": "O4zHhjCIh6gU",
        "colab_type": "code",
        "colab": {}
      },
      "source": [
        "def shuffle(input_path):\n",
        "\n",
        "  a_list = list(range(0, len(input_path)))\n",
        "  random.shuffle(a_list)\n",
        "\n",
        "\n",
        "  new_input_path = []\n",
        "  for i in a_list:\n",
        "    \n",
        "    new_input_path.append(input_path[i])\n",
        "\n",
        "  return new_input_path"
      ],
      "execution_count": 7,
      "outputs": []
    },
    {
      "cell_type": "code",
      "metadata": {
        "id": "X3Gvw___h-GP",
        "colab_type": "code",
        "colab": {}
      },
      "source": [
        " X_trainset_filenames = shuffle( X_trainset_filenames)"
      ],
      "execution_count": 8,
      "outputs": []
    },
    {
      "cell_type": "code",
      "metadata": {
        "id": "wsmeoapQqFf4",
        "colab_type": "code",
        "colab": {
          "base_uri": "https://localhost:8080/",
          "height": 34
        },
        "outputId": "aa3f2eeb-0f5b-4ca2-a34d-05627d063300"
      },
      "source": [
        "print( X_trainset_filenames[0])"
      ],
      "execution_count": 68,
      "outputs": [
        {
          "output_type": "stream",
          "text": [
            "/content/drive/My Drive/BRATS2020/MICCAI_BraTS2020_TrainingData/BraTS20_Training_255/BraTS20_Training_255_seg.nii.gz\n"
          ],
          "name": "stdout"
        }
      ]
    },
    {
      "cell_type": "code",
      "metadata": {
        "id": "bD3XCXFIqXxe",
        "colab_type": "code",
        "colab": {
          "base_uri": "https://localhost:8080/",
          "height": 35
        },
        "outputId": "b175c966-88ce-4ac1-acd7-20619b7dac0b"
      },
      "source": [
        "X_trainset_filenames[60][81:84]"
      ],
      "execution_count": 76,
      "outputs": [
        {
          "output_type": "execute_result",
          "data": {
            "application/vnd.google.colaboratory.intrinsic+json": {
              "type": "string"
            },
            "text/plain": [
              "'218'"
            ]
          },
          "metadata": {
            "tags": []
          },
          "execution_count": 76
        }
      ]
    },
    {
      "cell_type": "code",
      "metadata": {
        "id": "1SRmPrrqiFtY",
        "colab_type": "code",
        "colab": {}
      },
      "source": [
        "\n",
        "def load_case(label_nifty_file):\n",
        "    \n",
        "    # load the label file, get the image content and return a numpy array for each\n",
        "\n",
        "    label = np.array(nib.load(label_nifty_file).get_fdata())\n",
        "\n",
        "    for i in range(240):\n",
        "          for j in range(240):\n",
        "            for k in range(155):\n",
        "              if label[i, j, k] == 4.0 :\n",
        "                label[i, j, k] = 3.0\n",
        "              else:\n",
        "                pass\n",
        "    \n",
        "    \n",
        "    return label"
      ],
      "execution_count": 9,
      "outputs": []
    },
    {
      "cell_type": "code",
      "metadata": {
        "id": "BbAdGL9-lJsw",
        "colab_type": "code",
        "colab": {
          "base_uri": "https://localhost:8080/",
          "height": 373,
          "referenced_widgets": [
            "1e00e72cc37e40ecb79e7eefc9c79f20",
            "0ff4a4b255684cb59c397f50c33149af",
            "697c2ca2507b4cd7b7d5f6988ee53ce7",
            "526a4fd1fbf5453e842bee2ad15880e2",
            "131cd9718a6f4fae8dbc79f2c49adde5",
            "1d7688b043be4087b2016be7bc1a20d0",
            "97bfb9602e644172b8d210544873a080"
          ]
        },
        "outputId": "b3fbf180-07d6-444c-fbca-01000170b2d5"
      },
      "source": [
        "\n",
        "\n",
        "from ipywidgets import interact\n",
        "\n",
        "M = load_case(X_trainset_filenames[0])\n",
        "\n",
        "def explore_3dimage(layer):\n",
        "    plt.figure(figsize=(10, 5))\n",
        "    channel = 3\n",
        "    plt.imshow(M[:, :, layer]);\n",
        "    plt.title('Explore Layers of Tumor prediction', fontsize=20)\n",
        "    plt.axis('off')\n",
        "    return layer\n",
        "\n",
        "# Run the ipywidgets interact() function to explore the data\n",
        "interact(explore_3dimage, layer=(0, 155 - 1));"
      ],
      "execution_count": 10,
      "outputs": [
        {
          "output_type": "display_data",
          "data": {
            "application/vnd.jupyter.widget-view+json": {
              "model_id": "1e00e72cc37e40ecb79e7eefc9c79f20",
              "version_minor": 0,
              "version_major": 2
            },
            "text/plain": [
              "interactive(children=(IntSlider(value=77, description='layer', max=154), Output()), _dom_classes=('widget-inte…"
            ]
          },
          "metadata": {
            "tags": []
          }
        }
      ]
    },
    {
      "cell_type": "code",
      "metadata": {
        "id": "G0EEyNq1ngDZ",
        "colab_type": "code",
        "colab": {}
      },
      "source": [
        "\n",
        "## get the most important part for survival task (the tumor)\n",
        "\n",
        "\n",
        "def get_max(image, out_x, out_y, out_z, stride, number_of_images_to_extract):\n",
        "  \n",
        "  x = image.shape[0]\n",
        "  y = image.shape[1]\n",
        "  z = image.shape[2]\n",
        "\n",
        "\n",
        "  total_number_of_cubes = ( int((z - out_z)/stride) * int((x - out_x)/stride) * int((y - out_y)/stride) )\n",
        "  details = np.zeros((total_number_of_cubes, 4))\n",
        "\n",
        "  counter = 0\n",
        "  for i in range( int((z - out_z)/stride) ):\n",
        "    for j in range( int((x - out_x)/stride) ):\n",
        "      for k in range( int((y - out_y)/stride) ):\n",
        "\n",
        "        \n",
        "        temp = np.sum(image[ (j*stride):((j*stride)+out_x), (k*stride):((k*stride)+out_y), (i*stride):((i*stride)+out_z) ])\n",
        "        details[counter] = (j*stride), (k*stride), (i*stride), temp\n",
        "        counter += 1\n",
        "\n",
        "  \n",
        "\n",
        "  \n",
        "  final_extracted_images = []\n",
        "  for l in range(number_of_images_to_extract):\n",
        "    \n",
        "    max_ind = np.unravel_index(np.argmax(details, axis=None), details.shape) \n",
        "  \n",
        "    x_start = int(details[max_ind[0], 0])\n",
        "    y_start = int(details[max_ind[0], 1])\n",
        "    z_start = int(details[max_ind[0], 2])\n",
        "\n",
        "    temp = image[ x_start:(x_start+out_x) , y_start:(y_start+out_y) , z_start:(z_start+out_z) ]\n",
        "    final_extracted_images.append(temp)\n",
        "    details[max_ind[0], 3] = 0\n",
        "\n",
        "\n",
        "\n",
        "  return np.array(final_extracted_images)\n",
        "\n",
        "\n"
      ],
      "execution_count": 11,
      "outputs": []
    },
    {
      "cell_type": "code",
      "metadata": {
        "id": "Ir_Rf-zqufxe",
        "colab_type": "code",
        "colab": {}
      },
      "source": [
        "image = get_max(M, 64, 64, 64, 8, 3)"
      ],
      "execution_count": 12,
      "outputs": []
    },
    {
      "cell_type": "code",
      "metadata": {
        "id": "HOKRk9fs8Slv",
        "colab_type": "code",
        "colab": {
          "base_uri": "https://localhost:8080/",
          "height": 34
        },
        "outputId": "729bb6ca-d8a9-48de-e3d9-30e0df23f368"
      },
      "source": [
        "print(image.shape)"
      ],
      "execution_count": 13,
      "outputs": [
        {
          "output_type": "stream",
          "text": [
            "(3, 64, 64, 64)\n"
          ],
          "name": "stdout"
        }
      ]
    },
    {
      "cell_type": "code",
      "metadata": {
        "id": "R625Q3C_xGXR",
        "colab_type": "code",
        "colab": {
          "base_uri": "https://localhost:8080/",
          "height": 373,
          "referenced_widgets": [
            "17f9fe131e4d4a70bafc7175b5103fe5",
            "dccb21cbc7b14b7abb6e3aac4f1f89f7",
            "505a401495ab41258fcd9822703f24e2",
            "5832048b9db644c3ac6906211fc999c8",
            "7687bec9f9944cd8aa5a312d58dcadb5",
            "e1dc76915f7a4d0886489fba7d681686",
            "bd4ed4bc7efe4f01ab81625f62f65759"
          ]
        },
        "outputId": "f495f3a8-50d2-4d53-acad-816744493dd6"
      },
      "source": [
        "from ipywidgets import interact\n",
        "\n",
        "\n",
        "\n",
        "def explore_3dimage(layer):\n",
        "    plt.figure(figsize=(10, 5))\n",
        "    channel = 3\n",
        "    plt.imshow(image[0, :, :, layer]);\n",
        "    plt.title('Explore Layers of Tumor prediction', fontsize=20)\n",
        "    plt.axis('off')\n",
        "    return layer\n",
        "\n",
        "# Run the ipywidgets interact() function to explore the data\n",
        "interact(explore_3dimage, layer=(0, 64 - 1));"
      ],
      "execution_count": 17,
      "outputs": [
        {
          "output_type": "display_data",
          "data": {
            "application/vnd.jupyter.widget-view+json": {
              "model_id": "17f9fe131e4d4a70bafc7175b5103fe5",
              "version_minor": 0,
              "version_major": 2
            },
            "text/plain": [
              "interactive(children=(IntSlider(value=31, description='layer', max=63), Output()), _dom_classes=('widget-inter…"
            ]
          },
          "metadata": {
            "tags": []
          }
        }
      ]
    },
    {
      "cell_type": "code",
      "metadata": {
        "id": "NpXCI1lkzEgl",
        "colab_type": "code",
        "colab": {
          "base_uri": "https://localhost:8080/",
          "height": 402
        },
        "outputId": "80c23488-4b5b-4200-bc1b-c14b1c9d68a0"
      },
      "source": [
        "import pandas as pd \n",
        "pd.read_csv(\"/content/drive/My Drive/BRATS2020/MICCAI_BraTS2020_TrainingData/survival_info.csv\")"
      ],
      "execution_count": 18,
      "outputs": [
        {
          "output_type": "execute_result",
          "data": {
            "text/html": [
              "<div>\n",
              "<style scoped>\n",
              "    .dataframe tbody tr th:only-of-type {\n",
              "        vertical-align: middle;\n",
              "    }\n",
              "\n",
              "    .dataframe tbody tr th {\n",
              "        vertical-align: top;\n",
              "    }\n",
              "\n",
              "    .dataframe thead th {\n",
              "        text-align: right;\n",
              "    }\n",
              "</style>\n",
              "<table border=\"1\" class=\"dataframe\">\n",
              "  <thead>\n",
              "    <tr style=\"text-align: right;\">\n",
              "      <th></th>\n",
              "      <th>Brats20ID</th>\n",
              "      <th>Age</th>\n",
              "      <th>Survival_days</th>\n",
              "      <th>Extent_of_Resection</th>\n",
              "    </tr>\n",
              "  </thead>\n",
              "  <tbody>\n",
              "    <tr>\n",
              "      <th>0</th>\n",
              "      <td>BraTS20_Training_001</td>\n",
              "      <td>60.463</td>\n",
              "      <td>289</td>\n",
              "      <td>GTR</td>\n",
              "    </tr>\n",
              "    <tr>\n",
              "      <th>1</th>\n",
              "      <td>BraTS20_Training_002</td>\n",
              "      <td>52.263</td>\n",
              "      <td>616</td>\n",
              "      <td>GTR</td>\n",
              "    </tr>\n",
              "    <tr>\n",
              "      <th>2</th>\n",
              "      <td>BraTS20_Training_003</td>\n",
              "      <td>54.301</td>\n",
              "      <td>464</td>\n",
              "      <td>GTR</td>\n",
              "    </tr>\n",
              "    <tr>\n",
              "      <th>3</th>\n",
              "      <td>BraTS20_Training_004</td>\n",
              "      <td>39.068</td>\n",
              "      <td>788</td>\n",
              "      <td>GTR</td>\n",
              "    </tr>\n",
              "    <tr>\n",
              "      <th>4</th>\n",
              "      <td>BraTS20_Training_005</td>\n",
              "      <td>68.493</td>\n",
              "      <td>465</td>\n",
              "      <td>GTR</td>\n",
              "    </tr>\n",
              "    <tr>\n",
              "      <th>...</th>\n",
              "      <td>...</td>\n",
              "      <td>...</td>\n",
              "      <td>...</td>\n",
              "      <td>...</td>\n",
              "    </tr>\n",
              "    <tr>\n",
              "      <th>231</th>\n",
              "      <td>BraTS20_Training_363</td>\n",
              "      <td>57.000</td>\n",
              "      <td>62</td>\n",
              "      <td>GTR</td>\n",
              "    </tr>\n",
              "    <tr>\n",
              "      <th>232</th>\n",
              "      <td>BraTS20_Training_366</td>\n",
              "      <td>72.000</td>\n",
              "      <td>633</td>\n",
              "      <td>GTR</td>\n",
              "    </tr>\n",
              "    <tr>\n",
              "      <th>233</th>\n",
              "      <td>BraTS20_Training_367</td>\n",
              "      <td>60.000</td>\n",
              "      <td>437</td>\n",
              "      <td>STR</td>\n",
              "    </tr>\n",
              "    <tr>\n",
              "      <th>234</th>\n",
              "      <td>BraTS20_Training_368</td>\n",
              "      <td>49.000</td>\n",
              "      <td>442</td>\n",
              "      <td>GTR</td>\n",
              "    </tr>\n",
              "    <tr>\n",
              "      <th>235</th>\n",
              "      <td>BraTS20_Training_369</td>\n",
              "      <td>50.000</td>\n",
              "      <td>145</td>\n",
              "      <td>GTR</td>\n",
              "    </tr>\n",
              "  </tbody>\n",
              "</table>\n",
              "<p>236 rows × 4 columns</p>\n",
              "</div>"
            ],
            "text/plain": [
              "                Brats20ID     Age Survival_days Extent_of_Resection\n",
              "0    BraTS20_Training_001  60.463           289                 GTR\n",
              "1    BraTS20_Training_002  52.263           616                 GTR\n",
              "2    BraTS20_Training_003  54.301           464                 GTR\n",
              "3    BraTS20_Training_004  39.068           788                 GTR\n",
              "4    BraTS20_Training_005  68.493           465                 GTR\n",
              "..                    ...     ...           ...                 ...\n",
              "231  BraTS20_Training_363  57.000            62                 GTR\n",
              "232  BraTS20_Training_366  72.000           633                 GTR\n",
              "233  BraTS20_Training_367  60.000           437                 STR\n",
              "234  BraTS20_Training_368  49.000           442                 GTR\n",
              "235  BraTS20_Training_369  50.000           145                 GTR\n",
              "\n",
              "[236 rows x 4 columns]"
            ]
          },
          "metadata": {
            "tags": []
          },
          "execution_count": 18
        }
      ]
    },
    {
      "cell_type": "code",
      "metadata": {
        "id": "RYO-HfilsfMx",
        "colab_type": "code",
        "colab": {}
      },
      "source": [
        "import csv\n",
        "\n",
        "def find_index(input): \n",
        "    o = open('/content/drive/My Drive/BRATS2020/MICCAI_BraTS2020_TrainingData/survival_info.csv', 'r') \n",
        "    myData = csv.reader(o) \n",
        "    index = 0 \n",
        "    for row in myData:\n",
        "      #print row\n",
        "      if input in row[0]: \n",
        "        return index \n",
        "      else : index+=1\n",
        "ind = find_index('032')"
      ],
      "execution_count": 83,
      "outputs": []
    },
    {
      "cell_type": "code",
      "metadata": {
        "id": "tRiff3EDtlBG",
        "colab_type": "code",
        "colab": {}
      },
      "source": [
        "with open('/content/drive/My Drive/BRATS2020/MICCAI_BraTS2020_TrainingData/survival_info.csv') as fd:\n",
        "    reader=csv.reader(fd)\n",
        "    interestingrows=[row for idx, row in enumerate(reader) if idx in (ind, ind)]"
      ],
      "execution_count": 87,
      "outputs": []
    },
    {
      "cell_type": "code",
      "metadata": {
        "id": "2_Yljczwt3Ah",
        "colab_type": "code",
        "colab": {
          "base_uri": "https://localhost:8080/",
          "height": 34
        },
        "outputId": "78ba4387-de52-4432-9fe1-bc0c599d59db"
      },
      "source": [
        "interestingrows"
      ],
      "execution_count": 88,
      "outputs": [
        {
          "output_type": "execute_result",
          "data": {
            "text/plain": [
              "[['BraTS20_Training_032', '63.192', '488', 'NA']]"
            ]
          },
          "metadata": {
            "tags": []
          },
          "execution_count": 88
        }
      ]
    },
    {
      "cell_type": "code",
      "metadata": {
        "id": "6cX2lQCw40rF",
        "colab_type": "code",
        "colab": {}
      },
      "source": [
        "def identity_block(X, f, filters, stage, block):\n",
        "    \"\"\"\n",
        "    Implementation of the identity block as defined in Figure 3\n",
        "    Arguments:\n",
        "    X -- input tensor of shape (m, n_H_prev, n_W_prev, n_C_prev)\n",
        "    f -- integer, specifying the shape of the middle CONV's window for the main path\n",
        "    filters -- python list of integers, defining the number of filters in the CONV layers of the main path\n",
        "    stage -- integer, used to name the layers, depending on their position in the network\n",
        "    block -- string/character, used to name the layers, depending on their position in the network\n",
        "    Returns:\n",
        "    X -- output of the identity block, tensor of shape (n_H, n_W, n_C)\n",
        "    \"\"\"\n",
        "\n",
        "    # defining name basis\n",
        "    conv_name_base = 'res' + str(stage) + block + '_branch'\n",
        "    bn_name_base = 'bn' + str(stage) + block + '_branch'\n",
        "\n",
        "    # Retrieve Filters\n",
        "    F1, F2, F3 = filters\n",
        "\n",
        "    # Save the input value. You'll need this later to add back to the main path.\n",
        "    X_shortcut = X\n",
        "\n",
        "    # First component of main path\n",
        "    X = Conv2D(filters=F1, kernel_size=1, strides=1, padding='valid', name=conv_name_base + '2a', kernel_initializer=glorot_uniform(seed=0))(X)\n",
        "    X = BatchNormalization( name=bn_name_base + '2a')(X)\n",
        "    X = Activation('relu')(X)\n",
        "\n",
        "    # Second component of main path\n",
        "    X = Conv2D(filters=F2, kernel_size=f, strides=1, padding='same', name=conv_name_base + '2b', kernel_initializer=glorot_uniform(seed=0))(X)\n",
        "    X = BatchNormalization( name=bn_name_base + '2b')(X)\n",
        "    X = Activation('relu')(X)\n",
        "\n",
        "    # Third component of main path\n",
        "    X = Conv2D(filters=F3, kernel_size=1, strides=1, padding='valid', name=conv_name_base + '2c', kernel_initializer=glorot_uniform(seed=0))(X)\n",
        "    X = BatchNormalization( name=bn_name_base + '2c')(X)\n",
        "\n",
        "    # Final step: Add shortcut value to main path, and pass it through a RELU activation\n",
        "    X = Add()([X, X_shortcut])\n",
        "    X = Activation('relu')(X)\n",
        "\n",
        "    ### END CODE HERE ###\n",
        "\n",
        "    return X"
      ],
      "execution_count": 30,
      "outputs": []
    },
    {
      "cell_type": "code",
      "metadata": {
        "id": "PZXZI2cKbQ3V",
        "colab_type": "code",
        "colab": {}
      },
      "source": [
        "def convolutional_block(X, f, filters, stage, block, s=2):\n",
        "    \"\"\"\n",
        "    Implementation of the convolutional block as defined in Figure 4\n",
        "    Arguments:\n",
        "    X -- input tensor of shape (m, n_H_prev, n_W_prev, n_C_prev)\n",
        "    f -- integer, specifying the shape of the middle CONV's window for the main path\n",
        "    filters -- python list of integers, defining the number of filters in the CONV layers of the main path\n",
        "    stage -- integer, used to name the layers, depending on their position in the network\n",
        "    block -- string/character, used to name the layers, depending on their position in the network\n",
        "    s -- Integer, specifying the stride to be used\n",
        "    Returns:\n",
        "    X -- output of the convolutional block, tensor of shape (n_H, n_W, n_C)\n",
        "    \"\"\"\n",
        "\n",
        "    # defining name basis\n",
        "    conv_name_base = 'res' + str(stage) + block + '_branch'\n",
        "    bn_name_base = 'bn' + str(stage) + block + '_branch'\n",
        "\n",
        "    # Retrieve Filters\n",
        "    F1, F2, F3 = filters\n",
        "\n",
        "    # Save the input value\n",
        "    X_shortcut = X\n",
        "\n",
        "    # First component of main path\n",
        "    X = Conv2D(F1, 1, strides=s, name=conv_name_base + '2a', kernel_initializer=glorot_uniform(seed=0))(X)\n",
        "    X = BatchNormalization( name=bn_name_base + '2a')(X)\n",
        "    X = Activation('relu')(X)\n",
        "\n",
        "    # Second component of main path\n",
        "    X = Conv2D(filters=F2, kernel_size=f, strides=1, padding='same', name=conv_name_base + '2b', kernel_initializer=glorot_uniform(seed=0))(X)\n",
        "    X = BatchNormalization( name=bn_name_base + '2b')(X)\n",
        "    X = Activation('relu')(X)\n",
        "\n",
        "    # Third component of main path\n",
        "    X = Conv2D(filters=F3, kernel_size=1, strides=1, padding='valid', name=conv_name_base + '2c', kernel_initializer=glorot_uniform(seed=0))(X)\n",
        "    X = BatchNormalization(name=bn_name_base + '2c')(X)\n",
        "\n",
        "    # Shortcut path\n",
        "    X_shortcut = Conv2D(F3, 1, strides=s, name=conv_name_base + '1', kernel_initializer=glorot_uniform(seed=0))(X_shortcut)\n",
        "    X_shortcut = BatchNormalization( name=bn_name_base + '1')(X_shortcut)\n",
        "\n",
        "    # Final step: Add shortcut value to main path, and pass it through a RELU activation (≈2 lines)\n",
        "    X = Add()([X, X_shortcut])\n",
        "    X = Activation('relu')(X)\n",
        "\n",
        "    return X"
      ],
      "execution_count": 31,
      "outputs": []
    },
    {
      "cell_type": "code",
      "metadata": {
        "id": "D3tDc5RDdTiY",
        "colab_type": "code",
        "colab": {}
      },
      "source": [
        "def ResNet50(input_shape=(64, 64, 64), classes=4):\n",
        "    \"\"\"\n",
        "    Implementation of the popular ResNet50 the following architecture:\n",
        "    CONV2D -> BATCHNORM -> RELU -> MAXPOOL -> CONVBLOCK -> IDBLOCK*2 -> CONVBLOCK -> IDBLOCK*3\n",
        "    -> CONVBLOCK -> IDBLOCK*5 -> CONVBLOCK -> IDBLOCK*2 -> AVGPOOL -> TOPLAYER\n",
        "    Arguments:\n",
        "    input_shape -- shape of the images of the dataset\n",
        "    classes -- integer, number of classes\n",
        "    Returns:\n",
        "    model -- a Model() instance in Keras\n",
        "    \"\"\"\n",
        "\n",
        "    # Define the input as a tensor with shape input_shape\n",
        "    res_X_input = Input(shape=input_shape)\n",
        "\n",
        "    # Zero-Padding\n",
        "    # X = ZeroPadding1D((3, 3))(X_input)\n",
        "\n",
        "    # Stage 1\n",
        "    res_X = Conv2D(64, 7, strides=1, name='conv1', kernel_initializer=glorot_uniform(seed=0))(res_X_input)\n",
        "    res_X = BatchNormalization(name='bn_conv1')(res_X)\n",
        "    res_X = Activation('relu')(res_X)\n",
        "    res_X = MaxPooling2D(3, strides=2)(res_X)\n",
        "\n",
        "    # Stage 2\n",
        "    res_X = convolutional_block(res_X, f=3, filters=[64, 64, 256], stage=2, block='a', s=1)\n",
        "    res_X = identity_block(res_X, 3, [64, 64, 256], stage=2, block='b')\n",
        "    res_X = identity_block(res_X, 3, [64, 64, 256], stage=2, block='c')\n",
        "\n",
        "    ### START CODE HERE ###\n",
        "\n",
        "    # Stage 3\n",
        "    res_X = convolutional_block(res_X, f=3, filters=[128, 128, 512], stage=3, block='a', s=2)\n",
        "    res_X = identity_block(res_X, 3, [128, 128, 512], stage=3, block='b')\n",
        "    res_X = identity_block(res_X, 3, [128, 128, 512], stage=3, block='c')\n",
        "    res_X = identity_block(res_X, 3, [128, 128, 512], stage=3, block='d')\n",
        "\n",
        "    # Stage 4\n",
        "    res_X = convolutional_block(res_X, f=3, filters=[256, 256, 1024], stage=4, block='a', s=2)\n",
        "    res_X = identity_block(res_X, 3, [256, 256, 1024], stage=4, block='b')\n",
        "    res_X = identity_block(res_X, 3, [256, 256, 1024], stage=4, block='c')\n",
        "    res_X = identity_block(res_X, 3, [256, 256, 1024], stage=4, block='d')\n",
        "    res_X = identity_block(res_X, 3, [256, 256, 1024], stage=4, block='e')\n",
        "    res_X = identity_block(res_X, 3, [256, 256, 1024], stage=4, block='f')\n",
        "\n",
        "    # Stage 5\n",
        "    res_X = convolutional_block(res_X, f=3, filters=[512, 512, 2048], stage=5, block='a', s=2)\n",
        "    res_X = identity_block(res_X, 3, [512, 512, 2048], stage=5, block='b')\n",
        "    res_X = identity_block(res_X, 3, [512, 512, 2048], stage=5, block='c')\n",
        "\n",
        "    # Average Pooling\n",
        "    res_X = AveragePooling2D(2, name='avg_pool')(res_X)\n",
        "\n",
        "    ### END CODE HERE ###\n",
        "\n",
        "    # output layer\n",
        "    res_X = Flatten()(res_X)\n",
        "    res_X = Dense(1, activation='linear', name='fc' + str(classes), kernel_initializer=glorot_uniform(seed=0))(res_X)\n",
        "\n",
        "    # Create model\n",
        "    res_model = Model(inputs=res_X_input, outputs=res_X, name='ResNet50')\n",
        "\n",
        "    return res_model"
      ],
      "execution_count": 65,
      "outputs": []
    },
    {
      "cell_type": "code",
      "metadata": {
        "id": "QVeY7Wz1dfED",
        "colab_type": "code",
        "colab": {}
      },
      "source": [
        "res_model = ResNet50(input_shape = (64, 64, 64), classes = 4)"
      ],
      "execution_count": 66,
      "outputs": []
    },
    {
      "cell_type": "code",
      "metadata": {
        "id": "F2pN3N0DjQU6",
        "colab_type": "code",
        "colab": {
          "base_uri": "https://localhost:8080/",
          "height": 1000
        },
        "outputId": "da9d0b49-b493-41ff-c424-38b9a6eb47d9"
      },
      "source": [
        "res_model.summary()"
      ],
      "execution_count": 67,
      "outputs": [
        {
          "output_type": "stream",
          "text": [
            "Model: \"ResNet50\"\n",
            "__________________________________________________________________________________________________\n",
            "Layer (type)                    Output Shape         Param #     Connected to                     \n",
            "==================================================================================================\n",
            "input_18 (InputLayer)           [(None, 64, 64, 64)] 0                                            \n",
            "__________________________________________________________________________________________________\n",
            "conv1 (Conv2D)                  (None, 58, 58, 64)   200768      input_18[0][0]                   \n",
            "__________________________________________________________________________________________________\n",
            "bn_conv1 (BatchNormalization)   (None, 58, 58, 64)   256         conv1[0][0]                      \n",
            "__________________________________________________________________________________________________\n",
            "activation_350 (Activation)     (None, 58, 58, 64)   0           bn_conv1[0][0]                   \n",
            "__________________________________________________________________________________________________\n",
            "max_pooling2d_8 (MaxPooling2D)  (None, 28, 28, 64)   0           activation_350[0][0]             \n",
            "__________________________________________________________________________________________________\n",
            "res2a_branch2a (Conv2D)         (None, 28, 28, 64)   4160        max_pooling2d_8[0][0]            \n",
            "__________________________________________________________________________________________________\n",
            "bn2a_branch2a (BatchNormalizati (None, 28, 28, 64)   256         res2a_branch2a[0][0]             \n",
            "__________________________________________________________________________________________________\n",
            "activation_351 (Activation)     (None, 28, 28, 64)   0           bn2a_branch2a[0][0]              \n",
            "__________________________________________________________________________________________________\n",
            "res2a_branch2b (Conv2D)         (None, 28, 28, 64)   36928       activation_351[0][0]             \n",
            "__________________________________________________________________________________________________\n",
            "bn2a_branch2b (BatchNormalizati (None, 28, 28, 64)   256         res2a_branch2b[0][0]             \n",
            "__________________________________________________________________________________________________\n",
            "activation_352 (Activation)     (None, 28, 28, 64)   0           bn2a_branch2b[0][0]              \n",
            "__________________________________________________________________________________________________\n",
            "res2a_branch2c (Conv2D)         (None, 28, 28, 256)  16640       activation_352[0][0]             \n",
            "__________________________________________________________________________________________________\n",
            "res2a_branch1 (Conv2D)          (None, 28, 28, 256)  16640       max_pooling2d_8[0][0]            \n",
            "__________________________________________________________________________________________________\n",
            "bn2a_branch2c (BatchNormalizati (None, 28, 28, 256)  1024        res2a_branch2c[0][0]             \n",
            "__________________________________________________________________________________________________\n",
            "bn2a_branch1 (BatchNormalizatio (None, 28, 28, 256)  1024        res2a_branch1[0][0]              \n",
            "__________________________________________________________________________________________________\n",
            "add_112 (Add)                   (None, 28, 28, 256)  0           bn2a_branch2c[0][0]              \n",
            "                                                                 bn2a_branch1[0][0]               \n",
            "__________________________________________________________________________________________________\n",
            "activation_353 (Activation)     (None, 28, 28, 256)  0           add_112[0][0]                    \n",
            "__________________________________________________________________________________________________\n",
            "res2b_branch2a (Conv2D)         (None, 28, 28, 64)   16448       activation_353[0][0]             \n",
            "__________________________________________________________________________________________________\n",
            "bn2b_branch2a (BatchNormalizati (None, 28, 28, 64)   256         res2b_branch2a[0][0]             \n",
            "__________________________________________________________________________________________________\n",
            "activation_354 (Activation)     (None, 28, 28, 64)   0           bn2b_branch2a[0][0]              \n",
            "__________________________________________________________________________________________________\n",
            "res2b_branch2b (Conv2D)         (None, 28, 28, 64)   36928       activation_354[0][0]             \n",
            "__________________________________________________________________________________________________\n",
            "bn2b_branch2b (BatchNormalizati (None, 28, 28, 64)   256         res2b_branch2b[0][0]             \n",
            "__________________________________________________________________________________________________\n",
            "activation_355 (Activation)     (None, 28, 28, 64)   0           bn2b_branch2b[0][0]              \n",
            "__________________________________________________________________________________________________\n",
            "res2b_branch2c (Conv2D)         (None, 28, 28, 256)  16640       activation_355[0][0]             \n",
            "__________________________________________________________________________________________________\n",
            "bn2b_branch2c (BatchNormalizati (None, 28, 28, 256)  1024        res2b_branch2c[0][0]             \n",
            "__________________________________________________________________________________________________\n",
            "add_113 (Add)                   (None, 28, 28, 256)  0           bn2b_branch2c[0][0]              \n",
            "                                                                 activation_353[0][0]             \n",
            "__________________________________________________________________________________________________\n",
            "activation_356 (Activation)     (None, 28, 28, 256)  0           add_113[0][0]                    \n",
            "__________________________________________________________________________________________________\n",
            "res2c_branch2a (Conv2D)         (None, 28, 28, 64)   16448       activation_356[0][0]             \n",
            "__________________________________________________________________________________________________\n",
            "bn2c_branch2a (BatchNormalizati (None, 28, 28, 64)   256         res2c_branch2a[0][0]             \n",
            "__________________________________________________________________________________________________\n",
            "activation_357 (Activation)     (None, 28, 28, 64)   0           bn2c_branch2a[0][0]              \n",
            "__________________________________________________________________________________________________\n",
            "res2c_branch2b (Conv2D)         (None, 28, 28, 64)   36928       activation_357[0][0]             \n",
            "__________________________________________________________________________________________________\n",
            "bn2c_branch2b (BatchNormalizati (None, 28, 28, 64)   256         res2c_branch2b[0][0]             \n",
            "__________________________________________________________________________________________________\n",
            "activation_358 (Activation)     (None, 28, 28, 64)   0           bn2c_branch2b[0][0]              \n",
            "__________________________________________________________________________________________________\n",
            "res2c_branch2c (Conv2D)         (None, 28, 28, 256)  16640       activation_358[0][0]             \n",
            "__________________________________________________________________________________________________\n",
            "bn2c_branch2c (BatchNormalizati (None, 28, 28, 256)  1024        res2c_branch2c[0][0]             \n",
            "__________________________________________________________________________________________________\n",
            "add_114 (Add)                   (None, 28, 28, 256)  0           bn2c_branch2c[0][0]              \n",
            "                                                                 activation_356[0][0]             \n",
            "__________________________________________________________________________________________________\n",
            "activation_359 (Activation)     (None, 28, 28, 256)  0           add_114[0][0]                    \n",
            "__________________________________________________________________________________________________\n",
            "res3a_branch2a (Conv2D)         (None, 14, 14, 128)  32896       activation_359[0][0]             \n",
            "__________________________________________________________________________________________________\n",
            "bn3a_branch2a (BatchNormalizati (None, 14, 14, 128)  512         res3a_branch2a[0][0]             \n",
            "__________________________________________________________________________________________________\n",
            "activation_360 (Activation)     (None, 14, 14, 128)  0           bn3a_branch2a[0][0]              \n",
            "__________________________________________________________________________________________________\n",
            "res3a_branch2b (Conv2D)         (None, 14, 14, 128)  147584      activation_360[0][0]             \n",
            "__________________________________________________________________________________________________\n",
            "bn3a_branch2b (BatchNormalizati (None, 14, 14, 128)  512         res3a_branch2b[0][0]             \n",
            "__________________________________________________________________________________________________\n",
            "activation_361 (Activation)     (None, 14, 14, 128)  0           bn3a_branch2b[0][0]              \n",
            "__________________________________________________________________________________________________\n",
            "res3a_branch2c (Conv2D)         (None, 14, 14, 512)  66048       activation_361[0][0]             \n",
            "__________________________________________________________________________________________________\n",
            "res3a_branch1 (Conv2D)          (None, 14, 14, 512)  131584      activation_359[0][0]             \n",
            "__________________________________________________________________________________________________\n",
            "bn3a_branch2c (BatchNormalizati (None, 14, 14, 512)  2048        res3a_branch2c[0][0]             \n",
            "__________________________________________________________________________________________________\n",
            "bn3a_branch1 (BatchNormalizatio (None, 14, 14, 512)  2048        res3a_branch1[0][0]              \n",
            "__________________________________________________________________________________________________\n",
            "add_115 (Add)                   (None, 14, 14, 512)  0           bn3a_branch2c[0][0]              \n",
            "                                                                 bn3a_branch1[0][0]               \n",
            "__________________________________________________________________________________________________\n",
            "activation_362 (Activation)     (None, 14, 14, 512)  0           add_115[0][0]                    \n",
            "__________________________________________________________________________________________________\n",
            "res3b_branch2a (Conv2D)         (None, 14, 14, 128)  65664       activation_362[0][0]             \n",
            "__________________________________________________________________________________________________\n",
            "bn3b_branch2a (BatchNormalizati (None, 14, 14, 128)  512         res3b_branch2a[0][0]             \n",
            "__________________________________________________________________________________________________\n",
            "activation_363 (Activation)     (None, 14, 14, 128)  0           bn3b_branch2a[0][0]              \n",
            "__________________________________________________________________________________________________\n",
            "res3b_branch2b (Conv2D)         (None, 14, 14, 128)  147584      activation_363[0][0]             \n",
            "__________________________________________________________________________________________________\n",
            "bn3b_branch2b (BatchNormalizati (None, 14, 14, 128)  512         res3b_branch2b[0][0]             \n",
            "__________________________________________________________________________________________________\n",
            "activation_364 (Activation)     (None, 14, 14, 128)  0           bn3b_branch2b[0][0]              \n",
            "__________________________________________________________________________________________________\n",
            "res3b_branch2c (Conv2D)         (None, 14, 14, 512)  66048       activation_364[0][0]             \n",
            "__________________________________________________________________________________________________\n",
            "bn3b_branch2c (BatchNormalizati (None, 14, 14, 512)  2048        res3b_branch2c[0][0]             \n",
            "__________________________________________________________________________________________________\n",
            "add_116 (Add)                   (None, 14, 14, 512)  0           bn3b_branch2c[0][0]              \n",
            "                                                                 activation_362[0][0]             \n",
            "__________________________________________________________________________________________________\n",
            "activation_365 (Activation)     (None, 14, 14, 512)  0           add_116[0][0]                    \n",
            "__________________________________________________________________________________________________\n",
            "res3c_branch2a (Conv2D)         (None, 14, 14, 128)  65664       activation_365[0][0]             \n",
            "__________________________________________________________________________________________________\n",
            "bn3c_branch2a (BatchNormalizati (None, 14, 14, 128)  512         res3c_branch2a[0][0]             \n",
            "__________________________________________________________________________________________________\n",
            "activation_366 (Activation)     (None, 14, 14, 128)  0           bn3c_branch2a[0][0]              \n",
            "__________________________________________________________________________________________________\n",
            "res3c_branch2b (Conv2D)         (None, 14, 14, 128)  147584      activation_366[0][0]             \n",
            "__________________________________________________________________________________________________\n",
            "bn3c_branch2b (BatchNormalizati (None, 14, 14, 128)  512         res3c_branch2b[0][0]             \n",
            "__________________________________________________________________________________________________\n",
            "activation_367 (Activation)     (None, 14, 14, 128)  0           bn3c_branch2b[0][0]              \n",
            "__________________________________________________________________________________________________\n",
            "res3c_branch2c (Conv2D)         (None, 14, 14, 512)  66048       activation_367[0][0]             \n",
            "__________________________________________________________________________________________________\n",
            "bn3c_branch2c (BatchNormalizati (None, 14, 14, 512)  2048        res3c_branch2c[0][0]             \n",
            "__________________________________________________________________________________________________\n",
            "add_117 (Add)                   (None, 14, 14, 512)  0           bn3c_branch2c[0][0]              \n",
            "                                                                 activation_365[0][0]             \n",
            "__________________________________________________________________________________________________\n",
            "activation_368 (Activation)     (None, 14, 14, 512)  0           add_117[0][0]                    \n",
            "__________________________________________________________________________________________________\n",
            "res3d_branch2a (Conv2D)         (None, 14, 14, 128)  65664       activation_368[0][0]             \n",
            "__________________________________________________________________________________________________\n",
            "bn3d_branch2a (BatchNormalizati (None, 14, 14, 128)  512         res3d_branch2a[0][0]             \n",
            "__________________________________________________________________________________________________\n",
            "activation_369 (Activation)     (None, 14, 14, 128)  0           bn3d_branch2a[0][0]              \n",
            "__________________________________________________________________________________________________\n",
            "res3d_branch2b (Conv2D)         (None, 14, 14, 128)  147584      activation_369[0][0]             \n",
            "__________________________________________________________________________________________________\n",
            "bn3d_branch2b (BatchNormalizati (None, 14, 14, 128)  512         res3d_branch2b[0][0]             \n",
            "__________________________________________________________________________________________________\n",
            "activation_370 (Activation)     (None, 14, 14, 128)  0           bn3d_branch2b[0][0]              \n",
            "__________________________________________________________________________________________________\n",
            "res3d_branch2c (Conv2D)         (None, 14, 14, 512)  66048       activation_370[0][0]             \n",
            "__________________________________________________________________________________________________\n",
            "bn3d_branch2c (BatchNormalizati (None, 14, 14, 512)  2048        res3d_branch2c[0][0]             \n",
            "__________________________________________________________________________________________________\n",
            "add_118 (Add)                   (None, 14, 14, 512)  0           bn3d_branch2c[0][0]              \n",
            "                                                                 activation_368[0][0]             \n",
            "__________________________________________________________________________________________________\n",
            "activation_371 (Activation)     (None, 14, 14, 512)  0           add_118[0][0]                    \n",
            "__________________________________________________________________________________________________\n",
            "res4a_branch2a (Conv2D)         (None, 7, 7, 256)    131328      activation_371[0][0]             \n",
            "__________________________________________________________________________________________________\n",
            "bn4a_branch2a (BatchNormalizati (None, 7, 7, 256)    1024        res4a_branch2a[0][0]             \n",
            "__________________________________________________________________________________________________\n",
            "activation_372 (Activation)     (None, 7, 7, 256)    0           bn4a_branch2a[0][0]              \n",
            "__________________________________________________________________________________________________\n",
            "res4a_branch2b (Conv2D)         (None, 7, 7, 256)    590080      activation_372[0][0]             \n",
            "__________________________________________________________________________________________________\n",
            "bn4a_branch2b (BatchNormalizati (None, 7, 7, 256)    1024        res4a_branch2b[0][0]             \n",
            "__________________________________________________________________________________________________\n",
            "activation_373 (Activation)     (None, 7, 7, 256)    0           bn4a_branch2b[0][0]              \n",
            "__________________________________________________________________________________________________\n",
            "res4a_branch2c (Conv2D)         (None, 7, 7, 1024)   263168      activation_373[0][0]             \n",
            "__________________________________________________________________________________________________\n",
            "res4a_branch1 (Conv2D)          (None, 7, 7, 1024)   525312      activation_371[0][0]             \n",
            "__________________________________________________________________________________________________\n",
            "bn4a_branch2c (BatchNormalizati (None, 7, 7, 1024)   4096        res4a_branch2c[0][0]             \n",
            "__________________________________________________________________________________________________\n",
            "bn4a_branch1 (BatchNormalizatio (None, 7, 7, 1024)   4096        res4a_branch1[0][0]              \n",
            "__________________________________________________________________________________________________\n",
            "add_119 (Add)                   (None, 7, 7, 1024)   0           bn4a_branch2c[0][0]              \n",
            "                                                                 bn4a_branch1[0][0]               \n",
            "__________________________________________________________________________________________________\n",
            "activation_374 (Activation)     (None, 7, 7, 1024)   0           add_119[0][0]                    \n",
            "__________________________________________________________________________________________________\n",
            "res4b_branch2a (Conv2D)         (None, 7, 7, 256)    262400      activation_374[0][0]             \n",
            "__________________________________________________________________________________________________\n",
            "bn4b_branch2a (BatchNormalizati (None, 7, 7, 256)    1024        res4b_branch2a[0][0]             \n",
            "__________________________________________________________________________________________________\n",
            "activation_375 (Activation)     (None, 7, 7, 256)    0           bn4b_branch2a[0][0]              \n",
            "__________________________________________________________________________________________________\n",
            "res4b_branch2b (Conv2D)         (None, 7, 7, 256)    590080      activation_375[0][0]             \n",
            "__________________________________________________________________________________________________\n",
            "bn4b_branch2b (BatchNormalizati (None, 7, 7, 256)    1024        res4b_branch2b[0][0]             \n",
            "__________________________________________________________________________________________________\n",
            "activation_376 (Activation)     (None, 7, 7, 256)    0           bn4b_branch2b[0][0]              \n",
            "__________________________________________________________________________________________________\n",
            "res4b_branch2c (Conv2D)         (None, 7, 7, 1024)   263168      activation_376[0][0]             \n",
            "__________________________________________________________________________________________________\n",
            "bn4b_branch2c (BatchNormalizati (None, 7, 7, 1024)   4096        res4b_branch2c[0][0]             \n",
            "__________________________________________________________________________________________________\n",
            "add_120 (Add)                   (None, 7, 7, 1024)   0           bn4b_branch2c[0][0]              \n",
            "                                                                 activation_374[0][0]             \n",
            "__________________________________________________________________________________________________\n",
            "activation_377 (Activation)     (None, 7, 7, 1024)   0           add_120[0][0]                    \n",
            "__________________________________________________________________________________________________\n",
            "res4c_branch2a (Conv2D)         (None, 7, 7, 256)    262400      activation_377[0][0]             \n",
            "__________________________________________________________________________________________________\n",
            "bn4c_branch2a (BatchNormalizati (None, 7, 7, 256)    1024        res4c_branch2a[0][0]             \n",
            "__________________________________________________________________________________________________\n",
            "activation_378 (Activation)     (None, 7, 7, 256)    0           bn4c_branch2a[0][0]              \n",
            "__________________________________________________________________________________________________\n",
            "res4c_branch2b (Conv2D)         (None, 7, 7, 256)    590080      activation_378[0][0]             \n",
            "__________________________________________________________________________________________________\n",
            "bn4c_branch2b (BatchNormalizati (None, 7, 7, 256)    1024        res4c_branch2b[0][0]             \n",
            "__________________________________________________________________________________________________\n",
            "activation_379 (Activation)     (None, 7, 7, 256)    0           bn4c_branch2b[0][0]              \n",
            "__________________________________________________________________________________________________\n",
            "res4c_branch2c (Conv2D)         (None, 7, 7, 1024)   263168      activation_379[0][0]             \n",
            "__________________________________________________________________________________________________\n",
            "bn4c_branch2c (BatchNormalizati (None, 7, 7, 1024)   4096        res4c_branch2c[0][0]             \n",
            "__________________________________________________________________________________________________\n",
            "add_121 (Add)                   (None, 7, 7, 1024)   0           bn4c_branch2c[0][0]              \n",
            "                                                                 activation_377[0][0]             \n",
            "__________________________________________________________________________________________________\n",
            "activation_380 (Activation)     (None, 7, 7, 1024)   0           add_121[0][0]                    \n",
            "__________________________________________________________________________________________________\n",
            "res4d_branch2a (Conv2D)         (None, 7, 7, 256)    262400      activation_380[0][0]             \n",
            "__________________________________________________________________________________________________\n",
            "bn4d_branch2a (BatchNormalizati (None, 7, 7, 256)    1024        res4d_branch2a[0][0]             \n",
            "__________________________________________________________________________________________________\n",
            "activation_381 (Activation)     (None, 7, 7, 256)    0           bn4d_branch2a[0][0]              \n",
            "__________________________________________________________________________________________________\n",
            "res4d_branch2b (Conv2D)         (None, 7, 7, 256)    590080      activation_381[0][0]             \n",
            "__________________________________________________________________________________________________\n",
            "bn4d_branch2b (BatchNormalizati (None, 7, 7, 256)    1024        res4d_branch2b[0][0]             \n",
            "__________________________________________________________________________________________________\n",
            "activation_382 (Activation)     (None, 7, 7, 256)    0           bn4d_branch2b[0][0]              \n",
            "__________________________________________________________________________________________________\n",
            "res4d_branch2c (Conv2D)         (None, 7, 7, 1024)   263168      activation_382[0][0]             \n",
            "__________________________________________________________________________________________________\n",
            "bn4d_branch2c (BatchNormalizati (None, 7, 7, 1024)   4096        res4d_branch2c[0][0]             \n",
            "__________________________________________________________________________________________________\n",
            "add_122 (Add)                   (None, 7, 7, 1024)   0           bn4d_branch2c[0][0]              \n",
            "                                                                 activation_380[0][0]             \n",
            "__________________________________________________________________________________________________\n",
            "activation_383 (Activation)     (None, 7, 7, 1024)   0           add_122[0][0]                    \n",
            "__________________________________________________________________________________________________\n",
            "res4e_branch2a (Conv2D)         (None, 7, 7, 256)    262400      activation_383[0][0]             \n",
            "__________________________________________________________________________________________________\n",
            "bn4e_branch2a (BatchNormalizati (None, 7, 7, 256)    1024        res4e_branch2a[0][0]             \n",
            "__________________________________________________________________________________________________\n",
            "activation_384 (Activation)     (None, 7, 7, 256)    0           bn4e_branch2a[0][0]              \n",
            "__________________________________________________________________________________________________\n",
            "res4e_branch2b (Conv2D)         (None, 7, 7, 256)    590080      activation_384[0][0]             \n",
            "__________________________________________________________________________________________________\n",
            "bn4e_branch2b (BatchNormalizati (None, 7, 7, 256)    1024        res4e_branch2b[0][0]             \n",
            "__________________________________________________________________________________________________\n",
            "activation_385 (Activation)     (None, 7, 7, 256)    0           bn4e_branch2b[0][0]              \n",
            "__________________________________________________________________________________________________\n",
            "res4e_branch2c (Conv2D)         (None, 7, 7, 1024)   263168      activation_385[0][0]             \n",
            "__________________________________________________________________________________________________\n",
            "bn4e_branch2c (BatchNormalizati (None, 7, 7, 1024)   4096        res4e_branch2c[0][0]             \n",
            "__________________________________________________________________________________________________\n",
            "add_123 (Add)                   (None, 7, 7, 1024)   0           bn4e_branch2c[0][0]              \n",
            "                                                                 activation_383[0][0]             \n",
            "__________________________________________________________________________________________________\n",
            "activation_386 (Activation)     (None, 7, 7, 1024)   0           add_123[0][0]                    \n",
            "__________________________________________________________________________________________________\n",
            "res4f_branch2a (Conv2D)         (None, 7, 7, 256)    262400      activation_386[0][0]             \n",
            "__________________________________________________________________________________________________\n",
            "bn4f_branch2a (BatchNormalizati (None, 7, 7, 256)    1024        res4f_branch2a[0][0]             \n",
            "__________________________________________________________________________________________________\n",
            "activation_387 (Activation)     (None, 7, 7, 256)    0           bn4f_branch2a[0][0]              \n",
            "__________________________________________________________________________________________________\n",
            "res4f_branch2b (Conv2D)         (None, 7, 7, 256)    590080      activation_387[0][0]             \n",
            "__________________________________________________________________________________________________\n",
            "bn4f_branch2b (BatchNormalizati (None, 7, 7, 256)    1024        res4f_branch2b[0][0]             \n",
            "__________________________________________________________________________________________________\n",
            "activation_388 (Activation)     (None, 7, 7, 256)    0           bn4f_branch2b[0][0]              \n",
            "__________________________________________________________________________________________________\n",
            "res4f_branch2c (Conv2D)         (None, 7, 7, 1024)   263168      activation_388[0][0]             \n",
            "__________________________________________________________________________________________________\n",
            "bn4f_branch2c (BatchNormalizati (None, 7, 7, 1024)   4096        res4f_branch2c[0][0]             \n",
            "__________________________________________________________________________________________________\n",
            "add_124 (Add)                   (None, 7, 7, 1024)   0           bn4f_branch2c[0][0]              \n",
            "                                                                 activation_386[0][0]             \n",
            "__________________________________________________________________________________________________\n",
            "activation_389 (Activation)     (None, 7, 7, 1024)   0           add_124[0][0]                    \n",
            "__________________________________________________________________________________________________\n",
            "res5a_branch2a (Conv2D)         (None, 4, 4, 512)    524800      activation_389[0][0]             \n",
            "__________________________________________________________________________________________________\n",
            "bn5a_branch2a (BatchNormalizati (None, 4, 4, 512)    2048        res5a_branch2a[0][0]             \n",
            "__________________________________________________________________________________________________\n",
            "activation_390 (Activation)     (None, 4, 4, 512)    0           bn5a_branch2a[0][0]              \n",
            "__________________________________________________________________________________________________\n",
            "res5a_branch2b (Conv2D)         (None, 4, 4, 512)    2359808     activation_390[0][0]             \n",
            "__________________________________________________________________________________________________\n",
            "bn5a_branch2b (BatchNormalizati (None, 4, 4, 512)    2048        res5a_branch2b[0][0]             \n",
            "__________________________________________________________________________________________________\n",
            "activation_391 (Activation)     (None, 4, 4, 512)    0           bn5a_branch2b[0][0]              \n",
            "__________________________________________________________________________________________________\n",
            "res5a_branch2c (Conv2D)         (None, 4, 4, 2048)   1050624     activation_391[0][0]             \n",
            "__________________________________________________________________________________________________\n",
            "res5a_branch1 (Conv2D)          (None, 4, 4, 2048)   2099200     activation_389[0][0]             \n",
            "__________________________________________________________________________________________________\n",
            "bn5a_branch2c (BatchNormalizati (None, 4, 4, 2048)   8192        res5a_branch2c[0][0]             \n",
            "__________________________________________________________________________________________________\n",
            "bn5a_branch1 (BatchNormalizatio (None, 4, 4, 2048)   8192        res5a_branch1[0][0]              \n",
            "__________________________________________________________________________________________________\n",
            "add_125 (Add)                   (None, 4, 4, 2048)   0           bn5a_branch2c[0][0]              \n",
            "                                                                 bn5a_branch1[0][0]               \n",
            "__________________________________________________________________________________________________\n",
            "activation_392 (Activation)     (None, 4, 4, 2048)   0           add_125[0][0]                    \n",
            "__________________________________________________________________________________________________\n",
            "res5b_branch2a (Conv2D)         (None, 4, 4, 512)    1049088     activation_392[0][0]             \n",
            "__________________________________________________________________________________________________\n",
            "bn5b_branch2a (BatchNormalizati (None, 4, 4, 512)    2048        res5b_branch2a[0][0]             \n",
            "__________________________________________________________________________________________________\n",
            "activation_393 (Activation)     (None, 4, 4, 512)    0           bn5b_branch2a[0][0]              \n",
            "__________________________________________________________________________________________________\n",
            "res5b_branch2b (Conv2D)         (None, 4, 4, 512)    2359808     activation_393[0][0]             \n",
            "__________________________________________________________________________________________________\n",
            "bn5b_branch2b (BatchNormalizati (None, 4, 4, 512)    2048        res5b_branch2b[0][0]             \n",
            "__________________________________________________________________________________________________\n",
            "activation_394 (Activation)     (None, 4, 4, 512)    0           bn5b_branch2b[0][0]              \n",
            "__________________________________________________________________________________________________\n",
            "res5b_branch2c (Conv2D)         (None, 4, 4, 2048)   1050624     activation_394[0][0]             \n",
            "__________________________________________________________________________________________________\n",
            "bn5b_branch2c (BatchNormalizati (None, 4, 4, 2048)   8192        res5b_branch2c[0][0]             \n",
            "__________________________________________________________________________________________________\n",
            "add_126 (Add)                   (None, 4, 4, 2048)   0           bn5b_branch2c[0][0]              \n",
            "                                                                 activation_392[0][0]             \n",
            "__________________________________________________________________________________________________\n",
            "activation_395 (Activation)     (None, 4, 4, 2048)   0           add_126[0][0]                    \n",
            "__________________________________________________________________________________________________\n",
            "res5c_branch2a (Conv2D)         (None, 4, 4, 512)    1049088     activation_395[0][0]             \n",
            "__________________________________________________________________________________________________\n",
            "bn5c_branch2a (BatchNormalizati (None, 4, 4, 512)    2048        res5c_branch2a[0][0]             \n",
            "__________________________________________________________________________________________________\n",
            "activation_396 (Activation)     (None, 4, 4, 512)    0           bn5c_branch2a[0][0]              \n",
            "__________________________________________________________________________________________________\n",
            "res5c_branch2b (Conv2D)         (None, 4, 4, 512)    2359808     activation_396[0][0]             \n",
            "__________________________________________________________________________________________________\n",
            "bn5c_branch2b (BatchNormalizati (None, 4, 4, 512)    2048        res5c_branch2b[0][0]             \n",
            "__________________________________________________________________________________________________\n",
            "activation_397 (Activation)     (None, 4, 4, 512)    0           bn5c_branch2b[0][0]              \n",
            "__________________________________________________________________________________________________\n",
            "res5c_branch2c (Conv2D)         (None, 4, 4, 2048)   1050624     activation_397[0][0]             \n",
            "__________________________________________________________________________________________________\n",
            "bn5c_branch2c (BatchNormalizati (None, 4, 4, 2048)   8192        res5c_branch2c[0][0]             \n",
            "__________________________________________________________________________________________________\n",
            "add_127 (Add)                   (None, 4, 4, 2048)   0           bn5c_branch2c[0][0]              \n",
            "                                                                 activation_395[0][0]             \n",
            "__________________________________________________________________________________________________\n",
            "activation_398 (Activation)     (None, 4, 4, 2048)   0           add_127[0][0]                    \n",
            "__________________________________________________________________________________________________\n",
            "avg_pool (AveragePooling2D)     (None, 2, 2, 2048)   0           activation_398[0][0]             \n",
            "__________________________________________________________________________________________________\n",
            "flatten_6 (Flatten)             (None, 8192)         0           avg_pool[0][0]                   \n",
            "__________________________________________________________________________________________________\n",
            "fc4 (Dense)                     (None, 1)            8193        flatten_6[0][0]                  \n",
            "==================================================================================================\n",
            "Total params: 23,787,201\n",
            "Trainable params: 23,734,081\n",
            "Non-trainable params: 53,120\n",
            "__________________________________________________________________________________________________\n"
          ],
          "name": "stdout"
        }
      ]
    },
    {
      "cell_type": "code",
      "metadata": {
        "id": "yde1OzV8l3IY",
        "colab_type": "code",
        "colab": {}
      },
      "source": [
        "def generator(X_path, y_path, batch_size=2):\n",
        "    \n",
        "\n",
        "\n",
        "    num_samples = len(X_path)\n",
        "    while True: # Loop forever so the generator never terminates\n",
        "\n",
        " \n",
        "        # Get index to start each batch: [0, batch_size, 2*batch_size, ..., max multiple of batch_size &lt;= num_samples]\n",
        "        for offset in range(0, int(num_samples), batch_size):\n",
        "            \n",
        "            # Get the samples you'll use in this batch\n",
        "            batch_samples = X_path[ ((offset * batch_size) : (((offset+1) * batch_size) ]\n",
        "            batch_targets = y_path[ (offset*batch_size) : ((offset+1)*batch_size) ]\n",
        " \n",
        "            \n",
        "            \n",
        " \n",
        "            ### iterate 8 times on the same batch to generate 8 subvolumes of each image\n",
        "            for i in range(14): \n",
        "              \n",
        "              # Initialise X_train and y_train arrays for this batch\n",
        "              X_train = []\n",
        "              y_train = []\n",
        "\n",
        "              for i in range(len(batch_targets)):\n",
        "              \n",
        "                image, label = load_case(X_trainset_filenames[ (i*4) : ((i+1)*4) ], y_trainset_filenames[i])\n",
        "                X, y = get_sub_volume(image, label)\n",
        "                X_norm = standardize(X)\n",
        "                X_norm = np.moveaxis( X_norm, 0, 3)\n",
        "                y = np.moveaxis( y, 0, 3)\n",
        "                X_train.append(X_norm)\n",
        "                y_train.append(y)\n",
        "                \n",
        "                  \n",
        "  \n",
        "              # Make sure they're numpy arrays (as opposed to lists)\n",
        "\n",
        "              X_train = np.array(X_train)\n",
        "              y_train = np.array(y_train)\n",
        "\n",
        "\n",
        "\n",
        "\n",
        "              if X_train.ndim == 4:             \n",
        "                yield X_train, y_train\n",
        "              else:\n",
        "                pass"
      ],
      "execution_count": null,
      "outputs": []
    },
    {
      "cell_type": "code",
      "metadata": {
        "id": "FEba7UJRoSn7",
        "colab_type": "code",
        "colab": {}
      },
      "source": [
        "train_generator = generator(file_path_Xtrain, file_path_ytrain, batch_size=2)\n",
        "validation_generator = generator(file_path_Xvalid, file_path_yvalid, batch_size=2)"
      ],
      "execution_count": null,
      "outputs": []
    }
  ]
}