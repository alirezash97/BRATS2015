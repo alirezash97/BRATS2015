{
  "nbformat": 4,
  "nbformat_minor": 0,
  "metadata": {
    "colab": {
      "name": "Survival.ipynb",
      "provenance": [],
      "include_colab_link": true
    },
    "kernelspec": {
      "name": "python3",
      "display_name": "Python 3"
    },
    "widgets": {
      "application/vnd.jupyter.widget-state+json": {
        "e85b574f71eb4bf1950fd96c50017228": {
          "model_module": "@jupyter-widgets/controls",
          "model_name": "VBoxModel",
          "state": {
            "_view_name": "VBoxView",
            "_dom_classes": [
              "widget-interact"
            ],
            "_model_name": "VBoxModel",
            "_view_module": "@jupyter-widgets/controls",
            "_model_module_version": "1.5.0",
            "_view_count": null,
            "_view_module_version": "1.5.0",
            "box_style": "",
            "layout": "IPY_MODEL_0242c603a90c49628d86661f99008e77",
            "_model_module": "@jupyter-widgets/controls",
            "children": [
              "IPY_MODEL_bd81d5351bcd453893906749760feb71",
              "IPY_MODEL_ef988572361a440f8187760b4e9e5587"
            ]
          }
        },
        "0242c603a90c49628d86661f99008e77": {
          "model_module": "@jupyter-widgets/base",
          "model_name": "LayoutModel",
          "state": {
            "_view_name": "LayoutView",
            "grid_template_rows": null,
            "right": null,
            "justify_content": null,
            "_view_module": "@jupyter-widgets/base",
            "overflow": null,
            "_model_module_version": "1.2.0",
            "_view_count": null,
            "flex_flow": null,
            "width": null,
            "min_width": null,
            "border": null,
            "align_items": null,
            "bottom": null,
            "_model_module": "@jupyter-widgets/base",
            "top": null,
            "grid_column": null,
            "overflow_y": null,
            "overflow_x": null,
            "grid_auto_flow": null,
            "grid_area": null,
            "grid_template_columns": null,
            "flex": null,
            "_model_name": "LayoutModel",
            "justify_items": null,
            "grid_row": null,
            "max_height": null,
            "align_content": null,
            "visibility": null,
            "align_self": null,
            "height": null,
            "min_height": null,
            "padding": null,
            "grid_auto_rows": null,
            "grid_gap": null,
            "max_width": null,
            "order": null,
            "_view_module_version": "1.2.0",
            "grid_template_areas": null,
            "object_position": null,
            "object_fit": null,
            "grid_auto_columns": null,
            "margin": null,
            "display": null,
            "left": null
          }
        },
        "bd81d5351bcd453893906749760feb71": {
          "model_module": "@jupyter-widgets/controls",
          "model_name": "IntSliderModel",
          "state": {
            "_view_name": "IntSliderView",
            "style": "IPY_MODEL_460c4420ab5e47cabe3d5e54287f8dc6",
            "_dom_classes": [],
            "description": "layer",
            "step": 1,
            "_model_name": "IntSliderModel",
            "orientation": "horizontal",
            "max": 154,
            "_view_module": "@jupyter-widgets/controls",
            "_model_module_version": "1.5.0",
            "value": 77,
            "_view_count": null,
            "disabled": false,
            "_view_module_version": "1.5.0",
            "min": 0,
            "continuous_update": true,
            "readout_format": "d",
            "description_tooltip": null,
            "readout": true,
            "_model_module": "@jupyter-widgets/controls",
            "layout": "IPY_MODEL_4c4627910c494499a92a948739e1ce2f"
          }
        },
        "ef988572361a440f8187760b4e9e5587": {
          "model_module": "@jupyter-widgets/output",
          "model_name": "OutputModel",
          "state": {
            "_view_name": "OutputView",
            "msg_id": "",
            "_dom_classes": [],
            "_model_name": "OutputModel",
            "outputs": [
              {
                "output_type": "display_data",
                "metadata": {
                  "tags": [],
                  "needs_background": "light"
                },
                "image/png": "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\n",
                "text/plain": "<Figure size 720x360 with 1 Axes>"
              },
              {
                "output_type": "display_data",
                "metadata": {
                  "tags": []
                },
                "text/plain": "77"
              }
            ],
            "_view_module": "@jupyter-widgets/output",
            "_model_module_version": "1.0.0",
            "_view_count": null,
            "_view_module_version": "1.0.0",
            "layout": "IPY_MODEL_eb934ba56c944f08b927255d51ac3918",
            "_model_module": "@jupyter-widgets/output"
          }
        },
        "460c4420ab5e47cabe3d5e54287f8dc6": {
          "model_module": "@jupyter-widgets/controls",
          "model_name": "SliderStyleModel",
          "state": {
            "_view_name": "StyleView",
            "handle_color": null,
            "_model_name": "SliderStyleModel",
            "description_width": "",
            "_view_module": "@jupyter-widgets/base",
            "_model_module_version": "1.5.0",
            "_view_count": null,
            "_view_module_version": "1.2.0",
            "_model_module": "@jupyter-widgets/controls"
          }
        },
        "4c4627910c494499a92a948739e1ce2f": {
          "model_module": "@jupyter-widgets/base",
          "model_name": "LayoutModel",
          "state": {
            "_view_name": "LayoutView",
            "grid_template_rows": null,
            "right": null,
            "justify_content": null,
            "_view_module": "@jupyter-widgets/base",
            "overflow": null,
            "_model_module_version": "1.2.0",
            "_view_count": null,
            "flex_flow": null,
            "width": null,
            "min_width": null,
            "border": null,
            "align_items": null,
            "bottom": null,
            "_model_module": "@jupyter-widgets/base",
            "top": null,
            "grid_column": null,
            "overflow_y": null,
            "overflow_x": null,
            "grid_auto_flow": null,
            "grid_area": null,
            "grid_template_columns": null,
            "flex": null,
            "_model_name": "LayoutModel",
            "justify_items": null,
            "grid_row": null,
            "max_height": null,
            "align_content": null,
            "visibility": null,
            "align_self": null,
            "height": null,
            "min_height": null,
            "padding": null,
            "grid_auto_rows": null,
            "grid_gap": null,
            "max_width": null,
            "order": null,
            "_view_module_version": "1.2.0",
            "grid_template_areas": null,
            "object_position": null,
            "object_fit": null,
            "grid_auto_columns": null,
            "margin": null,
            "display": null,
            "left": null
          }
        },
        "eb934ba56c944f08b927255d51ac3918": {
          "model_module": "@jupyter-widgets/base",
          "model_name": "LayoutModel",
          "state": {
            "_view_name": "LayoutView",
            "grid_template_rows": null,
            "right": null,
            "justify_content": null,
            "_view_module": "@jupyter-widgets/base",
            "overflow": null,
            "_model_module_version": "1.2.0",
            "_view_count": null,
            "flex_flow": null,
            "width": null,
            "min_width": null,
            "border": null,
            "align_items": null,
            "bottom": null,
            "_model_module": "@jupyter-widgets/base",
            "top": null,
            "grid_column": null,
            "overflow_y": null,
            "overflow_x": null,
            "grid_auto_flow": null,
            "grid_area": null,
            "grid_template_columns": null,
            "flex": null,
            "_model_name": "LayoutModel",
            "justify_items": null,
            "grid_row": null,
            "max_height": null,
            "align_content": null,
            "visibility": null,
            "align_self": null,
            "height": null,
            "min_height": null,
            "padding": null,
            "grid_auto_rows": null,
            "grid_gap": null,
            "max_width": null,
            "order": null,
            "_view_module_version": "1.2.0",
            "grid_template_areas": null,
            "object_position": null,
            "object_fit": null,
            "grid_auto_columns": null,
            "margin": null,
            "display": null,
            "left": null
          }
        },
        "6d55785f07e74331b3c6c70aa2b3f002": {
          "model_module": "@jupyter-widgets/controls",
          "model_name": "VBoxModel",
          "state": {
            "_view_name": "VBoxView",
            "_dom_classes": [
              "widget-interact"
            ],
            "_model_name": "VBoxModel",
            "_view_module": "@jupyter-widgets/controls",
            "_model_module_version": "1.5.0",
            "_view_count": null,
            "_view_module_version": "1.5.0",
            "box_style": "",
            "layout": "IPY_MODEL_cb66e372a42f4c8d85d076cb4cfb5c8c",
            "_model_module": "@jupyter-widgets/controls",
            "children": [
              "IPY_MODEL_479930e691a741ceb3fa92224d6a836d",
              "IPY_MODEL_cbc61ab2ee80405188a4f0b8d02cc021"
            ]
          }
        },
        "cb66e372a42f4c8d85d076cb4cfb5c8c": {
          "model_module": "@jupyter-widgets/base",
          "model_name": "LayoutModel",
          "state": {
            "_view_name": "LayoutView",
            "grid_template_rows": null,
            "right": null,
            "justify_content": null,
            "_view_module": "@jupyter-widgets/base",
            "overflow": null,
            "_model_module_version": "1.2.0",
            "_view_count": null,
            "flex_flow": null,
            "width": null,
            "min_width": null,
            "border": null,
            "align_items": null,
            "bottom": null,
            "_model_module": "@jupyter-widgets/base",
            "top": null,
            "grid_column": null,
            "overflow_y": null,
            "overflow_x": null,
            "grid_auto_flow": null,
            "grid_area": null,
            "grid_template_columns": null,
            "flex": null,
            "_model_name": "LayoutModel",
            "justify_items": null,
            "grid_row": null,
            "max_height": null,
            "align_content": null,
            "visibility": null,
            "align_self": null,
            "height": null,
            "min_height": null,
            "padding": null,
            "grid_auto_rows": null,
            "grid_gap": null,
            "max_width": null,
            "order": null,
            "_view_module_version": "1.2.0",
            "grid_template_areas": null,
            "object_position": null,
            "object_fit": null,
            "grid_auto_columns": null,
            "margin": null,
            "display": null,
            "left": null
          }
        },
        "479930e691a741ceb3fa92224d6a836d": {
          "model_module": "@jupyter-widgets/controls",
          "model_name": "IntSliderModel",
          "state": {
            "_view_name": "IntSliderView",
            "style": "IPY_MODEL_b8518e6bc3a34209af7d1ef2544407d5",
            "_dom_classes": [],
            "description": "layer",
            "step": 1,
            "_model_name": "IntSliderModel",
            "orientation": "horizontal",
            "max": 63,
            "_view_module": "@jupyter-widgets/controls",
            "_model_module_version": "1.5.0",
            "value": 31,
            "_view_count": null,
            "disabled": false,
            "_view_module_version": "1.5.0",
            "min": 0,
            "continuous_update": true,
            "readout_format": "d",
            "description_tooltip": null,
            "readout": true,
            "_model_module": "@jupyter-widgets/controls",
            "layout": "IPY_MODEL_d1da373e75b4409397ba7e96e6006be0"
          }
        },
        "cbc61ab2ee80405188a4f0b8d02cc021": {
          "model_module": "@jupyter-widgets/output",
          "model_name": "OutputModel",
          "state": {
            "_view_name": "OutputView",
            "msg_id": "",
            "_dom_classes": [],
            "_model_name": "OutputModel",
            "outputs": [
              {
                "output_type": "display_data",
                "metadata": {
                  "tags": [],
                  "needs_background": "light"
                },
                "image/png": "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\n",
                "text/plain": "<Figure size 720x360 with 1 Axes>"
              },
              {
                "output_type": "display_data",
                "metadata": {
                  "tags": []
                },
                "text/plain": "31"
              }
            ],
            "_view_module": "@jupyter-widgets/output",
            "_model_module_version": "1.0.0",
            "_view_count": null,
            "_view_module_version": "1.0.0",
            "layout": "IPY_MODEL_bb6feec5d73f4a4b85c8a0cef4679062",
            "_model_module": "@jupyter-widgets/output"
          }
        },
        "b8518e6bc3a34209af7d1ef2544407d5": {
          "model_module": "@jupyter-widgets/controls",
          "model_name": "SliderStyleModel",
          "state": {
            "_view_name": "StyleView",
            "handle_color": null,
            "_model_name": "SliderStyleModel",
            "description_width": "",
            "_view_module": "@jupyter-widgets/base",
            "_model_module_version": "1.5.0",
            "_view_count": null,
            "_view_module_version": "1.2.0",
            "_model_module": "@jupyter-widgets/controls"
          }
        },
        "d1da373e75b4409397ba7e96e6006be0": {
          "model_module": "@jupyter-widgets/base",
          "model_name": "LayoutModel",
          "state": {
            "_view_name": "LayoutView",
            "grid_template_rows": null,
            "right": null,
            "justify_content": null,
            "_view_module": "@jupyter-widgets/base",
            "overflow": null,
            "_model_module_version": "1.2.0",
            "_view_count": null,
            "flex_flow": null,
            "width": null,
            "min_width": null,
            "border": null,
            "align_items": null,
            "bottom": null,
            "_model_module": "@jupyter-widgets/base",
            "top": null,
            "grid_column": null,
            "overflow_y": null,
            "overflow_x": null,
            "grid_auto_flow": null,
            "grid_area": null,
            "grid_template_columns": null,
            "flex": null,
            "_model_name": "LayoutModel",
            "justify_items": null,
            "grid_row": null,
            "max_height": null,
            "align_content": null,
            "visibility": null,
            "align_self": null,
            "height": null,
            "min_height": null,
            "padding": null,
            "grid_auto_rows": null,
            "grid_gap": null,
            "max_width": null,
            "order": null,
            "_view_module_version": "1.2.0",
            "grid_template_areas": null,
            "object_position": null,
            "object_fit": null,
            "grid_auto_columns": null,
            "margin": null,
            "display": null,
            "left": null
          }
        },
        "bb6feec5d73f4a4b85c8a0cef4679062": {
          "model_module": "@jupyter-widgets/base",
          "model_name": "LayoutModel",
          "state": {
            "_view_name": "LayoutView",
            "grid_template_rows": null,
            "right": null,
            "justify_content": null,
            "_view_module": "@jupyter-widgets/base",
            "overflow": null,
            "_model_module_version": "1.2.0",
            "_view_count": null,
            "flex_flow": null,
            "width": null,
            "min_width": null,
            "border": null,
            "align_items": null,
            "bottom": null,
            "_model_module": "@jupyter-widgets/base",
            "top": null,
            "grid_column": null,
            "overflow_y": null,
            "overflow_x": null,
            "grid_auto_flow": null,
            "grid_area": null,
            "grid_template_columns": null,
            "flex": null,
            "_model_name": "LayoutModel",
            "justify_items": null,
            "grid_row": null,
            "max_height": null,
            "align_content": null,
            "visibility": null,
            "align_self": null,
            "height": null,
            "min_height": null,
            "padding": null,
            "grid_auto_rows": null,
            "grid_gap": null,
            "max_width": null,
            "order": null,
            "_view_module_version": "1.2.0",
            "grid_template_areas": null,
            "object_position": null,
            "object_fit": null,
            "grid_auto_columns": null,
            "margin": null,
            "display": null,
            "left": null
          }
        },
        "69ca1553149a42819dd1bfc3fbae14dc": {
          "model_module": "@jupyter-widgets/controls",
          "model_name": "VBoxModel",
          "state": {
            "_view_name": "VBoxView",
            "_dom_classes": [
              "widget-interact"
            ],
            "_model_name": "VBoxModel",
            "_view_module": "@jupyter-widgets/controls",
            "_model_module_version": "1.5.0",
            "_view_count": null,
            "_view_module_version": "1.5.0",
            "box_style": "",
            "layout": "IPY_MODEL_15df1f68a671496d8668daaf664450ad",
            "_model_module": "@jupyter-widgets/controls",
            "children": [
              "IPY_MODEL_cb3cf2fae3594977b09b391623abde6a",
              "IPY_MODEL_30202ff9661d42189a2a4ce4c3302a53"
            ]
          }
        },
        "15df1f68a671496d8668daaf664450ad": {
          "model_module": "@jupyter-widgets/base",
          "model_name": "LayoutModel",
          "state": {
            "_view_name": "LayoutView",
            "grid_template_rows": null,
            "right": null,
            "justify_content": null,
            "_view_module": "@jupyter-widgets/base",
            "overflow": null,
            "_model_module_version": "1.2.0",
            "_view_count": null,
            "flex_flow": null,
            "width": null,
            "min_width": null,
            "border": null,
            "align_items": null,
            "bottom": null,
            "_model_module": "@jupyter-widgets/base",
            "top": null,
            "grid_column": null,
            "overflow_y": null,
            "overflow_x": null,
            "grid_auto_flow": null,
            "grid_area": null,
            "grid_template_columns": null,
            "flex": null,
            "_model_name": "LayoutModel",
            "justify_items": null,
            "grid_row": null,
            "max_height": null,
            "align_content": null,
            "visibility": null,
            "align_self": null,
            "height": null,
            "min_height": null,
            "padding": null,
            "grid_auto_rows": null,
            "grid_gap": null,
            "max_width": null,
            "order": null,
            "_view_module_version": "1.2.0",
            "grid_template_areas": null,
            "object_position": null,
            "object_fit": null,
            "grid_auto_columns": null,
            "margin": null,
            "display": null,
            "left": null
          }
        },
        "cb3cf2fae3594977b09b391623abde6a": {
          "model_module": "@jupyter-widgets/controls",
          "model_name": "IntSliderModel",
          "state": {
            "_view_name": "IntSliderView",
            "style": "IPY_MODEL_d604b8ba0db74976906d1cb079ff6bff",
            "_dom_classes": [],
            "description": "layer",
            "step": 1,
            "_model_name": "IntSliderModel",
            "orientation": "horizontal",
            "max": 63,
            "_view_module": "@jupyter-widgets/controls",
            "_model_module_version": "1.5.0",
            "value": 31,
            "_view_count": null,
            "disabled": false,
            "_view_module_version": "1.5.0",
            "min": 0,
            "continuous_update": true,
            "readout_format": "d",
            "description_tooltip": null,
            "readout": true,
            "_model_module": "@jupyter-widgets/controls",
            "layout": "IPY_MODEL_867f301a92554fa1836b16069f435b55"
          }
        },
        "30202ff9661d42189a2a4ce4c3302a53": {
          "model_module": "@jupyter-widgets/output",
          "model_name": "OutputModel",
          "state": {
            "_view_name": "OutputView",
            "msg_id": "",
            "_dom_classes": [],
            "_model_name": "OutputModel",
            "outputs": [
              {
                "output_type": "display_data",
                "metadata": {
                  "tags": [],
                  "needs_background": "light"
                },
                "image/png": "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\n",
                "text/plain": "<Figure size 720x360 with 1 Axes>"
              },
              {
                "output_type": "display_data",
                "metadata": {
                  "tags": []
                },
                "text/plain": "31"
              }
            ],
            "_view_module": "@jupyter-widgets/output",
            "_model_module_version": "1.0.0",
            "_view_count": null,
            "_view_module_version": "1.0.0",
            "layout": "IPY_MODEL_2cedad9fd8994f0cb8defce8ab380185",
            "_model_module": "@jupyter-widgets/output"
          }
        },
        "d604b8ba0db74976906d1cb079ff6bff": {
          "model_module": "@jupyter-widgets/controls",
          "model_name": "SliderStyleModel",
          "state": {
            "_view_name": "StyleView",
            "handle_color": null,
            "_model_name": "SliderStyleModel",
            "description_width": "",
            "_view_module": "@jupyter-widgets/base",
            "_model_module_version": "1.5.0",
            "_view_count": null,
            "_view_module_version": "1.2.0",
            "_model_module": "@jupyter-widgets/controls"
          }
        },
        "867f301a92554fa1836b16069f435b55": {
          "model_module": "@jupyter-widgets/base",
          "model_name": "LayoutModel",
          "state": {
            "_view_name": "LayoutView",
            "grid_template_rows": null,
            "right": null,
            "justify_content": null,
            "_view_module": "@jupyter-widgets/base",
            "overflow": null,
            "_model_module_version": "1.2.0",
            "_view_count": null,
            "flex_flow": null,
            "width": null,
            "min_width": null,
            "border": null,
            "align_items": null,
            "bottom": null,
            "_model_module": "@jupyter-widgets/base",
            "top": null,
            "grid_column": null,
            "overflow_y": null,
            "overflow_x": null,
            "grid_auto_flow": null,
            "grid_area": null,
            "grid_template_columns": null,
            "flex": null,
            "_model_name": "LayoutModel",
            "justify_items": null,
            "grid_row": null,
            "max_height": null,
            "align_content": null,
            "visibility": null,
            "align_self": null,
            "height": null,
            "min_height": null,
            "padding": null,
            "grid_auto_rows": null,
            "grid_gap": null,
            "max_width": null,
            "order": null,
            "_view_module_version": "1.2.0",
            "grid_template_areas": null,
            "object_position": null,
            "object_fit": null,
            "grid_auto_columns": null,
            "margin": null,
            "display": null,
            "left": null
          }
        },
        "2cedad9fd8994f0cb8defce8ab380185": {
          "model_module": "@jupyter-widgets/base",
          "model_name": "LayoutModel",
          "state": {
            "_view_name": "LayoutView",
            "grid_template_rows": null,
            "right": null,
            "justify_content": null,
            "_view_module": "@jupyter-widgets/base",
            "overflow": null,
            "_model_module_version": "1.2.0",
            "_view_count": null,
            "flex_flow": null,
            "width": null,
            "min_width": null,
            "border": null,
            "align_items": null,
            "bottom": null,
            "_model_module": "@jupyter-widgets/base",
            "top": null,
            "grid_column": null,
            "overflow_y": null,
            "overflow_x": null,
            "grid_auto_flow": null,
            "grid_area": null,
            "grid_template_columns": null,
            "flex": null,
            "_model_name": "LayoutModel",
            "justify_items": null,
            "grid_row": null,
            "max_height": null,
            "align_content": null,
            "visibility": null,
            "align_self": null,
            "height": null,
            "min_height": null,
            "padding": null,
            "grid_auto_rows": null,
            "grid_gap": null,
            "max_width": null,
            "order": null,
            "_view_module_version": "1.2.0",
            "grid_template_areas": null,
            "object_position": null,
            "object_fit": null,
            "grid_auto_columns": null,
            "margin": null,
            "display": null,
            "left": null
          }
        }
      }
    },
    "accelerator": "GPU"
  },
  "cells": [
    {
      "cell_type": "markdown",
      "metadata": {
        "id": "view-in-github",
        "colab_type": "text"
      },
      "source": [
        "<a href=\"https://colab.research.google.com/github/alirezash97/BraTS/blob/master/Survival.ipynb\" target=\"_parent\"><img src=\"https://colab.research.google.com/assets/colab-badge.svg\" alt=\"Open In Colab\"/></a>"
      ]
    },
    {
      "cell_type": "code",
      "metadata": {
        "id": "9Pih2fajhmV6",
        "colab_type": "code",
        "colab": {}
      },
      "source": [
        "# from google.colab import drive\n",
        "# drive.mount('/content/drive')"
      ],
      "execution_count": 1,
      "outputs": []
    },
    {
      "cell_type": "code",
      "metadata": {
        "id": "e-rsO906hRlB",
        "colab_type": "code",
        "colab": {}
      },
      "source": [
        "import tensorflow as tf\n",
        "import os\n",
        "import numpy as np\n",
        "from nibabel.testing import data_path\n",
        "import nibabel as nib\n",
        "import matplotlib.pyplot as plt\n",
        "from keras.utils import to_categorical\n",
        "import cv2\n",
        "import keras \n",
        "import random\n",
        "from keras import Model\n",
        "from keras.optimizers import Adam, Adadelta, SGD"
      ],
      "execution_count": 2,
      "outputs": []
    },
    {
      "cell_type": "code",
      "metadata": {
        "id": "AgPl_eCpbWcH",
        "colab_type": "code",
        "colab": {}
      },
      "source": [
        "from sklearn.datasets import load_boston\n",
        "from keras.models import Sequential\n",
        "from keras.initializers import glorot_uniform\n",
        "from keras.layers import Dense, Conv2D, Flatten, Input, BatchNormalization, Activation, MaxPooling2D, Add, AveragePooling2D, Dropout\n",
        "from sklearn.model_selection import train_test_split\n",
        "from sklearn.metrics import mean_squared_error\n",
        "import matplotlib.pyplot as plt"
      ],
      "execution_count": 3,
      "outputs": []
    },
    {
      "cell_type": "code",
      "metadata": {
        "id": "uSSlCYlqhyOT",
        "colab_type": "code",
        "colab": {}
      },
      "source": [
        "import glob, os\n",
        "images_path = glob.glob('/content/drive/My Drive/BRATS2020/MICCAI_BraTS2020_TrainingData/**/*.nii.gz', recursive=True)"
      ],
      "execution_count": 4,
      "outputs": []
    },
    {
      "cell_type": "code",
      "metadata": {
        "id": "zw7XGW-mh08q",
        "colab_type": "code",
        "colab": {}
      },
      "source": [
        "\n",
        "X_trainset_filenames = []\n",
        "\n",
        "for item in images_path:\n",
        "  if 'seg' in item:\n",
        "    X_trainset_filenames.append(os.path.join(data_path, item))\n",
        "  else:\n",
        "    pass"
      ],
      "execution_count": 5,
      "outputs": []
    },
    {
      "cell_type": "code",
      "metadata": {
        "id": "KaM3SMoLh4F2",
        "colab_type": "code",
        "colab": {
          "base_uri": "https://localhost:8080/",
          "height": 34
        },
        "outputId": "d920211f-071d-495a-ac6b-781218d8653b"
      },
      "source": [
        "print(len(X_trainset_filenames))"
      ],
      "execution_count": 6,
      "outputs": [
        {
          "output_type": "stream",
          "text": [
            "369\n"
          ],
          "name": "stdout"
        }
      ]
    },
    {
      "cell_type": "code",
      "metadata": {
        "id": "O4zHhjCIh6gU",
        "colab_type": "code",
        "colab": {}
      },
      "source": [
        "def shuffle(input_path):\n",
        "\n",
        "  a_list = list(range(0, len(input_path)))\n",
        "  random.shuffle(a_list)\n",
        "\n",
        "\n",
        "  new_input_path = []\n",
        "  for i in a_list:\n",
        "    \n",
        "    new_input_path.append(input_path[i])\n",
        "\n",
        "  return new_input_path"
      ],
      "execution_count": 7,
      "outputs": []
    },
    {
      "cell_type": "code",
      "metadata": {
        "id": "X3Gvw___h-GP",
        "colab_type": "code",
        "colab": {}
      },
      "source": [
        " X_trainset_filenames = shuffle(X_trainset_filenames)"
      ],
      "execution_count": 8,
      "outputs": []
    },
    {
      "cell_type": "code",
      "metadata": {
        "id": "wsmeoapQqFf4",
        "colab_type": "code",
        "colab": {
          "base_uri": "https://localhost:8080/",
          "height": 34
        },
        "outputId": "322998c2-520b-4fd8-f6c5-eacf7e9dc81e"
      },
      "source": [
        "print( X_trainset_filenames[0])"
      ],
      "execution_count": 9,
      "outputs": [
        {
          "output_type": "stream",
          "text": [
            "/content/drive/My Drive/BRATS2020/MICCAI_BraTS2020_TrainingData/BraTS20_Training_019/BraTS20_Training_019_seg.nii.gz\n"
          ],
          "name": "stdout"
        }
      ]
    },
    {
      "cell_type": "code",
      "metadata": {
        "id": "bD3XCXFIqXxe",
        "colab_type": "code",
        "colab": {
          "base_uri": "https://localhost:8080/",
          "height": 35
        },
        "outputId": "82c99513-a60c-4a88-b958-92cb1d091ad8"
      },
      "source": [
        "X_trainset_filenames[60][81:84]"
      ],
      "execution_count": 10,
      "outputs": [
        {
          "output_type": "execute_result",
          "data": {
            "application/vnd.google.colaboratory.intrinsic+json": {
              "type": "string"
            },
            "text/plain": [
              "'201'"
            ]
          },
          "metadata": {
            "tags": []
          },
          "execution_count": 10
        }
      ]
    },
    {
      "cell_type": "code",
      "metadata": {
        "id": "1SRmPrrqiFtY",
        "colab_type": "code",
        "colab": {}
      },
      "source": [
        "\n",
        "def load_case(label_nifty_file):\n",
        "    \n",
        "    # load the label file, get the image content and return a numpy array for each\n",
        "\n",
        "    label = np.array(nib.load(label_nifty_file).get_fdata())\n",
        "\n",
        "    for i in range(240):\n",
        "          for j in range(240):\n",
        "            for k in range(155):\n",
        "              if label[i, j, k] == 4.0 :\n",
        "                label[i, j, k] = 3.0\n",
        "              else:\n",
        "                pass\n",
        "    \n",
        "    \n",
        "    return label"
      ],
      "execution_count": 11,
      "outputs": []
    },
    {
      "cell_type": "code",
      "metadata": {
        "id": "BbAdGL9-lJsw",
        "colab_type": "code",
        "colab": {
          "base_uri": "https://localhost:8080/",
          "height": 390,
          "referenced_widgets": [
            "e85b574f71eb4bf1950fd96c50017228",
            "0242c603a90c49628d86661f99008e77",
            "bd81d5351bcd453893906749760feb71",
            "ef988572361a440f8187760b4e9e5587",
            "460c4420ab5e47cabe3d5e54287f8dc6",
            "4c4627910c494499a92a948739e1ce2f",
            "eb934ba56c944f08b927255d51ac3918"
          ]
        },
        "outputId": "0d814703-fb26-4c38-a9ea-038069a20564"
      },
      "source": [
        "\n",
        "\n",
        "from ipywidgets import interact\n",
        "\n",
        "M = load_case(X_trainset_filenames[0])\n",
        "print(M.shape)\n",
        "\n",
        "def explore_3dimage(layer):\n",
        "    plt.figure(figsize=(10, 5))\n",
        "    channel = 3\n",
        "    plt.imshow(M[:, :, layer]);\n",
        "    plt.title('Explore Layers of Tumor prediction', fontsize=20)\n",
        "    plt.axis('off')\n",
        "    return layer\n",
        "\n",
        "# Run the ipywidgets interact() function to explore the data\n",
        "interact(explore_3dimage, layer=(0, 155 - 1));"
      ],
      "execution_count": 12,
      "outputs": [
        {
          "output_type": "stream",
          "text": [
            "(240, 240, 155)\n"
          ],
          "name": "stdout"
        },
        {
          "output_type": "display_data",
          "data": {
            "application/vnd.jupyter.widget-view+json": {
              "model_id": "e85b574f71eb4bf1950fd96c50017228",
              "version_minor": 0,
              "version_major": 2
            },
            "text/plain": [
              "interactive(children=(IntSlider(value=77, description='layer', max=154), Output()), _dom_classes=('widget-inte…"
            ]
          },
          "metadata": {
            "tags": []
          }
        }
      ]
    },
    {
      "cell_type": "code",
      "metadata": {
        "id": "G0EEyNq1ngDZ",
        "colab_type": "code",
        "colab": {}
      },
      "source": [
        "\n",
        "## get the most important part for survival task (the tumor)\n",
        "\n",
        "\n",
        "def get_max(image, out_x, out_y, out_z, stride, number_of_images_to_extract):\n",
        "  \n",
        "  x = image.shape[0]\n",
        "  y = image.shape[1]\n",
        "  z = image.shape[2]\n",
        "\n",
        "\n",
        "  total_number_of_cubes = ( int((z - out_z)/stride) * int((x - out_x)/stride) * int((y - out_y)/stride) )\n",
        "  details = np.zeros((total_number_of_cubes, 4))\n",
        "\n",
        "  counter = 0\n",
        "  for i in range( int((z - out_z)/stride) ):\n",
        "    for j in range( int((x - out_x)/stride) ):\n",
        "      for k in range( int((y - out_y)/stride) ):\n",
        "\n",
        "        \n",
        "        temp = np.sum(image[ (j*stride):((j*stride)+out_x), (k*stride):((k*stride)+out_y), (i*stride):((i*stride)+out_z) ])\n",
        "        details[counter] = (j*stride), (k*stride), (i*stride), temp\n",
        "        counter += 1\n",
        "\n",
        "  \n",
        "\n",
        "  \n",
        "  final_extracted_images = []\n",
        "  for l in range(number_of_images_to_extract):\n",
        "    \n",
        "    max_ind = np.unravel_index(np.argmax(details, axis=None), details.shape) \n",
        "  \n",
        "    x_start = int(details[max_ind[0], 0])\n",
        "    y_start = int(details[max_ind[0], 1])\n",
        "    z_start = int(details[max_ind[0], 2])\n",
        "\n",
        "    temp = image[ x_start:(x_start+out_x) , y_start:(y_start+out_y) , z_start:(z_start+out_z) ]\n",
        "    final_extracted_images.append(temp)\n",
        "    details[max_ind[0], 3] = 0\n",
        "\n",
        "\n",
        "\n",
        "  return np.array(final_extracted_images)\n",
        "\n",
        "\n"
      ],
      "execution_count": 13,
      "outputs": []
    },
    {
      "cell_type": "code",
      "metadata": {
        "id": "Ir_Rf-zqufxe",
        "colab_type": "code",
        "colab": {}
      },
      "source": [
        "image = get_max(M, 64, 64, 64, 8, 3)"
      ],
      "execution_count": 14,
      "outputs": []
    },
    {
      "cell_type": "code",
      "metadata": {
        "id": "HOKRk9fs8Slv",
        "colab_type": "code",
        "colab": {
          "base_uri": "https://localhost:8080/",
          "height": 34
        },
        "outputId": "3fb5daaa-dde5-47b0-e9ff-c41ee3b64c5d"
      },
      "source": [
        "print(image.shape)\n"
      ],
      "execution_count": 15,
      "outputs": [
        {
          "output_type": "stream",
          "text": [
            "(3, 64, 64, 64)\n"
          ],
          "name": "stdout"
        }
      ]
    },
    {
      "cell_type": "code",
      "metadata": {
        "id": "R625Q3C_xGXR",
        "colab_type": "code",
        "colab": {
          "base_uri": "https://localhost:8080/",
          "height": 373,
          "referenced_widgets": [
            "6d55785f07e74331b3c6c70aa2b3f002",
            "cb66e372a42f4c8d85d076cb4cfb5c8c",
            "479930e691a741ceb3fa92224d6a836d",
            "cbc61ab2ee80405188a4f0b8d02cc021",
            "b8518e6bc3a34209af7d1ef2544407d5",
            "d1da373e75b4409397ba7e96e6006be0",
            "bb6feec5d73f4a4b85c8a0cef4679062"
          ]
        },
        "outputId": "00280917-ef97-4d40-f16e-5cc290b0a1fe"
      },
      "source": [
        "from ipywidgets import interact\n",
        "\n",
        "\n",
        "\n",
        "def explore_3dimage(layer):\n",
        "    plt.figure(figsize=(10, 5))\n",
        "    channel = 3\n",
        "    plt.imshow(image[0, :, :, layer]);\n",
        "    plt.title('Explore Layers of Tumor prediction', fontsize=20)\n",
        "    plt.axis('off')\n",
        "    return layer\n",
        "\n",
        "# Run the ipywidgets interact() function to explore the data\n",
        "interact(explore_3dimage, layer=(0, 64 - 1));"
      ],
      "execution_count": 16,
      "outputs": [
        {
          "output_type": "display_data",
          "data": {
            "application/vnd.jupyter.widget-view+json": {
              "model_id": "6d55785f07e74331b3c6c70aa2b3f002",
              "version_minor": 0,
              "version_major": 2
            },
            "text/plain": [
              "interactive(children=(IntSlider(value=31, description='layer', max=63), Output()), _dom_classes=('widget-inter…"
            ]
          },
          "metadata": {
            "tags": []
          }
        }
      ]
    },
    {
      "cell_type": "code",
      "metadata": {
        "id": "qUMbRml03r7-",
        "colab_type": "code",
        "colab": {}
      },
      "source": [
        "def standardize(image):\n",
        "\n",
        "    one = 1\n",
        "    # initialize to array of zeros, with same shape as the image\n",
        "    standardized_image = np.zeros((image.shape[0], image.shape[1], image.shape[2]))\n",
        "\n",
        "    \n",
        "    # iterate over the `z` dimension\n",
        "    for z in range(image.shape[2]):\n",
        "        # get a slice of the image \n",
        "        # at z-th dimension `z`\n",
        "        image_slice = image[:,:,z]\n",
        "\n",
        "        # subtract the mean from image_slice\n",
        "        centered = image_slice - np.mean(image_slice)\n",
        "            \n",
        "        # divide by the standard deviation (only if it is different from zero)\n",
        "        if np.std(centered) != 0:\n",
        "            centered_scaled = centered / np.std(centered)\n",
        "        else:\n",
        "            ### error exception ### \n",
        "            centered_scaled = centered / one\n",
        "\n",
        "        # update  the slice of standardized image\n",
        "        # with the scaled centered and scaled image\n",
        "        standardized_image[:, :, z] = centered_scaled\n",
        "\n",
        "\n",
        "\n",
        "    return standardized_image"
      ],
      "execution_count": 17,
      "outputs": []
    },
    {
      "cell_type": "code",
      "metadata": {
        "id": "4gc0V8hJ5hqA",
        "colab_type": "code",
        "colab": {
          "base_uri": "https://localhost:8080/",
          "height": 373,
          "referenced_widgets": [
            "69ca1553149a42819dd1bfc3fbae14dc",
            "15df1f68a671496d8668daaf664450ad",
            "cb3cf2fae3594977b09b391623abde6a",
            "30202ff9661d42189a2a4ce4c3302a53",
            "d604b8ba0db74976906d1cb079ff6bff",
            "867f301a92554fa1836b16069f435b55",
            "2cedad9fd8994f0cb8defce8ab380185"
          ]
        },
        "outputId": "11d4718b-c0ed-4c7a-9769-4a2f3ca04ae9"
      },
      "source": [
        "std_image = standardize(image[0])\n",
        "\n",
        "def explore_3dimage(layer):\n",
        "    plt.figure(figsize=(10, 5))\n",
        "    channel = 3\n",
        "    plt.imshow(std_image[:, :, layer]);\n",
        "    plt.title('Explore Layers of Tumor prediction', fontsize=20)\n",
        "    plt.axis('off')\n",
        "    return layer\n",
        "\n",
        "# Run the ipywidgets interact() function to explore the data\n",
        "interact(explore_3dimage, layer=(0, 64 - 1));\n"
      ],
      "execution_count": 18,
      "outputs": [
        {
          "output_type": "display_data",
          "data": {
            "application/vnd.jupyter.widget-view+json": {
              "model_id": "69ca1553149a42819dd1bfc3fbae14dc",
              "version_minor": 0,
              "version_major": 2
            },
            "text/plain": [
              "interactive(children=(IntSlider(value=31, description='layer', max=63), Output()), _dom_classes=('widget-inter…"
            ]
          },
          "metadata": {
            "tags": []
          }
        }
      ]
    },
    {
      "cell_type": "code",
      "metadata": {
        "id": "NpXCI1lkzEgl",
        "colab_type": "code",
        "colab": {}
      },
      "source": [
        "import pandas as pd \n",
        "c = pd.read_csv(\"/content/drive/My Drive/BRATS2020/MICCAI_BraTS2020_TrainingData/survival_info.csv\")"
      ],
      "execution_count": 19,
      "outputs": []
    },
    {
      "cell_type": "code",
      "metadata": {
        "id": "RYO-HfilsfMx",
        "colab_type": "code",
        "colab": {}
      },
      "source": [
        "import csv\n",
        "\n",
        "def find_days_by_patient_number(input): \n",
        "    o = open('/content/drive/My Drive/BRATS2020/MICCAI_BraTS2020_TrainingData/survival_info.csv', 'r') \n",
        "    myData = csv.reader(o) \n",
        "    index = 0 \n",
        "    \n",
        "    for row in myData:\n",
        "\n",
        "      if input in row[0]: \n",
        "        return row[2]\n",
        "      else : index+=1\n",
        "# ind = find_index('201')"
      ],
      "execution_count": 20,
      "outputs": []
    },
    {
      "cell_type": "code",
      "metadata": {
        "id": "4O4O1uBXbZHU",
        "colab_type": "code",
        "colab": {}
      },
      "source": [
        "# print(ind)"
      ],
      "execution_count": 21,
      "outputs": []
    },
    {
      "cell_type": "code",
      "metadata": {
        "id": "tRiff3EDtlBG",
        "colab_type": "code",
        "colab": {}
      },
      "source": [
        "# with open('/content/drive/My Drive/BRATS2020/MICCAI_BraTS2020_TrainingData/survival_info.csv') as fd:\n",
        "#     reader=csv.reader(fd)\n",
        "#     interestingrows=[row for idx, row in enumerate(reader) if idx in (ind, ind)]"
      ],
      "execution_count": 22,
      "outputs": []
    },
    {
      "cell_type": "code",
      "metadata": {
        "id": "2_Yljczwt3Ah",
        "colab_type": "code",
        "colab": {}
      },
      "source": [
        "# interestingrows"
      ],
      "execution_count": 23,
      "outputs": []
    },
    {
      "cell_type": "code",
      "metadata": {
        "id": "6cX2lQCw40rF",
        "colab_type": "code",
        "colab": {}
      },
      "source": [
        "def identity_block(X, f, filters, stage, block):\n",
        "    \"\"\"\n",
        "    Implementation of the identity block as defined in Figure 3\n",
        "    Arguments:\n",
        "    X -- input tensor of shape (m, n_H_prev, n_W_prev, n_C_prev)\n",
        "    f -- integer, specifying the shape of the middle CONV's window for the main path\n",
        "    filters -- python list of integers, defining the number of filters in the CONV layers of the main path\n",
        "    stage -- integer, used to name the layers, depending on their position in the network\n",
        "    block -- string/character, used to name the layers, depending on their position in the network\n",
        "    Returns:\n",
        "    X -- output of the identity block, tensor of shape (n_H, n_W, n_C)\n",
        "    \"\"\"\n",
        "\n",
        "    # defining name basis\n",
        "    conv_name_base = 'res' + str(stage) + block + '_branch'\n",
        "    bn_name_base = 'bn' + str(stage) + block + '_branch'\n",
        "\n",
        "    # Retrieve Filters\n",
        "    F1, F2, F3 = filters\n",
        "\n",
        "    # Save the input value. You'll need this later to add back to the main path.\n",
        "    X_shortcut = X\n",
        "\n",
        "    # First component of main path\n",
        "    X = Conv2D(filters=F1, kernel_size=1, strides=1, padding='valid', name=conv_name_base + '2a', kernel_initializer=glorot_uniform(seed=0))(X)\n",
        "    X = BatchNormalization( name=bn_name_base + '2a')(X)\n",
        "    X = Activation('relu')(X)\n",
        "\n",
        "    # Second component of main path\n",
        "    X = Conv2D(filters=F2, kernel_size=f, strides=1, padding='same', name=conv_name_base + '2b', kernel_initializer=glorot_uniform(seed=0))(X)\n",
        "    X = BatchNormalization( name=bn_name_base + '2b')(X)\n",
        "    X = Activation('relu')(X)\n",
        "\n",
        "    # Third component of main path\n",
        "    X = Conv2D(filters=F3, kernel_size=1, strides=1, padding='valid', name=conv_name_base + '2c', kernel_initializer=glorot_uniform(seed=0))(X)\n",
        "    X = BatchNormalization( name=bn_name_base + '2c')(X)\n",
        "\n",
        "    # Final step: Add shortcut value to main path, and pass it through a RELU activation\n",
        "    X = Add()([X, X_shortcut])\n",
        "    X = Activation('relu')(X)\n",
        "\n",
        "    ### END CODE HERE ###\n",
        "\n",
        "    return X"
      ],
      "execution_count": 24,
      "outputs": []
    },
    {
      "cell_type": "code",
      "metadata": {
        "id": "PZXZI2cKbQ3V",
        "colab_type": "code",
        "colab": {}
      },
      "source": [
        "def convolutional_block(X, f, filters, stage, block, s=2):\n",
        "    \"\"\"\n",
        "    Implementation of the convolutional block as defined in Figure 4\n",
        "    Arguments:\n",
        "    X -- input tensor of shape (m, n_H_prev, n_W_prev, n_C_prev)\n",
        "    f -- integer, specifying the shape of the middle CONV's window for the main path\n",
        "    filters -- python list of integers, defining the number of filters in the CONV layers of the main path\n",
        "    stage -- integer, used to name the layers, depending on their position in the network\n",
        "    block -- string/character, used to name the layers, depending on their position in the network\n",
        "    s -- Integer, specifying the stride to be used\n",
        "    Returns:\n",
        "    X -- output of the convolutional block, tensor of shape (n_H, n_W, n_C)\n",
        "    \"\"\"\n",
        "\n",
        "    # defining name basis\n",
        "    conv_name_base = 'res' + str(stage) + block + '_branch'\n",
        "    bn_name_base = 'bn' + str(stage) + block + '_branch'\n",
        "\n",
        "    # Retrieve Filters\n",
        "    F1, F2, F3 = filters\n",
        "\n",
        "    # Save the input value\n",
        "    X_shortcut = X\n",
        "\n",
        "    # First component of main path\n",
        "    X = Conv2D(F1, 1, strides=s, name=conv_name_base + '2a', kernel_initializer=glorot_uniform(seed=0))(X)\n",
        "    X = BatchNormalization( name=bn_name_base + '2a')(X)\n",
        "    X = Activation('relu')(X)\n",
        "\n",
        "    # Second component of main path\n",
        "    X = Conv2D(filters=F2, kernel_size=f, strides=1, padding='same', name=conv_name_base + '2b', kernel_initializer=glorot_uniform(seed=0))(X)\n",
        "    X = BatchNormalization( name=bn_name_base + '2b')(X)\n",
        "    X = Activation('relu')(X)\n",
        "\n",
        "    # Third component of main path\n",
        "    X = Conv2D(filters=F3, kernel_size=1, strides=1, padding='valid', name=conv_name_base + '2c', kernel_initializer=glorot_uniform(seed=0))(X)\n",
        "    X = BatchNormalization(name=bn_name_base + '2c')(X)\n",
        "\n",
        "    # Shortcut path\n",
        "    X_shortcut = Conv2D(F3, 1, strides=s, name=conv_name_base + '1', kernel_initializer=glorot_uniform(seed=0))(X_shortcut)\n",
        "    X_shortcut = BatchNormalization( name=bn_name_base + '1')(X_shortcut)\n",
        "\n",
        "    # Final step: Add shortcut value to main path, and pass it through a RELU activation (≈2 lines)\n",
        "    X = Add()([X, X_shortcut])\n",
        "    X = Activation('relu')(X)\n",
        "\n",
        "    return X"
      ],
      "execution_count": 25,
      "outputs": []
    },
    {
      "cell_type": "code",
      "metadata": {
        "id": "D3tDc5RDdTiY",
        "colab_type": "code",
        "colab": {}
      },
      "source": [
        "def ResNet50(input_shape=(64, 64, 64)):\n",
        "    \"\"\"\n",
        "    Implementation of the popular ResNet50 the following architecture:\n",
        "    CONV2D -> BATCHNORM -> RELU -> MAXPOOL -> CONVBLOCK -> IDBLOCK*2 -> CONVBLOCK -> IDBLOCK*3\n",
        "    -> CONVBLOCK -> IDBLOCK*5 -> CONVBLOCK -> IDBLOCK*2 -> AVGPOOL -> TOPLAYER\n",
        "    Arguments:\n",
        "    input_shape -- shape of the images of the dataset\n",
        "    classes -- integer, number of classes\n",
        "    Returns:\n",
        "    model -- a Model() instance in Keras\n",
        "    \"\"\"\n",
        "\n",
        "    # Define the input as a tensor with shape input_shape\n",
        "    res_X_input = Input(shape=input_shape)\n",
        "\n",
        "    # Zero-Padding\n",
        "    # X = ZeroPadding1D((3, 3))(X_input)\n",
        "\n",
        "    # Stage 1\n",
        "    res_X = Conv2D(64, 7, strides=1, name='conv1', kernel_initializer=glorot_uniform(seed=0))(res_X_input)\n",
        "    res_X = BatchNormalization(name='bn_conv1')(res_X)\n",
        "    res_X = Activation('relu')(res_X)\n",
        "    res_X = MaxPooling2D(3, strides=2)(res_X)\n",
        "\n",
        "    # Stage 2\n",
        "    res_X = convolutional_block(res_X, f=3, filters=[64, 64, 256], stage=2, block='a', s=1)\n",
        "    res_X = identity_block(res_X, 3, [64, 64, 256], stage=2, block='b')\n",
        "    res_X = identity_block(res_X, 3, [64, 64, 256], stage=2, block='c')\n",
        "\n",
        "    ### START CODE HERE ###\n",
        "\n",
        "    # Stage 3\n",
        "    res_X = convolutional_block(res_X, f=3, filters=[128, 128, 512], stage=3, block='a', s=2)\n",
        "    res_X = identity_block(res_X, 3, [128, 128, 512], stage=3, block='b')\n",
        "    res_X = identity_block(res_X, 3, [128, 128, 512], stage=3, block='c')\n",
        "    res_X = identity_block(res_X, 3, [128, 128, 512], stage=3, block='d')\n",
        "\n",
        "    # Stage 4\n",
        "    res_X = convolutional_block(res_X, f=3, filters=[256, 256, 1024], stage=4, block='a', s=2)\n",
        "    res_X = identity_block(res_X, 3, [256, 256, 1024], stage=4, block='b')\n",
        "    res_X = identity_block(res_X, 3, [256, 256, 1024], stage=4, block='c')\n",
        "    res_X = identity_block(res_X, 3, [256, 256, 1024], stage=4, block='d')\n",
        "    res_X = identity_block(res_X, 3, [256, 256, 1024], stage=4, block='e')\n",
        "    res_X = identity_block(res_X, 3, [256, 256, 1024], stage=4, block='f')\n",
        "\n",
        "    # Stage 5\n",
        "    res_X = convolutional_block(res_X, f=3, filters=[512, 512, 2048], stage=5, block='a', s=2)\n",
        "    res_X = identity_block(res_X, 3, [512, 512, 2048], stage=5, block='b')\n",
        "    res_X = identity_block(res_X, 3, [512, 512, 2048], stage=5, block='c')\n",
        "\n",
        "    # Average Pooling\n",
        "    res_X = AveragePooling2D(2, name='avg_pool')(res_X)\n",
        "\n",
        "    ### END CODE HERE ###\n",
        "\n",
        "    # output layer\n",
        "    res_X = Flatten()(res_X)\n",
        "    res_X = Dense(1024, activation='relu', name='fc0' , kernel_initializer=glorot_uniform(seed=0))(res_X)\n",
        "    drp0 = Dropout(0.5)(res_X)\n",
        "    res_X = Dense(256, activation='relu', name='fc1' , kernel_initializer=glorot_uniform(seed=0))(drp0)\n",
        "    drp1 = Dropout(0.25)(res_X)\n",
        "    res_X = Dense(64, activation='relu', name='fc2' , kernel_initializer=glorot_uniform(seed=0))(drp1)\n",
        "    drp2 = Dropout(0.125)(res_X)\n",
        "    res_X = Dense(1, activation='linear', name='fc3' , kernel_initializer=glorot_uniform(seed=0))(drp1)\n",
        "\n",
        "\n",
        "\n",
        "    # Create model\n",
        "    res_model = Model(inputs=res_X_input, outputs=res_X, name='ResNet50')\n",
        "\n",
        "    return res_model"
      ],
      "execution_count": 26,
      "outputs": []
    },
    {
      "cell_type": "code",
      "metadata": {
        "id": "QVeY7Wz1dfED",
        "colab_type": "code",
        "colab": {}
      },
      "source": [
        "res_model = ResNet50(input_shape = (64, 64, 64))"
      ],
      "execution_count": 27,
      "outputs": []
    },
    {
      "cell_type": "code",
      "metadata": {
        "id": "F2pN3N0DjQU6",
        "colab_type": "code",
        "colab": {
          "base_uri": "https://localhost:8080/",
          "height": 1000
        },
        "outputId": "7941eeaf-1163-46b0-d501-1256550362cc"
      },
      "source": [
        "res_model.summary()"
      ],
      "execution_count": 28,
      "outputs": [
        {
          "output_type": "stream",
          "text": [
            "Model: \"ResNet50\"\n",
            "__________________________________________________________________________________________________\n",
            "Layer (type)                    Output Shape         Param #     Connected to                     \n",
            "==================================================================================================\n",
            "input_1 (InputLayer)            [(None, 64, 64, 64)] 0                                            \n",
            "__________________________________________________________________________________________________\n",
            "conv1 (Conv2D)                  (None, 58, 58, 64)   200768      input_1[0][0]                    \n",
            "__________________________________________________________________________________________________\n",
            "bn_conv1 (BatchNormalization)   (None, 58, 58, 64)   256         conv1[0][0]                      \n",
            "__________________________________________________________________________________________________\n",
            "activation (Activation)         (None, 58, 58, 64)   0           bn_conv1[0][0]                   \n",
            "__________________________________________________________________________________________________\n",
            "max_pooling2d (MaxPooling2D)    (None, 28, 28, 64)   0           activation[0][0]                 \n",
            "__________________________________________________________________________________________________\n",
            "res2a_branch2a (Conv2D)         (None, 28, 28, 64)   4160        max_pooling2d[0][0]              \n",
            "__________________________________________________________________________________________________\n",
            "bn2a_branch2a (BatchNormalizati (None, 28, 28, 64)   256         res2a_branch2a[0][0]             \n",
            "__________________________________________________________________________________________________\n",
            "activation_1 (Activation)       (None, 28, 28, 64)   0           bn2a_branch2a[0][0]              \n",
            "__________________________________________________________________________________________________\n",
            "res2a_branch2b (Conv2D)         (None, 28, 28, 64)   36928       activation_1[0][0]               \n",
            "__________________________________________________________________________________________________\n",
            "bn2a_branch2b (BatchNormalizati (None, 28, 28, 64)   256         res2a_branch2b[0][0]             \n",
            "__________________________________________________________________________________________________\n",
            "activation_2 (Activation)       (None, 28, 28, 64)   0           bn2a_branch2b[0][0]              \n",
            "__________________________________________________________________________________________________\n",
            "res2a_branch2c (Conv2D)         (None, 28, 28, 256)  16640       activation_2[0][0]               \n",
            "__________________________________________________________________________________________________\n",
            "res2a_branch1 (Conv2D)          (None, 28, 28, 256)  16640       max_pooling2d[0][0]              \n",
            "__________________________________________________________________________________________________\n",
            "bn2a_branch2c (BatchNormalizati (None, 28, 28, 256)  1024        res2a_branch2c[0][0]             \n",
            "__________________________________________________________________________________________________\n",
            "bn2a_branch1 (BatchNormalizatio (None, 28, 28, 256)  1024        res2a_branch1[0][0]              \n",
            "__________________________________________________________________________________________________\n",
            "add (Add)                       (None, 28, 28, 256)  0           bn2a_branch2c[0][0]              \n",
            "                                                                 bn2a_branch1[0][0]               \n",
            "__________________________________________________________________________________________________\n",
            "activation_3 (Activation)       (None, 28, 28, 256)  0           add[0][0]                        \n",
            "__________________________________________________________________________________________________\n",
            "res2b_branch2a (Conv2D)         (None, 28, 28, 64)   16448       activation_3[0][0]               \n",
            "__________________________________________________________________________________________________\n",
            "bn2b_branch2a (BatchNormalizati (None, 28, 28, 64)   256         res2b_branch2a[0][0]             \n",
            "__________________________________________________________________________________________________\n",
            "activation_4 (Activation)       (None, 28, 28, 64)   0           bn2b_branch2a[0][0]              \n",
            "__________________________________________________________________________________________________\n",
            "res2b_branch2b (Conv2D)         (None, 28, 28, 64)   36928       activation_4[0][0]               \n",
            "__________________________________________________________________________________________________\n",
            "bn2b_branch2b (BatchNormalizati (None, 28, 28, 64)   256         res2b_branch2b[0][0]             \n",
            "__________________________________________________________________________________________________\n",
            "activation_5 (Activation)       (None, 28, 28, 64)   0           bn2b_branch2b[0][0]              \n",
            "__________________________________________________________________________________________________\n",
            "res2b_branch2c (Conv2D)         (None, 28, 28, 256)  16640       activation_5[0][0]               \n",
            "__________________________________________________________________________________________________\n",
            "bn2b_branch2c (BatchNormalizati (None, 28, 28, 256)  1024        res2b_branch2c[0][0]             \n",
            "__________________________________________________________________________________________________\n",
            "add_1 (Add)                     (None, 28, 28, 256)  0           bn2b_branch2c[0][0]              \n",
            "                                                                 activation_3[0][0]               \n",
            "__________________________________________________________________________________________________\n",
            "activation_6 (Activation)       (None, 28, 28, 256)  0           add_1[0][0]                      \n",
            "__________________________________________________________________________________________________\n",
            "res2c_branch2a (Conv2D)         (None, 28, 28, 64)   16448       activation_6[0][0]               \n",
            "__________________________________________________________________________________________________\n",
            "bn2c_branch2a (BatchNormalizati (None, 28, 28, 64)   256         res2c_branch2a[0][0]             \n",
            "__________________________________________________________________________________________________\n",
            "activation_7 (Activation)       (None, 28, 28, 64)   0           bn2c_branch2a[0][0]              \n",
            "__________________________________________________________________________________________________\n",
            "res2c_branch2b (Conv2D)         (None, 28, 28, 64)   36928       activation_7[0][0]               \n",
            "__________________________________________________________________________________________________\n",
            "bn2c_branch2b (BatchNormalizati (None, 28, 28, 64)   256         res2c_branch2b[0][0]             \n",
            "__________________________________________________________________________________________________\n",
            "activation_8 (Activation)       (None, 28, 28, 64)   0           bn2c_branch2b[0][0]              \n",
            "__________________________________________________________________________________________________\n",
            "res2c_branch2c (Conv2D)         (None, 28, 28, 256)  16640       activation_8[0][0]               \n",
            "__________________________________________________________________________________________________\n",
            "bn2c_branch2c (BatchNormalizati (None, 28, 28, 256)  1024        res2c_branch2c[0][0]             \n",
            "__________________________________________________________________________________________________\n",
            "add_2 (Add)                     (None, 28, 28, 256)  0           bn2c_branch2c[0][0]              \n",
            "                                                                 activation_6[0][0]               \n",
            "__________________________________________________________________________________________________\n",
            "activation_9 (Activation)       (None, 28, 28, 256)  0           add_2[0][0]                      \n",
            "__________________________________________________________________________________________________\n",
            "res3a_branch2a (Conv2D)         (None, 14, 14, 128)  32896       activation_9[0][0]               \n",
            "__________________________________________________________________________________________________\n",
            "bn3a_branch2a (BatchNormalizati (None, 14, 14, 128)  512         res3a_branch2a[0][0]             \n",
            "__________________________________________________________________________________________________\n",
            "activation_10 (Activation)      (None, 14, 14, 128)  0           bn3a_branch2a[0][0]              \n",
            "__________________________________________________________________________________________________\n",
            "res3a_branch2b (Conv2D)         (None, 14, 14, 128)  147584      activation_10[0][0]              \n",
            "__________________________________________________________________________________________________\n",
            "bn3a_branch2b (BatchNormalizati (None, 14, 14, 128)  512         res3a_branch2b[0][0]             \n",
            "__________________________________________________________________________________________________\n",
            "activation_11 (Activation)      (None, 14, 14, 128)  0           bn3a_branch2b[0][0]              \n",
            "__________________________________________________________________________________________________\n",
            "res3a_branch2c (Conv2D)         (None, 14, 14, 512)  66048       activation_11[0][0]              \n",
            "__________________________________________________________________________________________________\n",
            "res3a_branch1 (Conv2D)          (None, 14, 14, 512)  131584      activation_9[0][0]               \n",
            "__________________________________________________________________________________________________\n",
            "bn3a_branch2c (BatchNormalizati (None, 14, 14, 512)  2048        res3a_branch2c[0][0]             \n",
            "__________________________________________________________________________________________________\n",
            "bn3a_branch1 (BatchNormalizatio (None, 14, 14, 512)  2048        res3a_branch1[0][0]              \n",
            "__________________________________________________________________________________________________\n",
            "add_3 (Add)                     (None, 14, 14, 512)  0           bn3a_branch2c[0][0]              \n",
            "                                                                 bn3a_branch1[0][0]               \n",
            "__________________________________________________________________________________________________\n",
            "activation_12 (Activation)      (None, 14, 14, 512)  0           add_3[0][0]                      \n",
            "__________________________________________________________________________________________________\n",
            "res3b_branch2a (Conv2D)         (None, 14, 14, 128)  65664       activation_12[0][0]              \n",
            "__________________________________________________________________________________________________\n",
            "bn3b_branch2a (BatchNormalizati (None, 14, 14, 128)  512         res3b_branch2a[0][0]             \n",
            "__________________________________________________________________________________________________\n",
            "activation_13 (Activation)      (None, 14, 14, 128)  0           bn3b_branch2a[0][0]              \n",
            "__________________________________________________________________________________________________\n",
            "res3b_branch2b (Conv2D)         (None, 14, 14, 128)  147584      activation_13[0][0]              \n",
            "__________________________________________________________________________________________________\n",
            "bn3b_branch2b (BatchNormalizati (None, 14, 14, 128)  512         res3b_branch2b[0][0]             \n",
            "__________________________________________________________________________________________________\n",
            "activation_14 (Activation)      (None, 14, 14, 128)  0           bn3b_branch2b[0][0]              \n",
            "__________________________________________________________________________________________________\n",
            "res3b_branch2c (Conv2D)         (None, 14, 14, 512)  66048       activation_14[0][0]              \n",
            "__________________________________________________________________________________________________\n",
            "bn3b_branch2c (BatchNormalizati (None, 14, 14, 512)  2048        res3b_branch2c[0][0]             \n",
            "__________________________________________________________________________________________________\n",
            "add_4 (Add)                     (None, 14, 14, 512)  0           bn3b_branch2c[0][0]              \n",
            "                                                                 activation_12[0][0]              \n",
            "__________________________________________________________________________________________________\n",
            "activation_15 (Activation)      (None, 14, 14, 512)  0           add_4[0][0]                      \n",
            "__________________________________________________________________________________________________\n",
            "res3c_branch2a (Conv2D)         (None, 14, 14, 128)  65664       activation_15[0][0]              \n",
            "__________________________________________________________________________________________________\n",
            "bn3c_branch2a (BatchNormalizati (None, 14, 14, 128)  512         res3c_branch2a[0][0]             \n",
            "__________________________________________________________________________________________________\n",
            "activation_16 (Activation)      (None, 14, 14, 128)  0           bn3c_branch2a[0][0]              \n",
            "__________________________________________________________________________________________________\n",
            "res3c_branch2b (Conv2D)         (None, 14, 14, 128)  147584      activation_16[0][0]              \n",
            "__________________________________________________________________________________________________\n",
            "bn3c_branch2b (BatchNormalizati (None, 14, 14, 128)  512         res3c_branch2b[0][0]             \n",
            "__________________________________________________________________________________________________\n",
            "activation_17 (Activation)      (None, 14, 14, 128)  0           bn3c_branch2b[0][0]              \n",
            "__________________________________________________________________________________________________\n",
            "res3c_branch2c (Conv2D)         (None, 14, 14, 512)  66048       activation_17[0][0]              \n",
            "__________________________________________________________________________________________________\n",
            "bn3c_branch2c (BatchNormalizati (None, 14, 14, 512)  2048        res3c_branch2c[0][0]             \n",
            "__________________________________________________________________________________________________\n",
            "add_5 (Add)                     (None, 14, 14, 512)  0           bn3c_branch2c[0][0]              \n",
            "                                                                 activation_15[0][0]              \n",
            "__________________________________________________________________________________________________\n",
            "activation_18 (Activation)      (None, 14, 14, 512)  0           add_5[0][0]                      \n",
            "__________________________________________________________________________________________________\n",
            "res3d_branch2a (Conv2D)         (None, 14, 14, 128)  65664       activation_18[0][0]              \n",
            "__________________________________________________________________________________________________\n",
            "bn3d_branch2a (BatchNormalizati (None, 14, 14, 128)  512         res3d_branch2a[0][0]             \n",
            "__________________________________________________________________________________________________\n",
            "activation_19 (Activation)      (None, 14, 14, 128)  0           bn3d_branch2a[0][0]              \n",
            "__________________________________________________________________________________________________\n",
            "res3d_branch2b (Conv2D)         (None, 14, 14, 128)  147584      activation_19[0][0]              \n",
            "__________________________________________________________________________________________________\n",
            "bn3d_branch2b (BatchNormalizati (None, 14, 14, 128)  512         res3d_branch2b[0][0]             \n",
            "__________________________________________________________________________________________________\n",
            "activation_20 (Activation)      (None, 14, 14, 128)  0           bn3d_branch2b[0][0]              \n",
            "__________________________________________________________________________________________________\n",
            "res3d_branch2c (Conv2D)         (None, 14, 14, 512)  66048       activation_20[0][0]              \n",
            "__________________________________________________________________________________________________\n",
            "bn3d_branch2c (BatchNormalizati (None, 14, 14, 512)  2048        res3d_branch2c[0][0]             \n",
            "__________________________________________________________________________________________________\n",
            "add_6 (Add)                     (None, 14, 14, 512)  0           bn3d_branch2c[0][0]              \n",
            "                                                                 activation_18[0][0]              \n",
            "__________________________________________________________________________________________________\n",
            "activation_21 (Activation)      (None, 14, 14, 512)  0           add_6[0][0]                      \n",
            "__________________________________________________________________________________________________\n",
            "res4a_branch2a (Conv2D)         (None, 7, 7, 256)    131328      activation_21[0][0]              \n",
            "__________________________________________________________________________________________________\n",
            "bn4a_branch2a (BatchNormalizati (None, 7, 7, 256)    1024        res4a_branch2a[0][0]             \n",
            "__________________________________________________________________________________________________\n",
            "activation_22 (Activation)      (None, 7, 7, 256)    0           bn4a_branch2a[0][0]              \n",
            "__________________________________________________________________________________________________\n",
            "res4a_branch2b (Conv2D)         (None, 7, 7, 256)    590080      activation_22[0][0]              \n",
            "__________________________________________________________________________________________________\n",
            "bn4a_branch2b (BatchNormalizati (None, 7, 7, 256)    1024        res4a_branch2b[0][0]             \n",
            "__________________________________________________________________________________________________\n",
            "activation_23 (Activation)      (None, 7, 7, 256)    0           bn4a_branch2b[0][0]              \n",
            "__________________________________________________________________________________________________\n",
            "res4a_branch2c (Conv2D)         (None, 7, 7, 1024)   263168      activation_23[0][0]              \n",
            "__________________________________________________________________________________________________\n",
            "res4a_branch1 (Conv2D)          (None, 7, 7, 1024)   525312      activation_21[0][0]              \n",
            "__________________________________________________________________________________________________\n",
            "bn4a_branch2c (BatchNormalizati (None, 7, 7, 1024)   4096        res4a_branch2c[0][0]             \n",
            "__________________________________________________________________________________________________\n",
            "bn4a_branch1 (BatchNormalizatio (None, 7, 7, 1024)   4096        res4a_branch1[0][0]              \n",
            "__________________________________________________________________________________________________\n",
            "add_7 (Add)                     (None, 7, 7, 1024)   0           bn4a_branch2c[0][0]              \n",
            "                                                                 bn4a_branch1[0][0]               \n",
            "__________________________________________________________________________________________________\n",
            "activation_24 (Activation)      (None, 7, 7, 1024)   0           add_7[0][0]                      \n",
            "__________________________________________________________________________________________________\n",
            "res4b_branch2a (Conv2D)         (None, 7, 7, 256)    262400      activation_24[0][0]              \n",
            "__________________________________________________________________________________________________\n",
            "bn4b_branch2a (BatchNormalizati (None, 7, 7, 256)    1024        res4b_branch2a[0][0]             \n",
            "__________________________________________________________________________________________________\n",
            "activation_25 (Activation)      (None, 7, 7, 256)    0           bn4b_branch2a[0][0]              \n",
            "__________________________________________________________________________________________________\n",
            "res4b_branch2b (Conv2D)         (None, 7, 7, 256)    590080      activation_25[0][0]              \n",
            "__________________________________________________________________________________________________\n",
            "bn4b_branch2b (BatchNormalizati (None, 7, 7, 256)    1024        res4b_branch2b[0][0]             \n",
            "__________________________________________________________________________________________________\n",
            "activation_26 (Activation)      (None, 7, 7, 256)    0           bn4b_branch2b[0][0]              \n",
            "__________________________________________________________________________________________________\n",
            "res4b_branch2c (Conv2D)         (None, 7, 7, 1024)   263168      activation_26[0][0]              \n",
            "__________________________________________________________________________________________________\n",
            "bn4b_branch2c (BatchNormalizati (None, 7, 7, 1024)   4096        res4b_branch2c[0][0]             \n",
            "__________________________________________________________________________________________________\n",
            "add_8 (Add)                     (None, 7, 7, 1024)   0           bn4b_branch2c[0][0]              \n",
            "                                                                 activation_24[0][0]              \n",
            "__________________________________________________________________________________________________\n",
            "activation_27 (Activation)      (None, 7, 7, 1024)   0           add_8[0][0]                      \n",
            "__________________________________________________________________________________________________\n",
            "res4c_branch2a (Conv2D)         (None, 7, 7, 256)    262400      activation_27[0][0]              \n",
            "__________________________________________________________________________________________________\n",
            "bn4c_branch2a (BatchNormalizati (None, 7, 7, 256)    1024        res4c_branch2a[0][0]             \n",
            "__________________________________________________________________________________________________\n",
            "activation_28 (Activation)      (None, 7, 7, 256)    0           bn4c_branch2a[0][0]              \n",
            "__________________________________________________________________________________________________\n",
            "res4c_branch2b (Conv2D)         (None, 7, 7, 256)    590080      activation_28[0][0]              \n",
            "__________________________________________________________________________________________________\n",
            "bn4c_branch2b (BatchNormalizati (None, 7, 7, 256)    1024        res4c_branch2b[0][0]             \n",
            "__________________________________________________________________________________________________\n",
            "activation_29 (Activation)      (None, 7, 7, 256)    0           bn4c_branch2b[0][0]              \n",
            "__________________________________________________________________________________________________\n",
            "res4c_branch2c (Conv2D)         (None, 7, 7, 1024)   263168      activation_29[0][0]              \n",
            "__________________________________________________________________________________________________\n",
            "bn4c_branch2c (BatchNormalizati (None, 7, 7, 1024)   4096        res4c_branch2c[0][0]             \n",
            "__________________________________________________________________________________________________\n",
            "add_9 (Add)                     (None, 7, 7, 1024)   0           bn4c_branch2c[0][0]              \n",
            "                                                                 activation_27[0][0]              \n",
            "__________________________________________________________________________________________________\n",
            "activation_30 (Activation)      (None, 7, 7, 1024)   0           add_9[0][0]                      \n",
            "__________________________________________________________________________________________________\n",
            "res4d_branch2a (Conv2D)         (None, 7, 7, 256)    262400      activation_30[0][0]              \n",
            "__________________________________________________________________________________________________\n",
            "bn4d_branch2a (BatchNormalizati (None, 7, 7, 256)    1024        res4d_branch2a[0][0]             \n",
            "__________________________________________________________________________________________________\n",
            "activation_31 (Activation)      (None, 7, 7, 256)    0           bn4d_branch2a[0][0]              \n",
            "__________________________________________________________________________________________________\n",
            "res4d_branch2b (Conv2D)         (None, 7, 7, 256)    590080      activation_31[0][0]              \n",
            "__________________________________________________________________________________________________\n",
            "bn4d_branch2b (BatchNormalizati (None, 7, 7, 256)    1024        res4d_branch2b[0][0]             \n",
            "__________________________________________________________________________________________________\n",
            "activation_32 (Activation)      (None, 7, 7, 256)    0           bn4d_branch2b[0][0]              \n",
            "__________________________________________________________________________________________________\n",
            "res4d_branch2c (Conv2D)         (None, 7, 7, 1024)   263168      activation_32[0][0]              \n",
            "__________________________________________________________________________________________________\n",
            "bn4d_branch2c (BatchNormalizati (None, 7, 7, 1024)   4096        res4d_branch2c[0][0]             \n",
            "__________________________________________________________________________________________________\n",
            "add_10 (Add)                    (None, 7, 7, 1024)   0           bn4d_branch2c[0][0]              \n",
            "                                                                 activation_30[0][0]              \n",
            "__________________________________________________________________________________________________\n",
            "activation_33 (Activation)      (None, 7, 7, 1024)   0           add_10[0][0]                     \n",
            "__________________________________________________________________________________________________\n",
            "res4e_branch2a (Conv2D)         (None, 7, 7, 256)    262400      activation_33[0][0]              \n",
            "__________________________________________________________________________________________________\n",
            "bn4e_branch2a (BatchNormalizati (None, 7, 7, 256)    1024        res4e_branch2a[0][0]             \n",
            "__________________________________________________________________________________________________\n",
            "activation_34 (Activation)      (None, 7, 7, 256)    0           bn4e_branch2a[0][0]              \n",
            "__________________________________________________________________________________________________\n",
            "res4e_branch2b (Conv2D)         (None, 7, 7, 256)    590080      activation_34[0][0]              \n",
            "__________________________________________________________________________________________________\n",
            "bn4e_branch2b (BatchNormalizati (None, 7, 7, 256)    1024        res4e_branch2b[0][0]             \n",
            "__________________________________________________________________________________________________\n",
            "activation_35 (Activation)      (None, 7, 7, 256)    0           bn4e_branch2b[0][0]              \n",
            "__________________________________________________________________________________________________\n",
            "res4e_branch2c (Conv2D)         (None, 7, 7, 1024)   263168      activation_35[0][0]              \n",
            "__________________________________________________________________________________________________\n",
            "bn4e_branch2c (BatchNormalizati (None, 7, 7, 1024)   4096        res4e_branch2c[0][0]             \n",
            "__________________________________________________________________________________________________\n",
            "add_11 (Add)                    (None, 7, 7, 1024)   0           bn4e_branch2c[0][0]              \n",
            "                                                                 activation_33[0][0]              \n",
            "__________________________________________________________________________________________________\n",
            "activation_36 (Activation)      (None, 7, 7, 1024)   0           add_11[0][0]                     \n",
            "__________________________________________________________________________________________________\n",
            "res4f_branch2a (Conv2D)         (None, 7, 7, 256)    262400      activation_36[0][0]              \n",
            "__________________________________________________________________________________________________\n",
            "bn4f_branch2a (BatchNormalizati (None, 7, 7, 256)    1024        res4f_branch2a[0][0]             \n",
            "__________________________________________________________________________________________________\n",
            "activation_37 (Activation)      (None, 7, 7, 256)    0           bn4f_branch2a[0][0]              \n",
            "__________________________________________________________________________________________________\n",
            "res4f_branch2b (Conv2D)         (None, 7, 7, 256)    590080      activation_37[0][0]              \n",
            "__________________________________________________________________________________________________\n",
            "bn4f_branch2b (BatchNormalizati (None, 7, 7, 256)    1024        res4f_branch2b[0][0]             \n",
            "__________________________________________________________________________________________________\n",
            "activation_38 (Activation)      (None, 7, 7, 256)    0           bn4f_branch2b[0][0]              \n",
            "__________________________________________________________________________________________________\n",
            "res4f_branch2c (Conv2D)         (None, 7, 7, 1024)   263168      activation_38[0][0]              \n",
            "__________________________________________________________________________________________________\n",
            "bn4f_branch2c (BatchNormalizati (None, 7, 7, 1024)   4096        res4f_branch2c[0][0]             \n",
            "__________________________________________________________________________________________________\n",
            "add_12 (Add)                    (None, 7, 7, 1024)   0           bn4f_branch2c[0][0]              \n",
            "                                                                 activation_36[0][0]              \n",
            "__________________________________________________________________________________________________\n",
            "activation_39 (Activation)      (None, 7, 7, 1024)   0           add_12[0][0]                     \n",
            "__________________________________________________________________________________________________\n",
            "res5a_branch2a (Conv2D)         (None, 4, 4, 512)    524800      activation_39[0][0]              \n",
            "__________________________________________________________________________________________________\n",
            "bn5a_branch2a (BatchNormalizati (None, 4, 4, 512)    2048        res5a_branch2a[0][0]             \n",
            "__________________________________________________________________________________________________\n",
            "activation_40 (Activation)      (None, 4, 4, 512)    0           bn5a_branch2a[0][0]              \n",
            "__________________________________________________________________________________________________\n",
            "res5a_branch2b (Conv2D)         (None, 4, 4, 512)    2359808     activation_40[0][0]              \n",
            "__________________________________________________________________________________________________\n",
            "bn5a_branch2b (BatchNormalizati (None, 4, 4, 512)    2048        res5a_branch2b[0][0]             \n",
            "__________________________________________________________________________________________________\n",
            "activation_41 (Activation)      (None, 4, 4, 512)    0           bn5a_branch2b[0][0]              \n",
            "__________________________________________________________________________________________________\n",
            "res5a_branch2c (Conv2D)         (None, 4, 4, 2048)   1050624     activation_41[0][0]              \n",
            "__________________________________________________________________________________________________\n",
            "res5a_branch1 (Conv2D)          (None, 4, 4, 2048)   2099200     activation_39[0][0]              \n",
            "__________________________________________________________________________________________________\n",
            "bn5a_branch2c (BatchNormalizati (None, 4, 4, 2048)   8192        res5a_branch2c[0][0]             \n",
            "__________________________________________________________________________________________________\n",
            "bn5a_branch1 (BatchNormalizatio (None, 4, 4, 2048)   8192        res5a_branch1[0][0]              \n",
            "__________________________________________________________________________________________________\n",
            "add_13 (Add)                    (None, 4, 4, 2048)   0           bn5a_branch2c[0][0]              \n",
            "                                                                 bn5a_branch1[0][0]               \n",
            "__________________________________________________________________________________________________\n",
            "activation_42 (Activation)      (None, 4, 4, 2048)   0           add_13[0][0]                     \n",
            "__________________________________________________________________________________________________\n",
            "res5b_branch2a (Conv2D)         (None, 4, 4, 512)    1049088     activation_42[0][0]              \n",
            "__________________________________________________________________________________________________\n",
            "bn5b_branch2a (BatchNormalizati (None, 4, 4, 512)    2048        res5b_branch2a[0][0]             \n",
            "__________________________________________________________________________________________________\n",
            "activation_43 (Activation)      (None, 4, 4, 512)    0           bn5b_branch2a[0][0]              \n",
            "__________________________________________________________________________________________________\n",
            "res5b_branch2b (Conv2D)         (None, 4, 4, 512)    2359808     activation_43[0][0]              \n",
            "__________________________________________________________________________________________________\n",
            "bn5b_branch2b (BatchNormalizati (None, 4, 4, 512)    2048        res5b_branch2b[0][0]             \n",
            "__________________________________________________________________________________________________\n",
            "activation_44 (Activation)      (None, 4, 4, 512)    0           bn5b_branch2b[0][0]              \n",
            "__________________________________________________________________________________________________\n",
            "res5b_branch2c (Conv2D)         (None, 4, 4, 2048)   1050624     activation_44[0][0]              \n",
            "__________________________________________________________________________________________________\n",
            "bn5b_branch2c (BatchNormalizati (None, 4, 4, 2048)   8192        res5b_branch2c[0][0]             \n",
            "__________________________________________________________________________________________________\n",
            "add_14 (Add)                    (None, 4, 4, 2048)   0           bn5b_branch2c[0][0]              \n",
            "                                                                 activation_42[0][0]              \n",
            "__________________________________________________________________________________________________\n",
            "activation_45 (Activation)      (None, 4, 4, 2048)   0           add_14[0][0]                     \n",
            "__________________________________________________________________________________________________\n",
            "res5c_branch2a (Conv2D)         (None, 4, 4, 512)    1049088     activation_45[0][0]              \n",
            "__________________________________________________________________________________________________\n",
            "bn5c_branch2a (BatchNormalizati (None, 4, 4, 512)    2048        res5c_branch2a[0][0]             \n",
            "__________________________________________________________________________________________________\n",
            "activation_46 (Activation)      (None, 4, 4, 512)    0           bn5c_branch2a[0][0]              \n",
            "__________________________________________________________________________________________________\n",
            "res5c_branch2b (Conv2D)         (None, 4, 4, 512)    2359808     activation_46[0][0]              \n",
            "__________________________________________________________________________________________________\n",
            "bn5c_branch2b (BatchNormalizati (None, 4, 4, 512)    2048        res5c_branch2b[0][0]             \n",
            "__________________________________________________________________________________________________\n",
            "activation_47 (Activation)      (None, 4, 4, 512)    0           bn5c_branch2b[0][0]              \n",
            "__________________________________________________________________________________________________\n",
            "res5c_branch2c (Conv2D)         (None, 4, 4, 2048)   1050624     activation_47[0][0]              \n",
            "__________________________________________________________________________________________________\n",
            "bn5c_branch2c (BatchNormalizati (None, 4, 4, 2048)   8192        res5c_branch2c[0][0]             \n",
            "__________________________________________________________________________________________________\n",
            "add_15 (Add)                    (None, 4, 4, 2048)   0           bn5c_branch2c[0][0]              \n",
            "                                                                 activation_45[0][0]              \n",
            "__________________________________________________________________________________________________\n",
            "activation_48 (Activation)      (None, 4, 4, 2048)   0           add_15[0][0]                     \n",
            "__________________________________________________________________________________________________\n",
            "avg_pool (AveragePooling2D)     (None, 2, 2, 2048)   0           activation_48[0][0]              \n",
            "__________________________________________________________________________________________________\n",
            "flatten (Flatten)               (None, 8192)         0           avg_pool[0][0]                   \n",
            "__________________________________________________________________________________________________\n",
            "fc0 (Dense)                     (None, 1024)         8389632     flatten[0][0]                    \n",
            "__________________________________________________________________________________________________\n",
            "dropout (Dropout)               (None, 1024)         0           fc0[0][0]                        \n",
            "__________________________________________________________________________________________________\n",
            "fc1 (Dense)                     (None, 256)          262400      dropout[0][0]                    \n",
            "__________________________________________________________________________________________________\n",
            "dropout_1 (Dropout)             (None, 256)          0           fc1[0][0]                        \n",
            "__________________________________________________________________________________________________\n",
            "fc3 (Dense)                     (None, 1)            257         dropout_1[0][0]                  \n",
            "==================================================================================================\n",
            "Total params: 32,431,297\n",
            "Trainable params: 32,378,177\n",
            "Non-trainable params: 53,120\n",
            "__________________________________________________________________________________________________\n"
          ],
          "name": "stdout"
        }
      ]
    },
    {
      "cell_type": "code",
      "metadata": {
        "id": "P3M-FYWU5PJR",
        "colab_type": "code",
        "colab": {}
      },
      "source": [
        ""
      ],
      "execution_count": 28,
      "outputs": []
    },
    {
      "cell_type": "code",
      "metadata": {
        "id": "yde1OzV8l3IY",
        "colab_type": "code",
        "colab": {}
      },
      "source": [
        "def generator(X_path, y_path, batch_size=2):\n",
        "    \n",
        "\n",
        "   \n",
        "    num_samples = len(X_path)\n",
        "    while True: # Loop forever so the generator never terminates\n",
        "\n",
        "      \n",
        "      # Get index to start each batch: [0, batch_size, 2*batch_size, ..., max multiple of batch_size &lt;= num_samples]\n",
        "      for offset in range(0, int(num_samples), batch_size):\n",
        "            \n",
        "          # Get the samples you'll use in this batch\n",
        "          batch_samples = X_path[ (offset * batch_size) : ((offset+1) * batch_size) ]\n",
        " \n",
        "            \n",
        "             \n",
        "              \n",
        "              # Initialise X_train and y_train arrays for this batch\n",
        "         \n",
        "\n",
        "          for i in batch_samples:\n",
        "\n",
        "            X_train = []\n",
        "            y_train = []\n",
        "\n",
        "            X_input = load_case(i)\n",
        "            X = get_max(X_input, 64, 64, 64, 8, 5)\n",
        "            \n",
        "            rand_array = np.random.randint(5, size=3)\n",
        "            \n",
        "            for j in range(1):\n",
        "              \n",
        "              rand_num = rand_array[j]\n",
        "              X_temp = np.reshape(X[rand_num, :, :, :], (64, 64, 64))\n",
        "              X_temp = standardize(X_temp)\n",
        "              \n",
        "\n",
        "\n",
        "              patient_number = i[81:84]\n",
        "              days = find_days_by_patient_number(patient_number)\n",
        "              if days != None and 'ALIVE' not in days:\n",
        "              \n",
        "                X_train.append(X_temp)\n",
        "                # for i in range(4):\n",
        "                y_train.append(int(days))\n",
        "                \n",
        "                  \n",
        "  \n",
        "              # Make sure they're numpy arrays (as opposed to lists)\n",
        "\n",
        "          X_train = np.array(X_train)\n",
        "          y_train = np.array(y_train)\n",
        "\n",
        "            \n",
        "\n",
        "\n",
        "\n",
        "\n",
        "          if X_train.ndim == 4:             \n",
        "            yield X_train, y_train\n",
        "          else:\n",
        "            pass"
      ],
      "execution_count": 29,
      "outputs": []
    },
    {
      "cell_type": "code",
      "metadata": {
        "id": "FEba7UJRoSn7",
        "colab_type": "code",
        "colab": {}
      },
      "source": [
        "\n",
        "X_train_filenames = X_trainset_filenames[:309]\n",
        "X_valid_filenames = X_trainset_filenames[309:]\n",
        "\n",
        "\n",
        "y_train_path = '/content/drive/My Drive/BRATS2020/MICCAI_BraTS2020_TrainingData/survival_info.csv'\n",
        "\n",
        "train_generator = generator(X_train_filenames, y_train_path, batch_size=3)\n",
        "validation_generator = generator(X_valid_filenames, y_train_path, batch_size=3)"
      ],
      "execution_count": 30,
      "outputs": []
    },
    {
      "cell_type": "code",
      "metadata": {
        "id": "IcT6EoIbzhub",
        "colab_type": "code",
        "colab": {}
      },
      "source": [
        "\n",
        "\n",
        "res_model.compile(optimizer='Adam', loss='mean_squared_error')"
      ],
      "execution_count": 31,
      "outputs": []
    },
    {
      "cell_type": "code",
      "metadata": {
        "id": "9DHmLHFqzM50",
        "colab_type": "code",
        "colab": {
          "base_uri": "https://localhost:8080/",
          "height": 151
        },
        "outputId": "8661d679-85b8-4b8f-82f9-70ec3f249938"
      },
      "source": [
        "from keras.callbacks import EarlyStopping, ModelCheckpoint, LearningRateScheduler\n",
        "\n",
        "\n",
        "initial_learning_rate = 0.0001\n",
        "\n",
        "def scheduler(epoch):\n",
        "  \n",
        "  ## decrease learning rate every 3 epochs to 0.1(latest_value) ##\n",
        "  return float(initial_learning_rate * tf.math.exp(0.1 * (int(epoch/10))))\n",
        "  \n",
        "\n",
        "\n",
        "# callback\n",
        "my_callbacks = [\n",
        "        LearningRateScheduler(scheduler), \n",
        "        EarlyStopping(monitor='val_loss', patience=6),\n",
        "        ModelCheckpoint(filepath='/content/drive/My Drive/BRATS2020/Survival_FlowerModel_update.{epoch:02d}-{val_loss:.2f}.h5', monitor='val_loss', save_best_only=False)\n",
        "]\n",
        "\n",
        "\n",
        "\n",
        "#### steps per epoch should be x/batch*8 because model generates 8 subvolumes per training sample\n",
        "# Fit model using generator\n",
        "history = res_model.fit(train_generator, steps_per_epoch=103, epochs=30, validation_data=validation_generator, validation_steps=20, callbacks=my_callbacks)"
      ],
      "execution_count": null,
      "outputs": [
        {
          "output_type": "stream",
          "text": [
            "Epoch 1/30\n",
            "103/103 [==============================] - 737s 7s/step - loss: 124128.2891 - val_loss: 279568.2812\n",
            "Epoch 2/30\n",
            "103/103 [==============================] - 665s 6s/step - loss: 34128.6680 - val_loss: 143240.6250\n",
            "Epoch 3/30\n",
            "103/103 [==============================] - 494s 5s/step - loss: 34617.9922 - val_loss: 121624.0625\n",
            "Epoch 4/30\n",
            " 71/103 [===================>..........] - ETA: 1:26 - loss: 30570.7363"
          ],
          "name": "stdout"
        }
      ]
    },
    {
      "cell_type": "code",
      "metadata": {
        "id": "N7-SmRYVUuIB",
        "colab_type": "code",
        "colab": {}
      },
      "source": [
        ""
      ],
      "execution_count": null,
      "outputs": []
    }
  ]
}