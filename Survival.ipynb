{
  "nbformat": 4,
  "nbformat_minor": 0,
  "metadata": {
    "colab": {
      "name": "Survival.ipynb",
      "provenance": [],
      "authorship_tag": "ABX9TyMSV/emTrb9wfgSDC23PcPt",
      "include_colab_link": true
    },
    "kernelspec": {
      "name": "python3",
      "display_name": "Python 3"
    },
    "widgets": {
      "application/vnd.jupyter.widget-state+json": {
        "978bab2d5ef745e2b0645876deb1df3f": {
          "model_module": "@jupyter-widgets/controls",
          "model_name": "VBoxModel",
          "state": {
            "_view_name": "VBoxView",
            "_dom_classes": [
              "widget-interact"
            ],
            "_model_name": "VBoxModel",
            "_view_module": "@jupyter-widgets/controls",
            "_model_module_version": "1.5.0",
            "_view_count": null,
            "_view_module_version": "1.5.0",
            "box_style": "",
            "layout": "IPY_MODEL_d0fcbd80d20f4b0d887fff9bbde2b100",
            "_model_module": "@jupyter-widgets/controls",
            "children": [
              "IPY_MODEL_1f32ac89ba524842ac849438f4a808f3",
              "IPY_MODEL_9ee2b09cda53436ab2e84e21b8f201c0"
            ]
          }
        },
        "d0fcbd80d20f4b0d887fff9bbde2b100": {
          "model_module": "@jupyter-widgets/base",
          "model_name": "LayoutModel",
          "state": {
            "_view_name": "LayoutView",
            "grid_template_rows": null,
            "right": null,
            "justify_content": null,
            "_view_module": "@jupyter-widgets/base",
            "overflow": null,
            "_model_module_version": "1.2.0",
            "_view_count": null,
            "flex_flow": null,
            "width": null,
            "min_width": null,
            "border": null,
            "align_items": null,
            "bottom": null,
            "_model_module": "@jupyter-widgets/base",
            "top": null,
            "grid_column": null,
            "overflow_y": null,
            "overflow_x": null,
            "grid_auto_flow": null,
            "grid_area": null,
            "grid_template_columns": null,
            "flex": null,
            "_model_name": "LayoutModel",
            "justify_items": null,
            "grid_row": null,
            "max_height": null,
            "align_content": null,
            "visibility": null,
            "align_self": null,
            "height": null,
            "min_height": null,
            "padding": null,
            "grid_auto_rows": null,
            "grid_gap": null,
            "max_width": null,
            "order": null,
            "_view_module_version": "1.2.0",
            "grid_template_areas": null,
            "object_position": null,
            "object_fit": null,
            "grid_auto_columns": null,
            "margin": null,
            "display": null,
            "left": null
          }
        },
        "1f32ac89ba524842ac849438f4a808f3": {
          "model_module": "@jupyter-widgets/controls",
          "model_name": "IntSliderModel",
          "state": {
            "_view_name": "IntSliderView",
            "style": "IPY_MODEL_2a52a808bec64a489d8639a0f0791ab4",
            "_dom_classes": [],
            "description": "layer",
            "step": 1,
            "_model_name": "IntSliderModel",
            "orientation": "horizontal",
            "max": 154,
            "_view_module": "@jupyter-widgets/controls",
            "_model_module_version": "1.5.0",
            "value": 77,
            "_view_count": null,
            "disabled": false,
            "_view_module_version": "1.5.0",
            "min": 0,
            "continuous_update": true,
            "readout_format": "d",
            "description_tooltip": null,
            "readout": true,
            "_model_module": "@jupyter-widgets/controls",
            "layout": "IPY_MODEL_65e6251735c34fab8ecc1ea89cff80e8"
          }
        },
        "9ee2b09cda53436ab2e84e21b8f201c0": {
          "model_module": "@jupyter-widgets/output",
          "model_name": "OutputModel",
          "state": {
            "_view_name": "OutputView",
            "msg_id": "",
            "_dom_classes": [],
            "_model_name": "OutputModel",
            "outputs": [
              {
                "output_type": "display_data",
                "metadata": {
                  "tags": [],
                  "needs_background": "light"
                },
                "image/png": "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\n",
                "text/plain": "<Figure size 720x360 with 1 Axes>"
              },
              {
                "output_type": "display_data",
                "metadata": {
                  "tags": []
                },
                "text/plain": "77"
              }
            ],
            "_view_module": "@jupyter-widgets/output",
            "_model_module_version": "1.0.0",
            "_view_count": null,
            "_view_module_version": "1.0.0",
            "layout": "IPY_MODEL_4613d0551fd1477cb387e5f2bd3db1bb",
            "_model_module": "@jupyter-widgets/output"
          }
        },
        "2a52a808bec64a489d8639a0f0791ab4": {
          "model_module": "@jupyter-widgets/controls",
          "model_name": "SliderStyleModel",
          "state": {
            "_view_name": "StyleView",
            "handle_color": null,
            "_model_name": "SliderStyleModel",
            "description_width": "",
            "_view_module": "@jupyter-widgets/base",
            "_model_module_version": "1.5.0",
            "_view_count": null,
            "_view_module_version": "1.2.0",
            "_model_module": "@jupyter-widgets/controls"
          }
        },
        "65e6251735c34fab8ecc1ea89cff80e8": {
          "model_module": "@jupyter-widgets/base",
          "model_name": "LayoutModel",
          "state": {
            "_view_name": "LayoutView",
            "grid_template_rows": null,
            "right": null,
            "justify_content": null,
            "_view_module": "@jupyter-widgets/base",
            "overflow": null,
            "_model_module_version": "1.2.0",
            "_view_count": null,
            "flex_flow": null,
            "width": null,
            "min_width": null,
            "border": null,
            "align_items": null,
            "bottom": null,
            "_model_module": "@jupyter-widgets/base",
            "top": null,
            "grid_column": null,
            "overflow_y": null,
            "overflow_x": null,
            "grid_auto_flow": null,
            "grid_area": null,
            "grid_template_columns": null,
            "flex": null,
            "_model_name": "LayoutModel",
            "justify_items": null,
            "grid_row": null,
            "max_height": null,
            "align_content": null,
            "visibility": null,
            "align_self": null,
            "height": null,
            "min_height": null,
            "padding": null,
            "grid_auto_rows": null,
            "grid_gap": null,
            "max_width": null,
            "order": null,
            "_view_module_version": "1.2.0",
            "grid_template_areas": null,
            "object_position": null,
            "object_fit": null,
            "grid_auto_columns": null,
            "margin": null,
            "display": null,
            "left": null
          }
        },
        "4613d0551fd1477cb387e5f2bd3db1bb": {
          "model_module": "@jupyter-widgets/base",
          "model_name": "LayoutModel",
          "state": {
            "_view_name": "LayoutView",
            "grid_template_rows": null,
            "right": null,
            "justify_content": null,
            "_view_module": "@jupyter-widgets/base",
            "overflow": null,
            "_model_module_version": "1.2.0",
            "_view_count": null,
            "flex_flow": null,
            "width": null,
            "min_width": null,
            "border": null,
            "align_items": null,
            "bottom": null,
            "_model_module": "@jupyter-widgets/base",
            "top": null,
            "grid_column": null,
            "overflow_y": null,
            "overflow_x": null,
            "grid_auto_flow": null,
            "grid_area": null,
            "grid_template_columns": null,
            "flex": null,
            "_model_name": "LayoutModel",
            "justify_items": null,
            "grid_row": null,
            "max_height": null,
            "align_content": null,
            "visibility": null,
            "align_self": null,
            "height": null,
            "min_height": null,
            "padding": null,
            "grid_auto_rows": null,
            "grid_gap": null,
            "max_width": null,
            "order": null,
            "_view_module_version": "1.2.0",
            "grid_template_areas": null,
            "object_position": null,
            "object_fit": null,
            "grid_auto_columns": null,
            "margin": null,
            "display": null,
            "left": null
          }
        }
      }
    },
    "accelerator": "GPU"
  },
  "cells": [
    {
      "cell_type": "markdown",
      "metadata": {
        "id": "view-in-github",
        "colab_type": "text"
      },
      "source": [
        "<a href=\"https://colab.research.google.com/github/alirezash97/BraTS/blob/master/Survival.ipynb\" target=\"_parent\"><img src=\"https://colab.research.google.com/assets/colab-badge.svg\" alt=\"Open In Colab\"/></a>"
      ]
    },
    {
      "cell_type": "code",
      "metadata": {
        "id": "9Pih2fajhmV6",
        "colab_type": "code",
        "colab": {
          "base_uri": "https://localhost:8080/",
          "height": 121
        },
        "outputId": "8a0ae739-43f8-46fe-a906-a7fffbbe71c1"
      },
      "source": [
        "# from google.colab import drive\n",
        "# drive.mount('/content/drive')"
      ],
      "execution_count": 1,
      "outputs": [
        {
          "output_type": "stream",
          "text": [
            "Go to this URL in a browser: https://accounts.google.com/o/oauth2/auth?client_id=947318989803-6bn6qk8qdgf4n4g3pfee6491hc0brc4i.apps.googleusercontent.com&redirect_uri=urn%3aietf%3awg%3aoauth%3a2.0%3aoob&scope=email%20https%3a%2f%2fwww.googleapis.com%2fauth%2fdocs.test%20https%3a%2f%2fwww.googleapis.com%2fauth%2fdrive%20https%3a%2f%2fwww.googleapis.com%2fauth%2fdrive.photos.readonly%20https%3a%2f%2fwww.googleapis.com%2fauth%2fpeopleapi.readonly&response_type=code\n",
            "\n",
            "Enter your authorization code:\n",
            "··········\n",
            "Mounted at /content/drive\n"
          ],
          "name": "stdout"
        }
      ]
    },
    {
      "cell_type": "code",
      "metadata": {
        "id": "e-rsO906hRlB",
        "colab_type": "code",
        "colab": {}
      },
      "source": [
        "import tensorflow as tf\n",
        "import os\n",
        "import numpy as np\n",
        "from nibabel.testing import data_path\n",
        "import nibabel as nib\n",
        "import matplotlib.pyplot as plt\n",
        "from keras.utils import to_categorical\n",
        "import cv2\n",
        "import keras \n",
        "import random\n",
        "from keras import Model\n",
        "from keras.optimizers import Adam"
      ],
      "execution_count": 1,
      "outputs": []
    },
    {
      "cell_type": "code",
      "metadata": {
        "id": "AgPl_eCpbWcH",
        "colab_type": "code",
        "colab": {}
      },
      "source": [
        "from sklearn.datasets import load_boston\n",
        "from keras.models import Sequential\n",
        "from keras.initializers import glorot_uniform\n",
        "from keras.layers import Dense, Conv2D, Flatten, Input, BatchNormalization, Activation, MaxPooling2D, Add, AveragePooling2D\n",
        "from sklearn.model_selection import train_test_split\n",
        "from sklearn.metrics import mean_squared_error\n",
        "import matplotlib.pyplot as plt"
      ],
      "execution_count": 2,
      "outputs": []
    },
    {
      "cell_type": "code",
      "metadata": {
        "id": "uSSlCYlqhyOT",
        "colab_type": "code",
        "colab": {}
      },
      "source": [
        "import glob, os\n",
        "images_path = glob.glob('/content/drive/My Drive/BRATS2020/MICCAI_BraTS2020_TrainingData/**/*.nii.gz', recursive=True)"
      ],
      "execution_count": 3,
      "outputs": []
    },
    {
      "cell_type": "code",
      "metadata": {
        "id": "zw7XGW-mh08q",
        "colab_type": "code",
        "colab": {}
      },
      "source": [
        "\n",
        "X_trainset_filenames = []\n",
        "\n",
        "for item in images_path:\n",
        "  if 'seg' in item:\n",
        "    X_trainset_filenames.append(os.path.join(data_path, item))\n",
        "  else:\n",
        "    pass"
      ],
      "execution_count": 4,
      "outputs": []
    },
    {
      "cell_type": "code",
      "metadata": {
        "id": "KaM3SMoLh4F2",
        "colab_type": "code",
        "colab": {
          "base_uri": "https://localhost:8080/",
          "height": 34
        },
        "outputId": "1d6c02d2-bf08-466d-c6e2-97408a3a3921"
      },
      "source": [
        "print(len(X_trainset_filenames))"
      ],
      "execution_count": 6,
      "outputs": [
        {
          "output_type": "stream",
          "text": [
            "369\n"
          ],
          "name": "stdout"
        }
      ]
    },
    {
      "cell_type": "code",
      "metadata": {
        "id": "O4zHhjCIh6gU",
        "colab_type": "code",
        "colab": {}
      },
      "source": [
        "def shuffle(input_path):\n",
        "\n",
        "  a_list = list(range(0, len(input_path)))\n",
        "  random.shuffle(a_list)\n",
        "\n",
        "\n",
        "  new_input_path = []\n",
        "  for i in a_list:\n",
        "    \n",
        "    new_input_path.append(input_path[i])\n",
        "\n",
        "  return new_input_path"
      ],
      "execution_count": 5,
      "outputs": []
    },
    {
      "cell_type": "code",
      "metadata": {
        "id": "X3Gvw___h-GP",
        "colab_type": "code",
        "colab": {}
      },
      "source": [
        " X_trainset_filenames = shuffle( X_trainset_filenames)"
      ],
      "execution_count": 6,
      "outputs": []
    },
    {
      "cell_type": "code",
      "metadata": {
        "id": "wsmeoapQqFf4",
        "colab_type": "code",
        "colab": {
          "base_uri": "https://localhost:8080/",
          "height": 34
        },
        "outputId": "3e7c3bd4-6c48-4546-c753-4f2ccf981865"
      },
      "source": [
        "print( X_trainset_filenames[0])"
      ],
      "execution_count": 8,
      "outputs": [
        {
          "output_type": "stream",
          "text": [
            "/content/drive/My Drive/BRATS2020/MICCAI_BraTS2020_TrainingData/BraTS20_Training_200/BraTS20_Training_200_seg.nii.gz\n"
          ],
          "name": "stdout"
        }
      ]
    },
    {
      "cell_type": "code",
      "metadata": {
        "id": "bD3XCXFIqXxe",
        "colab_type": "code",
        "colab": {
          "base_uri": "https://localhost:8080/",
          "height": 35
        },
        "outputId": "1e2cdf43-8c0c-4883-d75c-bc60f491bf9e"
      },
      "source": [
        "X_trainset_filenames[60][81:84]"
      ],
      "execution_count": 9,
      "outputs": [
        {
          "output_type": "execute_result",
          "data": {
            "application/vnd.google.colaboratory.intrinsic+json": {
              "type": "string"
            },
            "text/plain": [
              "'363'"
            ]
          },
          "metadata": {
            "tags": []
          },
          "execution_count": 9
        }
      ]
    },
    {
      "cell_type": "code",
      "metadata": {
        "id": "1SRmPrrqiFtY",
        "colab_type": "code",
        "colab": {}
      },
      "source": [
        "\n",
        "def load_case(label_nifty_file):\n",
        "    \n",
        "    # load the label file, get the image content and return a numpy array for each\n",
        "\n",
        "    label = np.array(nib.load(label_nifty_file).get_fdata())\n",
        "\n",
        "    for i in range(240):\n",
        "          for j in range(240):\n",
        "            for k in range(155):\n",
        "              if label[i, j, k] == 4.0 :\n",
        "                label[i, j, k] = 3.0\n",
        "              else:\n",
        "                pass\n",
        "    \n",
        "    \n",
        "    return label"
      ],
      "execution_count": 7,
      "outputs": []
    },
    {
      "cell_type": "code",
      "metadata": {
        "id": "BbAdGL9-lJsw",
        "colab_type": "code",
        "colab": {
          "base_uri": "https://localhost:8080/",
          "height": 373,
          "referenced_widgets": [
            "978bab2d5ef745e2b0645876deb1df3f",
            "d0fcbd80d20f4b0d887fff9bbde2b100",
            "1f32ac89ba524842ac849438f4a808f3",
            "9ee2b09cda53436ab2e84e21b8f201c0",
            "2a52a808bec64a489d8639a0f0791ab4",
            "65e6251735c34fab8ecc1ea89cff80e8",
            "4613d0551fd1477cb387e5f2bd3db1bb"
          ]
        },
        "outputId": "fa59d8db-589b-402e-9f81-82a0d64eff04"
      },
      "source": [
        "\n",
        "\n",
        "from ipywidgets import interact\n",
        "\n",
        "M = load_case(X_trainset_filenames[0])\n",
        "\n",
        "def explore_3dimage(layer):\n",
        "    plt.figure(figsize=(10, 5))\n",
        "    channel = 3\n",
        "    plt.imshow(M[:, :, layer]);\n",
        "    plt.title('Explore Layers of Tumor prediction', fontsize=20)\n",
        "    plt.axis('off')\n",
        "    return layer\n",
        "\n",
        "# Run the ipywidgets interact() function to explore the data\n",
        "interact(explore_3dimage, layer=(0, 155 - 1));"
      ],
      "execution_count": 9,
      "outputs": [
        {
          "output_type": "display_data",
          "data": {
            "application/vnd.jupyter.widget-view+json": {
              "model_id": "978bab2d5ef745e2b0645876deb1df3f",
              "version_minor": 0,
              "version_major": 2
            },
            "text/plain": [
              "interactive(children=(IntSlider(value=77, description='layer', max=154), Output()), _dom_classes=('widget-inte…"
            ]
          },
          "metadata": {
            "tags": []
          }
        }
      ]
    },
    {
      "cell_type": "code",
      "metadata": {
        "id": "G0EEyNq1ngDZ",
        "colab_type": "code",
        "colab": {}
      },
      "source": [
        "\n",
        "## get the most important part for survival task (the tumor)\n",
        "\n",
        "\n",
        "def get_max(image, out_x, out_y, out_z, stride, number_of_images_to_extract):\n",
        "  \n",
        "  x = image.shape[0]\n",
        "  y = image.shape[1]\n",
        "  z = image.shape[2]\n",
        "\n",
        "\n",
        "  total_number_of_cubes = ( int((z - out_z)/stride) * int((x - out_x)/stride) * int((y - out_y)/stride) )\n",
        "  details = np.zeros((total_number_of_cubes, 4))\n",
        "\n",
        "  counter = 0\n",
        "  for i in range( int((z - out_z)/stride) ):\n",
        "    for j in range( int((x - out_x)/stride) ):\n",
        "      for k in range( int((y - out_y)/stride) ):\n",
        "\n",
        "        \n",
        "        temp = np.sum(image[ (j*stride):((j*stride)+out_x), (k*stride):((k*stride)+out_y), (i*stride):((i*stride)+out_z) ])\n",
        "        details[counter] = (j*stride), (k*stride), (i*stride), temp\n",
        "        counter += 1\n",
        "\n",
        "  \n",
        "\n",
        "  \n",
        "  final_extracted_images = []\n",
        "  for l in range(number_of_images_to_extract):\n",
        "    \n",
        "    max_ind = np.unravel_index(np.argmax(details, axis=None), details.shape) \n",
        "  \n",
        "    x_start = int(details[max_ind[0], 0])\n",
        "    y_start = int(details[max_ind[0], 1])\n",
        "    z_start = int(details[max_ind[0], 2])\n",
        "\n",
        "    temp = image[ x_start:(x_start+out_x) , y_start:(y_start+out_y) , z_start:(z_start+out_z) ]\n",
        "    final_extracted_images.append(temp)\n",
        "    details[max_ind[0], 3] = 0\n",
        "\n",
        "\n",
        "\n",
        "  return np.array(final_extracted_images)\n",
        "\n",
        "\n"
      ],
      "execution_count": 8,
      "outputs": []
    },
    {
      "cell_type": "code",
      "metadata": {
        "id": "Ir_Rf-zqufxe",
        "colab_type": "code",
        "colab": {}
      },
      "source": [
        "image = get_max(M, 64, 64, 64, 8, 3)"
      ],
      "execution_count": null,
      "outputs": []
    },
    {
      "cell_type": "code",
      "metadata": {
        "id": "HOKRk9fs8Slv",
        "colab_type": "code",
        "colab": {
          "base_uri": "https://localhost:8080/",
          "height": 34
        },
        "outputId": "f80d387a-b7f2-4987-974c-5a8611cca2e4"
      },
      "source": [
        "print(image.shape)"
      ],
      "execution_count": 14,
      "outputs": [
        {
          "output_type": "stream",
          "text": [
            "(3, 64, 64, 64)\n"
          ],
          "name": "stdout"
        }
      ]
    },
    {
      "cell_type": "code",
      "metadata": {
        "id": "R625Q3C_xGXR",
        "colab_type": "code",
        "colab": {}
      },
      "source": [
        "from ipywidgets import interact\n",
        "\n",
        "\n",
        "\n",
        "def explore_3dimage(layer):\n",
        "    plt.figure(figsize=(10, 5))\n",
        "    channel = 3\n",
        "    plt.imshow(image[0, :, :, layer]);\n",
        "    plt.title('Explore Layers of Tumor prediction', fontsize=20)\n",
        "    plt.axis('off')\n",
        "    return layer\n",
        "\n",
        "# Run the ipywidgets interact() function to explore the data\n",
        "interact(explore_3dimage, layer=(0, 64 - 1));"
      ],
      "execution_count": null,
      "outputs": []
    },
    {
      "cell_type": "code",
      "metadata": {
        "id": "NpXCI1lkzEgl",
        "colab_type": "code",
        "colab": {}
      },
      "source": [
        "import pandas as pd \n",
        "c = pd.read_csv(\"/content/drive/My Drive/BRATS2020/MICCAI_BraTS2020_TrainingData/survival_info.csv\")"
      ],
      "execution_count": 10,
      "outputs": []
    },
    {
      "cell_type": "code",
      "metadata": {
        "id": "RYO-HfilsfMx",
        "colab_type": "code",
        "colab": {}
      },
      "source": [
        "import csv\n",
        "\n",
        "def find_days_by_patient_number(input): \n",
        "    o = open('/content/drive/My Drive/BRATS2020/MICCAI_BraTS2020_TrainingData/survival_info.csv', 'r') \n",
        "    myData = csv.reader(o) \n",
        "    index = 0 \n",
        "    \n",
        "    for row in myData:\n",
        "\n",
        "      if input in row[0]: \n",
        "        return row[2]\n",
        "      else : index+=1\n",
        "# ind = find_index('201')"
      ],
      "execution_count": 11,
      "outputs": []
    },
    {
      "cell_type": "code",
      "metadata": {
        "id": "4O4O1uBXbZHU",
        "colab_type": "code",
        "colab": {
          "base_uri": "https://localhost:8080/",
          "height": 34
        },
        "outputId": "5056a56b-c255-4768-ed0c-6e4e3464a463"
      },
      "source": [
        "# print(ind)"
      ],
      "execution_count": 175,
      "outputs": [
        {
          "output_type": "stream",
          "text": [
            "317\n"
          ],
          "name": "stdout"
        }
      ]
    },
    {
      "cell_type": "code",
      "metadata": {
        "id": "tRiff3EDtlBG",
        "colab_type": "code",
        "colab": {}
      },
      "source": [
        "# with open('/content/drive/My Drive/BRATS2020/MICCAI_BraTS2020_TrainingData/survival_info.csv') as fd:\n",
        "#     reader=csv.reader(fd)\n",
        "#     interestingrows=[row for idx, row in enumerate(reader) if idx in (ind, ind)]"
      ],
      "execution_count": 19,
      "outputs": []
    },
    {
      "cell_type": "code",
      "metadata": {
        "id": "2_Yljczwt3Ah",
        "colab_type": "code",
        "colab": {
          "base_uri": "https://localhost:8080/",
          "height": 34
        },
        "outputId": "3a90f690-8fce-4742-d1dc-a138d1c1acab"
      },
      "source": [
        "# interestingrows"
      ],
      "execution_count": 20,
      "outputs": [
        {
          "output_type": "execute_result",
          "data": {
            "text/plain": [
              "[['BraTS20_Training_032', '63.192', '488', 'NA']]"
            ]
          },
          "metadata": {
            "tags": []
          },
          "execution_count": 20
        }
      ]
    },
    {
      "cell_type": "code",
      "metadata": {
        "id": "6cX2lQCw40rF",
        "colab_type": "code",
        "colab": {}
      },
      "source": [
        "def identity_block(X, f, filters, stage, block):\n",
        "    \"\"\"\n",
        "    Implementation of the identity block as defined in Figure 3\n",
        "    Arguments:\n",
        "    X -- input tensor of shape (m, n_H_prev, n_W_prev, n_C_prev)\n",
        "    f -- integer, specifying the shape of the middle CONV's window for the main path\n",
        "    filters -- python list of integers, defining the number of filters in the CONV layers of the main path\n",
        "    stage -- integer, used to name the layers, depending on their position in the network\n",
        "    block -- string/character, used to name the layers, depending on their position in the network\n",
        "    Returns:\n",
        "    X -- output of the identity block, tensor of shape (n_H, n_W, n_C)\n",
        "    \"\"\"\n",
        "\n",
        "    # defining name basis\n",
        "    conv_name_base = 'res' + str(stage) + block + '_branch'\n",
        "    bn_name_base = 'bn' + str(stage) + block + '_branch'\n",
        "\n",
        "    # Retrieve Filters\n",
        "    F1, F2, F3 = filters\n",
        "\n",
        "    # Save the input value. You'll need this later to add back to the main path.\n",
        "    X_shortcut = X\n",
        "\n",
        "    # First component of main path\n",
        "    X = Conv2D(filters=F1, kernel_size=1, strides=1, padding='valid', name=conv_name_base + '2a', kernel_initializer=glorot_uniform(seed=0))(X)\n",
        "    X = BatchNormalization( name=bn_name_base + '2a')(X)\n",
        "    X = Activation('relu')(X)\n",
        "\n",
        "    # Second component of main path\n",
        "    X = Conv2D(filters=F2, kernel_size=f, strides=1, padding='same', name=conv_name_base + '2b', kernel_initializer=glorot_uniform(seed=0))(X)\n",
        "    X = BatchNormalization( name=bn_name_base + '2b')(X)\n",
        "    X = Activation('relu')(X)\n",
        "\n",
        "    # Third component of main path\n",
        "    X = Conv2D(filters=F3, kernel_size=1, strides=1, padding='valid', name=conv_name_base + '2c', kernel_initializer=glorot_uniform(seed=0))(X)\n",
        "    X = BatchNormalization( name=bn_name_base + '2c')(X)\n",
        "\n",
        "    # Final step: Add shortcut value to main path, and pass it through a RELU activation\n",
        "    X = Add()([X, X_shortcut])\n",
        "    X = Activation('relu')(X)\n",
        "\n",
        "    ### END CODE HERE ###\n",
        "\n",
        "    return X"
      ],
      "execution_count": 12,
      "outputs": []
    },
    {
      "cell_type": "code",
      "metadata": {
        "id": "PZXZI2cKbQ3V",
        "colab_type": "code",
        "colab": {}
      },
      "source": [
        "def convolutional_block(X, f, filters, stage, block, s=2):\n",
        "    \"\"\"\n",
        "    Implementation of the convolutional block as defined in Figure 4\n",
        "    Arguments:\n",
        "    X -- input tensor of shape (m, n_H_prev, n_W_prev, n_C_prev)\n",
        "    f -- integer, specifying the shape of the middle CONV's window for the main path\n",
        "    filters -- python list of integers, defining the number of filters in the CONV layers of the main path\n",
        "    stage -- integer, used to name the layers, depending on their position in the network\n",
        "    block -- string/character, used to name the layers, depending on their position in the network\n",
        "    s -- Integer, specifying the stride to be used\n",
        "    Returns:\n",
        "    X -- output of the convolutional block, tensor of shape (n_H, n_W, n_C)\n",
        "    \"\"\"\n",
        "\n",
        "    # defining name basis\n",
        "    conv_name_base = 'res' + str(stage) + block + '_branch'\n",
        "    bn_name_base = 'bn' + str(stage) + block + '_branch'\n",
        "\n",
        "    # Retrieve Filters\n",
        "    F1, F2, F3 = filters\n",
        "\n",
        "    # Save the input value\n",
        "    X_shortcut = X\n",
        "\n",
        "    # First component of main path\n",
        "    X = Conv2D(F1, 1, strides=s, name=conv_name_base + '2a', kernel_initializer=glorot_uniform(seed=0))(X)\n",
        "    X = BatchNormalization( name=bn_name_base + '2a')(X)\n",
        "    X = Activation('relu')(X)\n",
        "\n",
        "    # Second component of main path\n",
        "    X = Conv2D(filters=F2, kernel_size=f, strides=1, padding='same', name=conv_name_base + '2b', kernel_initializer=glorot_uniform(seed=0))(X)\n",
        "    X = BatchNormalization( name=bn_name_base + '2b')(X)\n",
        "    X = Activation('relu')(X)\n",
        "\n",
        "    # Third component of main path\n",
        "    X = Conv2D(filters=F3, kernel_size=1, strides=1, padding='valid', name=conv_name_base + '2c', kernel_initializer=glorot_uniform(seed=0))(X)\n",
        "    X = BatchNormalization(name=bn_name_base + '2c')(X)\n",
        "\n",
        "    # Shortcut path\n",
        "    X_shortcut = Conv2D(F3, 1, strides=s, name=conv_name_base + '1', kernel_initializer=glorot_uniform(seed=0))(X_shortcut)\n",
        "    X_shortcut = BatchNormalization( name=bn_name_base + '1')(X_shortcut)\n",
        "\n",
        "    # Final step: Add shortcut value to main path, and pass it through a RELU activation (≈2 lines)\n",
        "    X = Add()([X, X_shortcut])\n",
        "    X = Activation('relu')(X)\n",
        "\n",
        "    return X"
      ],
      "execution_count": 13,
      "outputs": []
    },
    {
      "cell_type": "code",
      "metadata": {
        "id": "D3tDc5RDdTiY",
        "colab_type": "code",
        "colab": {}
      },
      "source": [
        "def ResNet50(input_shape=(64, 64, 64)):\n",
        "    \"\"\"\n",
        "    Implementation of the popular ResNet50 the following architecture:\n",
        "    CONV2D -> BATCHNORM -> RELU -> MAXPOOL -> CONVBLOCK -> IDBLOCK*2 -> CONVBLOCK -> IDBLOCK*3\n",
        "    -> CONVBLOCK -> IDBLOCK*5 -> CONVBLOCK -> IDBLOCK*2 -> AVGPOOL -> TOPLAYER\n",
        "    Arguments:\n",
        "    input_shape -- shape of the images of the dataset\n",
        "    classes -- integer, number of classes\n",
        "    Returns:\n",
        "    model -- a Model() instance in Keras\n",
        "    \"\"\"\n",
        "\n",
        "    # Define the input as a tensor with shape input_shape\n",
        "    res_X_input = Input(shape=input_shape)\n",
        "\n",
        "    # Zero-Padding\n",
        "    # X = ZeroPadding1D((3, 3))(X_input)\n",
        "\n",
        "    # Stage 1\n",
        "    res_X = Conv2D(64, 7, strides=1, name='conv1', kernel_initializer=glorot_uniform(seed=0))(res_X_input)\n",
        "    res_X = BatchNormalization(name='bn_conv1')(res_X)\n",
        "    res_X = Activation('relu')(res_X)\n",
        "    res_X = MaxPooling2D(3, strides=2)(res_X)\n",
        "\n",
        "    # Stage 2\n",
        "    res_X = convolutional_block(res_X, f=3, filters=[64, 64, 256], stage=2, block='a', s=1)\n",
        "    res_X = identity_block(res_X, 3, [64, 64, 256], stage=2, block='b')\n",
        "    res_X = identity_block(res_X, 3, [64, 64, 256], stage=2, block='c')\n",
        "\n",
        "    ### START CODE HERE ###\n",
        "\n",
        "    # Stage 3\n",
        "    res_X = convolutional_block(res_X, f=3, filters=[128, 128, 512], stage=3, block='a', s=2)\n",
        "    res_X = identity_block(res_X, 3, [128, 128, 512], stage=3, block='b')\n",
        "    res_X = identity_block(res_X, 3, [128, 128, 512], stage=3, block='c')\n",
        "    res_X = identity_block(res_X, 3, [128, 128, 512], stage=3, block='d')\n",
        "\n",
        "    # Stage 4\n",
        "    res_X = convolutional_block(res_X, f=3, filters=[256, 256, 1024], stage=4, block='a', s=2)\n",
        "    res_X = identity_block(res_X, 3, [256, 256, 1024], stage=4, block='b')\n",
        "    res_X = identity_block(res_X, 3, [256, 256, 1024], stage=4, block='c')\n",
        "    res_X = identity_block(res_X, 3, [256, 256, 1024], stage=4, block='d')\n",
        "    res_X = identity_block(res_X, 3, [256, 256, 1024], stage=4, block='e')\n",
        "    res_X = identity_block(res_X, 3, [256, 256, 1024], stage=4, block='f')\n",
        "\n",
        "    # Stage 5\n",
        "    res_X = convolutional_block(res_X, f=3, filters=[512, 512, 2048], stage=5, block='a', s=2)\n",
        "    res_X = identity_block(res_X, 3, [512, 512, 2048], stage=5, block='b')\n",
        "    res_X = identity_block(res_X, 3, [512, 512, 2048], stage=5, block='c')\n",
        "\n",
        "    # Average Pooling\n",
        "    res_X = AveragePooling2D(2, name='avg_pool')(res_X)\n",
        "\n",
        "    ### END CODE HERE ###\n",
        "\n",
        "    # output layer\n",
        "    res_X = Flatten()(res_X)\n",
        "    res_X = Dense(1, activation='linear', name='fc' , kernel_initializer=glorot_uniform(seed=0))(res_X)\n",
        "\n",
        "    # Create model\n",
        "    res_model = Model(inputs=res_X_input, outputs=res_X, name='ResNet50')\n",
        "\n",
        "    return res_model"
      ],
      "execution_count": 14,
      "outputs": []
    },
    {
      "cell_type": "code",
      "metadata": {
        "id": "QVeY7Wz1dfED",
        "colab_type": "code",
        "colab": {}
      },
      "source": [
        "res_model = ResNet50(input_shape = (64, 64, 64))"
      ],
      "execution_count": 15,
      "outputs": []
    },
    {
      "cell_type": "code",
      "metadata": {
        "id": "F2pN3N0DjQU6",
        "colab_type": "code",
        "colab": {
          "base_uri": "https://localhost:8080/",
          "height": 1000
        },
        "outputId": "ef326f0b-ba6d-4b80-ad67-bb3ba1514287"
      },
      "source": [
        "res_model.summary()"
      ],
      "execution_count": 16,
      "outputs": [
        {
          "output_type": "stream",
          "text": [
            "Model: \"ResNet50\"\n",
            "__________________________________________________________________________________________________\n",
            "Layer (type)                    Output Shape         Param #     Connected to                     \n",
            "==================================================================================================\n",
            "input_1 (InputLayer)            [(None, 64, 64, 64)] 0                                            \n",
            "__________________________________________________________________________________________________\n",
            "conv1 (Conv2D)                  (None, 58, 58, 64)   200768      input_1[0][0]                    \n",
            "__________________________________________________________________________________________________\n",
            "bn_conv1 (BatchNormalization)   (None, 58, 58, 64)   256         conv1[0][0]                      \n",
            "__________________________________________________________________________________________________\n",
            "activation (Activation)         (None, 58, 58, 64)   0           bn_conv1[0][0]                   \n",
            "__________________________________________________________________________________________________\n",
            "max_pooling2d (MaxPooling2D)    (None, 28, 28, 64)   0           activation[0][0]                 \n",
            "__________________________________________________________________________________________________\n",
            "res2a_branch2a (Conv2D)         (None, 28, 28, 64)   4160        max_pooling2d[0][0]              \n",
            "__________________________________________________________________________________________________\n",
            "bn2a_branch2a (BatchNormalizati (None, 28, 28, 64)   256         res2a_branch2a[0][0]             \n",
            "__________________________________________________________________________________________________\n",
            "activation_1 (Activation)       (None, 28, 28, 64)   0           bn2a_branch2a[0][0]              \n",
            "__________________________________________________________________________________________________\n",
            "res2a_branch2b (Conv2D)         (None, 28, 28, 64)   36928       activation_1[0][0]               \n",
            "__________________________________________________________________________________________________\n",
            "bn2a_branch2b (BatchNormalizati (None, 28, 28, 64)   256         res2a_branch2b[0][0]             \n",
            "__________________________________________________________________________________________________\n",
            "activation_2 (Activation)       (None, 28, 28, 64)   0           bn2a_branch2b[0][0]              \n",
            "__________________________________________________________________________________________________\n",
            "res2a_branch2c (Conv2D)         (None, 28, 28, 256)  16640       activation_2[0][0]               \n",
            "__________________________________________________________________________________________________\n",
            "res2a_branch1 (Conv2D)          (None, 28, 28, 256)  16640       max_pooling2d[0][0]              \n",
            "__________________________________________________________________________________________________\n",
            "bn2a_branch2c (BatchNormalizati (None, 28, 28, 256)  1024        res2a_branch2c[0][0]             \n",
            "__________________________________________________________________________________________________\n",
            "bn2a_branch1 (BatchNormalizatio (None, 28, 28, 256)  1024        res2a_branch1[0][0]              \n",
            "__________________________________________________________________________________________________\n",
            "add (Add)                       (None, 28, 28, 256)  0           bn2a_branch2c[0][0]              \n",
            "                                                                 bn2a_branch1[0][0]               \n",
            "__________________________________________________________________________________________________\n",
            "activation_3 (Activation)       (None, 28, 28, 256)  0           add[0][0]                        \n",
            "__________________________________________________________________________________________________\n",
            "res2b_branch2a (Conv2D)         (None, 28, 28, 64)   16448       activation_3[0][0]               \n",
            "__________________________________________________________________________________________________\n",
            "bn2b_branch2a (BatchNormalizati (None, 28, 28, 64)   256         res2b_branch2a[0][0]             \n",
            "__________________________________________________________________________________________________\n",
            "activation_4 (Activation)       (None, 28, 28, 64)   0           bn2b_branch2a[0][0]              \n",
            "__________________________________________________________________________________________________\n",
            "res2b_branch2b (Conv2D)         (None, 28, 28, 64)   36928       activation_4[0][0]               \n",
            "__________________________________________________________________________________________________\n",
            "bn2b_branch2b (BatchNormalizati (None, 28, 28, 64)   256         res2b_branch2b[0][0]             \n",
            "__________________________________________________________________________________________________\n",
            "activation_5 (Activation)       (None, 28, 28, 64)   0           bn2b_branch2b[0][0]              \n",
            "__________________________________________________________________________________________________\n",
            "res2b_branch2c (Conv2D)         (None, 28, 28, 256)  16640       activation_5[0][0]               \n",
            "__________________________________________________________________________________________________\n",
            "bn2b_branch2c (BatchNormalizati (None, 28, 28, 256)  1024        res2b_branch2c[0][0]             \n",
            "__________________________________________________________________________________________________\n",
            "add_1 (Add)                     (None, 28, 28, 256)  0           bn2b_branch2c[0][0]              \n",
            "                                                                 activation_3[0][0]               \n",
            "__________________________________________________________________________________________________\n",
            "activation_6 (Activation)       (None, 28, 28, 256)  0           add_1[0][0]                      \n",
            "__________________________________________________________________________________________________\n",
            "res2c_branch2a (Conv2D)         (None, 28, 28, 64)   16448       activation_6[0][0]               \n",
            "__________________________________________________________________________________________________\n",
            "bn2c_branch2a (BatchNormalizati (None, 28, 28, 64)   256         res2c_branch2a[0][0]             \n",
            "__________________________________________________________________________________________________\n",
            "activation_7 (Activation)       (None, 28, 28, 64)   0           bn2c_branch2a[0][0]              \n",
            "__________________________________________________________________________________________________\n",
            "res2c_branch2b (Conv2D)         (None, 28, 28, 64)   36928       activation_7[0][0]               \n",
            "__________________________________________________________________________________________________\n",
            "bn2c_branch2b (BatchNormalizati (None, 28, 28, 64)   256         res2c_branch2b[0][0]             \n",
            "__________________________________________________________________________________________________\n",
            "activation_8 (Activation)       (None, 28, 28, 64)   0           bn2c_branch2b[0][0]              \n",
            "__________________________________________________________________________________________________\n",
            "res2c_branch2c (Conv2D)         (None, 28, 28, 256)  16640       activation_8[0][0]               \n",
            "__________________________________________________________________________________________________\n",
            "bn2c_branch2c (BatchNormalizati (None, 28, 28, 256)  1024        res2c_branch2c[0][0]             \n",
            "__________________________________________________________________________________________________\n",
            "add_2 (Add)                     (None, 28, 28, 256)  0           bn2c_branch2c[0][0]              \n",
            "                                                                 activation_6[0][0]               \n",
            "__________________________________________________________________________________________________\n",
            "activation_9 (Activation)       (None, 28, 28, 256)  0           add_2[0][0]                      \n",
            "__________________________________________________________________________________________________\n",
            "res3a_branch2a (Conv2D)         (None, 14, 14, 128)  32896       activation_9[0][0]               \n",
            "__________________________________________________________________________________________________\n",
            "bn3a_branch2a (BatchNormalizati (None, 14, 14, 128)  512         res3a_branch2a[0][0]             \n",
            "__________________________________________________________________________________________________\n",
            "activation_10 (Activation)      (None, 14, 14, 128)  0           bn3a_branch2a[0][0]              \n",
            "__________________________________________________________________________________________________\n",
            "res3a_branch2b (Conv2D)         (None, 14, 14, 128)  147584      activation_10[0][0]              \n",
            "__________________________________________________________________________________________________\n",
            "bn3a_branch2b (BatchNormalizati (None, 14, 14, 128)  512         res3a_branch2b[0][0]             \n",
            "__________________________________________________________________________________________________\n",
            "activation_11 (Activation)      (None, 14, 14, 128)  0           bn3a_branch2b[0][0]              \n",
            "__________________________________________________________________________________________________\n",
            "res3a_branch2c (Conv2D)         (None, 14, 14, 512)  66048       activation_11[0][0]              \n",
            "__________________________________________________________________________________________________\n",
            "res3a_branch1 (Conv2D)          (None, 14, 14, 512)  131584      activation_9[0][0]               \n",
            "__________________________________________________________________________________________________\n",
            "bn3a_branch2c (BatchNormalizati (None, 14, 14, 512)  2048        res3a_branch2c[0][0]             \n",
            "__________________________________________________________________________________________________\n",
            "bn3a_branch1 (BatchNormalizatio (None, 14, 14, 512)  2048        res3a_branch1[0][0]              \n",
            "__________________________________________________________________________________________________\n",
            "add_3 (Add)                     (None, 14, 14, 512)  0           bn3a_branch2c[0][0]              \n",
            "                                                                 bn3a_branch1[0][0]               \n",
            "__________________________________________________________________________________________________\n",
            "activation_12 (Activation)      (None, 14, 14, 512)  0           add_3[0][0]                      \n",
            "__________________________________________________________________________________________________\n",
            "res3b_branch2a (Conv2D)         (None, 14, 14, 128)  65664       activation_12[0][0]              \n",
            "__________________________________________________________________________________________________\n",
            "bn3b_branch2a (BatchNormalizati (None, 14, 14, 128)  512         res3b_branch2a[0][0]             \n",
            "__________________________________________________________________________________________________\n",
            "activation_13 (Activation)      (None, 14, 14, 128)  0           bn3b_branch2a[0][0]              \n",
            "__________________________________________________________________________________________________\n",
            "res3b_branch2b (Conv2D)         (None, 14, 14, 128)  147584      activation_13[0][0]              \n",
            "__________________________________________________________________________________________________\n",
            "bn3b_branch2b (BatchNormalizati (None, 14, 14, 128)  512         res3b_branch2b[0][0]             \n",
            "__________________________________________________________________________________________________\n",
            "activation_14 (Activation)      (None, 14, 14, 128)  0           bn3b_branch2b[0][0]              \n",
            "__________________________________________________________________________________________________\n",
            "res3b_branch2c (Conv2D)         (None, 14, 14, 512)  66048       activation_14[0][0]              \n",
            "__________________________________________________________________________________________________\n",
            "bn3b_branch2c (BatchNormalizati (None, 14, 14, 512)  2048        res3b_branch2c[0][0]             \n",
            "__________________________________________________________________________________________________\n",
            "add_4 (Add)                     (None, 14, 14, 512)  0           bn3b_branch2c[0][0]              \n",
            "                                                                 activation_12[0][0]              \n",
            "__________________________________________________________________________________________________\n",
            "activation_15 (Activation)      (None, 14, 14, 512)  0           add_4[0][0]                      \n",
            "__________________________________________________________________________________________________\n",
            "res3c_branch2a (Conv2D)         (None, 14, 14, 128)  65664       activation_15[0][0]              \n",
            "__________________________________________________________________________________________________\n",
            "bn3c_branch2a (BatchNormalizati (None, 14, 14, 128)  512         res3c_branch2a[0][0]             \n",
            "__________________________________________________________________________________________________\n",
            "activation_16 (Activation)      (None, 14, 14, 128)  0           bn3c_branch2a[0][0]              \n",
            "__________________________________________________________________________________________________\n",
            "res3c_branch2b (Conv2D)         (None, 14, 14, 128)  147584      activation_16[0][0]              \n",
            "__________________________________________________________________________________________________\n",
            "bn3c_branch2b (BatchNormalizati (None, 14, 14, 128)  512         res3c_branch2b[0][0]             \n",
            "__________________________________________________________________________________________________\n",
            "activation_17 (Activation)      (None, 14, 14, 128)  0           bn3c_branch2b[0][0]              \n",
            "__________________________________________________________________________________________________\n",
            "res3c_branch2c (Conv2D)         (None, 14, 14, 512)  66048       activation_17[0][0]              \n",
            "__________________________________________________________________________________________________\n",
            "bn3c_branch2c (BatchNormalizati (None, 14, 14, 512)  2048        res3c_branch2c[0][0]             \n",
            "__________________________________________________________________________________________________\n",
            "add_5 (Add)                     (None, 14, 14, 512)  0           bn3c_branch2c[0][0]              \n",
            "                                                                 activation_15[0][0]              \n",
            "__________________________________________________________________________________________________\n",
            "activation_18 (Activation)      (None, 14, 14, 512)  0           add_5[0][0]                      \n",
            "__________________________________________________________________________________________________\n",
            "res3d_branch2a (Conv2D)         (None, 14, 14, 128)  65664       activation_18[0][0]              \n",
            "__________________________________________________________________________________________________\n",
            "bn3d_branch2a (BatchNormalizati (None, 14, 14, 128)  512         res3d_branch2a[0][0]             \n",
            "__________________________________________________________________________________________________\n",
            "activation_19 (Activation)      (None, 14, 14, 128)  0           bn3d_branch2a[0][0]              \n",
            "__________________________________________________________________________________________________\n",
            "res3d_branch2b (Conv2D)         (None, 14, 14, 128)  147584      activation_19[0][0]              \n",
            "__________________________________________________________________________________________________\n",
            "bn3d_branch2b (BatchNormalizati (None, 14, 14, 128)  512         res3d_branch2b[0][0]             \n",
            "__________________________________________________________________________________________________\n",
            "activation_20 (Activation)      (None, 14, 14, 128)  0           bn3d_branch2b[0][0]              \n",
            "__________________________________________________________________________________________________\n",
            "res3d_branch2c (Conv2D)         (None, 14, 14, 512)  66048       activation_20[0][0]              \n",
            "__________________________________________________________________________________________________\n",
            "bn3d_branch2c (BatchNormalizati (None, 14, 14, 512)  2048        res3d_branch2c[0][0]             \n",
            "__________________________________________________________________________________________________\n",
            "add_6 (Add)                     (None, 14, 14, 512)  0           bn3d_branch2c[0][0]              \n",
            "                                                                 activation_18[0][0]              \n",
            "__________________________________________________________________________________________________\n",
            "activation_21 (Activation)      (None, 14, 14, 512)  0           add_6[0][0]                      \n",
            "__________________________________________________________________________________________________\n",
            "res4a_branch2a (Conv2D)         (None, 7, 7, 256)    131328      activation_21[0][0]              \n",
            "__________________________________________________________________________________________________\n",
            "bn4a_branch2a (BatchNormalizati (None, 7, 7, 256)    1024        res4a_branch2a[0][0]             \n",
            "__________________________________________________________________________________________________\n",
            "activation_22 (Activation)      (None, 7, 7, 256)    0           bn4a_branch2a[0][0]              \n",
            "__________________________________________________________________________________________________\n",
            "res4a_branch2b (Conv2D)         (None, 7, 7, 256)    590080      activation_22[0][0]              \n",
            "__________________________________________________________________________________________________\n",
            "bn4a_branch2b (BatchNormalizati (None, 7, 7, 256)    1024        res4a_branch2b[0][0]             \n",
            "__________________________________________________________________________________________________\n",
            "activation_23 (Activation)      (None, 7, 7, 256)    0           bn4a_branch2b[0][0]              \n",
            "__________________________________________________________________________________________________\n",
            "res4a_branch2c (Conv2D)         (None, 7, 7, 1024)   263168      activation_23[0][0]              \n",
            "__________________________________________________________________________________________________\n",
            "res4a_branch1 (Conv2D)          (None, 7, 7, 1024)   525312      activation_21[0][0]              \n",
            "__________________________________________________________________________________________________\n",
            "bn4a_branch2c (BatchNormalizati (None, 7, 7, 1024)   4096        res4a_branch2c[0][0]             \n",
            "__________________________________________________________________________________________________\n",
            "bn4a_branch1 (BatchNormalizatio (None, 7, 7, 1024)   4096        res4a_branch1[0][0]              \n",
            "__________________________________________________________________________________________________\n",
            "add_7 (Add)                     (None, 7, 7, 1024)   0           bn4a_branch2c[0][0]              \n",
            "                                                                 bn4a_branch1[0][0]               \n",
            "__________________________________________________________________________________________________\n",
            "activation_24 (Activation)      (None, 7, 7, 1024)   0           add_7[0][0]                      \n",
            "__________________________________________________________________________________________________\n",
            "res4b_branch2a (Conv2D)         (None, 7, 7, 256)    262400      activation_24[0][0]              \n",
            "__________________________________________________________________________________________________\n",
            "bn4b_branch2a (BatchNormalizati (None, 7, 7, 256)    1024        res4b_branch2a[0][0]             \n",
            "__________________________________________________________________________________________________\n",
            "activation_25 (Activation)      (None, 7, 7, 256)    0           bn4b_branch2a[0][0]              \n",
            "__________________________________________________________________________________________________\n",
            "res4b_branch2b (Conv2D)         (None, 7, 7, 256)    590080      activation_25[0][0]              \n",
            "__________________________________________________________________________________________________\n",
            "bn4b_branch2b (BatchNormalizati (None, 7, 7, 256)    1024        res4b_branch2b[0][0]             \n",
            "__________________________________________________________________________________________________\n",
            "activation_26 (Activation)      (None, 7, 7, 256)    0           bn4b_branch2b[0][0]              \n",
            "__________________________________________________________________________________________________\n",
            "res4b_branch2c (Conv2D)         (None, 7, 7, 1024)   263168      activation_26[0][0]              \n",
            "__________________________________________________________________________________________________\n",
            "bn4b_branch2c (BatchNormalizati (None, 7, 7, 1024)   4096        res4b_branch2c[0][0]             \n",
            "__________________________________________________________________________________________________\n",
            "add_8 (Add)                     (None, 7, 7, 1024)   0           bn4b_branch2c[0][0]              \n",
            "                                                                 activation_24[0][0]              \n",
            "__________________________________________________________________________________________________\n",
            "activation_27 (Activation)      (None, 7, 7, 1024)   0           add_8[0][0]                      \n",
            "__________________________________________________________________________________________________\n",
            "res4c_branch2a (Conv2D)         (None, 7, 7, 256)    262400      activation_27[0][0]              \n",
            "__________________________________________________________________________________________________\n",
            "bn4c_branch2a (BatchNormalizati (None, 7, 7, 256)    1024        res4c_branch2a[0][0]             \n",
            "__________________________________________________________________________________________________\n",
            "activation_28 (Activation)      (None, 7, 7, 256)    0           bn4c_branch2a[0][0]              \n",
            "__________________________________________________________________________________________________\n",
            "res4c_branch2b (Conv2D)         (None, 7, 7, 256)    590080      activation_28[0][0]              \n",
            "__________________________________________________________________________________________________\n",
            "bn4c_branch2b (BatchNormalizati (None, 7, 7, 256)    1024        res4c_branch2b[0][0]             \n",
            "__________________________________________________________________________________________________\n",
            "activation_29 (Activation)      (None, 7, 7, 256)    0           bn4c_branch2b[0][0]              \n",
            "__________________________________________________________________________________________________\n",
            "res4c_branch2c (Conv2D)         (None, 7, 7, 1024)   263168      activation_29[0][0]              \n",
            "__________________________________________________________________________________________________\n",
            "bn4c_branch2c (BatchNormalizati (None, 7, 7, 1024)   4096        res4c_branch2c[0][0]             \n",
            "__________________________________________________________________________________________________\n",
            "add_9 (Add)                     (None, 7, 7, 1024)   0           bn4c_branch2c[0][0]              \n",
            "                                                                 activation_27[0][0]              \n",
            "__________________________________________________________________________________________________\n",
            "activation_30 (Activation)      (None, 7, 7, 1024)   0           add_9[0][0]                      \n",
            "__________________________________________________________________________________________________\n",
            "res4d_branch2a (Conv2D)         (None, 7, 7, 256)    262400      activation_30[0][0]              \n",
            "__________________________________________________________________________________________________\n",
            "bn4d_branch2a (BatchNormalizati (None, 7, 7, 256)    1024        res4d_branch2a[0][0]             \n",
            "__________________________________________________________________________________________________\n",
            "activation_31 (Activation)      (None, 7, 7, 256)    0           bn4d_branch2a[0][0]              \n",
            "__________________________________________________________________________________________________\n",
            "res4d_branch2b (Conv2D)         (None, 7, 7, 256)    590080      activation_31[0][0]              \n",
            "__________________________________________________________________________________________________\n",
            "bn4d_branch2b (BatchNormalizati (None, 7, 7, 256)    1024        res4d_branch2b[0][0]             \n",
            "__________________________________________________________________________________________________\n",
            "activation_32 (Activation)      (None, 7, 7, 256)    0           bn4d_branch2b[0][0]              \n",
            "__________________________________________________________________________________________________\n",
            "res4d_branch2c (Conv2D)         (None, 7, 7, 1024)   263168      activation_32[0][0]              \n",
            "__________________________________________________________________________________________________\n",
            "bn4d_branch2c (BatchNormalizati (None, 7, 7, 1024)   4096        res4d_branch2c[0][0]             \n",
            "__________________________________________________________________________________________________\n",
            "add_10 (Add)                    (None, 7, 7, 1024)   0           bn4d_branch2c[0][0]              \n",
            "                                                                 activation_30[0][0]              \n",
            "__________________________________________________________________________________________________\n",
            "activation_33 (Activation)      (None, 7, 7, 1024)   0           add_10[0][0]                     \n",
            "__________________________________________________________________________________________________\n",
            "res4e_branch2a (Conv2D)         (None, 7, 7, 256)    262400      activation_33[0][0]              \n",
            "__________________________________________________________________________________________________\n",
            "bn4e_branch2a (BatchNormalizati (None, 7, 7, 256)    1024        res4e_branch2a[0][0]             \n",
            "__________________________________________________________________________________________________\n",
            "activation_34 (Activation)      (None, 7, 7, 256)    0           bn4e_branch2a[0][0]              \n",
            "__________________________________________________________________________________________________\n",
            "res4e_branch2b (Conv2D)         (None, 7, 7, 256)    590080      activation_34[0][0]              \n",
            "__________________________________________________________________________________________________\n",
            "bn4e_branch2b (BatchNormalizati (None, 7, 7, 256)    1024        res4e_branch2b[0][0]             \n",
            "__________________________________________________________________________________________________\n",
            "activation_35 (Activation)      (None, 7, 7, 256)    0           bn4e_branch2b[0][0]              \n",
            "__________________________________________________________________________________________________\n",
            "res4e_branch2c (Conv2D)         (None, 7, 7, 1024)   263168      activation_35[0][0]              \n",
            "__________________________________________________________________________________________________\n",
            "bn4e_branch2c (BatchNormalizati (None, 7, 7, 1024)   4096        res4e_branch2c[0][0]             \n",
            "__________________________________________________________________________________________________\n",
            "add_11 (Add)                    (None, 7, 7, 1024)   0           bn4e_branch2c[0][0]              \n",
            "                                                                 activation_33[0][0]              \n",
            "__________________________________________________________________________________________________\n",
            "activation_36 (Activation)      (None, 7, 7, 1024)   0           add_11[0][0]                     \n",
            "__________________________________________________________________________________________________\n",
            "res4f_branch2a (Conv2D)         (None, 7, 7, 256)    262400      activation_36[0][0]              \n",
            "__________________________________________________________________________________________________\n",
            "bn4f_branch2a (BatchNormalizati (None, 7, 7, 256)    1024        res4f_branch2a[0][0]             \n",
            "__________________________________________________________________________________________________\n",
            "activation_37 (Activation)      (None, 7, 7, 256)    0           bn4f_branch2a[0][0]              \n",
            "__________________________________________________________________________________________________\n",
            "res4f_branch2b (Conv2D)         (None, 7, 7, 256)    590080      activation_37[0][0]              \n",
            "__________________________________________________________________________________________________\n",
            "bn4f_branch2b (BatchNormalizati (None, 7, 7, 256)    1024        res4f_branch2b[0][0]             \n",
            "__________________________________________________________________________________________________\n",
            "activation_38 (Activation)      (None, 7, 7, 256)    0           bn4f_branch2b[0][0]              \n",
            "__________________________________________________________________________________________________\n",
            "res4f_branch2c (Conv2D)         (None, 7, 7, 1024)   263168      activation_38[0][0]              \n",
            "__________________________________________________________________________________________________\n",
            "bn4f_branch2c (BatchNormalizati (None, 7, 7, 1024)   4096        res4f_branch2c[0][0]             \n",
            "__________________________________________________________________________________________________\n",
            "add_12 (Add)                    (None, 7, 7, 1024)   0           bn4f_branch2c[0][0]              \n",
            "                                                                 activation_36[0][0]              \n",
            "__________________________________________________________________________________________________\n",
            "activation_39 (Activation)      (None, 7, 7, 1024)   0           add_12[0][0]                     \n",
            "__________________________________________________________________________________________________\n",
            "res5a_branch2a (Conv2D)         (None, 4, 4, 512)    524800      activation_39[0][0]              \n",
            "__________________________________________________________________________________________________\n",
            "bn5a_branch2a (BatchNormalizati (None, 4, 4, 512)    2048        res5a_branch2a[0][0]             \n",
            "__________________________________________________________________________________________________\n",
            "activation_40 (Activation)      (None, 4, 4, 512)    0           bn5a_branch2a[0][0]              \n",
            "__________________________________________________________________________________________________\n",
            "res5a_branch2b (Conv2D)         (None, 4, 4, 512)    2359808     activation_40[0][0]              \n",
            "__________________________________________________________________________________________________\n",
            "bn5a_branch2b (BatchNormalizati (None, 4, 4, 512)    2048        res5a_branch2b[0][0]             \n",
            "__________________________________________________________________________________________________\n",
            "activation_41 (Activation)      (None, 4, 4, 512)    0           bn5a_branch2b[0][0]              \n",
            "__________________________________________________________________________________________________\n",
            "res5a_branch2c (Conv2D)         (None, 4, 4, 2048)   1050624     activation_41[0][0]              \n",
            "__________________________________________________________________________________________________\n",
            "res5a_branch1 (Conv2D)          (None, 4, 4, 2048)   2099200     activation_39[0][0]              \n",
            "__________________________________________________________________________________________________\n",
            "bn5a_branch2c (BatchNormalizati (None, 4, 4, 2048)   8192        res5a_branch2c[0][0]             \n",
            "__________________________________________________________________________________________________\n",
            "bn5a_branch1 (BatchNormalizatio (None, 4, 4, 2048)   8192        res5a_branch1[0][0]              \n",
            "__________________________________________________________________________________________________\n",
            "add_13 (Add)                    (None, 4, 4, 2048)   0           bn5a_branch2c[0][0]              \n",
            "                                                                 bn5a_branch1[0][0]               \n",
            "__________________________________________________________________________________________________\n",
            "activation_42 (Activation)      (None, 4, 4, 2048)   0           add_13[0][0]                     \n",
            "__________________________________________________________________________________________________\n",
            "res5b_branch2a (Conv2D)         (None, 4, 4, 512)    1049088     activation_42[0][0]              \n",
            "__________________________________________________________________________________________________\n",
            "bn5b_branch2a (BatchNormalizati (None, 4, 4, 512)    2048        res5b_branch2a[0][0]             \n",
            "__________________________________________________________________________________________________\n",
            "activation_43 (Activation)      (None, 4, 4, 512)    0           bn5b_branch2a[0][0]              \n",
            "__________________________________________________________________________________________________\n",
            "res5b_branch2b (Conv2D)         (None, 4, 4, 512)    2359808     activation_43[0][0]              \n",
            "__________________________________________________________________________________________________\n",
            "bn5b_branch2b (BatchNormalizati (None, 4, 4, 512)    2048        res5b_branch2b[0][0]             \n",
            "__________________________________________________________________________________________________\n",
            "activation_44 (Activation)      (None, 4, 4, 512)    0           bn5b_branch2b[0][0]              \n",
            "__________________________________________________________________________________________________\n",
            "res5b_branch2c (Conv2D)         (None, 4, 4, 2048)   1050624     activation_44[0][0]              \n",
            "__________________________________________________________________________________________________\n",
            "bn5b_branch2c (BatchNormalizati (None, 4, 4, 2048)   8192        res5b_branch2c[0][0]             \n",
            "__________________________________________________________________________________________________\n",
            "add_14 (Add)                    (None, 4, 4, 2048)   0           bn5b_branch2c[0][0]              \n",
            "                                                                 activation_42[0][0]              \n",
            "__________________________________________________________________________________________________\n",
            "activation_45 (Activation)      (None, 4, 4, 2048)   0           add_14[0][0]                     \n",
            "__________________________________________________________________________________________________\n",
            "res5c_branch2a (Conv2D)         (None, 4, 4, 512)    1049088     activation_45[0][0]              \n",
            "__________________________________________________________________________________________________\n",
            "bn5c_branch2a (BatchNormalizati (None, 4, 4, 512)    2048        res5c_branch2a[0][0]             \n",
            "__________________________________________________________________________________________________\n",
            "activation_46 (Activation)      (None, 4, 4, 512)    0           bn5c_branch2a[0][0]              \n",
            "__________________________________________________________________________________________________\n",
            "res5c_branch2b (Conv2D)         (None, 4, 4, 512)    2359808     activation_46[0][0]              \n",
            "__________________________________________________________________________________________________\n",
            "bn5c_branch2b (BatchNormalizati (None, 4, 4, 512)    2048        res5c_branch2b[0][0]             \n",
            "__________________________________________________________________________________________________\n",
            "activation_47 (Activation)      (None, 4, 4, 512)    0           bn5c_branch2b[0][0]              \n",
            "__________________________________________________________________________________________________\n",
            "res5c_branch2c (Conv2D)         (None, 4, 4, 2048)   1050624     activation_47[0][0]              \n",
            "__________________________________________________________________________________________________\n",
            "bn5c_branch2c (BatchNormalizati (None, 4, 4, 2048)   8192        res5c_branch2c[0][0]             \n",
            "__________________________________________________________________________________________________\n",
            "add_15 (Add)                    (None, 4, 4, 2048)   0           bn5c_branch2c[0][0]              \n",
            "                                                                 activation_45[0][0]              \n",
            "__________________________________________________________________________________________________\n",
            "activation_48 (Activation)      (None, 4, 4, 2048)   0           add_15[0][0]                     \n",
            "__________________________________________________________________________________________________\n",
            "avg_pool (AveragePooling2D)     (None, 2, 2, 2048)   0           activation_48[0][0]              \n",
            "__________________________________________________________________________________________________\n",
            "flatten (Flatten)               (None, 8192)         0           avg_pool[0][0]                   \n",
            "__________________________________________________________________________________________________\n",
            "fc (Dense)                      (None, 1)            8193        flatten[0][0]                    \n",
            "==================================================================================================\n",
            "Total params: 23,787,201\n",
            "Trainable params: 23,734,081\n",
            "Non-trainable params: 53,120\n",
            "__________________________________________________________________________________________________\n"
          ],
          "name": "stdout"
        }
      ]
    },
    {
      "cell_type": "code",
      "metadata": {
        "id": "yde1OzV8l3IY",
        "colab_type": "code",
        "colab": {}
      },
      "source": [
        "def generator(X_path, y_path, batch_size=2):\n",
        "    \n",
        "\n",
        "   \n",
        "    num_samples = len(X_path)\n",
        "    while True: # Loop forever so the generator never terminates\n",
        "\n",
        "      \n",
        "      # Get index to start each batch: [0, batch_size, 2*batch_size, ..., max multiple of batch_size &lt;= num_samples]\n",
        "      for offset in range(0, int(num_samples), batch_size):\n",
        "            \n",
        "          # Get the samples you'll use in this batch\n",
        "          batch_samples = X_path[ (offset * batch_size) : ((offset+1) * batch_size) ]\n",
        " \n",
        "            \n",
        "             \n",
        "              \n",
        "              # Initialise X_train and y_train arrays for this batch\n",
        "         \n",
        "\n",
        "          for i in batch_samples:\n",
        "\n",
        "            X_train = []\n",
        "            y_train = []\n",
        "            \n",
        "            for j in range(5):  \n",
        "              X_input = load_case(i)\n",
        "              X = get_max(X_input, 64, 64, 64, 8, 5)\n",
        "              X = np.reshape(X[j], (64, 64, 64))\n",
        "\n",
        "\n",
        "              patient_number = i[81:84]\n",
        "              days = find_days_by_patient_number(patient_number)\n",
        "              if days != None and 'ALIVE' not in days:\n",
        "              \n",
        "                X_train.append(X)\n",
        "                # for i in range(4):\n",
        "                y_train.append(int(days))\n",
        "                \n",
        "                  \n",
        "  \n",
        "              # Make sure they're numpy arrays (as opposed to lists)\n",
        "\n",
        "            X_train = np.array(X_train)\n",
        "            y_train = np.array(y_train)\n",
        "\n",
        "            \n",
        "\n",
        "\n",
        "\n",
        "\n",
        "            if X_train.ndim == 4:             \n",
        "              yield X_train, y_train\n",
        "            else:\n",
        "              pass"
      ],
      "execution_count": 21,
      "outputs": []
    },
    {
      "cell_type": "code",
      "metadata": {
        "id": "FEba7UJRoSn7",
        "colab_type": "code",
        "colab": {}
      },
      "source": [
        "X_train_filenames = X_trainset_filenames[:309]\n",
        "X_valid_filenames = X_trainset_filenames[309:]\n",
        "\n",
        "\n",
        "y_train_path = '/content/drive/My Drive/BRATS2020/MICCAI_BraTS2020_TrainingData/survival_info.csv'\n",
        "\n",
        "train_generator = generator(X_train_filenames, y_train_path, batch_size=3)\n",
        "validation_generator = generator(X_valid_filenames, y_train_path, batch_size=3)"
      ],
      "execution_count": 22,
      "outputs": []
    },
    {
      "cell_type": "code",
      "metadata": {
        "id": "IcT6EoIbzhub",
        "colab_type": "code",
        "colab": {}
      },
      "source": [
        "\n",
        "opt = Adam(lr=1e-4, decay=1e-4 / 200)\n",
        "\n",
        "\n",
        "res_model.compile(optimizer=opt, loss='mean_absolute_percentage_error')"
      ],
      "execution_count": 23,
      "outputs": []
    },
    {
      "cell_type": "code",
      "metadata": {
        "id": "9DHmLHFqzM50",
        "colab_type": "code",
        "colab": {
          "base_uri": "https://localhost:8080/",
          "height": 50
        },
        "outputId": "d7da6f03-50f6-4a66-bb19-0b92a3430064"
      },
      "source": [
        "from keras.callbacks import EarlyStopping, ModelCheckpoint, LearningRateScheduler\n",
        "\n",
        "initial_learning_rate = 0.0001\n",
        "\n",
        "\n",
        "def scheduler(epoch):\n",
        "  \n",
        "  ## decrease learning rate every 3 epochs to 0.1(latest_value) ##\n",
        "  return float(initial_learning_rate * tf.math.exp(0.1 * (int(epoch/3))))\n",
        "  \n",
        "\n",
        "\n",
        "# callback\n",
        "my_callbacks = [\n",
        "        LearningRateScheduler(scheduler), \n",
        "        EarlyStopping(monitor='val_loss', patience=6),\n",
        "        ModelCheckpoint(filepath='/content/drive/My Drive/BRATS2020/Survival_FlowerModel_update.{epoch:02d}-{val_loss:.2f}.h5', monitor='val_loss', save_best_only=False)\n",
        "]\n",
        "\n",
        "\n",
        "\n",
        "#### steps per epoch should be x/batch*8 because model generates 8 subvolumes per training sample\n",
        "# Fit model using generator\n",
        "history = res_model.fit(train_generator, steps_per_epoch=515, epochs=50, validation_data=validation_generator, validation_steps=100, callbacks=my_callbacks)"
      ],
      "execution_count": null,
      "outputs": [
        {
          "output_type": "stream",
          "text": [
            "Epoch 1/50\n",
            "  4/515 [..............................] - ETA: 3:12:31 - loss: 93.7398"
          ],
          "name": "stdout"
        }
      ]
    },
    {
      "cell_type": "code",
      "metadata": {
        "id": "N7-SmRYVUuIB",
        "colab_type": "code",
        "colab": {}
      },
      "source": [
        ""
      ],
      "execution_count": null,
      "outputs": []
    }
  ]
}