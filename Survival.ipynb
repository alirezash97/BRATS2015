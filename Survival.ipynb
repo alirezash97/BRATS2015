{
  "nbformat": 4,
  "nbformat_minor": 0,
  "metadata": {
    "colab": {
      "name": "Survival.ipynb",
      "provenance": [],
      "authorship_tag": "ABX9TyNeuGRIPikpPs70KQmzK88k",
      "include_colab_link": true
    },
    "kernelspec": {
      "name": "python3",
      "display_name": "Python 3"
    },
    "widgets": {
      "application/vnd.jupyter.widget-state+json": {
        "9faedcd079f349c59e73a54bf05772f6": {
          "model_module": "@jupyter-widgets/controls",
          "model_name": "VBoxModel",
          "state": {
            "_view_name": "VBoxView",
            "_dom_classes": [
              "widget-interact"
            ],
            "_model_name": "VBoxModel",
            "_view_module": "@jupyter-widgets/controls",
            "_model_module_version": "1.5.0",
            "_view_count": null,
            "_view_module_version": "1.5.0",
            "box_style": "",
            "layout": "IPY_MODEL_2f693f4b1f314dc2b7981cdeb6e1b092",
            "_model_module": "@jupyter-widgets/controls",
            "children": [
              "IPY_MODEL_65321d2d281c43469c8913e0a4e82975",
              "IPY_MODEL_e2f50c5cd99f4654b1ab826e5d4f03ce"
            ]
          }
        },
        "2f693f4b1f314dc2b7981cdeb6e1b092": {
          "model_module": "@jupyter-widgets/base",
          "model_name": "LayoutModel",
          "state": {
            "_view_name": "LayoutView",
            "grid_template_rows": null,
            "right": null,
            "justify_content": null,
            "_view_module": "@jupyter-widgets/base",
            "overflow": null,
            "_model_module_version": "1.2.0",
            "_view_count": null,
            "flex_flow": null,
            "width": null,
            "min_width": null,
            "border": null,
            "align_items": null,
            "bottom": null,
            "_model_module": "@jupyter-widgets/base",
            "top": null,
            "grid_column": null,
            "overflow_y": null,
            "overflow_x": null,
            "grid_auto_flow": null,
            "grid_area": null,
            "grid_template_columns": null,
            "flex": null,
            "_model_name": "LayoutModel",
            "justify_items": null,
            "grid_row": null,
            "max_height": null,
            "align_content": null,
            "visibility": null,
            "align_self": null,
            "height": null,
            "min_height": null,
            "padding": null,
            "grid_auto_rows": null,
            "grid_gap": null,
            "max_width": null,
            "order": null,
            "_view_module_version": "1.2.0",
            "grid_template_areas": null,
            "object_position": null,
            "object_fit": null,
            "grid_auto_columns": null,
            "margin": null,
            "display": null,
            "left": null
          }
        },
        "65321d2d281c43469c8913e0a4e82975": {
          "model_module": "@jupyter-widgets/controls",
          "model_name": "IntSliderModel",
          "state": {
            "_view_name": "IntSliderView",
            "style": "IPY_MODEL_b7a33287811f4165b402178e22f40ba7",
            "_dom_classes": [],
            "description": "layer",
            "step": 1,
            "_model_name": "IntSliderModel",
            "orientation": "horizontal",
            "max": 154,
            "_view_module": "@jupyter-widgets/controls",
            "_model_module_version": "1.5.0",
            "value": 77,
            "_view_count": null,
            "disabled": false,
            "_view_module_version": "1.5.0",
            "min": 0,
            "continuous_update": true,
            "readout_format": "d",
            "description_tooltip": null,
            "readout": true,
            "_model_module": "@jupyter-widgets/controls",
            "layout": "IPY_MODEL_05f2a61f421b43f0a97d1b5838a63077"
          }
        },
        "e2f50c5cd99f4654b1ab826e5d4f03ce": {
          "model_module": "@jupyter-widgets/output",
          "model_name": "OutputModel",
          "state": {
            "_view_name": "OutputView",
            "msg_id": "",
            "_dom_classes": [],
            "_model_name": "OutputModel",
            "outputs": [
              {
                "output_type": "display_data",
                "metadata": {
                  "tags": [],
                  "needs_background": "light"
                },
                "image/png": "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\n",
                "text/plain": "<Figure size 720x360 with 1 Axes>"
              },
              {
                "output_type": "display_data",
                "metadata": {
                  "tags": []
                },
                "text/plain": "77"
              }
            ],
            "_view_module": "@jupyter-widgets/output",
            "_model_module_version": "1.0.0",
            "_view_count": null,
            "_view_module_version": "1.0.0",
            "layout": "IPY_MODEL_6967e5c432a44b4f8d6922d0f8ac545f",
            "_model_module": "@jupyter-widgets/output"
          }
        },
        "b7a33287811f4165b402178e22f40ba7": {
          "model_module": "@jupyter-widgets/controls",
          "model_name": "SliderStyleModel",
          "state": {
            "_view_name": "StyleView",
            "handle_color": null,
            "_model_name": "SliderStyleModel",
            "description_width": "",
            "_view_module": "@jupyter-widgets/base",
            "_model_module_version": "1.5.0",
            "_view_count": null,
            "_view_module_version": "1.2.0",
            "_model_module": "@jupyter-widgets/controls"
          }
        },
        "05f2a61f421b43f0a97d1b5838a63077": {
          "model_module": "@jupyter-widgets/base",
          "model_name": "LayoutModel",
          "state": {
            "_view_name": "LayoutView",
            "grid_template_rows": null,
            "right": null,
            "justify_content": null,
            "_view_module": "@jupyter-widgets/base",
            "overflow": null,
            "_model_module_version": "1.2.0",
            "_view_count": null,
            "flex_flow": null,
            "width": null,
            "min_width": null,
            "border": null,
            "align_items": null,
            "bottom": null,
            "_model_module": "@jupyter-widgets/base",
            "top": null,
            "grid_column": null,
            "overflow_y": null,
            "overflow_x": null,
            "grid_auto_flow": null,
            "grid_area": null,
            "grid_template_columns": null,
            "flex": null,
            "_model_name": "LayoutModel",
            "justify_items": null,
            "grid_row": null,
            "max_height": null,
            "align_content": null,
            "visibility": null,
            "align_self": null,
            "height": null,
            "min_height": null,
            "padding": null,
            "grid_auto_rows": null,
            "grid_gap": null,
            "max_width": null,
            "order": null,
            "_view_module_version": "1.2.0",
            "grid_template_areas": null,
            "object_position": null,
            "object_fit": null,
            "grid_auto_columns": null,
            "margin": null,
            "display": null,
            "left": null
          }
        },
        "6967e5c432a44b4f8d6922d0f8ac545f": {
          "model_module": "@jupyter-widgets/base",
          "model_name": "LayoutModel",
          "state": {
            "_view_name": "LayoutView",
            "grid_template_rows": null,
            "right": null,
            "justify_content": null,
            "_view_module": "@jupyter-widgets/base",
            "overflow": null,
            "_model_module_version": "1.2.0",
            "_view_count": null,
            "flex_flow": null,
            "width": null,
            "min_width": null,
            "border": null,
            "align_items": null,
            "bottom": null,
            "_model_module": "@jupyter-widgets/base",
            "top": null,
            "grid_column": null,
            "overflow_y": null,
            "overflow_x": null,
            "grid_auto_flow": null,
            "grid_area": null,
            "grid_template_columns": null,
            "flex": null,
            "_model_name": "LayoutModel",
            "justify_items": null,
            "grid_row": null,
            "max_height": null,
            "align_content": null,
            "visibility": null,
            "align_self": null,
            "height": null,
            "min_height": null,
            "padding": null,
            "grid_auto_rows": null,
            "grid_gap": null,
            "max_width": null,
            "order": null,
            "_view_module_version": "1.2.0",
            "grid_template_areas": null,
            "object_position": null,
            "object_fit": null,
            "grid_auto_columns": null,
            "margin": null,
            "display": null,
            "left": null
          }
        }
      }
    },
    "accelerator": "GPU"
  },
  "cells": [
    {
      "cell_type": "markdown",
      "metadata": {
        "id": "view-in-github",
        "colab_type": "text"
      },
      "source": [
        "<a href=\"https://colab.research.google.com/github/alirezash97/BraTS/blob/master/Survival.ipynb\" target=\"_parent\"><img src=\"https://colab.research.google.com/assets/colab-badge.svg\" alt=\"Open In Colab\"/></a>"
      ]
    },
    {
      "cell_type": "code",
      "metadata": {
        "id": "9Pih2fajhmV6",
        "colab_type": "code",
        "colab": {
          "base_uri": "https://localhost:8080/",
          "height": 121
        },
        "outputId": "8a0ae739-43f8-46fe-a906-a7fffbbe71c1"
      },
      "source": [
        "# from google.colab import drive\n",
        "# drive.mount('/content/drive')"
      ],
      "execution_count": 1,
      "outputs": [
        {
          "output_type": "stream",
          "text": [
            "Go to this URL in a browser: https://accounts.google.com/o/oauth2/auth?client_id=947318989803-6bn6qk8qdgf4n4g3pfee6491hc0brc4i.apps.googleusercontent.com&redirect_uri=urn%3aietf%3awg%3aoauth%3a2.0%3aoob&scope=email%20https%3a%2f%2fwww.googleapis.com%2fauth%2fdocs.test%20https%3a%2f%2fwww.googleapis.com%2fauth%2fdrive%20https%3a%2f%2fwww.googleapis.com%2fauth%2fdrive.photos.readonly%20https%3a%2f%2fwww.googleapis.com%2fauth%2fpeopleapi.readonly&response_type=code\n",
            "\n",
            "Enter your authorization code:\n",
            "··········\n",
            "Mounted at /content/drive\n"
          ],
          "name": "stdout"
        }
      ]
    },
    {
      "cell_type": "code",
      "metadata": {
        "id": "e-rsO906hRlB",
        "colab_type": "code",
        "colab": {}
      },
      "source": [
        "import tensorflow as tf\n",
        "import os\n",
        "import numpy as np\n",
        "from nibabel.testing import data_path\n",
        "import nibabel as nib\n",
        "import matplotlib.pyplot as plt\n",
        "from keras.utils import to_categorical\n",
        "import cv2\n",
        "import keras \n",
        "import random\n",
        "from keras import Model\n",
        "from keras.optimizers import Adam"
      ],
      "execution_count": 15,
      "outputs": []
    },
    {
      "cell_type": "code",
      "metadata": {
        "id": "AgPl_eCpbWcH",
        "colab_type": "code",
        "colab": {}
      },
      "source": [
        "from sklearn.datasets import load_boston\n",
        "from keras.models import Sequential\n",
        "from keras.initializers import glorot_uniform\n",
        "from keras.layers import Dense, Conv2D, Flatten, Input, BatchNormalization, Activation, MaxPooling2D, Add, AveragePooling2D\n",
        "from sklearn.model_selection import train_test_split\n",
        "from sklearn.metrics import mean_squared_error\n",
        "import matplotlib.pyplot as plt"
      ],
      "execution_count": 16,
      "outputs": []
    },
    {
      "cell_type": "code",
      "metadata": {
        "id": "uSSlCYlqhyOT",
        "colab_type": "code",
        "colab": {}
      },
      "source": [
        "import glob, os\n",
        "images_path = glob.glob('/content/drive/My Drive/BRATS2020/MICCAI_BraTS2020_TrainingData/**/*.nii.gz', recursive=True)"
      ],
      "execution_count": 3,
      "outputs": []
    },
    {
      "cell_type": "code",
      "metadata": {
        "id": "zw7XGW-mh08q",
        "colab_type": "code",
        "colab": {}
      },
      "source": [
        "\n",
        "X_trainset_filenames = []\n",
        "\n",
        "for item in images_path:\n",
        "  if 'seg' in item:\n",
        "    X_trainset_filenames.append(os.path.join(data_path, item))\n",
        "  else:\n",
        "    pass"
      ],
      "execution_count": 4,
      "outputs": []
    },
    {
      "cell_type": "code",
      "metadata": {
        "id": "KaM3SMoLh4F2",
        "colab_type": "code",
        "colab": {
          "base_uri": "https://localhost:8080/",
          "height": 34
        },
        "outputId": "1d6c02d2-bf08-466d-c6e2-97408a3a3921"
      },
      "source": [
        "print(len(X_trainset_filenames))"
      ],
      "execution_count": 6,
      "outputs": [
        {
          "output_type": "stream",
          "text": [
            "369\n"
          ],
          "name": "stdout"
        }
      ]
    },
    {
      "cell_type": "code",
      "metadata": {
        "id": "O4zHhjCIh6gU",
        "colab_type": "code",
        "colab": {}
      },
      "source": [
        "def shuffle(input_path):\n",
        "\n",
        "  a_list = list(range(0, len(input_path)))\n",
        "  random.shuffle(a_list)\n",
        "\n",
        "\n",
        "  new_input_path = []\n",
        "  for i in a_list:\n",
        "    \n",
        "    new_input_path.append(input_path[i])\n",
        "\n",
        "  return new_input_path"
      ],
      "execution_count": 5,
      "outputs": []
    },
    {
      "cell_type": "code",
      "metadata": {
        "id": "X3Gvw___h-GP",
        "colab_type": "code",
        "colab": {}
      },
      "source": [
        " X_trainset_filenames = shuffle( X_trainset_filenames)"
      ],
      "execution_count": 6,
      "outputs": []
    },
    {
      "cell_type": "code",
      "metadata": {
        "id": "wsmeoapQqFf4",
        "colab_type": "code",
        "colab": {
          "base_uri": "https://localhost:8080/",
          "height": 34
        },
        "outputId": "3e7c3bd4-6c48-4546-c753-4f2ccf981865"
      },
      "source": [
        "print( X_trainset_filenames[0])"
      ],
      "execution_count": 8,
      "outputs": [
        {
          "output_type": "stream",
          "text": [
            "/content/drive/My Drive/BRATS2020/MICCAI_BraTS2020_TrainingData/BraTS20_Training_200/BraTS20_Training_200_seg.nii.gz\n"
          ],
          "name": "stdout"
        }
      ]
    },
    {
      "cell_type": "code",
      "metadata": {
        "id": "bD3XCXFIqXxe",
        "colab_type": "code",
        "colab": {
          "base_uri": "https://localhost:8080/",
          "height": 35
        },
        "outputId": "1e2cdf43-8c0c-4883-d75c-bc60f491bf9e"
      },
      "source": [
        "X_trainset_filenames[60][81:84]"
      ],
      "execution_count": 9,
      "outputs": [
        {
          "output_type": "execute_result",
          "data": {
            "application/vnd.google.colaboratory.intrinsic+json": {
              "type": "string"
            },
            "text/plain": [
              "'363'"
            ]
          },
          "metadata": {
            "tags": []
          },
          "execution_count": 9
        }
      ]
    },
    {
      "cell_type": "code",
      "metadata": {
        "id": "1SRmPrrqiFtY",
        "colab_type": "code",
        "colab": {}
      },
      "source": [
        "\n",
        "def load_case(label_nifty_file):\n",
        "    \n",
        "    # load the label file, get the image content and return a numpy array for each\n",
        "\n",
        "    label = np.array(nib.load(label_nifty_file).get_fdata())\n",
        "\n",
        "    for i in range(240):\n",
        "          for j in range(240):\n",
        "            for k in range(155):\n",
        "              if label[i, j, k] == 4.0 :\n",
        "                label[i, j, k] = 3.0\n",
        "              else:\n",
        "                pass\n",
        "    \n",
        "    \n",
        "    return label"
      ],
      "execution_count": 7,
      "outputs": []
    },
    {
      "cell_type": "code",
      "metadata": {
        "id": "BbAdGL9-lJsw",
        "colab_type": "code",
        "colab": {
          "base_uri": "https://localhost:8080/",
          "height": 373,
          "referenced_widgets": [
            "9faedcd079f349c59e73a54bf05772f6",
            "2f693f4b1f314dc2b7981cdeb6e1b092",
            "65321d2d281c43469c8913e0a4e82975",
            "e2f50c5cd99f4654b1ab826e5d4f03ce",
            "b7a33287811f4165b402178e22f40ba7",
            "05f2a61f421b43f0a97d1b5838a63077",
            "6967e5c432a44b4f8d6922d0f8ac545f"
          ]
        },
        "outputId": "7b6b5951-89ef-4053-c44d-4c4d0496c06d"
      },
      "source": [
        "\n",
        "\n",
        "from ipywidgets import interact\n",
        "\n",
        "M = load_case(X_trainset_filenames[0])\n",
        "\n",
        "def explore_3dimage(layer):\n",
        "    plt.figure(figsize=(10, 5))\n",
        "    channel = 3\n",
        "    plt.imshow(M[:, :, layer]);\n",
        "    plt.title('Explore Layers of Tumor prediction', fontsize=20)\n",
        "    plt.axis('off')\n",
        "    return layer\n",
        "\n",
        "# Run the ipywidgets interact() function to explore the data\n",
        "interact(explore_3dimage, layer=(0, 155 - 1));"
      ],
      "execution_count": 11,
      "outputs": [
        {
          "output_type": "display_data",
          "data": {
            "application/vnd.jupyter.widget-view+json": {
              "model_id": "9faedcd079f349c59e73a54bf05772f6",
              "version_minor": 0,
              "version_major": 2
            },
            "text/plain": [
              "interactive(children=(IntSlider(value=77, description='layer', max=154), Output()), _dom_classes=('widget-inte…"
            ]
          },
          "metadata": {
            "tags": []
          }
        }
      ]
    },
    {
      "cell_type": "code",
      "metadata": {
        "id": "G0EEyNq1ngDZ",
        "colab_type": "code",
        "colab": {}
      },
      "source": [
        "\n",
        "## get the most important part for survival task (the tumor)\n",
        "\n",
        "\n",
        "def get_max(image, out_x, out_y, out_z, stride, number_of_images_to_extract):\n",
        "  \n",
        "  x = image.shape[0]\n",
        "  y = image.shape[1]\n",
        "  z = image.shape[2]\n",
        "\n",
        "\n",
        "  total_number_of_cubes = ( int((z - out_z)/stride) * int((x - out_x)/stride) * int((y - out_y)/stride) )\n",
        "  details = np.zeros((total_number_of_cubes, 4))\n",
        "\n",
        "  counter = 0\n",
        "  for i in range( int((z - out_z)/stride) ):\n",
        "    for j in range( int((x - out_x)/stride) ):\n",
        "      for k in range( int((y - out_y)/stride) ):\n",
        "\n",
        "        \n",
        "        temp = np.sum(image[ (j*stride):((j*stride)+out_x), (k*stride):((k*stride)+out_y), (i*stride):((i*stride)+out_z) ])\n",
        "        details[counter] = (j*stride), (k*stride), (i*stride), temp\n",
        "        counter += 1\n",
        "\n",
        "  \n",
        "\n",
        "  \n",
        "  final_extracted_images = []\n",
        "  for l in range(number_of_images_to_extract):\n",
        "    \n",
        "    max_ind = np.unravel_index(np.argmax(details, axis=None), details.shape) \n",
        "  \n",
        "    x_start = int(details[max_ind[0], 0])\n",
        "    y_start = int(details[max_ind[0], 1])\n",
        "    z_start = int(details[max_ind[0], 2])\n",
        "\n",
        "    temp = image[ x_start:(x_start+out_x) , y_start:(y_start+out_y) , z_start:(z_start+out_z) ]\n",
        "    final_extracted_images.append(temp)\n",
        "    details[max_ind[0], 3] = 0\n",
        "\n",
        "\n",
        "\n",
        "  return np.array(final_extracted_images)\n",
        "\n",
        "\n"
      ],
      "execution_count": 8,
      "outputs": []
    },
    {
      "cell_type": "code",
      "metadata": {
        "id": "Ir_Rf-zqufxe",
        "colab_type": "code",
        "colab": {}
      },
      "source": [
        "image = get_max(M, 64, 64, 64, 8, 3)"
      ],
      "execution_count": null,
      "outputs": []
    },
    {
      "cell_type": "code",
      "metadata": {
        "id": "HOKRk9fs8Slv",
        "colab_type": "code",
        "colab": {
          "base_uri": "https://localhost:8080/",
          "height": 34
        },
        "outputId": "f80d387a-b7f2-4987-974c-5a8611cca2e4"
      },
      "source": [
        "print(image.shape)"
      ],
      "execution_count": 14,
      "outputs": [
        {
          "output_type": "stream",
          "text": [
            "(3, 64, 64, 64)\n"
          ],
          "name": "stdout"
        }
      ]
    },
    {
      "cell_type": "code",
      "metadata": {
        "id": "R625Q3C_xGXR",
        "colab_type": "code",
        "colab": {}
      },
      "source": [
        "from ipywidgets import interact\n",
        "\n",
        "\n",
        "\n",
        "def explore_3dimage(layer):\n",
        "    plt.figure(figsize=(10, 5))\n",
        "    channel = 3\n",
        "    plt.imshow(image[0, :, :, layer]);\n",
        "    plt.title('Explore Layers of Tumor prediction', fontsize=20)\n",
        "    plt.axis('off')\n",
        "    return layer\n",
        "\n",
        "# Run the ipywidgets interact() function to explore the data\n",
        "interact(explore_3dimage, layer=(0, 64 - 1));"
      ],
      "execution_count": null,
      "outputs": []
    },
    {
      "cell_type": "code",
      "metadata": {
        "id": "NpXCI1lkzEgl",
        "colab_type": "code",
        "colab": {}
      },
      "source": [
        "import pandas as pd \n",
        "c = pd.read_csv(\"/content/drive/My Drive/BRATS2020/MICCAI_BraTS2020_TrainingData/survival_info.csv\")"
      ],
      "execution_count": 9,
      "outputs": []
    },
    {
      "cell_type": "code",
      "metadata": {
        "id": "RYO-HfilsfMx",
        "colab_type": "code",
        "colab": {}
      },
      "source": [
        "import csv\n",
        "\n",
        "def find_days_by_patient_number(input): \n",
        "    o = open('/content/drive/My Drive/BRATS2020/MICCAI_BraTS2020_TrainingData/survival_info.csv', 'r') \n",
        "    myData = csv.reader(o) \n",
        "    index = 0 \n",
        "    \n",
        "    for row in myData:\n",
        "\n",
        "      if input in row[0]: \n",
        "        return row[2]\n",
        "      else : index+=1\n",
        "# ind = find_index('201')"
      ],
      "execution_count": 10,
      "outputs": []
    },
    {
      "cell_type": "code",
      "metadata": {
        "id": "4O4O1uBXbZHU",
        "colab_type": "code",
        "colab": {
          "base_uri": "https://localhost:8080/",
          "height": 34
        },
        "outputId": "5056a56b-c255-4768-ed0c-6e4e3464a463"
      },
      "source": [
        "# print(ind)"
      ],
      "execution_count": 175,
      "outputs": [
        {
          "output_type": "stream",
          "text": [
            "317\n"
          ],
          "name": "stdout"
        }
      ]
    },
    {
      "cell_type": "code",
      "metadata": {
        "id": "tRiff3EDtlBG",
        "colab_type": "code",
        "colab": {}
      },
      "source": [
        "# with open('/content/drive/My Drive/BRATS2020/MICCAI_BraTS2020_TrainingData/survival_info.csv') as fd:\n",
        "#     reader=csv.reader(fd)\n",
        "#     interestingrows=[row for idx, row in enumerate(reader) if idx in (ind, ind)]"
      ],
      "execution_count": 19,
      "outputs": []
    },
    {
      "cell_type": "code",
      "metadata": {
        "id": "2_Yljczwt3Ah",
        "colab_type": "code",
        "colab": {
          "base_uri": "https://localhost:8080/",
          "height": 34
        },
        "outputId": "3a90f690-8fce-4742-d1dc-a138d1c1acab"
      },
      "source": [
        "# interestingrows"
      ],
      "execution_count": 20,
      "outputs": [
        {
          "output_type": "execute_result",
          "data": {
            "text/plain": [
              "[['BraTS20_Training_032', '63.192', '488', 'NA']]"
            ]
          },
          "metadata": {
            "tags": []
          },
          "execution_count": 20
        }
      ]
    },
    {
      "cell_type": "code",
      "metadata": {
        "id": "6cX2lQCw40rF",
        "colab_type": "code",
        "colab": {}
      },
      "source": [
        "def identity_block(X, f, filters, stage, block):\n",
        "    \"\"\"\n",
        "    Implementation of the identity block as defined in Figure 3\n",
        "    Arguments:\n",
        "    X -- input tensor of shape (m, n_H_prev, n_W_prev, n_C_prev)\n",
        "    f -- integer, specifying the shape of the middle CONV's window for the main path\n",
        "    filters -- python list of integers, defining the number of filters in the CONV layers of the main path\n",
        "    stage -- integer, used to name the layers, depending on their position in the network\n",
        "    block -- string/character, used to name the layers, depending on their position in the network\n",
        "    Returns:\n",
        "    X -- output of the identity block, tensor of shape (n_H, n_W, n_C)\n",
        "    \"\"\"\n",
        "\n",
        "    # defining name basis\n",
        "    conv_name_base = 'res' + str(stage) + block + '_branch'\n",
        "    bn_name_base = 'bn' + str(stage) + block + '_branch'\n",
        "\n",
        "    # Retrieve Filters\n",
        "    F1, F2, F3 = filters\n",
        "\n",
        "    # Save the input value. You'll need this later to add back to the main path.\n",
        "    X_shortcut = X\n",
        "\n",
        "    # First component of main path\n",
        "    X = Conv2D(filters=F1, kernel_size=1, strides=1, padding='valid', name=conv_name_base + '2a', kernel_initializer=glorot_uniform(seed=0))(X)\n",
        "    X = BatchNormalization( name=bn_name_base + '2a')(X)\n",
        "    X = Activation('relu')(X)\n",
        "\n",
        "    # Second component of main path\n",
        "    X = Conv2D(filters=F2, kernel_size=f, strides=1, padding='same', name=conv_name_base + '2b', kernel_initializer=glorot_uniform(seed=0))(X)\n",
        "    X = BatchNormalization( name=bn_name_base + '2b')(X)\n",
        "    X = Activation('relu')(X)\n",
        "\n",
        "    # Third component of main path\n",
        "    X = Conv2D(filters=F3, kernel_size=1, strides=1, padding='valid', name=conv_name_base + '2c', kernel_initializer=glorot_uniform(seed=0))(X)\n",
        "    X = BatchNormalization( name=bn_name_base + '2c')(X)\n",
        "\n",
        "    # Final step: Add shortcut value to main path, and pass it through a RELU activation\n",
        "    X = Add()([X, X_shortcut])\n",
        "    X = Activation('relu')(X)\n",
        "\n",
        "    ### END CODE HERE ###\n",
        "\n",
        "    return X"
      ],
      "execution_count": 17,
      "outputs": []
    },
    {
      "cell_type": "code",
      "metadata": {
        "id": "PZXZI2cKbQ3V",
        "colab_type": "code",
        "colab": {}
      },
      "source": [
        "def convolutional_block(X, f, filters, stage, block, s=2):\n",
        "    \"\"\"\n",
        "    Implementation of the convolutional block as defined in Figure 4\n",
        "    Arguments:\n",
        "    X -- input tensor of shape (m, n_H_prev, n_W_prev, n_C_prev)\n",
        "    f -- integer, specifying the shape of the middle CONV's window for the main path\n",
        "    filters -- python list of integers, defining the number of filters in the CONV layers of the main path\n",
        "    stage -- integer, used to name the layers, depending on their position in the network\n",
        "    block -- string/character, used to name the layers, depending on their position in the network\n",
        "    s -- Integer, specifying the stride to be used\n",
        "    Returns:\n",
        "    X -- output of the convolutional block, tensor of shape (n_H, n_W, n_C)\n",
        "    \"\"\"\n",
        "\n",
        "    # defining name basis\n",
        "    conv_name_base = 'res' + str(stage) + block + '_branch'\n",
        "    bn_name_base = 'bn' + str(stage) + block + '_branch'\n",
        "\n",
        "    # Retrieve Filters\n",
        "    F1, F2, F3 = filters\n",
        "\n",
        "    # Save the input value\n",
        "    X_shortcut = X\n",
        "\n",
        "    # First component of main path\n",
        "    X = Conv2D(F1, 1, strides=s, name=conv_name_base + '2a', kernel_initializer=glorot_uniform(seed=0))(X)\n",
        "    X = BatchNormalization( name=bn_name_base + '2a')(X)\n",
        "    X = Activation('relu')(X)\n",
        "\n",
        "    # Second component of main path\n",
        "    X = Conv2D(filters=F2, kernel_size=f, strides=1, padding='same', name=conv_name_base + '2b', kernel_initializer=glorot_uniform(seed=0))(X)\n",
        "    X = BatchNormalization( name=bn_name_base + '2b')(X)\n",
        "    X = Activation('relu')(X)\n",
        "\n",
        "    # Third component of main path\n",
        "    X = Conv2D(filters=F3, kernel_size=1, strides=1, padding='valid', name=conv_name_base + '2c', kernel_initializer=glorot_uniform(seed=0))(X)\n",
        "    X = BatchNormalization(name=bn_name_base + '2c')(X)\n",
        "\n",
        "    # Shortcut path\n",
        "    X_shortcut = Conv2D(F3, 1, strides=s, name=conv_name_base + '1', kernel_initializer=glorot_uniform(seed=0))(X_shortcut)\n",
        "    X_shortcut = BatchNormalization( name=bn_name_base + '1')(X_shortcut)\n",
        "\n",
        "    # Final step: Add shortcut value to main path, and pass it through a RELU activation (≈2 lines)\n",
        "    X = Add()([X, X_shortcut])\n",
        "    X = Activation('relu')(X)\n",
        "\n",
        "    return X"
      ],
      "execution_count": 18,
      "outputs": []
    },
    {
      "cell_type": "code",
      "metadata": {
        "id": "D3tDc5RDdTiY",
        "colab_type": "code",
        "colab": {}
      },
      "source": [
        "def ResNet50(input_shape=(64, 64, 64)):\n",
        "    \"\"\"\n",
        "    Implementation of the popular ResNet50 the following architecture:\n",
        "    CONV2D -> BATCHNORM -> RELU -> MAXPOOL -> CONVBLOCK -> IDBLOCK*2 -> CONVBLOCK -> IDBLOCK*3\n",
        "    -> CONVBLOCK -> IDBLOCK*5 -> CONVBLOCK -> IDBLOCK*2 -> AVGPOOL -> TOPLAYER\n",
        "    Arguments:\n",
        "    input_shape -- shape of the images of the dataset\n",
        "    classes -- integer, number of classes\n",
        "    Returns:\n",
        "    model -- a Model() instance in Keras\n",
        "    \"\"\"\n",
        "\n",
        "    # Define the input as a tensor with shape input_shape\n",
        "    res_X_input = Input(shape=input_shape)\n",
        "\n",
        "    # Zero-Padding\n",
        "    # X = ZeroPadding1D((3, 3))(X_input)\n",
        "\n",
        "    # Stage 1\n",
        "    res_X = Conv2D(64, 7, strides=1, name='conv1', kernel_initializer=glorot_uniform(seed=0))(res_X_input)\n",
        "    res_X = BatchNormalization(name='bn_conv1')(res_X)\n",
        "    res_X = Activation('relu')(res_X)\n",
        "    res_X = MaxPooling2D(3, strides=2)(res_X)\n",
        "\n",
        "    # Stage 2\n",
        "    res_X = convolutional_block(res_X, f=3, filters=[64, 64, 256], stage=2, block='a', s=1)\n",
        "    res_X = identity_block(res_X, 3, [64, 64, 256], stage=2, block='b')\n",
        "    res_X = identity_block(res_X, 3, [64, 64, 256], stage=2, block='c')\n",
        "\n",
        "    ### START CODE HERE ###\n",
        "\n",
        "    # Stage 3\n",
        "    res_X = convolutional_block(res_X, f=3, filters=[128, 128, 512], stage=3, block='a', s=2)\n",
        "    res_X = identity_block(res_X, 3, [128, 128, 512], stage=3, block='b')\n",
        "    res_X = identity_block(res_X, 3, [128, 128, 512], stage=3, block='c')\n",
        "    res_X = identity_block(res_X, 3, [128, 128, 512], stage=3, block='d')\n",
        "\n",
        "    # Stage 4\n",
        "    res_X = convolutional_block(res_X, f=3, filters=[256, 256, 1024], stage=4, block='a', s=2)\n",
        "    res_X = identity_block(res_X, 3, [256, 256, 1024], stage=4, block='b')\n",
        "    res_X = identity_block(res_X, 3, [256, 256, 1024], stage=4, block='c')\n",
        "    res_X = identity_block(res_X, 3, [256, 256, 1024], stage=4, block='d')\n",
        "    res_X = identity_block(res_X, 3, [256, 256, 1024], stage=4, block='e')\n",
        "    res_X = identity_block(res_X, 3, [256, 256, 1024], stage=4, block='f')\n",
        "\n",
        "    # Stage 5\n",
        "    res_X = convolutional_block(res_X, f=3, filters=[512, 512, 2048], stage=5, block='a', s=2)\n",
        "    res_X = identity_block(res_X, 3, [512, 512, 2048], stage=5, block='b')\n",
        "    res_X = identity_block(res_X, 3, [512, 512, 2048], stage=5, block='c')\n",
        "\n",
        "    # Average Pooling\n",
        "    res_X = AveragePooling2D(2, name='avg_pool')(res_X)\n",
        "\n",
        "    ### END CODE HERE ###\n",
        "\n",
        "    # output layer\n",
        "    res_X = Flatten()(res_X)\n",
        "    res_X = Dense(1, activation='linear', name='fc' , kernel_initializer=glorot_uniform(seed=0))(res_X)\n",
        "\n",
        "    # Create model\n",
        "    res_model = Model(inputs=res_X_input, outputs=res_X, name='ResNet50')\n",
        "\n",
        "    return res_model"
      ],
      "execution_count": 19,
      "outputs": []
    },
    {
      "cell_type": "code",
      "metadata": {
        "id": "QVeY7Wz1dfED",
        "colab_type": "code",
        "colab": {}
      },
      "source": [
        "res_model = ResNet50(input_shape = (64, 64, 64))"
      ],
      "execution_count": 20,
      "outputs": []
    },
    {
      "cell_type": "code",
      "metadata": {
        "id": "F2pN3N0DjQU6",
        "colab_type": "code",
        "colab": {
          "base_uri": "https://localhost:8080/",
          "height": 1000
        },
        "outputId": "6ca86d46-bbdc-475b-a449-a37b1efeb6a6"
      },
      "source": [
        "res_model.summary()"
      ],
      "execution_count": 21,
      "outputs": [
        {
          "output_type": "stream",
          "text": [
            "Model: \"ResNet50\"\n",
            "__________________________________________________________________________________________________\n",
            "Layer (type)                    Output Shape         Param #     Connected to                     \n",
            "==================================================================================================\n",
            "input_2 (InputLayer)            [(None, 64, 64, 64)] 0                                            \n",
            "__________________________________________________________________________________________________\n",
            "conv1 (Conv2D)                  (None, 58, 58, 64)   200768      input_2[0][0]                    \n",
            "__________________________________________________________________________________________________\n",
            "bn_conv1 (BatchNormalization)   (None, 58, 58, 64)   256         conv1[0][0]                      \n",
            "__________________________________________________________________________________________________\n",
            "activation (Activation)         (None, 58, 58, 64)   0           bn_conv1[0][0]                   \n",
            "__________________________________________________________________________________________________\n",
            "max_pooling2d (MaxPooling2D)    (None, 28, 28, 64)   0           activation[0][0]                 \n",
            "__________________________________________________________________________________________________\n",
            "res2a_branch2a (Conv2D)         (None, 28, 28, 64)   4160        max_pooling2d[0][0]              \n",
            "__________________________________________________________________________________________________\n",
            "bn2a_branch2a (BatchNormalizati (None, 28, 28, 64)   256         res2a_branch2a[0][0]             \n",
            "__________________________________________________________________________________________________\n",
            "activation_1 (Activation)       (None, 28, 28, 64)   0           bn2a_branch2a[0][0]              \n",
            "__________________________________________________________________________________________________\n",
            "res2a_branch2b (Conv2D)         (None, 28, 28, 64)   36928       activation_1[0][0]               \n",
            "__________________________________________________________________________________________________\n",
            "bn2a_branch2b (BatchNormalizati (None, 28, 28, 64)   256         res2a_branch2b[0][0]             \n",
            "__________________________________________________________________________________________________\n",
            "activation_2 (Activation)       (None, 28, 28, 64)   0           bn2a_branch2b[0][0]              \n",
            "__________________________________________________________________________________________________\n",
            "res2a_branch2c (Conv2D)         (None, 28, 28, 256)  16640       activation_2[0][0]               \n",
            "__________________________________________________________________________________________________\n",
            "res2a_branch1 (Conv2D)          (None, 28, 28, 256)  16640       max_pooling2d[0][0]              \n",
            "__________________________________________________________________________________________________\n",
            "bn2a_branch2c (BatchNormalizati (None, 28, 28, 256)  1024        res2a_branch2c[0][0]             \n",
            "__________________________________________________________________________________________________\n",
            "bn2a_branch1 (BatchNormalizatio (None, 28, 28, 256)  1024        res2a_branch1[0][0]              \n",
            "__________________________________________________________________________________________________\n",
            "add (Add)                       (None, 28, 28, 256)  0           bn2a_branch2c[0][0]              \n",
            "                                                                 bn2a_branch1[0][0]               \n",
            "__________________________________________________________________________________________________\n",
            "activation_3 (Activation)       (None, 28, 28, 256)  0           add[0][0]                        \n",
            "__________________________________________________________________________________________________\n",
            "res2b_branch2a (Conv2D)         (None, 28, 28, 64)   16448       activation_3[0][0]               \n",
            "__________________________________________________________________________________________________\n",
            "bn2b_branch2a (BatchNormalizati (None, 28, 28, 64)   256         res2b_branch2a[0][0]             \n",
            "__________________________________________________________________________________________________\n",
            "activation_4 (Activation)       (None, 28, 28, 64)   0           bn2b_branch2a[0][0]              \n",
            "__________________________________________________________________________________________________\n",
            "res2b_branch2b (Conv2D)         (None, 28, 28, 64)   36928       activation_4[0][0]               \n",
            "__________________________________________________________________________________________________\n",
            "bn2b_branch2b (BatchNormalizati (None, 28, 28, 64)   256         res2b_branch2b[0][0]             \n",
            "__________________________________________________________________________________________________\n",
            "activation_5 (Activation)       (None, 28, 28, 64)   0           bn2b_branch2b[0][0]              \n",
            "__________________________________________________________________________________________________\n",
            "res2b_branch2c (Conv2D)         (None, 28, 28, 256)  16640       activation_5[0][0]               \n",
            "__________________________________________________________________________________________________\n",
            "bn2b_branch2c (BatchNormalizati (None, 28, 28, 256)  1024        res2b_branch2c[0][0]             \n",
            "__________________________________________________________________________________________________\n",
            "add_1 (Add)                     (None, 28, 28, 256)  0           bn2b_branch2c[0][0]              \n",
            "                                                                 activation_3[0][0]               \n",
            "__________________________________________________________________________________________________\n",
            "activation_6 (Activation)       (None, 28, 28, 256)  0           add_1[0][0]                      \n",
            "__________________________________________________________________________________________________\n",
            "res2c_branch2a (Conv2D)         (None, 28, 28, 64)   16448       activation_6[0][0]               \n",
            "__________________________________________________________________________________________________\n",
            "bn2c_branch2a (BatchNormalizati (None, 28, 28, 64)   256         res2c_branch2a[0][0]             \n",
            "__________________________________________________________________________________________________\n",
            "activation_7 (Activation)       (None, 28, 28, 64)   0           bn2c_branch2a[0][0]              \n",
            "__________________________________________________________________________________________________\n",
            "res2c_branch2b (Conv2D)         (None, 28, 28, 64)   36928       activation_7[0][0]               \n",
            "__________________________________________________________________________________________________\n",
            "bn2c_branch2b (BatchNormalizati (None, 28, 28, 64)   256         res2c_branch2b[0][0]             \n",
            "__________________________________________________________________________________________________\n",
            "activation_8 (Activation)       (None, 28, 28, 64)   0           bn2c_branch2b[0][0]              \n",
            "__________________________________________________________________________________________________\n",
            "res2c_branch2c (Conv2D)         (None, 28, 28, 256)  16640       activation_8[0][0]               \n",
            "__________________________________________________________________________________________________\n",
            "bn2c_branch2c (BatchNormalizati (None, 28, 28, 256)  1024        res2c_branch2c[0][0]             \n",
            "__________________________________________________________________________________________________\n",
            "add_2 (Add)                     (None, 28, 28, 256)  0           bn2c_branch2c[0][0]              \n",
            "                                                                 activation_6[0][0]               \n",
            "__________________________________________________________________________________________________\n",
            "activation_9 (Activation)       (None, 28, 28, 256)  0           add_2[0][0]                      \n",
            "__________________________________________________________________________________________________\n",
            "res3a_branch2a (Conv2D)         (None, 14, 14, 128)  32896       activation_9[0][0]               \n",
            "__________________________________________________________________________________________________\n",
            "bn3a_branch2a (BatchNormalizati (None, 14, 14, 128)  512         res3a_branch2a[0][0]             \n",
            "__________________________________________________________________________________________________\n",
            "activation_10 (Activation)      (None, 14, 14, 128)  0           bn3a_branch2a[0][0]              \n",
            "__________________________________________________________________________________________________\n",
            "res3a_branch2b (Conv2D)         (None, 14, 14, 128)  147584      activation_10[0][0]              \n",
            "__________________________________________________________________________________________________\n",
            "bn3a_branch2b (BatchNormalizati (None, 14, 14, 128)  512         res3a_branch2b[0][0]             \n",
            "__________________________________________________________________________________________________\n",
            "activation_11 (Activation)      (None, 14, 14, 128)  0           bn3a_branch2b[0][0]              \n",
            "__________________________________________________________________________________________________\n",
            "res3a_branch2c (Conv2D)         (None, 14, 14, 512)  66048       activation_11[0][0]              \n",
            "__________________________________________________________________________________________________\n",
            "res3a_branch1 (Conv2D)          (None, 14, 14, 512)  131584      activation_9[0][0]               \n",
            "__________________________________________________________________________________________________\n",
            "bn3a_branch2c (BatchNormalizati (None, 14, 14, 512)  2048        res3a_branch2c[0][0]             \n",
            "__________________________________________________________________________________________________\n",
            "bn3a_branch1 (BatchNormalizatio (None, 14, 14, 512)  2048        res3a_branch1[0][0]              \n",
            "__________________________________________________________________________________________________\n",
            "add_3 (Add)                     (None, 14, 14, 512)  0           bn3a_branch2c[0][0]              \n",
            "                                                                 bn3a_branch1[0][0]               \n",
            "__________________________________________________________________________________________________\n",
            "activation_12 (Activation)      (None, 14, 14, 512)  0           add_3[0][0]                      \n",
            "__________________________________________________________________________________________________\n",
            "res3b_branch2a (Conv2D)         (None, 14, 14, 128)  65664       activation_12[0][0]              \n",
            "__________________________________________________________________________________________________\n",
            "bn3b_branch2a (BatchNormalizati (None, 14, 14, 128)  512         res3b_branch2a[0][0]             \n",
            "__________________________________________________________________________________________________\n",
            "activation_13 (Activation)      (None, 14, 14, 128)  0           bn3b_branch2a[0][0]              \n",
            "__________________________________________________________________________________________________\n",
            "res3b_branch2b (Conv2D)         (None, 14, 14, 128)  147584      activation_13[0][0]              \n",
            "__________________________________________________________________________________________________\n",
            "bn3b_branch2b (BatchNormalizati (None, 14, 14, 128)  512         res3b_branch2b[0][0]             \n",
            "__________________________________________________________________________________________________\n",
            "activation_14 (Activation)      (None, 14, 14, 128)  0           bn3b_branch2b[0][0]              \n",
            "__________________________________________________________________________________________________\n",
            "res3b_branch2c (Conv2D)         (None, 14, 14, 512)  66048       activation_14[0][0]              \n",
            "__________________________________________________________________________________________________\n",
            "bn3b_branch2c (BatchNormalizati (None, 14, 14, 512)  2048        res3b_branch2c[0][0]             \n",
            "__________________________________________________________________________________________________\n",
            "add_4 (Add)                     (None, 14, 14, 512)  0           bn3b_branch2c[0][0]              \n",
            "                                                                 activation_12[0][0]              \n",
            "__________________________________________________________________________________________________\n",
            "activation_15 (Activation)      (None, 14, 14, 512)  0           add_4[0][0]                      \n",
            "__________________________________________________________________________________________________\n",
            "res3c_branch2a (Conv2D)         (None, 14, 14, 128)  65664       activation_15[0][0]              \n",
            "__________________________________________________________________________________________________\n",
            "bn3c_branch2a (BatchNormalizati (None, 14, 14, 128)  512         res3c_branch2a[0][0]             \n",
            "__________________________________________________________________________________________________\n",
            "activation_16 (Activation)      (None, 14, 14, 128)  0           bn3c_branch2a[0][0]              \n",
            "__________________________________________________________________________________________________\n",
            "res3c_branch2b (Conv2D)         (None, 14, 14, 128)  147584      activation_16[0][0]              \n",
            "__________________________________________________________________________________________________\n",
            "bn3c_branch2b (BatchNormalizati (None, 14, 14, 128)  512         res3c_branch2b[0][0]             \n",
            "__________________________________________________________________________________________________\n",
            "activation_17 (Activation)      (None, 14, 14, 128)  0           bn3c_branch2b[0][0]              \n",
            "__________________________________________________________________________________________________\n",
            "res3c_branch2c (Conv2D)         (None, 14, 14, 512)  66048       activation_17[0][0]              \n",
            "__________________________________________________________________________________________________\n",
            "bn3c_branch2c (BatchNormalizati (None, 14, 14, 512)  2048        res3c_branch2c[0][0]             \n",
            "__________________________________________________________________________________________________\n",
            "add_5 (Add)                     (None, 14, 14, 512)  0           bn3c_branch2c[0][0]              \n",
            "                                                                 activation_15[0][0]              \n",
            "__________________________________________________________________________________________________\n",
            "activation_18 (Activation)      (None, 14, 14, 512)  0           add_5[0][0]                      \n",
            "__________________________________________________________________________________________________\n",
            "res3d_branch2a (Conv2D)         (None, 14, 14, 128)  65664       activation_18[0][0]              \n",
            "__________________________________________________________________________________________________\n",
            "bn3d_branch2a (BatchNormalizati (None, 14, 14, 128)  512         res3d_branch2a[0][0]             \n",
            "__________________________________________________________________________________________________\n",
            "activation_19 (Activation)      (None, 14, 14, 128)  0           bn3d_branch2a[0][0]              \n",
            "__________________________________________________________________________________________________\n",
            "res3d_branch2b (Conv2D)         (None, 14, 14, 128)  147584      activation_19[0][0]              \n",
            "__________________________________________________________________________________________________\n",
            "bn3d_branch2b (BatchNormalizati (None, 14, 14, 128)  512         res3d_branch2b[0][0]             \n",
            "__________________________________________________________________________________________________\n",
            "activation_20 (Activation)      (None, 14, 14, 128)  0           bn3d_branch2b[0][0]              \n",
            "__________________________________________________________________________________________________\n",
            "res3d_branch2c (Conv2D)         (None, 14, 14, 512)  66048       activation_20[0][0]              \n",
            "__________________________________________________________________________________________________\n",
            "bn3d_branch2c (BatchNormalizati (None, 14, 14, 512)  2048        res3d_branch2c[0][0]             \n",
            "__________________________________________________________________________________________________\n",
            "add_6 (Add)                     (None, 14, 14, 512)  0           bn3d_branch2c[0][0]              \n",
            "                                                                 activation_18[0][0]              \n",
            "__________________________________________________________________________________________________\n",
            "activation_21 (Activation)      (None, 14, 14, 512)  0           add_6[0][0]                      \n",
            "__________________________________________________________________________________________________\n",
            "res4a_branch2a (Conv2D)         (None, 7, 7, 256)    131328      activation_21[0][0]              \n",
            "__________________________________________________________________________________________________\n",
            "bn4a_branch2a (BatchNormalizati (None, 7, 7, 256)    1024        res4a_branch2a[0][0]             \n",
            "__________________________________________________________________________________________________\n",
            "activation_22 (Activation)      (None, 7, 7, 256)    0           bn4a_branch2a[0][0]              \n",
            "__________________________________________________________________________________________________\n",
            "res4a_branch2b (Conv2D)         (None, 7, 7, 256)    590080      activation_22[0][0]              \n",
            "__________________________________________________________________________________________________\n",
            "bn4a_branch2b (BatchNormalizati (None, 7, 7, 256)    1024        res4a_branch2b[0][0]             \n",
            "__________________________________________________________________________________________________\n",
            "activation_23 (Activation)      (None, 7, 7, 256)    0           bn4a_branch2b[0][0]              \n",
            "__________________________________________________________________________________________________\n",
            "res4a_branch2c (Conv2D)         (None, 7, 7, 1024)   263168      activation_23[0][0]              \n",
            "__________________________________________________________________________________________________\n",
            "res4a_branch1 (Conv2D)          (None, 7, 7, 1024)   525312      activation_21[0][0]              \n",
            "__________________________________________________________________________________________________\n",
            "bn4a_branch2c (BatchNormalizati (None, 7, 7, 1024)   4096        res4a_branch2c[0][0]             \n",
            "__________________________________________________________________________________________________\n",
            "bn4a_branch1 (BatchNormalizatio (None, 7, 7, 1024)   4096        res4a_branch1[0][0]              \n",
            "__________________________________________________________________________________________________\n",
            "add_7 (Add)                     (None, 7, 7, 1024)   0           bn4a_branch2c[0][0]              \n",
            "                                                                 bn4a_branch1[0][0]               \n",
            "__________________________________________________________________________________________________\n",
            "activation_24 (Activation)      (None, 7, 7, 1024)   0           add_7[0][0]                      \n",
            "__________________________________________________________________________________________________\n",
            "res4b_branch2a (Conv2D)         (None, 7, 7, 256)    262400      activation_24[0][0]              \n",
            "__________________________________________________________________________________________________\n",
            "bn4b_branch2a (BatchNormalizati (None, 7, 7, 256)    1024        res4b_branch2a[0][0]             \n",
            "__________________________________________________________________________________________________\n",
            "activation_25 (Activation)      (None, 7, 7, 256)    0           bn4b_branch2a[0][0]              \n",
            "__________________________________________________________________________________________________\n",
            "res4b_branch2b (Conv2D)         (None, 7, 7, 256)    590080      activation_25[0][0]              \n",
            "__________________________________________________________________________________________________\n",
            "bn4b_branch2b (BatchNormalizati (None, 7, 7, 256)    1024        res4b_branch2b[0][0]             \n",
            "__________________________________________________________________________________________________\n",
            "activation_26 (Activation)      (None, 7, 7, 256)    0           bn4b_branch2b[0][0]              \n",
            "__________________________________________________________________________________________________\n",
            "res4b_branch2c (Conv2D)         (None, 7, 7, 1024)   263168      activation_26[0][0]              \n",
            "__________________________________________________________________________________________________\n",
            "bn4b_branch2c (BatchNormalizati (None, 7, 7, 1024)   4096        res4b_branch2c[0][0]             \n",
            "__________________________________________________________________________________________________\n",
            "add_8 (Add)                     (None, 7, 7, 1024)   0           bn4b_branch2c[0][0]              \n",
            "                                                                 activation_24[0][0]              \n",
            "__________________________________________________________________________________________________\n",
            "activation_27 (Activation)      (None, 7, 7, 1024)   0           add_8[0][0]                      \n",
            "__________________________________________________________________________________________________\n",
            "res4c_branch2a (Conv2D)         (None, 7, 7, 256)    262400      activation_27[0][0]              \n",
            "__________________________________________________________________________________________________\n",
            "bn4c_branch2a (BatchNormalizati (None, 7, 7, 256)    1024        res4c_branch2a[0][0]             \n",
            "__________________________________________________________________________________________________\n",
            "activation_28 (Activation)      (None, 7, 7, 256)    0           bn4c_branch2a[0][0]              \n",
            "__________________________________________________________________________________________________\n",
            "res4c_branch2b (Conv2D)         (None, 7, 7, 256)    590080      activation_28[0][0]              \n",
            "__________________________________________________________________________________________________\n",
            "bn4c_branch2b (BatchNormalizati (None, 7, 7, 256)    1024        res4c_branch2b[0][0]             \n",
            "__________________________________________________________________________________________________\n",
            "activation_29 (Activation)      (None, 7, 7, 256)    0           bn4c_branch2b[0][0]              \n",
            "__________________________________________________________________________________________________\n",
            "res4c_branch2c (Conv2D)         (None, 7, 7, 1024)   263168      activation_29[0][0]              \n",
            "__________________________________________________________________________________________________\n",
            "bn4c_branch2c (BatchNormalizati (None, 7, 7, 1024)   4096        res4c_branch2c[0][0]             \n",
            "__________________________________________________________________________________________________\n",
            "add_9 (Add)                     (None, 7, 7, 1024)   0           bn4c_branch2c[0][0]              \n",
            "                                                                 activation_27[0][0]              \n",
            "__________________________________________________________________________________________________\n",
            "activation_30 (Activation)      (None, 7, 7, 1024)   0           add_9[0][0]                      \n",
            "__________________________________________________________________________________________________\n",
            "res4d_branch2a (Conv2D)         (None, 7, 7, 256)    262400      activation_30[0][0]              \n",
            "__________________________________________________________________________________________________\n",
            "bn4d_branch2a (BatchNormalizati (None, 7, 7, 256)    1024        res4d_branch2a[0][0]             \n",
            "__________________________________________________________________________________________________\n",
            "activation_31 (Activation)      (None, 7, 7, 256)    0           bn4d_branch2a[0][0]              \n",
            "__________________________________________________________________________________________________\n",
            "res4d_branch2b (Conv2D)         (None, 7, 7, 256)    590080      activation_31[0][0]              \n",
            "__________________________________________________________________________________________________\n",
            "bn4d_branch2b (BatchNormalizati (None, 7, 7, 256)    1024        res4d_branch2b[0][0]             \n",
            "__________________________________________________________________________________________________\n",
            "activation_32 (Activation)      (None, 7, 7, 256)    0           bn4d_branch2b[0][0]              \n",
            "__________________________________________________________________________________________________\n",
            "res4d_branch2c (Conv2D)         (None, 7, 7, 1024)   263168      activation_32[0][0]              \n",
            "__________________________________________________________________________________________________\n",
            "bn4d_branch2c (BatchNormalizati (None, 7, 7, 1024)   4096        res4d_branch2c[0][0]             \n",
            "__________________________________________________________________________________________________\n",
            "add_10 (Add)                    (None, 7, 7, 1024)   0           bn4d_branch2c[0][0]              \n",
            "                                                                 activation_30[0][0]              \n",
            "__________________________________________________________________________________________________\n",
            "activation_33 (Activation)      (None, 7, 7, 1024)   0           add_10[0][0]                     \n",
            "__________________________________________________________________________________________________\n",
            "res4e_branch2a (Conv2D)         (None, 7, 7, 256)    262400      activation_33[0][0]              \n",
            "__________________________________________________________________________________________________\n",
            "bn4e_branch2a (BatchNormalizati (None, 7, 7, 256)    1024        res4e_branch2a[0][0]             \n",
            "__________________________________________________________________________________________________\n",
            "activation_34 (Activation)      (None, 7, 7, 256)    0           bn4e_branch2a[0][0]              \n",
            "__________________________________________________________________________________________________\n",
            "res4e_branch2b (Conv2D)         (None, 7, 7, 256)    590080      activation_34[0][0]              \n",
            "__________________________________________________________________________________________________\n",
            "bn4e_branch2b (BatchNormalizati (None, 7, 7, 256)    1024        res4e_branch2b[0][0]             \n",
            "__________________________________________________________________________________________________\n",
            "activation_35 (Activation)      (None, 7, 7, 256)    0           bn4e_branch2b[0][0]              \n",
            "__________________________________________________________________________________________________\n",
            "res4e_branch2c (Conv2D)         (None, 7, 7, 1024)   263168      activation_35[0][0]              \n",
            "__________________________________________________________________________________________________\n",
            "bn4e_branch2c (BatchNormalizati (None, 7, 7, 1024)   4096        res4e_branch2c[0][0]             \n",
            "__________________________________________________________________________________________________\n",
            "add_11 (Add)                    (None, 7, 7, 1024)   0           bn4e_branch2c[0][0]              \n",
            "                                                                 activation_33[0][0]              \n",
            "__________________________________________________________________________________________________\n",
            "activation_36 (Activation)      (None, 7, 7, 1024)   0           add_11[0][0]                     \n",
            "__________________________________________________________________________________________________\n",
            "res4f_branch2a (Conv2D)         (None, 7, 7, 256)    262400      activation_36[0][0]              \n",
            "__________________________________________________________________________________________________\n",
            "bn4f_branch2a (BatchNormalizati (None, 7, 7, 256)    1024        res4f_branch2a[0][0]             \n",
            "__________________________________________________________________________________________________\n",
            "activation_37 (Activation)      (None, 7, 7, 256)    0           bn4f_branch2a[0][0]              \n",
            "__________________________________________________________________________________________________\n",
            "res4f_branch2b (Conv2D)         (None, 7, 7, 256)    590080      activation_37[0][0]              \n",
            "__________________________________________________________________________________________________\n",
            "bn4f_branch2b (BatchNormalizati (None, 7, 7, 256)    1024        res4f_branch2b[0][0]             \n",
            "__________________________________________________________________________________________________\n",
            "activation_38 (Activation)      (None, 7, 7, 256)    0           bn4f_branch2b[0][0]              \n",
            "__________________________________________________________________________________________________\n",
            "res4f_branch2c (Conv2D)         (None, 7, 7, 1024)   263168      activation_38[0][0]              \n",
            "__________________________________________________________________________________________________\n",
            "bn4f_branch2c (BatchNormalizati (None, 7, 7, 1024)   4096        res4f_branch2c[0][0]             \n",
            "__________________________________________________________________________________________________\n",
            "add_12 (Add)                    (None, 7, 7, 1024)   0           bn4f_branch2c[0][0]              \n",
            "                                                                 activation_36[0][0]              \n",
            "__________________________________________________________________________________________________\n",
            "activation_39 (Activation)      (None, 7, 7, 1024)   0           add_12[0][0]                     \n",
            "__________________________________________________________________________________________________\n",
            "res5a_branch2a (Conv2D)         (None, 4, 4, 512)    524800      activation_39[0][0]              \n",
            "__________________________________________________________________________________________________\n",
            "bn5a_branch2a (BatchNormalizati (None, 4, 4, 512)    2048        res5a_branch2a[0][0]             \n",
            "__________________________________________________________________________________________________\n",
            "activation_40 (Activation)      (None, 4, 4, 512)    0           bn5a_branch2a[0][0]              \n",
            "__________________________________________________________________________________________________\n",
            "res5a_branch2b (Conv2D)         (None, 4, 4, 512)    2359808     activation_40[0][0]              \n",
            "__________________________________________________________________________________________________\n",
            "bn5a_branch2b (BatchNormalizati (None, 4, 4, 512)    2048        res5a_branch2b[0][0]             \n",
            "__________________________________________________________________________________________________\n",
            "activation_41 (Activation)      (None, 4, 4, 512)    0           bn5a_branch2b[0][0]              \n",
            "__________________________________________________________________________________________________\n",
            "res5a_branch2c (Conv2D)         (None, 4, 4, 2048)   1050624     activation_41[0][0]              \n",
            "__________________________________________________________________________________________________\n",
            "res5a_branch1 (Conv2D)          (None, 4, 4, 2048)   2099200     activation_39[0][0]              \n",
            "__________________________________________________________________________________________________\n",
            "bn5a_branch2c (BatchNormalizati (None, 4, 4, 2048)   8192        res5a_branch2c[0][0]             \n",
            "__________________________________________________________________________________________________\n",
            "bn5a_branch1 (BatchNormalizatio (None, 4, 4, 2048)   8192        res5a_branch1[0][0]              \n",
            "__________________________________________________________________________________________________\n",
            "add_13 (Add)                    (None, 4, 4, 2048)   0           bn5a_branch2c[0][0]              \n",
            "                                                                 bn5a_branch1[0][0]               \n",
            "__________________________________________________________________________________________________\n",
            "activation_42 (Activation)      (None, 4, 4, 2048)   0           add_13[0][0]                     \n",
            "__________________________________________________________________________________________________\n",
            "res5b_branch2a (Conv2D)         (None, 4, 4, 512)    1049088     activation_42[0][0]              \n",
            "__________________________________________________________________________________________________\n",
            "bn5b_branch2a (BatchNormalizati (None, 4, 4, 512)    2048        res5b_branch2a[0][0]             \n",
            "__________________________________________________________________________________________________\n",
            "activation_43 (Activation)      (None, 4, 4, 512)    0           bn5b_branch2a[0][0]              \n",
            "__________________________________________________________________________________________________\n",
            "res5b_branch2b (Conv2D)         (None, 4, 4, 512)    2359808     activation_43[0][0]              \n",
            "__________________________________________________________________________________________________\n",
            "bn5b_branch2b (BatchNormalizati (None, 4, 4, 512)    2048        res5b_branch2b[0][0]             \n",
            "__________________________________________________________________________________________________\n",
            "activation_44 (Activation)      (None, 4, 4, 512)    0           bn5b_branch2b[0][0]              \n",
            "__________________________________________________________________________________________________\n",
            "res5b_branch2c (Conv2D)         (None, 4, 4, 2048)   1050624     activation_44[0][0]              \n",
            "__________________________________________________________________________________________________\n",
            "bn5b_branch2c (BatchNormalizati (None, 4, 4, 2048)   8192        res5b_branch2c[0][0]             \n",
            "__________________________________________________________________________________________________\n",
            "add_14 (Add)                    (None, 4, 4, 2048)   0           bn5b_branch2c[0][0]              \n",
            "                                                                 activation_42[0][0]              \n",
            "__________________________________________________________________________________________________\n",
            "activation_45 (Activation)      (None, 4, 4, 2048)   0           add_14[0][0]                     \n",
            "__________________________________________________________________________________________________\n",
            "res5c_branch2a (Conv2D)         (None, 4, 4, 512)    1049088     activation_45[0][0]              \n",
            "__________________________________________________________________________________________________\n",
            "bn5c_branch2a (BatchNormalizati (None, 4, 4, 512)    2048        res5c_branch2a[0][0]             \n",
            "__________________________________________________________________________________________________\n",
            "activation_46 (Activation)      (None, 4, 4, 512)    0           bn5c_branch2a[0][0]              \n",
            "__________________________________________________________________________________________________\n",
            "res5c_branch2b (Conv2D)         (None, 4, 4, 512)    2359808     activation_46[0][0]              \n",
            "__________________________________________________________________________________________________\n",
            "bn5c_branch2b (BatchNormalizati (None, 4, 4, 512)    2048        res5c_branch2b[0][0]             \n",
            "__________________________________________________________________________________________________\n",
            "activation_47 (Activation)      (None, 4, 4, 512)    0           bn5c_branch2b[0][0]              \n",
            "__________________________________________________________________________________________________\n",
            "res5c_branch2c (Conv2D)         (None, 4, 4, 2048)   1050624     activation_47[0][0]              \n",
            "__________________________________________________________________________________________________\n",
            "bn5c_branch2c (BatchNormalizati (None, 4, 4, 2048)   8192        res5c_branch2c[0][0]             \n",
            "__________________________________________________________________________________________________\n",
            "add_15 (Add)                    (None, 4, 4, 2048)   0           bn5c_branch2c[0][0]              \n",
            "                                                                 activation_45[0][0]              \n",
            "__________________________________________________________________________________________________\n",
            "activation_48 (Activation)      (None, 4, 4, 2048)   0           add_15[0][0]                     \n",
            "__________________________________________________________________________________________________\n",
            "avg_pool (AveragePooling2D)     (None, 2, 2, 2048)   0           activation_48[0][0]              \n",
            "__________________________________________________________________________________________________\n",
            "flatten (Flatten)               (None, 8192)         0           avg_pool[0][0]                   \n",
            "__________________________________________________________________________________________________\n",
            "fc (Dense)                      (None, 1)            8193        flatten[0][0]                    \n",
            "==================================================================================================\n",
            "Total params: 23,787,201\n",
            "Trainable params: 23,734,081\n",
            "Non-trainable params: 53,120\n",
            "__________________________________________________________________________________________________\n"
          ],
          "name": "stdout"
        }
      ]
    },
    {
      "cell_type": "code",
      "metadata": {
        "id": "yde1OzV8l3IY",
        "colab_type": "code",
        "colab": {}
      },
      "source": [
        "def generator(X_path, y_path, batch_size=2):\n",
        "    \n",
        "\n",
        "   \n",
        "    num_samples = len(X_path)\n",
        "    while True: # Loop forever so the generator never terminates\n",
        "\n",
        "      \n",
        "      # Get index to start each batch: [0, batch_size, 2*batch_size, ..., max multiple of batch_size &lt;= num_samples]\n",
        "      for offset in range(0, int(num_samples), batch_size):\n",
        "            \n",
        "          # Get the samples you'll use in this batch\n",
        "          batch_samples = X_path[ (offset * batch_size) : ((offset+1) * batch_size) ]\n",
        " \n",
        "            \n",
        "             \n",
        "              \n",
        "              # Initialise X_train and y_train arrays for this batch\n",
        "          X_train = []\n",
        "          y_train = []\n",
        "\n",
        "          for i in batch_samples:\n",
        "\n",
        "              \n",
        "            X_input = load_case(i)\n",
        "            X = get_max(X_input, 64, 64, 64, 8, 1)\n",
        "            X= np.reshape(X, (64, 64, 64))\n",
        "\n",
        "\n",
        "            patient_number = i[81:84]\n",
        "            days = find_days_by_patient_number(patient_number)\n",
        "            if days != None and 'ALIVE' not in days:\n",
        "              \n",
        "              X_train.append(X)\n",
        "              # for i in range(4):\n",
        "              y_train.append(int(days))\n",
        "                \n",
        "                  \n",
        "  \n",
        "              # Make sure they're numpy arrays (as opposed to lists)\n",
        "\n",
        "          X_train = np.array(X_train)\n",
        "          y_train = np.array(y_train)\n",
        "\n",
        "            \n",
        "\n",
        "\n",
        "\n",
        "\n",
        "          if X_train.ndim == 4:             \n",
        "            yield X_train, y_train\n",
        "          else:\n",
        "            pass"
      ],
      "execution_count": 22,
      "outputs": []
    },
    {
      "cell_type": "code",
      "metadata": {
        "id": "FEba7UJRoSn7",
        "colab_type": "code",
        "colab": {}
      },
      "source": [
        "X_train_filenames = X_trainset_filenames[:309]\n",
        "X_valid_filenames = X_trainset_filenames[309:]\n",
        "\n",
        "\n",
        "y_train_path = '/content/drive/My Drive/BRATS2020/MICCAI_BraTS2020_TrainingData/survival_info.csv'\n",
        "\n",
        "train_generator = generator(X_train_filenames, y_train_path, batch_size=3)\n",
        "validation_generator = generator(X_valid_filenames, y_train_path, batch_size=3)"
      ],
      "execution_count": 26,
      "outputs": []
    },
    {
      "cell_type": "code",
      "metadata": {
        "id": "IcT6EoIbzhub",
        "colab_type": "code",
        "colab": {}
      },
      "source": [
        "\n",
        "opt = Adam(lr=1e-4, decay=1e-4 / 200)\n",
        "\n",
        "\n",
        "res_model.compile(optimizer=opt, loss='mean_absolute_percentage_error')"
      ],
      "execution_count": 27,
      "outputs": []
    },
    {
      "cell_type": "code",
      "metadata": {
        "id": "9DHmLHFqzM50",
        "colab_type": "code",
        "colab": {
          "base_uri": "https://localhost:8080/",
          "height": 218
        },
        "outputId": "eff9d817-f1e8-4093-a335-03b1aa3aeed7"
      },
      "source": [
        "from keras.callbacks import EarlyStopping, ModelCheckpoint, LearningRateScheduler\n",
        "\n",
        "initial_learning_rate = 0.0001\n",
        "\n",
        "\n",
        "def scheduler(epoch):\n",
        "  \n",
        "  ## decrease learning rate every 3 epochs to 0.1(latest_value) ##\n",
        "  return float(initial_learning_rate * tf.math.exp(0.1 * (int(epoch/3))))\n",
        "  \n",
        "\n",
        "\n",
        "# callback\n",
        "my_callbacks = [\n",
        "        LearningRateScheduler(scheduler), \n",
        "        EarlyStopping(monitor='val_loss', patience=6),\n",
        "        ModelCheckpoint(filepath='/content/drive/My Drive/BRATS2020/Survival_FlowerModel_update.{epoch:02d}-{val_loss:.2f}.h5', monitor='val_loss', save_best_only=False)\n",
        "]\n",
        "\n",
        "\n",
        "\n",
        "#### steps per epoch should be x/batch*8 because model generates 8 subvolumes per training sample\n",
        "# Fit model using generator\n",
        "history = res_model.fit(train_generator, steps_per_epoch=103, epochs=50, validation_data=validation_generator, validation_steps=20, callbacks=my_callbacks)"
      ],
      "execution_count": null,
      "outputs": [
        {
          "output_type": "stream",
          "text": [
            "Epoch 1/50\n",
            "103/103 [==============================] - 1717s 17s/step - loss: 71.6803 - val_loss: 96.0768\n",
            "Epoch 2/50\n",
            "103/103 [==============================] - 1736s 17s/step - loss: 63.2629 - val_loss: 84.7271\n",
            "Epoch 3/50\n",
            "103/103 [==============================] - 1734s 17s/step - loss: 61.2178 - val_loss: 78.4018\n",
            "Epoch 4/50\n",
            "103/103 [==============================] - 1746s 17s/step - loss: 63.4051 - val_loss: 304.2432\n",
            "Epoch 5/50\n",
            "103/103 [==============================] - 1711s 17s/step - loss: 57.1993 - val_loss: 304.6725\n",
            "Epoch 6/50\n",
            " 87/103 [========================>.....] - ETA: 3:46 - loss: 54.7572"
          ],
          "name": "stdout"
        }
      ]
    },
    {
      "cell_type": "code",
      "metadata": {
        "id": "N7-SmRYVUuIB",
        "colab_type": "code",
        "colab": {}
      },
      "source": [
        ""
      ],
      "execution_count": null,
      "outputs": []
    }
  ]
}