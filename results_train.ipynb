{
  "nbformat": 4,
  "nbformat_minor": 0,
  "metadata": {
    "colab": {
      "name": "results.ipynb",
      "provenance": [],
      "include_colab_link": true
    },
    "kernelspec": {
      "name": "python3",
      "display_name": "Python 3"
    },
    "accelerator": "GPU",
    "widgets": {
      "application/vnd.jupyter.widget-state+json": {
        "11df4894c0dd453f8a4dd5aedd2aa671": {
          "model_module": "@jupyter-widgets/controls",
          "model_name": "VBoxModel",
          "state": {
            "_view_name": "VBoxView",
            "_dom_classes": [
              "widget-interact"
            ],
            "_model_name": "VBoxModel",
            "_view_module": "@jupyter-widgets/controls",
            "_model_module_version": "1.5.0",
            "_view_count": null,
            "_view_module_version": "1.5.0",
            "box_style": "",
            "layout": "IPY_MODEL_724ac7063be64fd3a6912c8532b7fc90",
            "_model_module": "@jupyter-widgets/controls",
            "children": [
              "IPY_MODEL_446d1adfce5c45828cc03ceda2564471",
              "IPY_MODEL_a04b7b3d134443de9d5262f8db829b4b"
            ]
          }
        },
        "724ac7063be64fd3a6912c8532b7fc90": {
          "model_module": "@jupyter-widgets/base",
          "model_name": "LayoutModel",
          "state": {
            "_view_name": "LayoutView",
            "grid_template_rows": null,
            "right": null,
            "justify_content": null,
            "_view_module": "@jupyter-widgets/base",
            "overflow": null,
            "_model_module_version": "1.2.0",
            "_view_count": null,
            "flex_flow": null,
            "width": null,
            "min_width": null,
            "border": null,
            "align_items": null,
            "bottom": null,
            "_model_module": "@jupyter-widgets/base",
            "top": null,
            "grid_column": null,
            "overflow_y": null,
            "overflow_x": null,
            "grid_auto_flow": null,
            "grid_area": null,
            "grid_template_columns": null,
            "flex": null,
            "_model_name": "LayoutModel",
            "justify_items": null,
            "grid_row": null,
            "max_height": null,
            "align_content": null,
            "visibility": null,
            "align_self": null,
            "height": null,
            "min_height": null,
            "padding": null,
            "grid_auto_rows": null,
            "grid_gap": null,
            "max_width": null,
            "order": null,
            "_view_module_version": "1.2.0",
            "grid_template_areas": null,
            "object_position": null,
            "object_fit": null,
            "grid_auto_columns": null,
            "margin": null,
            "display": null,
            "left": null
          }
        },
        "446d1adfce5c45828cc03ceda2564471": {
          "model_module": "@jupyter-widgets/controls",
          "model_name": "IntSliderModel",
          "state": {
            "_view_name": "IntSliderView",
            "style": "IPY_MODEL_9021ea46d02142de8aa89524b9774002",
            "_dom_classes": [],
            "description": "layer",
            "step": 1,
            "_model_name": "IntSliderModel",
            "orientation": "horizontal",
            "max": 15,
            "_view_module": "@jupyter-widgets/controls",
            "_model_module_version": "1.5.0",
            "value": 7,
            "_view_count": null,
            "disabled": false,
            "_view_module_version": "1.5.0",
            "min": 0,
            "continuous_update": true,
            "readout_format": "d",
            "description_tooltip": null,
            "readout": true,
            "_model_module": "@jupyter-widgets/controls",
            "layout": "IPY_MODEL_a28a6eb9476d467a90cfe8dbab82a41d"
          }
        },
        "a04b7b3d134443de9d5262f8db829b4b": {
          "model_module": "@jupyter-widgets/output",
          "model_name": "OutputModel",
          "state": {
            "_view_name": "OutputView",
            "msg_id": "",
            "_dom_classes": [],
            "_model_name": "OutputModel",
            "outputs": [
              {
                "output_type": "display_data",
                "metadata": {
                  "tags": [],
                  "needs_background": "light"
                },
                "image/png": "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\n",
                "text/plain": "<Figure size 720x360 with 1 Axes>"
              },
              {
                "output_type": "display_data",
                "metadata": {
                  "tags": []
                },
                "text/plain": "7"
              }
            ],
            "_view_module": "@jupyter-widgets/output",
            "_model_module_version": "1.0.0",
            "_view_count": null,
            "_view_module_version": "1.0.0",
            "layout": "IPY_MODEL_56311d2973ef4d209a6643039638a02d",
            "_model_module": "@jupyter-widgets/output"
          }
        },
        "9021ea46d02142de8aa89524b9774002": {
          "model_module": "@jupyter-widgets/controls",
          "model_name": "SliderStyleModel",
          "state": {
            "_view_name": "StyleView",
            "handle_color": null,
            "_model_name": "SliderStyleModel",
            "description_width": "",
            "_view_module": "@jupyter-widgets/base",
            "_model_module_version": "1.5.0",
            "_view_count": null,
            "_view_module_version": "1.2.0",
            "_model_module": "@jupyter-widgets/controls"
          }
        },
        "a28a6eb9476d467a90cfe8dbab82a41d": {
          "model_module": "@jupyter-widgets/base",
          "model_name": "LayoutModel",
          "state": {
            "_view_name": "LayoutView",
            "grid_template_rows": null,
            "right": null,
            "justify_content": null,
            "_view_module": "@jupyter-widgets/base",
            "overflow": null,
            "_model_module_version": "1.2.0",
            "_view_count": null,
            "flex_flow": null,
            "width": null,
            "min_width": null,
            "border": null,
            "align_items": null,
            "bottom": null,
            "_model_module": "@jupyter-widgets/base",
            "top": null,
            "grid_column": null,
            "overflow_y": null,
            "overflow_x": null,
            "grid_auto_flow": null,
            "grid_area": null,
            "grid_template_columns": null,
            "flex": null,
            "_model_name": "LayoutModel",
            "justify_items": null,
            "grid_row": null,
            "max_height": null,
            "align_content": null,
            "visibility": null,
            "align_self": null,
            "height": null,
            "min_height": null,
            "padding": null,
            "grid_auto_rows": null,
            "grid_gap": null,
            "max_width": null,
            "order": null,
            "_view_module_version": "1.2.0",
            "grid_template_areas": null,
            "object_position": null,
            "object_fit": null,
            "grid_auto_columns": null,
            "margin": null,
            "display": null,
            "left": null
          }
        },
        "56311d2973ef4d209a6643039638a02d": {
          "model_module": "@jupyter-widgets/base",
          "model_name": "LayoutModel",
          "state": {
            "_view_name": "LayoutView",
            "grid_template_rows": null,
            "right": null,
            "justify_content": null,
            "_view_module": "@jupyter-widgets/base",
            "overflow": null,
            "_model_module_version": "1.2.0",
            "_view_count": null,
            "flex_flow": null,
            "width": null,
            "min_width": null,
            "border": null,
            "align_items": null,
            "bottom": null,
            "_model_module": "@jupyter-widgets/base",
            "top": null,
            "grid_column": null,
            "overflow_y": null,
            "overflow_x": null,
            "grid_auto_flow": null,
            "grid_area": null,
            "grid_template_columns": null,
            "flex": null,
            "_model_name": "LayoutModel",
            "justify_items": null,
            "grid_row": null,
            "max_height": null,
            "align_content": null,
            "visibility": null,
            "align_self": null,
            "height": null,
            "min_height": null,
            "padding": null,
            "grid_auto_rows": null,
            "grid_gap": null,
            "max_width": null,
            "order": null,
            "_view_module_version": "1.2.0",
            "grid_template_areas": null,
            "object_position": null,
            "object_fit": null,
            "grid_auto_columns": null,
            "margin": null,
            "display": null,
            "left": null
          }
        },
        "b738b4ea3ed0406ca5b354ffebe05071": {
          "model_module": "@jupyter-widgets/controls",
          "model_name": "VBoxModel",
          "state": {
            "_view_name": "VBoxView",
            "_dom_classes": [
              "widget-interact"
            ],
            "_model_name": "VBoxModel",
            "_view_module": "@jupyter-widgets/controls",
            "_model_module_version": "1.5.0",
            "_view_count": null,
            "_view_module_version": "1.5.0",
            "box_style": "",
            "layout": "IPY_MODEL_6f3feaa7a01046f79ecdd37c1b0d18ee",
            "_model_module": "@jupyter-widgets/controls",
            "children": [
              "IPY_MODEL_def78416685240b8947159d6cfd8926e",
              "IPY_MODEL_549905913b0e4098b60ef1bdebe66188"
            ]
          }
        },
        "6f3feaa7a01046f79ecdd37c1b0d18ee": {
          "model_module": "@jupyter-widgets/base",
          "model_name": "LayoutModel",
          "state": {
            "_view_name": "LayoutView",
            "grid_template_rows": null,
            "right": null,
            "justify_content": null,
            "_view_module": "@jupyter-widgets/base",
            "overflow": null,
            "_model_module_version": "1.2.0",
            "_view_count": null,
            "flex_flow": null,
            "width": null,
            "min_width": null,
            "border": null,
            "align_items": null,
            "bottom": null,
            "_model_module": "@jupyter-widgets/base",
            "top": null,
            "grid_column": null,
            "overflow_y": null,
            "overflow_x": null,
            "grid_auto_flow": null,
            "grid_area": null,
            "grid_template_columns": null,
            "flex": null,
            "_model_name": "LayoutModel",
            "justify_items": null,
            "grid_row": null,
            "max_height": null,
            "align_content": null,
            "visibility": null,
            "align_self": null,
            "height": null,
            "min_height": null,
            "padding": null,
            "grid_auto_rows": null,
            "grid_gap": null,
            "max_width": null,
            "order": null,
            "_view_module_version": "1.2.0",
            "grid_template_areas": null,
            "object_position": null,
            "object_fit": null,
            "grid_auto_columns": null,
            "margin": null,
            "display": null,
            "left": null
          }
        },
        "def78416685240b8947159d6cfd8926e": {
          "model_module": "@jupyter-widgets/controls",
          "model_name": "IntSliderModel",
          "state": {
            "_view_name": "IntSliderView",
            "style": "IPY_MODEL_27a35e119e474e4aa4ac04bb223d5d7d",
            "_dom_classes": [],
            "description": "layer",
            "step": 1,
            "_model_name": "IntSliderModel",
            "orientation": "horizontal",
            "max": 154,
            "_view_module": "@jupyter-widgets/controls",
            "_model_module_version": "1.5.0",
            "value": 77,
            "_view_count": null,
            "disabled": false,
            "_view_module_version": "1.5.0",
            "min": 0,
            "continuous_update": true,
            "readout_format": "d",
            "description_tooltip": null,
            "readout": true,
            "_model_module": "@jupyter-widgets/controls",
            "layout": "IPY_MODEL_868621f82fab47ac8bada77a7ca825ef"
          }
        },
        "549905913b0e4098b60ef1bdebe66188": {
          "model_module": "@jupyter-widgets/output",
          "model_name": "OutputModel",
          "state": {
            "_view_name": "OutputView",
            "msg_id": "",
            "_dom_classes": [],
            "_model_name": "OutputModel",
            "outputs": [
              {
                "output_type": "display_data",
                "metadata": {
                  "tags": [],
                  "needs_background": "light"
                },
                "image/png": "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\n",
                "text/plain": "<Figure size 720x360 with 1 Axes>"
              },
              {
                "output_type": "display_data",
                "metadata": {
                  "tags": []
                },
                "text/plain": "77"
              }
            ],
            "_view_module": "@jupyter-widgets/output",
            "_model_module_version": "1.0.0",
            "_view_count": null,
            "_view_module_version": "1.0.0",
            "layout": "IPY_MODEL_86f0f6555ccc4c57a941059ab600c1c0",
            "_model_module": "@jupyter-widgets/output"
          }
        },
        "27a35e119e474e4aa4ac04bb223d5d7d": {
          "model_module": "@jupyter-widgets/controls",
          "model_name": "SliderStyleModel",
          "state": {
            "_view_name": "StyleView",
            "handle_color": null,
            "_model_name": "SliderStyleModel",
            "description_width": "",
            "_view_module": "@jupyter-widgets/base",
            "_model_module_version": "1.5.0",
            "_view_count": null,
            "_view_module_version": "1.2.0",
            "_model_module": "@jupyter-widgets/controls"
          }
        },
        "868621f82fab47ac8bada77a7ca825ef": {
          "model_module": "@jupyter-widgets/base",
          "model_name": "LayoutModel",
          "state": {
            "_view_name": "LayoutView",
            "grid_template_rows": null,
            "right": null,
            "justify_content": null,
            "_view_module": "@jupyter-widgets/base",
            "overflow": null,
            "_model_module_version": "1.2.0",
            "_view_count": null,
            "flex_flow": null,
            "width": null,
            "min_width": null,
            "border": null,
            "align_items": null,
            "bottom": null,
            "_model_module": "@jupyter-widgets/base",
            "top": null,
            "grid_column": null,
            "overflow_y": null,
            "overflow_x": null,
            "grid_auto_flow": null,
            "grid_area": null,
            "grid_template_columns": null,
            "flex": null,
            "_model_name": "LayoutModel",
            "justify_items": null,
            "grid_row": null,
            "max_height": null,
            "align_content": null,
            "visibility": null,
            "align_self": null,
            "height": null,
            "min_height": null,
            "padding": null,
            "grid_auto_rows": null,
            "grid_gap": null,
            "max_width": null,
            "order": null,
            "_view_module_version": "1.2.0",
            "grid_template_areas": null,
            "object_position": null,
            "object_fit": null,
            "grid_auto_columns": null,
            "margin": null,
            "display": null,
            "left": null
          }
        },
        "86f0f6555ccc4c57a941059ab600c1c0": {
          "model_module": "@jupyter-widgets/base",
          "model_name": "LayoutModel",
          "state": {
            "_view_name": "LayoutView",
            "grid_template_rows": null,
            "right": null,
            "justify_content": null,
            "_view_module": "@jupyter-widgets/base",
            "overflow": null,
            "_model_module_version": "1.2.0",
            "_view_count": null,
            "flex_flow": null,
            "width": null,
            "min_width": null,
            "border": null,
            "align_items": null,
            "bottom": null,
            "_model_module": "@jupyter-widgets/base",
            "top": null,
            "grid_column": null,
            "overflow_y": null,
            "overflow_x": null,
            "grid_auto_flow": null,
            "grid_area": null,
            "grid_template_columns": null,
            "flex": null,
            "_model_name": "LayoutModel",
            "justify_items": null,
            "grid_row": null,
            "max_height": null,
            "align_content": null,
            "visibility": null,
            "align_self": null,
            "height": null,
            "min_height": null,
            "padding": null,
            "grid_auto_rows": null,
            "grid_gap": null,
            "max_width": null,
            "order": null,
            "_view_module_version": "1.2.0",
            "grid_template_areas": null,
            "object_position": null,
            "object_fit": null,
            "grid_auto_columns": null,
            "margin": null,
            "display": null,
            "left": null
          }
        },
        "54d5d4ef793f4dc1b3b9d0e88399e862": {
          "model_module": "@jupyter-widgets/controls",
          "model_name": "VBoxModel",
          "state": {
            "_view_name": "VBoxView",
            "_dom_classes": [
              "widget-interact"
            ],
            "_model_name": "VBoxModel",
            "_view_module": "@jupyter-widgets/controls",
            "_model_module_version": "1.5.0",
            "_view_count": null,
            "_view_module_version": "1.5.0",
            "box_style": "",
            "layout": "IPY_MODEL_ff7d7f5908c041899a4a8e5726594408",
            "_model_module": "@jupyter-widgets/controls",
            "children": [
              "IPY_MODEL_98f47910e6ed40959447a44a2e89a3b6",
              "IPY_MODEL_0e15b521e26140559c249a54d9cf7bf3"
            ]
          }
        },
        "ff7d7f5908c041899a4a8e5726594408": {
          "model_module": "@jupyter-widgets/base",
          "model_name": "LayoutModel",
          "state": {
            "_view_name": "LayoutView",
            "grid_template_rows": null,
            "right": null,
            "justify_content": null,
            "_view_module": "@jupyter-widgets/base",
            "overflow": null,
            "_model_module_version": "1.2.0",
            "_view_count": null,
            "flex_flow": null,
            "width": null,
            "min_width": null,
            "border": null,
            "align_items": null,
            "bottom": null,
            "_model_module": "@jupyter-widgets/base",
            "top": null,
            "grid_column": null,
            "overflow_y": null,
            "overflow_x": null,
            "grid_auto_flow": null,
            "grid_area": null,
            "grid_template_columns": null,
            "flex": null,
            "_model_name": "LayoutModel",
            "justify_items": null,
            "grid_row": null,
            "max_height": null,
            "align_content": null,
            "visibility": null,
            "align_self": null,
            "height": null,
            "min_height": null,
            "padding": null,
            "grid_auto_rows": null,
            "grid_gap": null,
            "max_width": null,
            "order": null,
            "_view_module_version": "1.2.0",
            "grid_template_areas": null,
            "object_position": null,
            "object_fit": null,
            "grid_auto_columns": null,
            "margin": null,
            "display": null,
            "left": null
          }
        },
        "98f47910e6ed40959447a44a2e89a3b6": {
          "model_module": "@jupyter-widgets/controls",
          "model_name": "IntSliderModel",
          "state": {
            "_view_name": "IntSliderView",
            "style": "IPY_MODEL_1bf9c31ae78941d5b8c5dd0cae3bc01b",
            "_dom_classes": [],
            "description": "layer",
            "step": 1,
            "_model_name": "IntSliderModel",
            "orientation": "horizontal",
            "max": 154,
            "_view_module": "@jupyter-widgets/controls",
            "_model_module_version": "1.5.0",
            "value": 77,
            "_view_count": null,
            "disabled": false,
            "_view_module_version": "1.5.0",
            "min": 0,
            "continuous_update": true,
            "readout_format": "d",
            "description_tooltip": null,
            "readout": true,
            "_model_module": "@jupyter-widgets/controls",
            "layout": "IPY_MODEL_dd86415ed57944bdad2a3b5489d0af55"
          }
        },
        "0e15b521e26140559c249a54d9cf7bf3": {
          "model_module": "@jupyter-widgets/output",
          "model_name": "OutputModel",
          "state": {
            "_view_name": "OutputView",
            "msg_id": "",
            "_dom_classes": [],
            "_model_name": "OutputModel",
            "outputs": [
              {
                "output_type": "display_data",
                "metadata": {
                  "tags": [],
                  "needs_background": "light"
                },
                "image/png": "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\n",
                "text/plain": "<Figure size 720x360 with 1 Axes>"
              },
              {
                "output_type": "display_data",
                "metadata": {
                  "tags": []
                },
                "text/plain": "77"
              }
            ],
            "_view_module": "@jupyter-widgets/output",
            "_model_module_version": "1.0.0",
            "_view_count": null,
            "_view_module_version": "1.0.0",
            "layout": "IPY_MODEL_2e6bc2d3308f49d4b4da999714eb0300",
            "_model_module": "@jupyter-widgets/output"
          }
        },
        "1bf9c31ae78941d5b8c5dd0cae3bc01b": {
          "model_module": "@jupyter-widgets/controls",
          "model_name": "SliderStyleModel",
          "state": {
            "_view_name": "StyleView",
            "handle_color": null,
            "_model_name": "SliderStyleModel",
            "description_width": "",
            "_view_module": "@jupyter-widgets/base",
            "_model_module_version": "1.5.0",
            "_view_count": null,
            "_view_module_version": "1.2.0",
            "_model_module": "@jupyter-widgets/controls"
          }
        },
        "dd86415ed57944bdad2a3b5489d0af55": {
          "model_module": "@jupyter-widgets/base",
          "model_name": "LayoutModel",
          "state": {
            "_view_name": "LayoutView",
            "grid_template_rows": null,
            "right": null,
            "justify_content": null,
            "_view_module": "@jupyter-widgets/base",
            "overflow": null,
            "_model_module_version": "1.2.0",
            "_view_count": null,
            "flex_flow": null,
            "width": null,
            "min_width": null,
            "border": null,
            "align_items": null,
            "bottom": null,
            "_model_module": "@jupyter-widgets/base",
            "top": null,
            "grid_column": null,
            "overflow_y": null,
            "overflow_x": null,
            "grid_auto_flow": null,
            "grid_area": null,
            "grid_template_columns": null,
            "flex": null,
            "_model_name": "LayoutModel",
            "justify_items": null,
            "grid_row": null,
            "max_height": null,
            "align_content": null,
            "visibility": null,
            "align_self": null,
            "height": null,
            "min_height": null,
            "padding": null,
            "grid_auto_rows": null,
            "grid_gap": null,
            "max_width": null,
            "order": null,
            "_view_module_version": "1.2.0",
            "grid_template_areas": null,
            "object_position": null,
            "object_fit": null,
            "grid_auto_columns": null,
            "margin": null,
            "display": null,
            "left": null
          }
        },
        "2e6bc2d3308f49d4b4da999714eb0300": {
          "model_module": "@jupyter-widgets/base",
          "model_name": "LayoutModel",
          "state": {
            "_view_name": "LayoutView",
            "grid_template_rows": null,
            "right": null,
            "justify_content": null,
            "_view_module": "@jupyter-widgets/base",
            "overflow": null,
            "_model_module_version": "1.2.0",
            "_view_count": null,
            "flex_flow": null,
            "width": null,
            "min_width": null,
            "border": null,
            "align_items": null,
            "bottom": null,
            "_model_module": "@jupyter-widgets/base",
            "top": null,
            "grid_column": null,
            "overflow_y": null,
            "overflow_x": null,
            "grid_auto_flow": null,
            "grid_area": null,
            "grid_template_columns": null,
            "flex": null,
            "_model_name": "LayoutModel",
            "justify_items": null,
            "grid_row": null,
            "max_height": null,
            "align_content": null,
            "visibility": null,
            "align_self": null,
            "height": null,
            "min_height": null,
            "padding": null,
            "grid_auto_rows": null,
            "grid_gap": null,
            "max_width": null,
            "order": null,
            "_view_module_version": "1.2.0",
            "grid_template_areas": null,
            "object_position": null,
            "object_fit": null,
            "grid_auto_columns": null,
            "margin": null,
            "display": null,
            "left": null
          }
        },
        "60654d77f3bf4146ab078beacef2c501": {
          "model_module": "@jupyter-widgets/controls",
          "model_name": "VBoxModel",
          "state": {
            "_view_name": "VBoxView",
            "_dom_classes": [
              "widget-interact"
            ],
            "_model_name": "VBoxModel",
            "_view_module": "@jupyter-widgets/controls",
            "_model_module_version": "1.5.0",
            "_view_count": null,
            "_view_module_version": "1.5.0",
            "box_style": "",
            "layout": "IPY_MODEL_46e13e55abef4abfa98625fe9089dadd",
            "_model_module": "@jupyter-widgets/controls",
            "children": [
              "IPY_MODEL_9868757941504bf59b2deb4e23e0ede1",
              "IPY_MODEL_7bebdd5cb7d3430a875555c05baefdd1"
            ]
          }
        },
        "46e13e55abef4abfa98625fe9089dadd": {
          "model_module": "@jupyter-widgets/base",
          "model_name": "LayoutModel",
          "state": {
            "_view_name": "LayoutView",
            "grid_template_rows": null,
            "right": null,
            "justify_content": null,
            "_view_module": "@jupyter-widgets/base",
            "overflow": null,
            "_model_module_version": "1.2.0",
            "_view_count": null,
            "flex_flow": null,
            "width": null,
            "min_width": null,
            "border": null,
            "align_items": null,
            "bottom": null,
            "_model_module": "@jupyter-widgets/base",
            "top": null,
            "grid_column": null,
            "overflow_y": null,
            "overflow_x": null,
            "grid_auto_flow": null,
            "grid_area": null,
            "grid_template_columns": null,
            "flex": null,
            "_model_name": "LayoutModel",
            "justify_items": null,
            "grid_row": null,
            "max_height": null,
            "align_content": null,
            "visibility": null,
            "align_self": null,
            "height": null,
            "min_height": null,
            "padding": null,
            "grid_auto_rows": null,
            "grid_gap": null,
            "max_width": null,
            "order": null,
            "_view_module_version": "1.2.0",
            "grid_template_areas": null,
            "object_position": null,
            "object_fit": null,
            "grid_auto_columns": null,
            "margin": null,
            "display": null,
            "left": null
          }
        },
        "9868757941504bf59b2deb4e23e0ede1": {
          "model_module": "@jupyter-widgets/controls",
          "model_name": "IntSliderModel",
          "state": {
            "_view_name": "IntSliderView",
            "style": "IPY_MODEL_3bce809cffff4247970f791ccd71b119",
            "_dom_classes": [],
            "description": "layer",
            "step": 1,
            "_model_name": "IntSliderModel",
            "orientation": "horizontal",
            "max": 154,
            "_view_module": "@jupyter-widgets/controls",
            "_model_module_version": "1.5.0",
            "value": 77,
            "_view_count": null,
            "disabled": false,
            "_view_module_version": "1.5.0",
            "min": 0,
            "continuous_update": true,
            "readout_format": "d",
            "description_tooltip": null,
            "readout": true,
            "_model_module": "@jupyter-widgets/controls",
            "layout": "IPY_MODEL_7c1c1eac584f4d0b8226089d72b270d0"
          }
        },
        "7bebdd5cb7d3430a875555c05baefdd1": {
          "model_module": "@jupyter-widgets/output",
          "model_name": "OutputModel",
          "state": {
            "_view_name": "OutputView",
            "msg_id": "",
            "_dom_classes": [],
            "_model_name": "OutputModel",
            "outputs": [
              {
                "output_type": "display_data",
                "metadata": {
                  "tags": [],
                  "needs_background": "light"
                },
                "image/png": "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\n",
                "text/plain": "<Figure size 720x360 with 1 Axes>"
              },
              {
                "output_type": "display_data",
                "metadata": {
                  "tags": []
                },
                "text/plain": "77"
              }
            ],
            "_view_module": "@jupyter-widgets/output",
            "_model_module_version": "1.0.0",
            "_view_count": null,
            "_view_module_version": "1.0.0",
            "layout": "IPY_MODEL_58bb7a32564545348dc10b18308d96b7",
            "_model_module": "@jupyter-widgets/output"
          }
        },
        "3bce809cffff4247970f791ccd71b119": {
          "model_module": "@jupyter-widgets/controls",
          "model_name": "SliderStyleModel",
          "state": {
            "_view_name": "StyleView",
            "handle_color": null,
            "_model_name": "SliderStyleModel",
            "description_width": "",
            "_view_module": "@jupyter-widgets/base",
            "_model_module_version": "1.5.0",
            "_view_count": null,
            "_view_module_version": "1.2.0",
            "_model_module": "@jupyter-widgets/controls"
          }
        },
        "7c1c1eac584f4d0b8226089d72b270d0": {
          "model_module": "@jupyter-widgets/base",
          "model_name": "LayoutModel",
          "state": {
            "_view_name": "LayoutView",
            "grid_template_rows": null,
            "right": null,
            "justify_content": null,
            "_view_module": "@jupyter-widgets/base",
            "overflow": null,
            "_model_module_version": "1.2.0",
            "_view_count": null,
            "flex_flow": null,
            "width": null,
            "min_width": null,
            "border": null,
            "align_items": null,
            "bottom": null,
            "_model_module": "@jupyter-widgets/base",
            "top": null,
            "grid_column": null,
            "overflow_y": null,
            "overflow_x": null,
            "grid_auto_flow": null,
            "grid_area": null,
            "grid_template_columns": null,
            "flex": null,
            "_model_name": "LayoutModel",
            "justify_items": null,
            "grid_row": null,
            "max_height": null,
            "align_content": null,
            "visibility": null,
            "align_self": null,
            "height": null,
            "min_height": null,
            "padding": null,
            "grid_auto_rows": null,
            "grid_gap": null,
            "max_width": null,
            "order": null,
            "_view_module_version": "1.2.0",
            "grid_template_areas": null,
            "object_position": null,
            "object_fit": null,
            "grid_auto_columns": null,
            "margin": null,
            "display": null,
            "left": null
          }
        },
        "58bb7a32564545348dc10b18308d96b7": {
          "model_module": "@jupyter-widgets/base",
          "model_name": "LayoutModel",
          "state": {
            "_view_name": "LayoutView",
            "grid_template_rows": null,
            "right": null,
            "justify_content": null,
            "_view_module": "@jupyter-widgets/base",
            "overflow": null,
            "_model_module_version": "1.2.0",
            "_view_count": null,
            "flex_flow": null,
            "width": null,
            "min_width": null,
            "border": null,
            "align_items": null,
            "bottom": null,
            "_model_module": "@jupyter-widgets/base",
            "top": null,
            "grid_column": null,
            "overflow_y": null,
            "overflow_x": null,
            "grid_auto_flow": null,
            "grid_area": null,
            "grid_template_columns": null,
            "flex": null,
            "_model_name": "LayoutModel",
            "justify_items": null,
            "grid_row": null,
            "max_height": null,
            "align_content": null,
            "visibility": null,
            "align_self": null,
            "height": null,
            "min_height": null,
            "padding": null,
            "grid_auto_rows": null,
            "grid_gap": null,
            "max_width": null,
            "order": null,
            "_view_module_version": "1.2.0",
            "grid_template_areas": null,
            "object_position": null,
            "object_fit": null,
            "grid_auto_columns": null,
            "margin": null,
            "display": null,
            "left": null
          }
        }
      }
    }
  },
  "cells": [
    {
      "cell_type": "markdown",
      "metadata": {
        "id": "view-in-github",
        "colab_type": "text"
      },
      "source": [
        "<a href=\"https://colab.research.google.com/github/alirezash97/BraTS/blob/master/results_train.ipynb\" target=\"_parent\"><img src=\"https://colab.research.google.com/assets/colab-badge.svg\" alt=\"Open In Colab\"/></a>"
      ]
    },
    {
      "cell_type": "code",
      "metadata": {
        "id": "O0LsmpcVJtdT",
        "colab_type": "code",
        "colab": {}
      },
      "source": [
        "# !wget https://www.cbica.upenn.edu/MICCAI_BraTS2020_ValidationData"
      ],
      "execution_count": 1,
      "outputs": []
    },
    {
      "cell_type": "code",
      "metadata": {
        "id": "ZA98NovkMCMt",
        "colab_type": "code",
        "colab": {}
      },
      "source": [
        "# from google.colab import drive\n",
        "# drive.mount('/content/drive')"
      ],
      "execution_count": 2,
      "outputs": []
    },
    {
      "cell_type": "code",
      "metadata": {
        "id": "705vls49J_80",
        "colab_type": "code",
        "colab": {}
      },
      "source": [
        "# !unzip /content/MICCAI_BraTS2020_ValidationData -d '/content/drive/My Drive/BraTS2020 validation/'"
      ],
      "execution_count": 3,
      "outputs": []
    },
    {
      "cell_type": "code",
      "metadata": {
        "id": "UI48aQ_0NF7R",
        "colab_type": "code",
        "colab": {}
      },
      "source": [
        "\n",
        "import os\n",
        "import numpy as np\n",
        "from nibabel.testing import data_path\n",
        "import nibabel as nib\n",
        "import matplotlib.pyplot as plt\n",
        "from keras.utils import to_categorical\n",
        "import cv2\n",
        "import keras \n",
        "import random"
      ],
      "execution_count": 4,
      "outputs": []
    },
    {
      "cell_type": "code",
      "metadata": {
        "id": "_CNCXiRMzhVZ",
        "colab_type": "code",
        "colab": {}
      },
      "source": [
        "from keras import backend as K\n",
        "\n",
        "def soft_dice_loss(y_true, y_pred, axis=(1, 2, 3), \n",
        "                   epsilon=0.00001):\n",
        "  \n",
        "    dice_numerator = 2. * K.sum(y_true * y_pred, axis=axis) + epsilon\n",
        "    dice_denominator = K.sum(y_true**2, axis=axis) + K.sum(y_pred**2, axis=axis) + epsilon\n",
        "    dice_loss = 1 - K.mean((dice_numerator)/(dice_denominator))\n",
        "\n",
        "\n",
        "    return dice_loss\n",
        "\n",
        "\n",
        "def dice_coefficient(y_true, y_pred, axis=(1, 2, 3), \n",
        "                     epsilon=0.00001):\n",
        "\n",
        "    dice_numerator = 2. * K.sum(y_true * y_pred, axis=axis) + epsilon\n",
        "    dice_denominator = K.sum(y_true, axis=axis) + K.sum(y_pred, axis=axis) + epsilon\n",
        "    dice_coefficient = K.mean((dice_numerator)/(dice_denominator))\n",
        "    \n",
        " \n",
        "    return dice_coefficient"
      ],
      "execution_count": 5,
      "outputs": []
    },
    {
      "cell_type": "code",
      "metadata": {
        "id": "HPMPEJPry_Ih",
        "colab_type": "code",
        "colab": {
          "base_uri": "https://localhost:8080/",
          "height": 1000
        },
        "outputId": "d5bd2e82-9dbf-4435-e8c4-546a2d08671f"
      },
      "source": [
        "\n",
        "# load and evaluate a saved model\n",
        "from numpy import loadtxt\n",
        "from keras.models import load_model\n",
        " \n",
        "# load model\n",
        "model = load_model('/content/drive/My Drive/BRATS2020/Newerby_Series4_model.02-0.06.h5', custom_objects={'soft_dice_loss':soft_dice_loss, 'dice_coefficient':dice_coefficient})\n",
        "# summarize model.\n",
        "model.summary()\n",
        "# load dataset"
      ],
      "execution_count": 6,
      "outputs": [
        {
          "output_type": "stream",
          "text": [
            "Model: \"functional_1\"\n",
            "__________________________________________________________________________________________________\n",
            "Layer (type)                    Output Shape         Param #     Connected to                     \n",
            "==================================================================================================\n",
            "input_1 (InputLayer)            [(None, 120, 120, 16 0                                            \n",
            "__________________________________________________________________________________________________\n",
            "conv3d (Conv3D)                 (None, 120, 120, 16, 3488        input_1[0][0]                    \n",
            "__________________________________________________________________________________________________\n",
            "conv3d_14 (Conv3D)              (None, 120, 120, 16, 3488        input_1[0][0]                    \n",
            "__________________________________________________________________________________________________\n",
            "activation (Activation)         (None, 120, 120, 16, 0           conv3d[0][0]                     \n",
            "__________________________________________________________________________________________________\n",
            "activation_14 (Activation)      (None, 120, 120, 16, 0           conv3d_14[0][0]                  \n",
            "__________________________________________________________________________________________________\n",
            "conv3d_28 (Conv3D)              (None, 120, 120, 16, 3488        input_1[0][0]                    \n",
            "__________________________________________________________________________________________________\n",
            "conv3d_1 (Conv3D)               (None, 120, 120, 16, 55360       activation[0][0]                 \n",
            "__________________________________________________________________________________________________\n",
            "conv3d_15 (Conv3D)              (None, 120, 120, 16, 55360       activation_14[0][0]              \n",
            "__________________________________________________________________________________________________\n",
            "activation_28 (Activation)      (None, 120, 120, 16, 0           conv3d_28[0][0]                  \n",
            "__________________________________________________________________________________________________\n",
            "conv3d_42 (Conv3D)              (None, 120, 120, 16, 3488        input_1[0][0]                    \n",
            "__________________________________________________________________________________________________\n",
            "activation_1 (Activation)       (None, 120, 120, 16, 0           conv3d_1[0][0]                   \n",
            "__________________________________________________________________________________________________\n",
            "activation_15 (Activation)      (None, 120, 120, 16, 0           conv3d_15[0][0]                  \n",
            "__________________________________________________________________________________________________\n",
            "conv3d_29 (Conv3D)              (None, 120, 120, 16, 55360       activation_28[0][0]              \n",
            "__________________________________________________________________________________________________\n",
            "activation_42 (Activation)      (None, 120, 120, 16, 0           conv3d_42[0][0]                  \n",
            "__________________________________________________________________________________________________\n",
            "max_pooling3d (MaxPooling3D)    (None, 60, 60, 8, 64 0           activation_1[0][0]               \n",
            "__________________________________________________________________________________________________\n",
            "max_pooling3d_3 (MaxPooling3D)  (None, 60, 60, 8, 64 0           activation_15[0][0]              \n",
            "__________________________________________________________________________________________________\n",
            "activation_29 (Activation)      (None, 120, 120, 16, 0           conv3d_29[0][0]                  \n",
            "__________________________________________________________________________________________________\n",
            "conv3d_43 (Conv3D)              (None, 120, 120, 16, 55360       activation_42[0][0]              \n",
            "__________________________________________________________________________________________________\n",
            "conv3d_2 (Conv3D)               (None, 60, 60, 8, 64 110656      max_pooling3d[0][0]              \n",
            "__________________________________________________________________________________________________\n",
            "conv3d_16 (Conv3D)              (None, 60, 60, 8, 64 110656      max_pooling3d_3[0][0]            \n",
            "__________________________________________________________________________________________________\n",
            "max_pooling3d_6 (MaxPooling3D)  (None, 60, 60, 8, 64 0           activation_29[0][0]              \n",
            "__________________________________________________________________________________________________\n",
            "activation_43 (Activation)      (None, 120, 120, 16, 0           conv3d_43[0][0]                  \n",
            "__________________________________________________________________________________________________\n",
            "activation_2 (Activation)       (None, 60, 60, 8, 64 0           conv3d_2[0][0]                   \n",
            "__________________________________________________________________________________________________\n",
            "activation_16 (Activation)      (None, 60, 60, 8, 64 0           conv3d_16[0][0]                  \n",
            "__________________________________________________________________________________________________\n",
            "conv3d_30 (Conv3D)              (None, 60, 60, 8, 64 110656      max_pooling3d_6[0][0]            \n",
            "__________________________________________________________________________________________________\n",
            "max_pooling3d_9 (MaxPooling3D)  (None, 60, 60, 8, 64 0           activation_43[0][0]              \n",
            "__________________________________________________________________________________________________\n",
            "conv3d_3 (Conv3D)               (None, 60, 60, 8, 12 221312      activation_2[0][0]               \n",
            "__________________________________________________________________________________________________\n",
            "conv3d_17 (Conv3D)              (None, 60, 60, 8, 12 221312      activation_16[0][0]              \n",
            "__________________________________________________________________________________________________\n",
            "activation_30 (Activation)      (None, 60, 60, 8, 64 0           conv3d_30[0][0]                  \n",
            "__________________________________________________________________________________________________\n",
            "conv3d_44 (Conv3D)              (None, 60, 60, 8, 64 110656      max_pooling3d_9[0][0]            \n",
            "__________________________________________________________________________________________________\n",
            "activation_3 (Activation)       (None, 60, 60, 8, 12 0           conv3d_3[0][0]                   \n",
            "__________________________________________________________________________________________________\n",
            "activation_17 (Activation)      (None, 60, 60, 8, 12 0           conv3d_17[0][0]                  \n",
            "__________________________________________________________________________________________________\n",
            "conv3d_31 (Conv3D)              (None, 60, 60, 8, 12 221312      activation_30[0][0]              \n",
            "__________________________________________________________________________________________________\n",
            "activation_44 (Activation)      (None, 60, 60, 8, 64 0           conv3d_44[0][0]                  \n",
            "__________________________________________________________________________________________________\n",
            "max_pooling3d_1 (MaxPooling3D)  (None, 30, 30, 4, 12 0           activation_3[0][0]               \n",
            "__________________________________________________________________________________________________\n",
            "max_pooling3d_4 (MaxPooling3D)  (None, 30, 30, 4, 12 0           activation_17[0][0]              \n",
            "__________________________________________________________________________________________________\n",
            "activation_31 (Activation)      (None, 60, 60, 8, 12 0           conv3d_31[0][0]                  \n",
            "__________________________________________________________________________________________________\n",
            "conv3d_45 (Conv3D)              (None, 60, 60, 8, 12 221312      activation_44[0][0]              \n",
            "__________________________________________________________________________________________________\n",
            "conv3d_4 (Conv3D)               (None, 30, 30, 4, 12 442496      max_pooling3d_1[0][0]            \n",
            "__________________________________________________________________________________________________\n",
            "conv3d_18 (Conv3D)              (None, 30, 30, 4, 12 442496      max_pooling3d_4[0][0]            \n",
            "__________________________________________________________________________________________________\n",
            "max_pooling3d_7 (MaxPooling3D)  (None, 30, 30, 4, 12 0           activation_31[0][0]              \n",
            "__________________________________________________________________________________________________\n",
            "activation_45 (Activation)      (None, 60, 60, 8, 12 0           conv3d_45[0][0]                  \n",
            "__________________________________________________________________________________________________\n",
            "activation_4 (Activation)       (None, 30, 30, 4, 12 0           conv3d_4[0][0]                   \n",
            "__________________________________________________________________________________________________\n",
            "activation_18 (Activation)      (None, 30, 30, 4, 12 0           conv3d_18[0][0]                  \n",
            "__________________________________________________________________________________________________\n",
            "conv3d_32 (Conv3D)              (None, 30, 30, 4, 12 442496      max_pooling3d_7[0][0]            \n",
            "__________________________________________________________________________________________________\n",
            "max_pooling3d_10 (MaxPooling3D) (None, 30, 30, 4, 12 0           activation_45[0][0]              \n",
            "__________________________________________________________________________________________________\n",
            "conv3d_5 (Conv3D)               (None, 30, 30, 4, 25 884992      activation_4[0][0]               \n",
            "__________________________________________________________________________________________________\n",
            "conv3d_19 (Conv3D)              (None, 30, 30, 4, 25 884992      activation_18[0][0]              \n",
            "__________________________________________________________________________________________________\n",
            "activation_32 (Activation)      (None, 30, 30, 4, 12 0           conv3d_32[0][0]                  \n",
            "__________________________________________________________________________________________________\n",
            "conv3d_46 (Conv3D)              (None, 30, 30, 4, 12 442496      max_pooling3d_10[0][0]           \n",
            "__________________________________________________________________________________________________\n",
            "activation_5 (Activation)       (None, 30, 30, 4, 25 0           conv3d_5[0][0]                   \n",
            "__________________________________________________________________________________________________\n",
            "activation_19 (Activation)      (None, 30, 30, 4, 25 0           conv3d_19[0][0]                  \n",
            "__________________________________________________________________________________________________\n",
            "conv3d_33 (Conv3D)              (None, 30, 30, 4, 25 884992      activation_32[0][0]              \n",
            "__________________________________________________________________________________________________\n",
            "activation_46 (Activation)      (None, 30, 30, 4, 12 0           conv3d_46[0][0]                  \n",
            "__________________________________________________________________________________________________\n",
            "max_pooling3d_2 (MaxPooling3D)  (None, 15, 15, 2, 25 0           activation_5[0][0]               \n",
            "__________________________________________________________________________________________________\n",
            "max_pooling3d_5 (MaxPooling3D)  (None, 15, 15, 2, 25 0           activation_19[0][0]              \n",
            "__________________________________________________________________________________________________\n",
            "activation_33 (Activation)      (None, 30, 30, 4, 25 0           conv3d_33[0][0]                  \n",
            "__________________________________________________________________________________________________\n",
            "conv3d_47 (Conv3D)              (None, 30, 30, 4, 25 884992      activation_46[0][0]              \n",
            "__________________________________________________________________________________________________\n",
            "conv3d_6 (Conv3D)               (None, 15, 15, 2, 25 1769728     max_pooling3d_2[0][0]            \n",
            "__________________________________________________________________________________________________\n",
            "conv3d_20 (Conv3D)              (None, 15, 15, 2, 25 1769728     max_pooling3d_5[0][0]            \n",
            "__________________________________________________________________________________________________\n",
            "max_pooling3d_8 (MaxPooling3D)  (None, 15, 15, 2, 25 0           activation_33[0][0]              \n",
            "__________________________________________________________________________________________________\n",
            "activation_47 (Activation)      (None, 30, 30, 4, 25 0           conv3d_47[0][0]                  \n",
            "__________________________________________________________________________________________________\n",
            "activation_6 (Activation)       (None, 15, 15, 2, 25 0           conv3d_6[0][0]                   \n",
            "__________________________________________________________________________________________________\n",
            "activation_20 (Activation)      (None, 15, 15, 2, 25 0           conv3d_20[0][0]                  \n",
            "__________________________________________________________________________________________________\n",
            "conv3d_34 (Conv3D)              (None, 15, 15, 2, 25 1769728     max_pooling3d_8[0][0]            \n",
            "__________________________________________________________________________________________________\n",
            "max_pooling3d_11 (MaxPooling3D) (None, 15, 15, 2, 25 0           activation_47[0][0]              \n",
            "__________________________________________________________________________________________________\n",
            "conv3d_7 (Conv3D)               (None, 15, 15, 2, 51 3539456     activation_6[0][0]               \n",
            "__________________________________________________________________________________________________\n",
            "conv3d_21 (Conv3D)              (None, 15, 15, 2, 51 3539456     activation_20[0][0]              \n",
            "__________________________________________________________________________________________________\n",
            "activation_34 (Activation)      (None, 15, 15, 2, 25 0           conv3d_34[0][0]                  \n",
            "__________________________________________________________________________________________________\n",
            "conv3d_48 (Conv3D)              (None, 15, 15, 2, 25 1769728     max_pooling3d_11[0][0]           \n",
            "__________________________________________________________________________________________________\n",
            "activation_7 (Activation)       (None, 15, 15, 2, 51 0           conv3d_7[0][0]                   \n",
            "__________________________________________________________________________________________________\n",
            "activation_21 (Activation)      (None, 15, 15, 2, 51 0           conv3d_21[0][0]                  \n",
            "__________________________________________________________________________________________________\n",
            "conv3d_35 (Conv3D)              (None, 15, 15, 2, 51 3539456     activation_34[0][0]              \n",
            "__________________________________________________________________________________________________\n",
            "activation_48 (Activation)      (None, 15, 15, 2, 25 0           conv3d_48[0][0]                  \n",
            "__________________________________________________________________________________________________\n",
            "up_sampling3d (UpSampling3D)    (None, 30, 30, 4, 51 0           activation_7[0][0]               \n",
            "__________________________________________________________________________________________________\n",
            "up_sampling3d_3 (UpSampling3D)  (None, 30, 30, 4, 51 0           activation_21[0][0]              \n",
            "__________________________________________________________________________________________________\n",
            "activation_35 (Activation)      (None, 15, 15, 2, 51 0           conv3d_35[0][0]                  \n",
            "__________________________________________________________________________________________________\n",
            "conv3d_49 (Conv3D)              (None, 15, 15, 2, 51 3539456     activation_48[0][0]              \n",
            "__________________________________________________________________________________________________\n",
            "concatenate (Concatenate)       (None, 30, 30, 4, 76 0           up_sampling3d[0][0]              \n",
            "                                                                 activation_5[0][0]               \n",
            "__________________________________________________________________________________________________\n",
            "concatenate_3 (Concatenate)     (None, 30, 30, 4, 76 0           up_sampling3d_3[0][0]            \n",
            "                                                                 activation_19[0][0]              \n",
            "__________________________________________________________________________________________________\n",
            "up_sampling3d_6 (UpSampling3D)  (None, 30, 30, 4, 51 0           activation_35[0][0]              \n",
            "__________________________________________________________________________________________________\n",
            "activation_49 (Activation)      (None, 15, 15, 2, 51 0           conv3d_49[0][0]                  \n",
            "__________________________________________________________________________________________________\n",
            "conv3d_8 (Conv3D)               (None, 30, 30, 4, 30 622110      concatenate[0][0]                \n",
            "__________________________________________________________________________________________________\n",
            "conv3d_22 (Conv3D)              (None, 30, 30, 4, 30 622110      concatenate_3[0][0]              \n",
            "__________________________________________________________________________________________________\n",
            "concatenate_6 (Concatenate)     (None, 30, 30, 4, 76 0           up_sampling3d_6[0][0]            \n",
            "                                                                 activation_33[0][0]              \n",
            "__________________________________________________________________________________________________\n",
            "up_sampling3d_9 (UpSampling3D)  (None, 30, 30, 4, 51 0           activation_49[0][0]              \n",
            "__________________________________________________________________________________________________\n",
            "activation_8 (Activation)       (None, 30, 30, 4, 30 0           conv3d_8[0][0]                   \n",
            "__________________________________________________________________________________________________\n",
            "activation_22 (Activation)      (None, 30, 30, 4, 30 0           conv3d_22[0][0]                  \n",
            "__________________________________________________________________________________________________\n",
            "conv3d_36 (Conv3D)              (None, 30, 30, 4, 30 622110      concatenate_6[0][0]              \n",
            "__________________________________________________________________________________________________\n",
            "concatenate_9 (Concatenate)     (None, 30, 30, 4, 76 0           up_sampling3d_9[0][0]            \n",
            "                                                                 activation_47[0][0]              \n",
            "__________________________________________________________________________________________________\n",
            "conv3d_9 (Conv3D)               (None, 30, 30, 4, 30 24330       activation_8[0][0]               \n",
            "__________________________________________________________________________________________________\n",
            "conv3d_23 (Conv3D)              (None, 30, 30, 4, 30 24330       activation_22[0][0]              \n",
            "__________________________________________________________________________________________________\n",
            "activation_36 (Activation)      (None, 30, 30, 4, 30 0           conv3d_36[0][0]                  \n",
            "__________________________________________________________________________________________________\n",
            "conv3d_50 (Conv3D)              (None, 30, 30, 4, 30 622110      concatenate_9[0][0]              \n",
            "__________________________________________________________________________________________________\n",
            "activation_9 (Activation)       (None, 30, 30, 4, 30 0           conv3d_9[0][0]                   \n",
            "__________________________________________________________________________________________________\n",
            "activation_23 (Activation)      (None, 30, 30, 4, 30 0           conv3d_23[0][0]                  \n",
            "__________________________________________________________________________________________________\n",
            "conv3d_37 (Conv3D)              (None, 30, 30, 4, 30 24330       activation_36[0][0]              \n",
            "__________________________________________________________________________________________________\n",
            "activation_50 (Activation)      (None, 30, 30, 4, 30 0           conv3d_50[0][0]                  \n",
            "__________________________________________________________________________________________________\n",
            "up_sampling3d_1 (UpSampling3D)  (None, 60, 60, 8, 30 0           activation_9[0][0]               \n",
            "__________________________________________________________________________________________________\n",
            "up_sampling3d_4 (UpSampling3D)  (None, 60, 60, 8, 30 0           activation_23[0][0]              \n",
            "__________________________________________________________________________________________________\n",
            "activation_37 (Activation)      (None, 30, 30, 4, 30 0           conv3d_37[0][0]                  \n",
            "__________________________________________________________________________________________________\n",
            "conv3d_51 (Conv3D)              (None, 30, 30, 4, 30 24330       activation_50[0][0]              \n",
            "__________________________________________________________________________________________________\n",
            "concatenate_1 (Concatenate)     (None, 60, 60, 8, 15 0           up_sampling3d_1[0][0]            \n",
            "                                                                 activation_3[0][0]               \n",
            "__________________________________________________________________________________________________\n",
            "concatenate_4 (Concatenate)     (None, 60, 60, 8, 15 0           up_sampling3d_4[0][0]            \n",
            "                                                                 activation_17[0][0]              \n",
            "__________________________________________________________________________________________________\n",
            "up_sampling3d_7 (UpSampling3D)  (None, 60, 60, 8, 30 0           activation_37[0][0]              \n",
            "__________________________________________________________________________________________________\n",
            "activation_51 (Activation)      (None, 30, 30, 4, 30 0           conv3d_51[0][0]                  \n",
            "__________________________________________________________________________________________________\n",
            "conv3d_10 (Conv3D)              (None, 60, 60, 8, 60 256020      concatenate_1[0][0]              \n",
            "__________________________________________________________________________________________________\n",
            "conv3d_24 (Conv3D)              (None, 60, 60, 8, 60 256020      concatenate_4[0][0]              \n",
            "__________________________________________________________________________________________________\n",
            "concatenate_7 (Concatenate)     (None, 60, 60, 8, 15 0           up_sampling3d_7[0][0]            \n",
            "                                                                 activation_31[0][0]              \n",
            "__________________________________________________________________________________________________\n",
            "up_sampling3d_10 (UpSampling3D) (None, 60, 60, 8, 30 0           activation_51[0][0]              \n",
            "__________________________________________________________________________________________________\n",
            "activation_10 (Activation)      (None, 60, 60, 8, 60 0           conv3d_10[0][0]                  \n",
            "__________________________________________________________________________________________________\n",
            "activation_24 (Activation)      (None, 60, 60, 8, 60 0           conv3d_24[0][0]                  \n",
            "__________________________________________________________________________________________________\n",
            "conv3d_38 (Conv3D)              (None, 60, 60, 8, 60 256020      concatenate_7[0][0]              \n",
            "__________________________________________________________________________________________________\n",
            "concatenate_10 (Concatenate)    (None, 60, 60, 8, 15 0           up_sampling3d_10[0][0]           \n",
            "                                                                 activation_45[0][0]              \n",
            "__________________________________________________________________________________________________\n",
            "conv3d_11 (Conv3D)              (None, 60, 60, 8, 60 97260       activation_10[0][0]              \n",
            "__________________________________________________________________________________________________\n",
            "conv3d_25 (Conv3D)              (None, 60, 60, 8, 60 97260       activation_24[0][0]              \n",
            "__________________________________________________________________________________________________\n",
            "activation_38 (Activation)      (None, 60, 60, 8, 60 0           conv3d_38[0][0]                  \n",
            "__________________________________________________________________________________________________\n",
            "conv3d_52 (Conv3D)              (None, 60, 60, 8, 60 256020      concatenate_10[0][0]             \n",
            "__________________________________________________________________________________________________\n",
            "activation_11 (Activation)      (None, 60, 60, 8, 60 0           conv3d_11[0][0]                  \n",
            "__________________________________________________________________________________________________\n",
            "activation_25 (Activation)      (None, 60, 60, 8, 60 0           conv3d_25[0][0]                  \n",
            "__________________________________________________________________________________________________\n",
            "conv3d_39 (Conv3D)              (None, 60, 60, 8, 60 97260       activation_38[0][0]              \n",
            "__________________________________________________________________________________________________\n",
            "activation_52 (Activation)      (None, 60, 60, 8, 60 0           conv3d_52[0][0]                  \n",
            "__________________________________________________________________________________________________\n",
            "up_sampling3d_2 (UpSampling3D)  (None, 120, 120, 16, 0           activation_11[0][0]              \n",
            "__________________________________________________________________________________________________\n",
            "up_sampling3d_5 (UpSampling3D)  (None, 120, 120, 16, 0           activation_25[0][0]              \n",
            "__________________________________________________________________________________________________\n",
            "activation_39 (Activation)      (None, 60, 60, 8, 60 0           conv3d_39[0][0]                  \n",
            "__________________________________________________________________________________________________\n",
            "conv3d_53 (Conv3D)              (None, 60, 60, 8, 60 97260       activation_52[0][0]              \n",
            "__________________________________________________________________________________________________\n",
            "concatenate_2 (Concatenate)     (None, 120, 120, 16, 0           up_sampling3d_2[0][0]            \n",
            "                                                                 activation_1[0][0]               \n",
            "__________________________________________________________________________________________________\n",
            "concatenate_5 (Concatenate)     (None, 120, 120, 16, 0           up_sampling3d_5[0][0]            \n",
            "                                                                 activation_15[0][0]              \n",
            "__________________________________________________________________________________________________\n",
            "up_sampling3d_8 (UpSampling3D)  (None, 120, 120, 16, 0           activation_39[0][0]              \n",
            "__________________________________________________________________________________________________\n",
            "activation_53 (Activation)      (None, 60, 60, 8, 60 0           conv3d_53[0][0]                  \n",
            "__________________________________________________________________________________________________\n",
            "conv3d_12 (Conv3D)              (None, 120, 120, 16, 401880      concatenate_2[0][0]              \n",
            "__________________________________________________________________________________________________\n",
            "conv3d_26 (Conv3D)              (None, 120, 120, 16, 401880      concatenate_5[0][0]              \n",
            "__________________________________________________________________________________________________\n",
            "concatenate_8 (Concatenate)     (None, 120, 120, 16, 0           up_sampling3d_8[0][0]            \n",
            "                                                                 activation_29[0][0]              \n",
            "__________________________________________________________________________________________________\n",
            "up_sampling3d_11 (UpSampling3D) (None, 120, 120, 16, 0           activation_53[0][0]              \n",
            "__________________________________________________________________________________________________\n",
            "activation_12 (Activation)      (None, 120, 120, 16, 0           conv3d_12[0][0]                  \n",
            "__________________________________________________________________________________________________\n",
            "activation_26 (Activation)      (None, 120, 120, 16, 0           conv3d_26[0][0]                  \n",
            "__________________________________________________________________________________________________\n",
            "conv3d_40 (Conv3D)              (None, 120, 120, 16, 401880      concatenate_8[0][0]              \n",
            "__________________________________________________________________________________________________\n",
            "concatenate_11 (Concatenate)    (None, 120, 120, 16, 0           up_sampling3d_11[0][0]           \n",
            "                                                                 activation_43[0][0]              \n",
            "__________________________________________________________________________________________________\n",
            "conv3d_13 (Conv3D)              (None, 120, 120, 16, 388920      activation_12[0][0]              \n",
            "__________________________________________________________________________________________________\n",
            "conv3d_27 (Conv3D)              (None, 120, 120, 16, 388920      activation_26[0][0]              \n",
            "__________________________________________________________________________________________________\n",
            "activation_40 (Activation)      (None, 120, 120, 16, 0           conv3d_40[0][0]                  \n",
            "__________________________________________________________________________________________________\n",
            "conv3d_54 (Conv3D)              (None, 120, 120, 16, 401880      concatenate_11[0][0]             \n",
            "__________________________________________________________________________________________________\n",
            "activation_13 (Activation)      (None, 120, 120, 16, 0           conv3d_13[0][0]                  \n",
            "__________________________________________________________________________________________________\n",
            "activation_27 (Activation)      (None, 120, 120, 16, 0           conv3d_27[0][0]                  \n",
            "__________________________________________________________________________________________________\n",
            "conv3d_41 (Conv3D)              (None, 120, 120, 16, 388920      activation_40[0][0]              \n",
            "__________________________________________________________________________________________________\n",
            "activation_54 (Activation)      (None, 120, 120, 16, 0           conv3d_54[0][0]                  \n",
            "__________________________________________________________________________________________________\n",
            "concatenate_12 (Concatenate)    (None, 120, 120, 16, 0           activation_13[0][0]              \n",
            "                                                                 activation_27[0][0]              \n",
            "__________________________________________________________________________________________________\n",
            "activation_41 (Activation)      (None, 120, 120, 16, 0           conv3d_41[0][0]                  \n",
            "__________________________________________________________________________________________________\n",
            "conv3d_55 (Conv3D)              (None, 120, 120, 16, 388920      activation_54[0][0]              \n",
            "__________________________________________________________________________________________________\n",
            "concatenate_13 (Concatenate)    (None, 120, 120, 16, 0           concatenate_12[0][0]             \n",
            "                                                                 activation_41[0][0]              \n",
            "__________________________________________________________________________________________________\n",
            "activation_55 (Activation)      (None, 120, 120, 16, 0           conv3d_55[0][0]                  \n",
            "__________________________________________________________________________________________________\n",
            "concatenate_14 (Concatenate)    (None, 120, 120, 16, 0           concatenate_13[0][0]             \n",
            "                                                                 activation_55[0][0]              \n",
            "__________________________________________________________________________________________________\n",
            "conv3d_56 (Conv3D)              (None, 120, 120, 16, 1924        concatenate_14[0][0]             \n",
            "__________________________________________________________________________________________________\n",
            "activation_56 (Activation)      (None, 120, 120, 16, 0           conv3d_56[0][0]                  \n",
            "==================================================================================================\n",
            "Total params: 35,273,956\n",
            "Trainable params: 35,273,956\n",
            "Non-trainable params: 0\n",
            "__________________________________________________________________________________________________\n"
          ],
          "name": "stdout"
        }
      ]
    },
    {
      "cell_type": "code",
      "metadata": {
        "id": "NlHXi8yw0XHP",
        "colab_type": "code",
        "colab": {}
      },
      "source": [
        "import glob, os\n",
        "images_path = glob.glob('/content/drive/My Drive/BRATS2020/**/*.nii.gz', recursive=True)\n",
        "\n",
        "data_path = \"\"\n",
        "\n",
        "X_trainset_filenames = []\n",
        "y_trainset_filenames = []\n",
        "\n",
        "for item in images_path:\n",
        "  if 'seg' in item:\n",
        "    y_trainset_filenames.append(os.path.join(data_path, item))\n",
        "  else:\n",
        "    X_trainset_filenames.append(os.path.join(data_path, item))"
      ],
      "execution_count": 8,
      "outputs": []
    },
    {
      "cell_type": "code",
      "metadata": {
        "id": "fo-Cv1n-LFJH",
        "colab_type": "code",
        "colab": {
          "base_uri": "https://localhost:8080/",
          "height": 34
        },
        "outputId": "7e1aa05d-fa89-4319-8e2d-d83e09781c38"
      },
      "source": [
        "print(len(X_trainset_filenames))"
      ],
      "execution_count": 9,
      "outputs": [
        {
          "output_type": "stream",
          "text": [
            "1476\n"
          ],
          "name": "stdout"
        }
      ]
    },
    {
      "cell_type": "code",
      "metadata": {
        "id": "nLP9bVNpLVDE",
        "colab_type": "code",
        "colab": {
          "base_uri": "https://localhost:8080/",
          "height": 84
        },
        "outputId": "a41861f0-13e3-451b-a21c-0f3a74f2e178"
      },
      "source": [
        "for i in range (300, 304):\n",
        "  print(X_trainset_filenames[i])"
      ],
      "execution_count": 10,
      "outputs": [
        {
          "output_type": "stream",
          "text": [
            "/content/drive/My Drive/BRATS2020/MICCAI_BraTS2020_TrainingData/BraTS20_Training_085/BraTS20_Training_085_t1.nii.gz\n",
            "/content/drive/My Drive/BRATS2020/MICCAI_BraTS2020_TrainingData/BraTS20_Training_085/BraTS20_Training_085_flair.nii.gz\n",
            "/content/drive/My Drive/BRATS2020/MICCAI_BraTS2020_TrainingData/BraTS20_Training_085/BraTS20_Training_085_t1ce.nii.gz\n",
            "/content/drive/My Drive/BRATS2020/MICCAI_BraTS2020_TrainingData/BraTS20_Training_085/BraTS20_Training_085_t2.nii.gz\n"
          ],
          "name": "stdout"
        }
      ]
    },
    {
      "cell_type": "code",
      "metadata": {
        "id": "7sJXY3V2MpOK",
        "colab_type": "code",
        "colab": {}
      },
      "source": [
        "def load_case(image_nifty_file, label_nifty_file):\n",
        "\n",
        "\n",
        "    image_nifty_file \n",
        "    \n",
        "    # load the image and label file, get the image content and return a numpy array for each\n",
        "    image = np.zeros((240, 240, 155, 4))\n",
        "\n",
        "    img0 = np.array(nib.load(image_nifty_file[0]).get_fdata())\n",
        "    img1 = np.array(nib.load(image_nifty_file[1]).get_fdata())\n",
        "    img2 = np.array(nib.load(image_nifty_file[2]).get_fdata())\n",
        "    img3 = np.array(nib.load(image_nifty_file[3]).get_fdata())\n",
        "    \n",
        "    image[:, :, :, 0] = img0\n",
        "    image[:, :, :, 1] = img1\n",
        "    image[:, :, :, 2] = img2\n",
        "    image[:, :, :, 3] = img3\n",
        "      \n",
        "    label = np.array(nib.load(label_nifty_file).get_fdata())\n",
        "    \n",
        "    \n",
        "    return image, label"
      ],
      "execution_count": 11,
      "outputs": []
    },
    {
      "cell_type": "code",
      "metadata": {
        "id": "sDslppqvMAZ9",
        "colab_type": "code",
        "colab": {}
      },
      "source": [
        "def load_case_validation(image_nifty_file):\n",
        "\n",
        "\n",
        "    image_nifty_file \n",
        "    \n",
        "    # load the image and label file, get the image content and return a numpy array for each\n",
        "    image = np.zeros((240, 240, 155, 4))\n",
        "\n",
        "    img0 = np.array(nib.load(image_nifty_file[0]).get_fdata())\n",
        "    img1 = np.array(nib.load(image_nifty_file[1]).get_fdata())\n",
        "    img2 = np.array(nib.load(image_nifty_file[2]).get_fdata())\n",
        "    img3 = np.array(nib.load(image_nifty_file[3]).get_fdata())\n",
        "    \n",
        "    image[:, :, :, 0] = img0\n",
        "    image[:, :, :, 1] = img1\n",
        "    image[:, :, :, 2] = img2\n",
        "    image[:, :, :, 3] = img3\n",
        "      \n",
        "    # label = np.array(nib.load(label_nifty_file).get_fdata())\n",
        "    \n",
        "    \n",
        "    return image #, label"
      ],
      "execution_count": 12,
      "outputs": []
    },
    {
      "cell_type": "code",
      "metadata": {
        "id": "NO8ZyWuHUxmz",
        "colab_type": "code",
        "colab": {}
      },
      "source": [
        "def sort_by_channel(sample_path):\n",
        "\n",
        "  n = int(len(sample_path) / 4)\n",
        "  new_path = []\n",
        "  for i in range(n):\n",
        "    temp = sample_path[(i*4): (i+1)*4]\n",
        "    new_temp = []\n",
        "\n",
        "    ###############\n",
        "    for path in temp:\n",
        "      if '_t1.' in path:\n",
        "        new_temp.append(path)\n",
        "      else:\n",
        "        pass\n",
        "    for path in temp:\n",
        "      if '_t1ce.' in path:\n",
        "        new_temp.append(path)\n",
        "      else:\n",
        "        pass\n",
        "    for path in temp:\n",
        "      if '_t2.' in path:\n",
        "        new_temp.append(path)\n",
        "      else:\n",
        "        pass\n",
        "    for path in temp:\n",
        "      if '_flair.' in path:\n",
        "        new_temp.append(path)\n",
        "      else:\n",
        "        pass\n",
        "\n",
        "    ################    \n",
        "    for path in new_temp:\n",
        "      new_path.append(path)\n",
        "\n",
        "\n",
        "  return new_path"
      ],
      "execution_count": 13,
      "outputs": []
    },
    {
      "cell_type": "code",
      "metadata": {
        "id": "oLXNvH51Uzi4",
        "colab_type": "code",
        "colab": {}
      },
      "source": [
        "X_trainset_filenames_by_channels = sort_by_channel(X_trainset_filenames[432:436])"
      ],
      "execution_count": 14,
      "outputs": []
    },
    {
      "cell_type": "code",
      "metadata": {
        "id": "g1S5oeM4NAoX",
        "colab_type": "code",
        "colab": {}
      },
      "source": [
        "image , label = load_case(X_trainset_filenames_by_channels, y_trainset_filenames[108])\n",
        "# image = load_case_validation(X_trainset_filenames_by_channels)"
      ],
      "execution_count": 15,
      "outputs": []
    },
    {
      "cell_type": "code",
      "metadata": {
        "id": "UqR374bpT_kZ",
        "colab_type": "code",
        "colab": {
          "base_uri": "https://localhost:8080/",
          "height": 34
        },
        "outputId": "48d7664e-02e7-4f30-a329-5d83dc440da0"
      },
      "source": [
        "print(image.shape)\n",
        "# print(label.shape)"
      ],
      "execution_count": 16,
      "outputs": [
        {
          "output_type": "stream",
          "text": [
            "(240, 240, 155, 4)\n"
          ],
          "name": "stdout"
        }
      ]
    },
    {
      "cell_type": "code",
      "metadata": {
        "id": "knTTWkQrT1Q8",
        "colab_type": "code",
        "colab": {}
      },
      "source": [
        "def get_sub_volume(image, label):\n",
        "  \n",
        "  sub_volume_X = []\n",
        "  sub_volume_y = []\n",
        "  sub_volume_X_middle = []\n",
        "\n",
        "  for z in range(8, 147, 16):\n",
        "    \n",
        "    sub_middle_0 = image[60:180, :120, z::z+16, :]\n",
        "    sub_middle_1 = image[60:180, 120:, z::z+16, :] \n",
        "    for j in range (0, 240, 120):\n",
        "      for k in range(0, 240, 120):\n",
        "      \n",
        "\n",
        "        sub = image[ j:j+120, k:k+120, z:z+16, :]\n",
        "        sub_volume_X.append(sub)\n",
        "        sub = label[ j:j+120, k:k+120, z:z+16]\n",
        "        sub_volume_y.append(sub)\n",
        "    \n",
        "    sub_volume_X_middle.append(sub_middle_0)\n",
        "    sub_volume_X_middle.append(sub_middle_1)\n",
        "\n",
        "\n",
        "\n",
        "\n",
        "  return sub_volume_X, sub_volume_y, sub_volume_X_middle\n",
        "\n",
        "\n",
        "\n"
      ],
      "execution_count": 17,
      "outputs": []
    },
    {
      "cell_type": "code",
      "metadata": {
        "id": "y5ho77DpMXvN",
        "colab_type": "code",
        "colab": {}
      },
      "source": [
        "def get_sub_volume_validation(image, label):\n",
        "  \n",
        "  sub_volume_X = []\n",
        "  sub_volume_X_middle = []\n",
        "  sub_volume_y = []\n",
        "\n",
        "    \n",
        "  for z in range(8, 147, 16):\n",
        "\n",
        "    sub_middle_0 = image[:120, 60:180, z:z+16, :]\n",
        "    sub_middle_1 = image[120:, 60:180, z:z+16, :]       \n",
        "    for j in range(0, 240, 120):\n",
        "      for k in range(0, 240, 120):\n",
        "      \n",
        "        sub = image[ j:j+120, k:k+120, z:z+16, :]\n",
        "        sub_volume_X.append(sub)\n",
        "        sub = label[ j:j+120, k:k+120, z:z+16]\n",
        "        sub_volume_y.append(sub)\n",
        "    sub_volume_X_middle.append(sub_middle_0)\n",
        "    sub_volume_X_middle.append(sub_middle_1)\n",
        "\n",
        "\n",
        "\n",
        "  return sub_volume_X, sub_volume_X_middle , sub_volume_y\n",
        "\n",
        "\n",
        "\n"
      ],
      "execution_count": 18,
      "outputs": []
    },
    {
      "cell_type": "code",
      "metadata": {
        "id": "7gw2iTqbW7ur",
        "colab_type": "code",
        "colab": {}
      },
      "source": [
        "# X, y = get_sub_volume(image, label)\n",
        "X, X_middle, y = get_sub_volume_validation(image, label)"
      ],
      "execution_count": 19,
      "outputs": []
    },
    {
      "cell_type": "code",
      "metadata": {
        "id": "vHgwXCgVXH3y",
        "colab_type": "code",
        "colab": {
          "base_uri": "https://localhost:8080/",
          "height": 50
        },
        "outputId": "7a1c0952-1637-4b40-9c14-8ac83cdb1bfa"
      },
      "source": [
        "print(len(X))\n",
        "print(len(X_middle))\n",
        "# print(len(y))"
      ],
      "execution_count": 20,
      "outputs": [
        {
          "output_type": "stream",
          "text": [
            "36\n",
            "18\n"
          ],
          "name": "stdout"
        }
      ]
    },
    {
      "cell_type": "code",
      "metadata": {
        "id": "lVgqjfghXTZX",
        "colab_type": "code",
        "colab": {
          "base_uri": "https://localhost:8080/",
          "height": 50
        },
        "outputId": "11d7bcd4-c09b-4184-a65b-eeb6d5f38166"
      },
      "source": [
        "print(X[1].shape)\n",
        "print(X_middle[10].shape)\n",
        "# print(y[1].shape)"
      ],
      "execution_count": 21,
      "outputs": [
        {
          "output_type": "stream",
          "text": [
            "(120, 120, 16, 4)\n",
            "(120, 120, 16, 4)\n"
          ],
          "name": "stdout"
        }
      ]
    },
    {
      "cell_type": "code",
      "metadata": {
        "id": "VsRRJ9tUYvvH",
        "colab_type": "code",
        "colab": {
          "base_uri": "https://localhost:8080/",
          "height": 50
        },
        "outputId": "1d46eff1-7383-436a-82bd-b81cdcada976"
      },
      "source": [
        "from tqdm import tqdm\n",
        "\n",
        "y_pred = []\n",
        "\n",
        "for item in tqdm(X):\n",
        "  temp_0 = item.reshape((1, 120, 120, 16, 4))\n",
        "  temp = model.predict(temp_0)\n",
        "  y_pred.append(temp)\n",
        "\n",
        "y_pred_middle = []\n",
        "for item in tqdm(X_middle):\n",
        "  temp_0 = item.reshape((1, 120, 120, 16, 4))\n",
        "  temp = model.predict(temp_0)\n",
        "  y_pred_middle.append(temp)\n"
      ],
      "execution_count": 22,
      "outputs": [
        {
          "output_type": "stream",
          "text": [
            "100%|██████████| 36/36 [00:28<00:00,  1.27it/s]\n",
            "100%|██████████| 18/18 [00:10<00:00,  1.78it/s]\n"
          ],
          "name": "stderr"
        }
      ]
    },
    {
      "cell_type": "code",
      "metadata": {
        "id": "-iqdJDSzciQw",
        "colab_type": "code",
        "colab": {
          "base_uri": "https://localhost:8080/",
          "height": 34
        },
        "outputId": "e9199263-8d00-4c3d-f707-071252411055"
      },
      "source": [
        "y_pred_middle[0].shape"
      ],
      "execution_count": 23,
      "outputs": [
        {
          "output_type": "execute_result",
          "data": {
            "text/plain": [
              "(1, 120, 120, 16, 4)"
            ]
          },
          "metadata": {
            "tags": []
          },
          "execution_count": 23
        }
      ]
    },
    {
      "cell_type": "code",
      "metadata": {
        "id": "fBCERxAGczRE",
        "colab_type": "code",
        "colab": {}
      },
      "source": [
        "def get_whole_image(predict, predict_middle):\n",
        "  \n",
        "  prediction = np.zeros((240, 240, 155, 4))\n",
        "\n",
        "  counter = 0\n",
        "  counter_middle = 0\n",
        "  for z in range(8, 147, 16):  \n",
        "    for j in range (0, 240, 120):\n",
        "      for k in range(0, 240, 120):\n",
        "      \n",
        "        prediction[j:j+120, k:k+120, z:z+16, :] = predict[counter]\n",
        "        counter +=1\n",
        "\n",
        "    middle_temp_0 = np.reshape(predict_middle[counter_middle], (120, 120, 16, 4))\n",
        "    prediction[:120, 60:120, z:z+16, :] += middle_temp_0[:, :60, :, :]\n",
        "    prediction[:120, 120:180, z:z+16, :] += middle_temp_0[:, 60:, :, :]\n",
        "\n",
        "    middle_temp_1 = np.reshape(predict_middle[counter_middle+1], (120, 120, 16, 4))\n",
        "    prediction[120:, 60:120, z:z+16, :] += middle_temp_1[:, :60, :, :]\n",
        "    prediction[120:, 120:180, z:z+16, :] += middle_temp_1[:, 60:, :, :]\n",
        "    counter_middle += 2\n",
        "\n",
        "        \n",
        "\n",
        "\n",
        "\n",
        "  return prediction"
      ],
      "execution_count": 24,
      "outputs": []
    },
    {
      "cell_type": "code",
      "metadata": {
        "id": "f1H3V48jeZvu",
        "colab_type": "code",
        "colab": {
          "base_uri": "https://localhost:8080/",
          "height": 34
        },
        "outputId": "d897b176-634f-4d46-8eb8-e851752635e6"
      },
      "source": [
        "y = get_whole_image(y_pred, y_pred_middle)\n",
        "print(y.shape)"
      ],
      "execution_count": 25,
      "outputs": [
        {
          "output_type": "stream",
          "text": [
            "(240, 240, 155, 4)\n"
          ],
          "name": "stdout"
        }
      ]
    },
    {
      "cell_type": "code",
      "metadata": {
        "id": "3RJAOsr4c5v7",
        "colab_type": "code",
        "colab": {
          "base_uri": "https://localhost:8080/",
          "height": 373,
          "referenced_widgets": [
            "11df4894c0dd453f8a4dd5aedd2aa671",
            "724ac7063be64fd3a6912c8532b7fc90",
            "446d1adfce5c45828cc03ceda2564471",
            "a04b7b3d134443de9d5262f8db829b4b",
            "9021ea46d02142de8aa89524b9774002",
            "a28a6eb9476d467a90cfe8dbab82a41d",
            "56311d2973ef4d209a6643039638a02d"
          ]
        },
        "outputId": "4f0fe3b4-8bb3-4ed6-b434-18391fc1ca1b"
      },
      "source": [
        "from ipywidgets import interact\n",
        "\n",
        "def explore_3dimage(layer):\n",
        "    plt.figure(figsize=(10, 5))\n",
        "    channel = 3\n",
        "    plt.imshow(y[:, :, layer, :3]);\n",
        "    plt.title('Explore Layers of MR image', fontsize=20)\n",
        "    plt.axis('off')\n",
        "    return layer\n",
        "\n",
        "# Run the ipywidgets interact() function to explore the data\n",
        "interact(explore_3dimage, layer=(0, 16 - 1));"
      ],
      "execution_count": 30,
      "outputs": [
        {
          "output_type": "display_data",
          "data": {
            "application/vnd.jupyter.widget-view+json": {
              "model_id": "11df4894c0dd453f8a4dd5aedd2aa671",
              "version_minor": 0,
              "version_major": 2
            },
            "text/plain": [
              "interactive(children=(IntSlider(value=7, description='layer', max=15), Output()), _dom_classes=('widget-intera…"
            ]
          },
          "metadata": {
            "tags": []
          }
        }
      ]
    },
    {
      "cell_type": "code",
      "metadata": {
        "id": "nBLP8uNIOjSN",
        "colab_type": "code",
        "colab": {
          "base_uri": "https://localhost:8080/",
          "height": 373,
          "referenced_widgets": [
            "b738b4ea3ed0406ca5b354ffebe05071",
            "6f3feaa7a01046f79ecdd37c1b0d18ee",
            "def78416685240b8947159d6cfd8926e",
            "549905913b0e4098b60ef1bdebe66188",
            "27a35e119e474e4aa4ac04bb223d5d7d",
            "868621f82fab47ac8bada77a7ca825ef",
            "86f0f6555ccc4c57a941059ab600c1c0"
          ]
        },
        "outputId": "aa70d4d2-de75-4a74-e9b6-dfb058b8095e"
      },
      "source": [
        "from ipywidgets import interact\n",
        "\n",
        "def explore_3dimage(layer):\n",
        "    plt.figure(figsize=(10, 5))\n",
        "    channel = 3\n",
        "    plt.imshow(image[:, :, layer, 1]);\n",
        "    plt.title('Explore Layers of MR image', fontsize=20)\n",
        "    plt.axis('off')\n",
        "    return layer\n",
        "\n",
        "# Run the ipywidgets interact() function to explore the data\n",
        "interact(explore_3dimage, layer=(0, 155 - 1));"
      ],
      "execution_count": 31,
      "outputs": [
        {
          "output_type": "display_data",
          "data": {
            "application/vnd.jupyter.widget-view+json": {
              "model_id": "b738b4ea3ed0406ca5b354ffebe05071",
              "version_minor": 0,
              "version_major": 2
            },
            "text/plain": [
              "interactive(children=(IntSlider(value=77, description='layer', max=154), Output()), _dom_classes=('widget-inte…"
            ]
          },
          "metadata": {
            "tags": []
          }
        }
      ]
    },
    {
      "cell_type": "code",
      "metadata": {
        "id": "xvIUKZLQ-tB9",
        "colab_type": "code",
        "colab": {}
      },
      "source": [
        "# print(y.shape)\n",
        "# for i in range(240):\n",
        "#   for j in range(240):\n",
        "#     for k in range(155):\n",
        "#       if y[i, j, k, 0] != 0:\n",
        "#         print('yessss')"
      ],
      "execution_count": null,
      "outputs": []
    },
    {
      "cell_type": "code",
      "metadata": {
        "id": "O0k1mfNqLc3n",
        "colab_type": "code",
        "colab": {}
      },
      "source": [
        "# y[140:145, 140:145, 90, 0]"
      ],
      "execution_count": null,
      "outputs": []
    },
    {
      "cell_type": "code",
      "metadata": {
        "id": "m_OtHgsJMd6L",
        "colab_type": "code",
        "colab": {}
      },
      "source": [
        "# valid_y[140:145, 140:145, 90]"
      ],
      "execution_count": null,
      "outputs": []
    },
    {
      "cell_type": "code",
      "metadata": {
        "id": "OkrgB4DFH2Th",
        "colab_type": "code",
        "colab": {
          "base_uri": "https://localhost:8080/",
          "height": 373,
          "referenced_widgets": [
            "54d5d4ef793f4dc1b3b9d0e88399e862",
            "ff7d7f5908c041899a4a8e5726594408",
            "98f47910e6ed40959447a44a2e89a3b6",
            "0e15b521e26140559c249a54d9cf7bf3",
            "1bf9c31ae78941d5b8c5dd0cae3bc01b",
            "dd86415ed57944bdad2a3b5489d0af55",
            "2e6bc2d3308f49d4b4da999714eb0300"
          ]
        },
        "outputId": "20057765-55a9-46f9-abcc-fcc39eea195c"
      },
      "source": [
        "\n",
        "#####################################\n",
        "\n",
        "\n",
        "# valid_y = np.argmax(y, axis=-1)\n",
        "\n",
        "\n",
        "######################################\n",
        "valid_y = np.zeros((240, 240, 155))\n",
        "for i in range(240):\n",
        "  for j in range(240):\n",
        "    for k in range(155):\n",
        "      \n",
        "      if y[i, j, k, 3] > y[i, j, k, 2] and y[i, j, k, 3] > y[i, j, k, 1] and y[i, j, k, 3] > y[i, j, k, 0]:\n",
        "        valid_y[i, j, k] = 4.0\n",
        "      elif y[i, j, k, 2] > y[i, j, k, 3] and y[i, j, k, 2] > y[i, j, k, 1] and y[i, j, k, 2] > y[i, j, k, 0]:\n",
        "        valid_y[i, j, k] = 2.0\n",
        "      elif y[i, j, k, 1] > y[i, j, k, 2] and y[i, j, k, 1] > y[i, j, k, 3] and y[i, j, k, 1] > y[i, j, k, 0]:\n",
        "        valid_y[i, j, k] = 1.0\n",
        "      else:\n",
        "        valid_y[i, j, k] = 0.0\n",
        "#######################################\n",
        "\n",
        "\n",
        "from ipywidgets import interact\n",
        "\n",
        "def explore_3dimage(layer):\n",
        "    plt.figure(figsize=(10, 5))\n",
        "    channel = 3\n",
        "    # plt.imshow(y[:, :, layer, :]);\n",
        "    plt.imshow(valid_y[:, :, layer]);\n",
        "    plt.title('Explore Layers of Tumor prediction', fontsize=20)\n",
        "    plt.axis('off')\n",
        "    return layer\n",
        "\n",
        "# Run the ipywidgets interact() function to explore the data\n",
        "interact(explore_3dimage, layer=(0, 155 - 1));"
      ],
      "execution_count": 54,
      "outputs": [
        {
          "output_type": "display_data",
          "data": {
            "application/vnd.jupyter.widget-view+json": {
              "model_id": "54d5d4ef793f4dc1b3b9d0e88399e862",
              "version_minor": 0,
              "version_major": 2
            },
            "text/plain": [
              "interactive(children=(IntSlider(value=77, description='layer', max=154), Output()), _dom_classes=('widget-inte…"
            ]
          },
          "metadata": {
            "tags": []
          }
        }
      ]
    },
    {
      "cell_type": "code",
      "metadata": {
        "id": "5s4CP9Z_ePfT",
        "colab_type": "code",
        "colab": {}
      },
      "source": [
        "# import sys\n",
        "# np.set_printoptions(threshold=sys.maxsize)\n",
        "# print(valid_y[:, :, 66])"
      ],
      "execution_count": null,
      "outputs": []
    },
    {
      "cell_type": "code",
      "metadata": {
        "id": "-BDyJB_belyu",
        "colab_type": "code",
        "colab": {
          "base_uri": "https://localhost:8080/",
          "height": 34
        },
        "outputId": "bf6de4ae-0491-4feb-bd5b-3709fbc8c4d3"
      },
      "source": [
        "p = []\n",
        "for i in range(240):\n",
        "  for j in range(240):\n",
        "    for k in range(155):\n",
        "\n",
        "      if valid_y[i, j, k] not in p:\n",
        "        p.append(valid_y[i, j, k])\n",
        "print(p)"
      ],
      "execution_count": 55,
      "outputs": [
        {
          "output_type": "stream",
          "text": [
            "[4.0, 1.0, 2.0, 0.0]\n"
          ],
          "name": "stdout"
        }
      ]
    },
    {
      "cell_type": "code",
      "metadata": {
        "id": "-9Y65NLofVpO",
        "colab_type": "code",
        "colab": {
          "base_uri": "https://localhost:8080/",
          "height": 373,
          "referenced_widgets": [
            "60654d77f3bf4146ab078beacef2c501",
            "46e13e55abef4abfa98625fe9089dadd",
            "9868757941504bf59b2deb4e23e0ede1",
            "7bebdd5cb7d3430a875555c05baefdd1",
            "3bce809cffff4247970f791ccd71b119",
            "7c1c1eac584f4d0b8226089d72b270d0",
            "58bb7a32564545348dc10b18308d96b7"
          ]
        },
        "outputId": "b550340a-9956-44c9-e445-81bbcdcfc44c"
      },
      "source": [
        "from ipywidgets import interact\n",
        "\n",
        "def explore_3dimage(layer):\n",
        "    plt.figure(figsize=(10, 5))\n",
        "    channel = 3\n",
        "    plt.imshow(label[:, :, layer]);\n",
        "    plt.title('Explore Layers of Tumor ground truth', fontsize=20)\n",
        "    plt.axis('off')\n",
        "    return layer\n",
        "\n",
        "# Run the ipywidgets interact() function to explore the data\n",
        "interact(explore_3dimage, layer=(0, 155 - 1));"
      ],
      "execution_count": 29,
      "outputs": [
        {
          "output_type": "display_data",
          "data": {
            "application/vnd.jupyter.widget-view+json": {
              "model_id": "60654d77f3bf4146ab078beacef2c501",
              "version_minor": 0,
              "version_major": 2
            },
            "text/plain": [
              "interactive(children=(IntSlider(value=77, description='layer', max=154), Output()), _dom_classes=('widget-inte…"
            ]
          },
          "metadata": {
            "tags": []
          }
        }
      ]
    },
    {
      "cell_type": "code",
      "metadata": {
        "id": "BztSTFdp9VEq",
        "colab_type": "code",
        "colab": {}
      },
      "source": [
        ""
      ],
      "execution_count": null,
      "outputs": []
    }
  ]
}