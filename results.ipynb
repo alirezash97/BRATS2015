{
  "nbformat": 4,
  "nbformat_minor": 0,
  "metadata": {
    "colab": {
      "name": "results.ipynb",
      "provenance": [],
      "mount_file_id": "https://github.com/alirezash97/BRATS2015/blob/master/results.ipynb",
      "authorship_tag": "ABX9TyPDwwihFQlKxtHYDMzQzV2Z",
      "include_colab_link": true
    },
    "kernelspec": {
      "name": "python3",
      "display_name": "Python 3"
    },
    "widgets": {
      "application/vnd.jupyter.widget-state+json": {
        "d35dae78df5a488bba811e0847c2e04f": {
          "model_module": "@jupyter-widgets/controls",
          "model_name": "VBoxModel",
          "state": {
            "_view_name": "VBoxView",
            "_dom_classes": [
              "widget-interact"
            ],
            "_model_name": "VBoxModel",
            "_view_module": "@jupyter-widgets/controls",
            "_model_module_version": "1.5.0",
            "_view_count": null,
            "_view_module_version": "1.5.0",
            "box_style": "",
            "layout": "IPY_MODEL_d0ae7afd3b534ab1ae09429c0b959b61",
            "_model_module": "@jupyter-widgets/controls",
            "children": [
              "IPY_MODEL_274311dc703f485c88b40065230cbcb1",
              "IPY_MODEL_a58724e3ba4e405e9d93c5b9acd978d0"
            ]
          }
        },
        "d0ae7afd3b534ab1ae09429c0b959b61": {
          "model_module": "@jupyter-widgets/base",
          "model_name": "LayoutModel",
          "state": {
            "_view_name": "LayoutView",
            "grid_template_rows": null,
            "right": null,
            "justify_content": null,
            "_view_module": "@jupyter-widgets/base",
            "overflow": null,
            "_model_module_version": "1.2.0",
            "_view_count": null,
            "flex_flow": null,
            "width": null,
            "min_width": null,
            "border": null,
            "align_items": null,
            "bottom": null,
            "_model_module": "@jupyter-widgets/base",
            "top": null,
            "grid_column": null,
            "overflow_y": null,
            "overflow_x": null,
            "grid_auto_flow": null,
            "grid_area": null,
            "grid_template_columns": null,
            "flex": null,
            "_model_name": "LayoutModel",
            "justify_items": null,
            "grid_row": null,
            "max_height": null,
            "align_content": null,
            "visibility": null,
            "align_self": null,
            "height": null,
            "min_height": null,
            "padding": null,
            "grid_auto_rows": null,
            "grid_gap": null,
            "max_width": null,
            "order": null,
            "_view_module_version": "1.2.0",
            "grid_template_areas": null,
            "object_position": null,
            "object_fit": null,
            "grid_auto_columns": null,
            "margin": null,
            "display": null,
            "left": null
          }
        },
        "274311dc703f485c88b40065230cbcb1": {
          "model_module": "@jupyter-widgets/controls",
          "model_name": "IntSliderModel",
          "state": {
            "_view_name": "IntSliderView",
            "style": "IPY_MODEL_df62466228c741f4a6d8adc06462e727",
            "_dom_classes": [],
            "description": "layer",
            "step": 1,
            "_model_name": "IntSliderModel",
            "orientation": "horizontal",
            "max": 154,
            "_view_module": "@jupyter-widgets/controls",
            "_model_module_version": "1.5.0",
            "value": 77,
            "_view_count": null,
            "disabled": false,
            "_view_module_version": "1.5.0",
            "min": 0,
            "continuous_update": true,
            "readout_format": "d",
            "description_tooltip": null,
            "readout": true,
            "_model_module": "@jupyter-widgets/controls",
            "layout": "IPY_MODEL_0891c2b309914046881511369cfb327b"
          }
        },
        "a58724e3ba4e405e9d93c5b9acd978d0": {
          "model_module": "@jupyter-widgets/output",
          "model_name": "OutputModel",
          "state": {
            "_view_name": "OutputView",
            "msg_id": "",
            "_dom_classes": [],
            "_model_name": "OutputModel",
            "outputs": [
              {
                "output_type": "display_data",
                "metadata": {
                  "tags": [],
                  "needs_background": "light"
                },
                "image/png": "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\n",
                "text/plain": "<Figure size 720x360 with 1 Axes>"
              },
              {
                "output_type": "display_data",
                "metadata": {
                  "tags": []
                },
                "text/plain": "77"
              }
            ],
            "_view_module": "@jupyter-widgets/output",
            "_model_module_version": "1.0.0",
            "_view_count": null,
            "_view_module_version": "1.0.0",
            "layout": "IPY_MODEL_96cab325db0d4132ae351d08d17f4ac9",
            "_model_module": "@jupyter-widgets/output"
          }
        },
        "df62466228c741f4a6d8adc06462e727": {
          "model_module": "@jupyter-widgets/controls",
          "model_name": "SliderStyleModel",
          "state": {
            "_view_name": "StyleView",
            "handle_color": null,
            "_model_name": "SliderStyleModel",
            "description_width": "",
            "_view_module": "@jupyter-widgets/base",
            "_model_module_version": "1.5.0",
            "_view_count": null,
            "_view_module_version": "1.2.0",
            "_model_module": "@jupyter-widgets/controls"
          }
        },
        "0891c2b309914046881511369cfb327b": {
          "model_module": "@jupyter-widgets/base",
          "model_name": "LayoutModel",
          "state": {
            "_view_name": "LayoutView",
            "grid_template_rows": null,
            "right": null,
            "justify_content": null,
            "_view_module": "@jupyter-widgets/base",
            "overflow": null,
            "_model_module_version": "1.2.0",
            "_view_count": null,
            "flex_flow": null,
            "width": null,
            "min_width": null,
            "border": null,
            "align_items": null,
            "bottom": null,
            "_model_module": "@jupyter-widgets/base",
            "top": null,
            "grid_column": null,
            "overflow_y": null,
            "overflow_x": null,
            "grid_auto_flow": null,
            "grid_area": null,
            "grid_template_columns": null,
            "flex": null,
            "_model_name": "LayoutModel",
            "justify_items": null,
            "grid_row": null,
            "max_height": null,
            "align_content": null,
            "visibility": null,
            "align_self": null,
            "height": null,
            "min_height": null,
            "padding": null,
            "grid_auto_rows": null,
            "grid_gap": null,
            "max_width": null,
            "order": null,
            "_view_module_version": "1.2.0",
            "grid_template_areas": null,
            "object_position": null,
            "object_fit": null,
            "grid_auto_columns": null,
            "margin": null,
            "display": null,
            "left": null
          }
        },
        "96cab325db0d4132ae351d08d17f4ac9": {
          "model_module": "@jupyter-widgets/base",
          "model_name": "LayoutModel",
          "state": {
            "_view_name": "LayoutView",
            "grid_template_rows": null,
            "right": null,
            "justify_content": null,
            "_view_module": "@jupyter-widgets/base",
            "overflow": null,
            "_model_module_version": "1.2.0",
            "_view_count": null,
            "flex_flow": null,
            "width": null,
            "min_width": null,
            "border": null,
            "align_items": null,
            "bottom": null,
            "_model_module": "@jupyter-widgets/base",
            "top": null,
            "grid_column": null,
            "overflow_y": null,
            "overflow_x": null,
            "grid_auto_flow": null,
            "grid_area": null,
            "grid_template_columns": null,
            "flex": null,
            "_model_name": "LayoutModel",
            "justify_items": null,
            "grid_row": null,
            "max_height": null,
            "align_content": null,
            "visibility": null,
            "align_self": null,
            "height": null,
            "min_height": null,
            "padding": null,
            "grid_auto_rows": null,
            "grid_gap": null,
            "max_width": null,
            "order": null,
            "_view_module_version": "1.2.0",
            "grid_template_areas": null,
            "object_position": null,
            "object_fit": null,
            "grid_auto_columns": null,
            "margin": null,
            "display": null,
            "left": null
          }
        },
        "ef465691591e4f2ebad03c8683a90635": {
          "model_module": "@jupyter-widgets/controls",
          "model_name": "VBoxModel",
          "state": {
            "_view_name": "VBoxView",
            "_dom_classes": [
              "widget-interact"
            ],
            "_model_name": "VBoxModel",
            "_view_module": "@jupyter-widgets/controls",
            "_model_module_version": "1.5.0",
            "_view_count": null,
            "_view_module_version": "1.5.0",
            "box_style": "",
            "layout": "IPY_MODEL_8c78260e9f704fd0aa6606960c1c92aa",
            "_model_module": "@jupyter-widgets/controls",
            "children": [
              "IPY_MODEL_52b5790dcfbe41d599f403d4f9a3a07d",
              "IPY_MODEL_d8acd4bbc2194367a7b8131c0c2be358"
            ]
          }
        },
        "8c78260e9f704fd0aa6606960c1c92aa": {
          "model_module": "@jupyter-widgets/base",
          "model_name": "LayoutModel",
          "state": {
            "_view_name": "LayoutView",
            "grid_template_rows": null,
            "right": null,
            "justify_content": null,
            "_view_module": "@jupyter-widgets/base",
            "overflow": null,
            "_model_module_version": "1.2.0",
            "_view_count": null,
            "flex_flow": null,
            "width": null,
            "min_width": null,
            "border": null,
            "align_items": null,
            "bottom": null,
            "_model_module": "@jupyter-widgets/base",
            "top": null,
            "grid_column": null,
            "overflow_y": null,
            "overflow_x": null,
            "grid_auto_flow": null,
            "grid_area": null,
            "grid_template_columns": null,
            "flex": null,
            "_model_name": "LayoutModel",
            "justify_items": null,
            "grid_row": null,
            "max_height": null,
            "align_content": null,
            "visibility": null,
            "align_self": null,
            "height": null,
            "min_height": null,
            "padding": null,
            "grid_auto_rows": null,
            "grid_gap": null,
            "max_width": null,
            "order": null,
            "_view_module_version": "1.2.0",
            "grid_template_areas": null,
            "object_position": null,
            "object_fit": null,
            "grid_auto_columns": null,
            "margin": null,
            "display": null,
            "left": null
          }
        },
        "52b5790dcfbe41d599f403d4f9a3a07d": {
          "model_module": "@jupyter-widgets/controls",
          "model_name": "IntSliderModel",
          "state": {
            "_view_name": "IntSliderView",
            "style": "IPY_MODEL_e663d0c538cf4a40a6e1ae12413c24a1",
            "_dom_classes": [],
            "description": "layer",
            "step": 1,
            "_model_name": "IntSliderModel",
            "orientation": "horizontal",
            "max": 154,
            "_view_module": "@jupyter-widgets/controls",
            "_model_module_version": "1.5.0",
            "value": 77,
            "_view_count": null,
            "disabled": false,
            "_view_module_version": "1.5.0",
            "min": 0,
            "continuous_update": true,
            "readout_format": "d",
            "description_tooltip": null,
            "readout": true,
            "_model_module": "@jupyter-widgets/controls",
            "layout": "IPY_MODEL_b997569a1f474e4ea9c5821759707e06"
          }
        },
        "d8acd4bbc2194367a7b8131c0c2be358": {
          "model_module": "@jupyter-widgets/output",
          "model_name": "OutputModel",
          "state": {
            "_view_name": "OutputView",
            "msg_id": "",
            "_dom_classes": [],
            "_model_name": "OutputModel",
            "outputs": [
              {
                "output_type": "display_data",
                "metadata": {
                  "tags": [],
                  "needs_background": "light"
                },
                "image/png": "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\n",
                "text/plain": "<Figure size 720x360 with 1 Axes>"
              },
              {
                "output_type": "display_data",
                "metadata": {
                  "tags": []
                },
                "text/plain": "77"
              }
            ],
            "_view_module": "@jupyter-widgets/output",
            "_model_module_version": "1.0.0",
            "_view_count": null,
            "_view_module_version": "1.0.0",
            "layout": "IPY_MODEL_9c59f66e572340f6a0121f18d2b3a1b9",
            "_model_module": "@jupyter-widgets/output"
          }
        },
        "e663d0c538cf4a40a6e1ae12413c24a1": {
          "model_module": "@jupyter-widgets/controls",
          "model_name": "SliderStyleModel",
          "state": {
            "_view_name": "StyleView",
            "handle_color": null,
            "_model_name": "SliderStyleModel",
            "description_width": "",
            "_view_module": "@jupyter-widgets/base",
            "_model_module_version": "1.5.0",
            "_view_count": null,
            "_view_module_version": "1.2.0",
            "_model_module": "@jupyter-widgets/controls"
          }
        },
        "b997569a1f474e4ea9c5821759707e06": {
          "model_module": "@jupyter-widgets/base",
          "model_name": "LayoutModel",
          "state": {
            "_view_name": "LayoutView",
            "grid_template_rows": null,
            "right": null,
            "justify_content": null,
            "_view_module": "@jupyter-widgets/base",
            "overflow": null,
            "_model_module_version": "1.2.0",
            "_view_count": null,
            "flex_flow": null,
            "width": null,
            "min_width": null,
            "border": null,
            "align_items": null,
            "bottom": null,
            "_model_module": "@jupyter-widgets/base",
            "top": null,
            "grid_column": null,
            "overflow_y": null,
            "overflow_x": null,
            "grid_auto_flow": null,
            "grid_area": null,
            "grid_template_columns": null,
            "flex": null,
            "_model_name": "LayoutModel",
            "justify_items": null,
            "grid_row": null,
            "max_height": null,
            "align_content": null,
            "visibility": null,
            "align_self": null,
            "height": null,
            "min_height": null,
            "padding": null,
            "grid_auto_rows": null,
            "grid_gap": null,
            "max_width": null,
            "order": null,
            "_view_module_version": "1.2.0",
            "grid_template_areas": null,
            "object_position": null,
            "object_fit": null,
            "grid_auto_columns": null,
            "margin": null,
            "display": null,
            "left": null
          }
        },
        "9c59f66e572340f6a0121f18d2b3a1b9": {
          "model_module": "@jupyter-widgets/base",
          "model_name": "LayoutModel",
          "state": {
            "_view_name": "LayoutView",
            "grid_template_rows": null,
            "right": null,
            "justify_content": null,
            "_view_module": "@jupyter-widgets/base",
            "overflow": null,
            "_model_module_version": "1.2.0",
            "_view_count": null,
            "flex_flow": null,
            "width": null,
            "min_width": null,
            "border": null,
            "align_items": null,
            "bottom": null,
            "_model_module": "@jupyter-widgets/base",
            "top": null,
            "grid_column": null,
            "overflow_y": null,
            "overflow_x": null,
            "grid_auto_flow": null,
            "grid_area": null,
            "grid_template_columns": null,
            "flex": null,
            "_model_name": "LayoutModel",
            "justify_items": null,
            "grid_row": null,
            "max_height": null,
            "align_content": null,
            "visibility": null,
            "align_self": null,
            "height": null,
            "min_height": null,
            "padding": null,
            "grid_auto_rows": null,
            "grid_gap": null,
            "max_width": null,
            "order": null,
            "_view_module_version": "1.2.0",
            "grid_template_areas": null,
            "object_position": null,
            "object_fit": null,
            "grid_auto_columns": null,
            "margin": null,
            "display": null,
            "left": null
          }
        }
      }
    }
  },
  "cells": [
    {
      "cell_type": "markdown",
      "metadata": {
        "id": "view-in-github",
        "colab_type": "text"
      },
      "source": [
        "<a href=\"https://colab.research.google.com/github/alirezash97/BRATS2015/blob/master/results.ipynb\" target=\"_parent\"><img src=\"https://colab.research.google.com/assets/colab-badge.svg\" alt=\"Open In Colab\"/></a>"
      ]
    },
    {
      "cell_type": "code",
      "metadata": {
        "id": "UI48aQ_0NF7R",
        "colab_type": "code",
        "colab": {
          "base_uri": "https://localhost:8080/",
          "height": 34
        },
        "outputId": "a0b27741-28fa-4938-ae6d-cbcd76b1e60b"
      },
      "source": [
        "\n",
        "import os\n",
        "import numpy as np\n",
        "from nibabel.testing import data_path\n",
        "import nibabel as nib\n",
        "import matplotlib.pyplot as plt\n",
        "from keras.utils import to_categorical\n",
        "import cv2\n",
        "import keras \n",
        "import random"
      ],
      "execution_count": 1,
      "outputs": [
        {
          "output_type": "stream",
          "text": [
            "Using TensorFlow backend.\n"
          ],
          "name": "stderr"
        }
      ]
    },
    {
      "cell_type": "code",
      "metadata": {
        "id": "_CNCXiRMzhVZ",
        "colab_type": "code",
        "colab": {}
      },
      "source": [
        "from keras import backend as K\n",
        "\n",
        "def soft_dice_loss(y_true, y_pred, axis=(1, 2, 3), \n",
        "                   epsilon=0.00001):\n",
        "  \n",
        "    dice_numerator = 2. * K.sum(y_true * y_pred, axis=axis) + epsilon\n",
        "    dice_denominator = K.sum(y_true**2, axis=axis) + K.sum(y_pred**2, axis=axis) + epsilon\n",
        "    dice_loss = 1 - K.mean((dice_numerator)/(dice_denominator))\n",
        "\n",
        "\n",
        "    return dice_loss\n",
        "\n",
        "\n",
        "def dice_coefficient(y_true, y_pred, axis=(1, 2, 3), \n",
        "                     epsilon=0.00001):\n",
        "\n",
        "    dice_numerator = 2. * K.sum(y_true * y_pred, axis=axis) + epsilon\n",
        "    dice_denominator = K.sum(y_true, axis=axis) + K.sum(y_pred, axis=axis) + epsilon\n",
        "    dice_coefficient = K.mean((dice_numerator)/(dice_denominator))\n",
        "    \n",
        " \n",
        "    return dice_coefficient"
      ],
      "execution_count": 2,
      "outputs": []
    },
    {
      "cell_type": "code",
      "metadata": {
        "id": "HPMPEJPry_Ih",
        "colab_type": "code",
        "colab": {
          "base_uri": "https://localhost:8080/",
          "height": 1000
        },
        "outputId": "48186ab1-eaae-4fa3-d31e-6b22117430c8"
      },
      "source": [
        "\n",
        "# load and evaluate a saved model\n",
        "from numpy import loadtxt\n",
        "from keras.models import load_model\n",
        " \n",
        "# load model\n",
        "model = load_model('/content/drive/My Drive/BRATS2020/FlowerModel.01-0.23.h5', custom_objects={'soft_dice_loss':soft_dice_loss, 'dice_coefficient':dice_coefficient})\n",
        "# summarize model.\n",
        "model.summary()\n",
        "# load dataset"
      ],
      "execution_count": 3,
      "outputs": [
        {
          "output_type": "stream",
          "text": [
            "Model: \"model_2\"\n",
            "__________________________________________________________________________________________________\n",
            "Layer (type)                    Output Shape         Param #     Connected to                     \n",
            "==================================================================================================\n",
            "input_2 (InputLayer)            (None, 80, 80, 16, 4 0                                            \n",
            "__________________________________________________________________________________________________\n",
            "conv3d_58 (Conv3D)              (None, 80, 80, 16, 3 3488        input_2[0][0]                    \n",
            "__________________________________________________________________________________________________\n",
            "conv3d_72 (Conv3D)              (None, 80, 80, 16, 3 3488        input_2[0][0]                    \n",
            "__________________________________________________________________________________________________\n",
            "activation_58 (Activation)      (None, 80, 80, 16, 3 0           conv3d_58[0][0]                  \n",
            "__________________________________________________________________________________________________\n",
            "activation_72 (Activation)      (None, 80, 80, 16, 3 0           conv3d_72[0][0]                  \n",
            "__________________________________________________________________________________________________\n",
            "conv3d_86 (Conv3D)              (None, 80, 80, 16, 3 3488        input_2[0][0]                    \n",
            "__________________________________________________________________________________________________\n",
            "conv3d_59 (Conv3D)              (None, 80, 80, 16, 6 55360       activation_58[0][0]              \n",
            "__________________________________________________________________________________________________\n",
            "conv3d_73 (Conv3D)              (None, 80, 80, 16, 6 55360       activation_72[0][0]              \n",
            "__________________________________________________________________________________________________\n",
            "activation_86 (Activation)      (None, 80, 80, 16, 3 0           conv3d_86[0][0]                  \n",
            "__________________________________________________________________________________________________\n",
            "conv3d_100 (Conv3D)             (None, 80, 80, 16, 3 3488        input_2[0][0]                    \n",
            "__________________________________________________________________________________________________\n",
            "activation_59 (Activation)      (None, 80, 80, 16, 6 0           conv3d_59[0][0]                  \n",
            "__________________________________________________________________________________________________\n",
            "activation_73 (Activation)      (None, 80, 80, 16, 6 0           conv3d_73[0][0]                  \n",
            "__________________________________________________________________________________________________\n",
            "conv3d_87 (Conv3D)              (None, 80, 80, 16, 6 55360       activation_86[0][0]              \n",
            "__________________________________________________________________________________________________\n",
            "activation_100 (Activation)     (None, 80, 80, 16, 3 0           conv3d_100[0][0]                 \n",
            "__________________________________________________________________________________________________\n",
            "max_pooling3d_13 (MaxPooling3D) (None, 40, 40, 8, 64 0           activation_59[0][0]              \n",
            "__________________________________________________________________________________________________\n",
            "max_pooling3d_16 (MaxPooling3D) (None, 40, 40, 8, 64 0           activation_73[0][0]              \n",
            "__________________________________________________________________________________________________\n",
            "activation_87 (Activation)      (None, 80, 80, 16, 6 0           conv3d_87[0][0]                  \n",
            "__________________________________________________________________________________________________\n",
            "conv3d_101 (Conv3D)             (None, 80, 80, 16, 6 55360       activation_100[0][0]             \n",
            "__________________________________________________________________________________________________\n",
            "conv3d_60 (Conv3D)              (None, 40, 40, 8, 64 110656      max_pooling3d_13[0][0]           \n",
            "__________________________________________________________________________________________________\n",
            "conv3d_74 (Conv3D)              (None, 40, 40, 8, 64 110656      max_pooling3d_16[0][0]           \n",
            "__________________________________________________________________________________________________\n",
            "max_pooling3d_19 (MaxPooling3D) (None, 40, 40, 8, 64 0           activation_87[0][0]              \n",
            "__________________________________________________________________________________________________\n",
            "activation_101 (Activation)     (None, 80, 80, 16, 6 0           conv3d_101[0][0]                 \n",
            "__________________________________________________________________________________________________\n",
            "activation_60 (Activation)      (None, 40, 40, 8, 64 0           conv3d_60[0][0]                  \n",
            "__________________________________________________________________________________________________\n",
            "activation_74 (Activation)      (None, 40, 40, 8, 64 0           conv3d_74[0][0]                  \n",
            "__________________________________________________________________________________________________\n",
            "conv3d_88 (Conv3D)              (None, 40, 40, 8, 64 110656      max_pooling3d_19[0][0]           \n",
            "__________________________________________________________________________________________________\n",
            "max_pooling3d_22 (MaxPooling3D) (None, 40, 40, 8, 64 0           activation_101[0][0]             \n",
            "__________________________________________________________________________________________________\n",
            "conv3d_61 (Conv3D)              (None, 40, 40, 8, 12 221312      activation_60[0][0]              \n",
            "__________________________________________________________________________________________________\n",
            "conv3d_75 (Conv3D)              (None, 40, 40, 8, 12 221312      activation_74[0][0]              \n",
            "__________________________________________________________________________________________________\n",
            "activation_88 (Activation)      (None, 40, 40, 8, 64 0           conv3d_88[0][0]                  \n",
            "__________________________________________________________________________________________________\n",
            "conv3d_102 (Conv3D)             (None, 40, 40, 8, 64 110656      max_pooling3d_22[0][0]           \n",
            "__________________________________________________________________________________________________\n",
            "activation_61 (Activation)      (None, 40, 40, 8, 12 0           conv3d_61[0][0]                  \n",
            "__________________________________________________________________________________________________\n",
            "activation_75 (Activation)      (None, 40, 40, 8, 12 0           conv3d_75[0][0]                  \n",
            "__________________________________________________________________________________________________\n",
            "conv3d_89 (Conv3D)              (None, 40, 40, 8, 12 221312      activation_88[0][0]              \n",
            "__________________________________________________________________________________________________\n",
            "activation_102 (Activation)     (None, 40, 40, 8, 64 0           conv3d_102[0][0]                 \n",
            "__________________________________________________________________________________________________\n",
            "max_pooling3d_14 (MaxPooling3D) (None, 20, 20, 4, 12 0           activation_61[0][0]              \n",
            "__________________________________________________________________________________________________\n",
            "max_pooling3d_17 (MaxPooling3D) (None, 20, 20, 4, 12 0           activation_75[0][0]              \n",
            "__________________________________________________________________________________________________\n",
            "activation_89 (Activation)      (None, 40, 40, 8, 12 0           conv3d_89[0][0]                  \n",
            "__________________________________________________________________________________________________\n",
            "conv3d_103 (Conv3D)             (None, 40, 40, 8, 12 221312      activation_102[0][0]             \n",
            "__________________________________________________________________________________________________\n",
            "conv3d_62 (Conv3D)              (None, 20, 20, 4, 12 442496      max_pooling3d_14[0][0]           \n",
            "__________________________________________________________________________________________________\n",
            "conv3d_76 (Conv3D)              (None, 20, 20, 4, 12 442496      max_pooling3d_17[0][0]           \n",
            "__________________________________________________________________________________________________\n",
            "max_pooling3d_20 (MaxPooling3D) (None, 20, 20, 4, 12 0           activation_89[0][0]              \n",
            "__________________________________________________________________________________________________\n",
            "activation_103 (Activation)     (None, 40, 40, 8, 12 0           conv3d_103[0][0]                 \n",
            "__________________________________________________________________________________________________\n",
            "activation_62 (Activation)      (None, 20, 20, 4, 12 0           conv3d_62[0][0]                  \n",
            "__________________________________________________________________________________________________\n",
            "activation_76 (Activation)      (None, 20, 20, 4, 12 0           conv3d_76[0][0]                  \n",
            "__________________________________________________________________________________________________\n",
            "conv3d_90 (Conv3D)              (None, 20, 20, 4, 12 442496      max_pooling3d_20[0][0]           \n",
            "__________________________________________________________________________________________________\n",
            "max_pooling3d_23 (MaxPooling3D) (None, 20, 20, 4, 12 0           activation_103[0][0]             \n",
            "__________________________________________________________________________________________________\n",
            "conv3d_63 (Conv3D)              (None, 20, 20, 4, 25 884992      activation_62[0][0]              \n",
            "__________________________________________________________________________________________________\n",
            "conv3d_77 (Conv3D)              (None, 20, 20, 4, 25 884992      activation_76[0][0]              \n",
            "__________________________________________________________________________________________________\n",
            "activation_90 (Activation)      (None, 20, 20, 4, 12 0           conv3d_90[0][0]                  \n",
            "__________________________________________________________________________________________________\n",
            "conv3d_104 (Conv3D)             (None, 20, 20, 4, 12 442496      max_pooling3d_23[0][0]           \n",
            "__________________________________________________________________________________________________\n",
            "activation_63 (Activation)      (None, 20, 20, 4, 25 0           conv3d_63[0][0]                  \n",
            "__________________________________________________________________________________________________\n",
            "activation_77 (Activation)      (None, 20, 20, 4, 25 0           conv3d_77[0][0]                  \n",
            "__________________________________________________________________________________________________\n",
            "conv3d_91 (Conv3D)              (None, 20, 20, 4, 25 884992      activation_90[0][0]              \n",
            "__________________________________________________________________________________________________\n",
            "activation_104 (Activation)     (None, 20, 20, 4, 12 0           conv3d_104[0][0]                 \n",
            "__________________________________________________________________________________________________\n",
            "max_pooling3d_15 (MaxPooling3D) (None, 10, 10, 2, 25 0           activation_63[0][0]              \n",
            "__________________________________________________________________________________________________\n",
            "max_pooling3d_18 (MaxPooling3D) (None, 10, 10, 2, 25 0           activation_77[0][0]              \n",
            "__________________________________________________________________________________________________\n",
            "activation_91 (Activation)      (None, 20, 20, 4, 25 0           conv3d_91[0][0]                  \n",
            "__________________________________________________________________________________________________\n",
            "conv3d_105 (Conv3D)             (None, 20, 20, 4, 25 884992      activation_104[0][0]             \n",
            "__________________________________________________________________________________________________\n",
            "conv3d_64 (Conv3D)              (None, 10, 10, 2, 25 1769728     max_pooling3d_15[0][0]           \n",
            "__________________________________________________________________________________________________\n",
            "conv3d_78 (Conv3D)              (None, 10, 10, 2, 25 1769728     max_pooling3d_18[0][0]           \n",
            "__________________________________________________________________________________________________\n",
            "max_pooling3d_21 (MaxPooling3D) (None, 10, 10, 2, 25 0           activation_91[0][0]              \n",
            "__________________________________________________________________________________________________\n",
            "activation_105 (Activation)     (None, 20, 20, 4, 25 0           conv3d_105[0][0]                 \n",
            "__________________________________________________________________________________________________\n",
            "activation_64 (Activation)      (None, 10, 10, 2, 25 0           conv3d_64[0][0]                  \n",
            "__________________________________________________________________________________________________\n",
            "activation_78 (Activation)      (None, 10, 10, 2, 25 0           conv3d_78[0][0]                  \n",
            "__________________________________________________________________________________________________\n",
            "conv3d_92 (Conv3D)              (None, 10, 10, 2, 25 1769728     max_pooling3d_21[0][0]           \n",
            "__________________________________________________________________________________________________\n",
            "max_pooling3d_24 (MaxPooling3D) (None, 10, 10, 2, 25 0           activation_105[0][0]             \n",
            "__________________________________________________________________________________________________\n",
            "conv3d_65 (Conv3D)              (None, 10, 10, 2, 51 3539456     activation_64[0][0]              \n",
            "__________________________________________________________________________________________________\n",
            "conv3d_79 (Conv3D)              (None, 10, 10, 2, 51 3539456     activation_78[0][0]              \n",
            "__________________________________________________________________________________________________\n",
            "activation_92 (Activation)      (None, 10, 10, 2, 25 0           conv3d_92[0][0]                  \n",
            "__________________________________________________________________________________________________\n",
            "conv3d_106 (Conv3D)             (None, 10, 10, 2, 25 1769728     max_pooling3d_24[0][0]           \n",
            "__________________________________________________________________________________________________\n",
            "activation_65 (Activation)      (None, 10, 10, 2, 51 0           conv3d_65[0][0]                  \n",
            "__________________________________________________________________________________________________\n",
            "activation_79 (Activation)      (None, 10, 10, 2, 51 0           conv3d_79[0][0]                  \n",
            "__________________________________________________________________________________________________\n",
            "conv3d_93 (Conv3D)              (None, 10, 10, 2, 51 3539456     activation_92[0][0]              \n",
            "__________________________________________________________________________________________________\n",
            "activation_106 (Activation)     (None, 10, 10, 2, 25 0           conv3d_106[0][0]                 \n",
            "__________________________________________________________________________________________________\n",
            "up_sampling3d_13 (UpSampling3D) (None, 20, 20, 4, 51 0           activation_65[0][0]              \n",
            "__________________________________________________________________________________________________\n",
            "up_sampling3d_16 (UpSampling3D) (None, 20, 20, 4, 51 0           activation_79[0][0]              \n",
            "__________________________________________________________________________________________________\n",
            "activation_93 (Activation)      (None, 10, 10, 2, 51 0           conv3d_93[0][0]                  \n",
            "__________________________________________________________________________________________________\n",
            "conv3d_107 (Conv3D)             (None, 10, 10, 2, 51 3539456     activation_106[0][0]             \n",
            "__________________________________________________________________________________________________\n",
            "concatenate_16 (Concatenate)    (None, 20, 20, 4, 76 0           up_sampling3d_13[0][0]           \n",
            "                                                                 activation_63[0][0]              \n",
            "__________________________________________________________________________________________________\n",
            "concatenate_19 (Concatenate)    (None, 20, 20, 4, 76 0           up_sampling3d_16[0][0]           \n",
            "                                                                 activation_77[0][0]              \n",
            "__________________________________________________________________________________________________\n",
            "up_sampling3d_19 (UpSampling3D) (None, 20, 20, 4, 51 0           activation_93[0][0]              \n",
            "__________________________________________________________________________________________________\n",
            "activation_107 (Activation)     (None, 10, 10, 2, 51 0           conv3d_107[0][0]                 \n",
            "__________________________________________________________________________________________________\n",
            "conv3d_66 (Conv3D)              (None, 20, 20, 4, 20 414740      concatenate_16[0][0]             \n",
            "__________________________________________________________________________________________________\n",
            "conv3d_80 (Conv3D)              (None, 20, 20, 4, 20 414740      concatenate_19[0][0]             \n",
            "__________________________________________________________________________________________________\n",
            "concatenate_22 (Concatenate)    (None, 20, 20, 4, 76 0           up_sampling3d_19[0][0]           \n",
            "                                                                 activation_91[0][0]              \n",
            "__________________________________________________________________________________________________\n",
            "up_sampling3d_22 (UpSampling3D) (None, 20, 20, 4, 51 0           activation_107[0][0]             \n",
            "__________________________________________________________________________________________________\n",
            "activation_66 (Activation)      (None, 20, 20, 4, 20 0           conv3d_66[0][0]                  \n",
            "__________________________________________________________________________________________________\n",
            "activation_80 (Activation)      (None, 20, 20, 4, 20 0           conv3d_80[0][0]                  \n",
            "__________________________________________________________________________________________________\n",
            "conv3d_94 (Conv3D)              (None, 20, 20, 4, 20 414740      concatenate_22[0][0]             \n",
            "__________________________________________________________________________________________________\n",
            "concatenate_25 (Concatenate)    (None, 20, 20, 4, 76 0           up_sampling3d_22[0][0]           \n",
            "                                                                 activation_105[0][0]             \n",
            "__________________________________________________________________________________________________\n",
            "conv3d_67 (Conv3D)              (None, 20, 20, 4, 20 10820       activation_66[0][0]              \n",
            "__________________________________________________________________________________________________\n",
            "conv3d_81 (Conv3D)              (None, 20, 20, 4, 20 10820       activation_80[0][0]              \n",
            "__________________________________________________________________________________________________\n",
            "activation_94 (Activation)      (None, 20, 20, 4, 20 0           conv3d_94[0][0]                  \n",
            "__________________________________________________________________________________________________\n",
            "conv3d_108 (Conv3D)             (None, 20, 20, 4, 20 414740      concatenate_25[0][0]             \n",
            "__________________________________________________________________________________________________\n",
            "activation_67 (Activation)      (None, 20, 20, 4, 20 0           conv3d_67[0][0]                  \n",
            "__________________________________________________________________________________________________\n",
            "activation_81 (Activation)      (None, 20, 20, 4, 20 0           conv3d_81[0][0]                  \n",
            "__________________________________________________________________________________________________\n",
            "conv3d_95 (Conv3D)              (None, 20, 20, 4, 20 10820       activation_94[0][0]              \n",
            "__________________________________________________________________________________________________\n",
            "activation_108 (Activation)     (None, 20, 20, 4, 20 0           conv3d_108[0][0]                 \n",
            "__________________________________________________________________________________________________\n",
            "up_sampling3d_14 (UpSampling3D) (None, 40, 40, 8, 20 0           activation_67[0][0]              \n",
            "__________________________________________________________________________________________________\n",
            "up_sampling3d_17 (UpSampling3D) (None, 40, 40, 8, 20 0           activation_81[0][0]              \n",
            "__________________________________________________________________________________________________\n",
            "activation_95 (Activation)      (None, 20, 20, 4, 20 0           conv3d_95[0][0]                  \n",
            "__________________________________________________________________________________________________\n",
            "conv3d_109 (Conv3D)             (None, 20, 20, 4, 20 10820       activation_108[0][0]             \n",
            "__________________________________________________________________________________________________\n",
            "concatenate_17 (Concatenate)    (None, 40, 40, 8, 14 0           up_sampling3d_14[0][0]           \n",
            "                                                                 activation_61[0][0]              \n",
            "__________________________________________________________________________________________________\n",
            "concatenate_20 (Concatenate)    (None, 40, 40, 8, 14 0           up_sampling3d_17[0][0]           \n",
            "                                                                 activation_75[0][0]              \n",
            "__________________________________________________________________________________________________\n",
            "up_sampling3d_20 (UpSampling3D) (None, 40, 40, 8, 20 0           activation_95[0][0]              \n",
            "__________________________________________________________________________________________________\n",
            "activation_109 (Activation)     (None, 20, 20, 4, 20 0           conv3d_109[0][0]                 \n",
            "__________________________________________________________________________________________________\n",
            "conv3d_68 (Conv3D)              (None, 40, 40, 8, 40 159880      concatenate_17[0][0]             \n",
            "__________________________________________________________________________________________________\n",
            "conv3d_82 (Conv3D)              (None, 40, 40, 8, 40 159880      concatenate_20[0][0]             \n",
            "__________________________________________________________________________________________________\n",
            "concatenate_23 (Concatenate)    (None, 40, 40, 8, 14 0           up_sampling3d_20[0][0]           \n",
            "                                                                 activation_89[0][0]              \n",
            "__________________________________________________________________________________________________\n",
            "up_sampling3d_23 (UpSampling3D) (None, 40, 40, 8, 20 0           activation_109[0][0]             \n",
            "__________________________________________________________________________________________________\n",
            "activation_68 (Activation)      (None, 40, 40, 8, 40 0           conv3d_68[0][0]                  \n",
            "__________________________________________________________________________________________________\n",
            "activation_82 (Activation)      (None, 40, 40, 8, 40 0           conv3d_82[0][0]                  \n",
            "__________________________________________________________________________________________________\n",
            "conv3d_96 (Conv3D)              (None, 40, 40, 8, 40 159880      concatenate_23[0][0]             \n",
            "__________________________________________________________________________________________________\n",
            "concatenate_26 (Concatenate)    (None, 40, 40, 8, 14 0           up_sampling3d_23[0][0]           \n",
            "                                                                 activation_103[0][0]             \n",
            "__________________________________________________________________________________________________\n",
            "conv3d_69 (Conv3D)              (None, 40, 40, 8, 40 43240       activation_68[0][0]              \n",
            "__________________________________________________________________________________________________\n",
            "conv3d_83 (Conv3D)              (None, 40, 40, 8, 40 43240       activation_82[0][0]              \n",
            "__________________________________________________________________________________________________\n",
            "activation_96 (Activation)      (None, 40, 40, 8, 40 0           conv3d_96[0][0]                  \n",
            "__________________________________________________________________________________________________\n",
            "conv3d_110 (Conv3D)             (None, 40, 40, 8, 40 159880      concatenate_26[0][0]             \n",
            "__________________________________________________________________________________________________\n",
            "activation_69 (Activation)      (None, 40, 40, 8, 40 0           conv3d_69[0][0]                  \n",
            "__________________________________________________________________________________________________\n",
            "activation_83 (Activation)      (None, 40, 40, 8, 40 0           conv3d_83[0][0]                  \n",
            "__________________________________________________________________________________________________\n",
            "conv3d_97 (Conv3D)              (None, 40, 40, 8, 40 43240       activation_96[0][0]              \n",
            "__________________________________________________________________________________________________\n",
            "activation_110 (Activation)     (None, 40, 40, 8, 40 0           conv3d_110[0][0]                 \n",
            "__________________________________________________________________________________________________\n",
            "up_sampling3d_15 (UpSampling3D) (None, 80, 80, 16, 4 0           activation_69[0][0]              \n",
            "__________________________________________________________________________________________________\n",
            "up_sampling3d_18 (UpSampling3D) (None, 80, 80, 16, 4 0           activation_83[0][0]              \n",
            "__________________________________________________________________________________________________\n",
            "activation_97 (Activation)      (None, 40, 40, 8, 40 0           conv3d_97[0][0]                  \n",
            "__________________________________________________________________________________________________\n",
            "conv3d_111 (Conv3D)             (None, 40, 40, 8, 40 43240       activation_110[0][0]             \n",
            "__________________________________________________________________________________________________\n",
            "concatenate_18 (Concatenate)    (None, 80, 80, 16, 1 0           up_sampling3d_15[0][0]           \n",
            "                                                                 activation_59[0][0]              \n",
            "__________________________________________________________________________________________________\n",
            "concatenate_21 (Concatenate)    (None, 80, 80, 16, 1 0           up_sampling3d_18[0][0]           \n",
            "                                                                 activation_73[0][0]              \n",
            "__________________________________________________________________________________________________\n",
            "up_sampling3d_21 (UpSampling3D) (None, 80, 80, 16, 4 0           activation_97[0][0]              \n",
            "__________________________________________________________________________________________________\n",
            "activation_111 (Activation)     (None, 40, 40, 8, 40 0           conv3d_111[0][0]                 \n",
            "__________________________________________________________________________________________________\n",
            "conv3d_70 (Conv3D)              (None, 80, 80, 16, 8 224720      concatenate_18[0][0]             \n",
            "__________________________________________________________________________________________________\n",
            "conv3d_84 (Conv3D)              (None, 80, 80, 16, 8 224720      concatenate_21[0][0]             \n",
            "__________________________________________________________________________________________________\n",
            "concatenate_24 (Concatenate)    (None, 80, 80, 16, 1 0           up_sampling3d_21[0][0]           \n",
            "                                                                 activation_87[0][0]              \n",
            "__________________________________________________________________________________________________\n",
            "up_sampling3d_24 (UpSampling3D) (None, 80, 80, 16, 4 0           activation_111[0][0]             \n",
            "__________________________________________________________________________________________________\n",
            "activation_70 (Activation)      (None, 80, 80, 16, 8 0           conv3d_70[0][0]                  \n",
            "__________________________________________________________________________________________________\n",
            "activation_84 (Activation)      (None, 80, 80, 16, 8 0           conv3d_84[0][0]                  \n",
            "__________________________________________________________________________________________________\n",
            "conv3d_98 (Conv3D)              (None, 80, 80, 16, 8 224720      concatenate_24[0][0]             \n",
            "__________________________________________________________________________________________________\n",
            "concatenate_27 (Concatenate)    (None, 80, 80, 16, 1 0           up_sampling3d_24[0][0]           \n",
            "                                                                 activation_101[0][0]             \n",
            "__________________________________________________________________________________________________\n",
            "conv3d_71 (Conv3D)              (None, 80, 80, 16, 8 172880      activation_70[0][0]              \n",
            "__________________________________________________________________________________________________\n",
            "conv3d_85 (Conv3D)              (None, 80, 80, 16, 8 172880      activation_84[0][0]              \n",
            "__________________________________________________________________________________________________\n",
            "activation_98 (Activation)      (None, 80, 80, 16, 8 0           conv3d_98[0][0]                  \n",
            "__________________________________________________________________________________________________\n",
            "conv3d_112 (Conv3D)             (None, 80, 80, 16, 8 224720      concatenate_27[0][0]             \n",
            "__________________________________________________________________________________________________\n",
            "activation_71 (Activation)      (None, 80, 80, 16, 8 0           conv3d_71[0][0]                  \n",
            "__________________________________________________________________________________________________\n",
            "activation_85 (Activation)      (None, 80, 80, 16, 8 0           conv3d_85[0][0]                  \n",
            "__________________________________________________________________________________________________\n",
            "conv3d_99 (Conv3D)              (None, 80, 80, 16, 8 172880      activation_98[0][0]              \n",
            "__________________________________________________________________________________________________\n",
            "activation_112 (Activation)     (None, 80, 80, 16, 8 0           conv3d_112[0][0]                 \n",
            "__________________________________________________________________________________________________\n",
            "concatenate_28 (Concatenate)    (None, 80, 80, 16, 1 0           activation_71[0][0]              \n",
            "                                                                 activation_85[0][0]              \n",
            "__________________________________________________________________________________________________\n",
            "activation_99 (Activation)      (None, 80, 80, 16, 8 0           conv3d_99[0][0]                  \n",
            "__________________________________________________________________________________________________\n",
            "conv3d_113 (Conv3D)             (None, 80, 80, 16, 8 172880      activation_112[0][0]             \n",
            "__________________________________________________________________________________________________\n",
            "concatenate_29 (Concatenate)    (None, 80, 80, 16, 2 0           concatenate_28[0][0]             \n",
            "                                                                 activation_99[0][0]              \n",
            "__________________________________________________________________________________________________\n",
            "activation_113 (Activation)     (None, 80, 80, 16, 8 0           conv3d_113[0][0]                 \n",
            "__________________________________________________________________________________________________\n",
            "concatenate_30 (Concatenate)    (None, 80, 80, 16, 3 0           concatenate_29[0][0]             \n",
            "                                                                 activation_113[0][0]             \n",
            "__________________________________________________________________________________________________\n",
            "conv3d_114 (Conv3D)             (None, 80, 80, 16, 3 963         concatenate_30[0][0]             \n",
            "__________________________________________________________________________________________________\n",
            "activation_114 (Activation)     (None, 80, 80, 16, 3 0           conv3d_114[0][0]                 \n",
            "==================================================================================================\n",
            "Total params: 32,216,035\n",
            "Trainable params: 32,216,035\n",
            "Non-trainable params: 0\n",
            "__________________________________________________________________________________________________\n"
          ],
          "name": "stdout"
        }
      ]
    },
    {
      "cell_type": "code",
      "metadata": {
        "id": "NlHXi8yw0XHP",
        "colab_type": "code",
        "colab": {}
      },
      "source": [
        "import glob, os\n",
        "images_path = glob.glob('/content/drive/My Drive/BRATS2020/MICCAI_BraTS2020_TrainingData/**/*.nii.gz', recursive=True)\n",
        "\n",
        "data_path = \"\"\n",
        "\n",
        "X_trainset_filenames = []\n",
        "y_trainset_filenames = []\n",
        "\n",
        "for item in images_path:\n",
        "  if 'seg' in item:\n",
        "    y_trainset_filenames.append(os.path.join(data_path, item))\n",
        "  else:\n",
        "    X_trainset_filenames.append(os.path.join(data_path, item))"
      ],
      "execution_count": 9,
      "outputs": []
    },
    {
      "cell_type": "code",
      "metadata": {
        "id": "7sJXY3V2MpOK",
        "colab_type": "code",
        "colab": {}
      },
      "source": [
        "def load_case(image_nifty_file, label_nifty_file):\n",
        "\n",
        "\n",
        "    image_nifty_file \n",
        "    \n",
        "    # load the image and label file, get the image content and return a numpy array for each\n",
        "    image = np.zeros((240, 240, 155, 4))\n",
        "\n",
        "    img0 = np.array(nib.load(image_nifty_file[0]).get_fdata())\n",
        "    img1 = np.array(nib.load(image_nifty_file[1]).get_fdata())\n",
        "    img2 = np.array(nib.load(image_nifty_file[2]).get_fdata())\n",
        "    img3 = np.array(nib.load(image_nifty_file[3]).get_fdata())\n",
        "    \n",
        "    image[:, :, :, 0] = img0\n",
        "    image[:, :, :, 1] = img1\n",
        "    image[:, :, :, 2] = img2\n",
        "    image[:, :, :, 3] = img3\n",
        "      \n",
        "    label = np.array(nib.load(label_nifty_file).get_fdata())\n",
        "    \n",
        "    \n",
        "    return image, label"
      ],
      "execution_count": 10,
      "outputs": []
    },
    {
      "cell_type": "code",
      "metadata": {
        "id": "NO8ZyWuHUxmz",
        "colab_type": "code",
        "colab": {}
      },
      "source": [
        "def sort_by_channel(sample_path):\n",
        "\n",
        "  n = int(len(sample_path) / 4)\n",
        "  new_path = []\n",
        "  for i in range(n):\n",
        "    temp = sample_path[(i*4): (i+1)*4]\n",
        "    new_temp = []\n",
        "\n",
        "    ###############\n",
        "    for path in temp:\n",
        "      if '_t1.' in path:\n",
        "        new_temp.append(path)\n",
        "      else:\n",
        "        pass\n",
        "    for path in temp:\n",
        "      if '_t1ce.' in path:\n",
        "        new_temp.append(path)\n",
        "      else:\n",
        "        pass\n",
        "    for path in temp:\n",
        "      if '_t2.' in path:\n",
        "        new_temp.append(path)\n",
        "      else:\n",
        "        pass\n",
        "    for path in temp:\n",
        "      if '_flair.' in path:\n",
        "        new_temp.append(path)\n",
        "      else:\n",
        "        pass\n",
        "\n",
        "    ################    \n",
        "    for path in new_temp:\n",
        "      new_path.append(path)\n",
        "\n",
        "\n",
        "  return new_path"
      ],
      "execution_count": 11,
      "outputs": []
    },
    {
      "cell_type": "code",
      "metadata": {
        "id": "oLXNvH51Uzi4",
        "colab_type": "code",
        "colab": {}
      },
      "source": [
        "X_trainset_filenames_by_channels = sort_by_channel(X_trainset_filenames[26:30])"
      ],
      "execution_count": 12,
      "outputs": []
    },
    {
      "cell_type": "code",
      "metadata": {
        "id": "g1S5oeM4NAoX",
        "colab_type": "code",
        "colab": {}
      },
      "source": [
        "image , label = load_case(X_trainset_filenames_by_channels, y_trainset_filenames[6])"
      ],
      "execution_count": 41,
      "outputs": []
    },
    {
      "cell_type": "code",
      "metadata": {
        "id": "UqR374bpT_kZ",
        "colab_type": "code",
        "colab": {
          "base_uri": "https://localhost:8080/",
          "height": 50
        },
        "outputId": "44e0640c-a098-42f4-9963-b178bd90f3ac"
      },
      "source": [
        "print(image.shape)\n",
        "print(label.shape)"
      ],
      "execution_count": 14,
      "outputs": [
        {
          "output_type": "stream",
          "text": [
            "(240, 240, 155, 4)\n",
            "(240, 240, 155)\n"
          ],
          "name": "stdout"
        }
      ]
    },
    {
      "cell_type": "code",
      "metadata": {
        "id": "knTTWkQrT1Q8",
        "colab_type": "code",
        "colab": {}
      },
      "source": [
        "def get_sub_volume(image, label):\n",
        "  \n",
        "  sub_volume_X = []\n",
        "  sub_volume_y = []\n",
        "\n",
        "  for j in range (0, 240, 80):\n",
        "    for k in range(0, 240, 80):\n",
        "      for z in range(8, 147, 16):\n",
        "        sub = image[ j:j+80, k:k+80, z:z+16, :]\n",
        "        sub_volume_X.append(sub)\n",
        "        sub = label[ j:j+80, k:k+80, z:z+16]\n",
        "        sub_volume_y.append(sub)\n",
        "\n",
        "\n",
        "\n",
        "  return sub_volume_X, sub_volume_y\n",
        "\n",
        "\n",
        "\n"
      ],
      "execution_count": 29,
      "outputs": []
    },
    {
      "cell_type": "code",
      "metadata": {
        "id": "7gw2iTqbW7ur",
        "colab_type": "code",
        "colab": {}
      },
      "source": [
        "X, y = get_sub_volume(image, label)"
      ],
      "execution_count": 39,
      "outputs": []
    },
    {
      "cell_type": "code",
      "metadata": {
        "id": "vHgwXCgVXH3y",
        "colab_type": "code",
        "colab": {
          "base_uri": "https://localhost:8080/",
          "height": 50
        },
        "outputId": "607106af-5940-40dd-cb71-4046a89727cb"
      },
      "source": [
        "print(len(X))\n",
        "print(len(y))"
      ],
      "execution_count": 31,
      "outputs": [
        {
          "output_type": "stream",
          "text": [
            "81\n",
            "81\n"
          ],
          "name": "stdout"
        }
      ]
    },
    {
      "cell_type": "code",
      "metadata": {
        "id": "lVgqjfghXTZX",
        "colab_type": "code",
        "colab": {
          "base_uri": "https://localhost:8080/",
          "height": 50
        },
        "outputId": "3694640e-13a6-4ba5-b1f7-87eeaef857b9"
      },
      "source": [
        "print(X[1].shape)\n",
        "print(y[1].shape)"
      ],
      "execution_count": 33,
      "outputs": [
        {
          "output_type": "stream",
          "text": [
            "(80, 80, 16, 4)\n",
            "(80, 80, 16)\n"
          ],
          "name": "stdout"
        }
      ]
    },
    {
      "cell_type": "code",
      "metadata": {
        "id": "VsRRJ9tUYvvH",
        "colab_type": "code",
        "colab": {
          "base_uri": "https://localhost:8080/",
          "height": 34
        },
        "outputId": "643cd1b7-0b50-4c2d-afcf-48e495e8b562"
      },
      "source": [
        "from tqdm import tqdm\n",
        "\n",
        "y_pred = []\n",
        "for item in tqdm(X):\n",
        "  temp_0 = item.reshape((1, 80, 80, 16, 4))\n",
        "  temp = model.predict(temp_0)\n",
        "  y_pred.append(temp)\n"
      ],
      "execution_count": 38,
      "outputs": [
        {
          "output_type": "stream",
          "text": [
            "100%|██████████| 81/81 [09:00<00:00,  6.68s/it]\n"
          ],
          "name": "stderr"
        }
      ]
    },
    {
      "cell_type": "code",
      "metadata": {
        "id": "-iqdJDSzciQw",
        "colab_type": "code",
        "colab": {
          "base_uri": "https://localhost:8080/",
          "height": 34
        },
        "outputId": "9731e279-272a-4d5b-87fa-4d19aab2e50d"
      },
      "source": [
        "label.shape"
      ],
      "execution_count": 42,
      "outputs": [
        {
          "output_type": "execute_result",
          "data": {
            "text/plain": [
              "(240, 240, 155)"
            ]
          },
          "metadata": {
            "tags": []
          },
          "execution_count": 42
        }
      ]
    },
    {
      "cell_type": "code",
      "metadata": {
        "id": "fBCERxAGczRE",
        "colab_type": "code",
        "colab": {}
      },
      "source": [
        "def get_whole_image(predict):\n",
        "  \n",
        "  prediction = np.zeros((240, 240, 155, 3))\n",
        "\n",
        "  counter = 0\n",
        "  for j in range (0, 240, 80):\n",
        "    for k in range(0, 240, 80):\n",
        "      for z in range(8, 147, 16):\n",
        "        prediction[j:j+80, k:k+80, z:z+16, :] = predict[counter]\n",
        "        counter +=1\n",
        "\n",
        "\n",
        "\n",
        "  return prediction"
      ],
      "execution_count": 55,
      "outputs": []
    },
    {
      "cell_type": "code",
      "metadata": {
        "id": "f1H3V48jeZvu",
        "colab_type": "code",
        "colab": {
          "base_uri": "https://localhost:8080/",
          "height": 34
        },
        "outputId": "6e4277ea-488b-479b-9926-c44feb66814c"
      },
      "source": [
        "y = get_whole_image(y_pred)\n",
        "print(y.shape)"
      ],
      "execution_count": 56,
      "outputs": [
        {
          "output_type": "stream",
          "text": [
            "(240, 240, 155, 3)\n"
          ],
          "name": "stdout"
        }
      ]
    },
    {
      "cell_type": "code",
      "metadata": {
        "id": "cf2EY0yApFoN",
        "colab_type": "code",
        "colab": {
          "base_uri": "https://localhost:8080/",
          "height": 373,
          "referenced_widgets": [
            "d35dae78df5a488bba811e0847c2e04f",
            "d0ae7afd3b534ab1ae09429c0b959b61",
            "274311dc703f485c88b40065230cbcb1",
            "a58724e3ba4e405e9d93c5b9acd978d0",
            "df62466228c741f4a6d8adc06462e727",
            "0891c2b309914046881511369cfb327b",
            "96cab325db0d4132ae351d08d17f4ac9"
          ]
        },
        "outputId": "27249ee4-0a80-4cf5-cd80-0bacc6a88ed0"
      },
      "source": [
        "from ipywidgets import interact\n",
        "\n",
        "def explore_3dimage(layer):\n",
        "    plt.figure(figsize=(10, 5))\n",
        "    channel = 3\n",
        "    plt.imshow(y[:, :, layer, :]);\n",
        "    plt.title('Explore Layers of Tumor prediction', fontsize=20)\n",
        "    plt.axis('off')\n",
        "    return layer\n",
        "\n",
        "# Run the ipywidgets interact() function to explore the data\n",
        "interact(explore_3dimage, layer=(0, 155 - 1));"
      ],
      "execution_count": 63,
      "outputs": [
        {
          "output_type": "display_data",
          "data": {
            "application/vnd.jupyter.widget-view+json": {
              "model_id": "d35dae78df5a488bba811e0847c2e04f",
              "version_minor": 0,
              "version_major": 2
            },
            "text/plain": [
              "interactive(children=(IntSlider(value=77, description='layer', max=154), Output()), _dom_classes=('widget-inte…"
            ]
          },
          "metadata": {
            "tags": []
          }
        }
      ]
    },
    {
      "cell_type": "code",
      "metadata": {
        "id": "-9Y65NLofVpO",
        "colab_type": "code",
        "colab": {
          "base_uri": "https://localhost:8080/",
          "height": 373,
          "referenced_widgets": [
            "ef465691591e4f2ebad03c8683a90635",
            "8c78260e9f704fd0aa6606960c1c92aa",
            "52b5790dcfbe41d599f403d4f9a3a07d",
            "d8acd4bbc2194367a7b8131c0c2be358",
            "e663d0c538cf4a40a6e1ae12413c24a1",
            "b997569a1f474e4ea9c5821759707e06",
            "9c59f66e572340f6a0121f18d2b3a1b9"
          ]
        },
        "outputId": "f31f491c-ef6c-4a15-9a82-70d064a4a27a"
      },
      "source": [
        "from ipywidgets import interact\n",
        "\n",
        "def explore_3dimage(layer):\n",
        "    plt.figure(figsize=(10, 5))\n",
        "    channel = 3\n",
        "    plt.imshow(label[:, :, layer]);\n",
        "    plt.title('Explore Layers of Tumor ground truth', fontsize=20)\n",
        "    plt.axis('off')\n",
        "    return layer\n",
        "\n",
        "# Run the ipywidgets interact() function to explore the data\n",
        "interact(explore_3dimage, layer=(0, 155 - 1));"
      ],
      "execution_count": 64,
      "outputs": [
        {
          "output_type": "display_data",
          "data": {
            "application/vnd.jupyter.widget-view+json": {
              "model_id": "ef465691591e4f2ebad03c8683a90635",
              "version_minor": 0,
              "version_major": 2
            },
            "text/plain": [
              "interactive(children=(IntSlider(value=77, description='layer', max=154), Output()), _dom_classes=('widget-inte…"
            ]
          },
          "metadata": {
            "tags": []
          }
        }
      ]
    },
    {
      "cell_type": "code",
      "metadata": {
        "id": "BztSTFdp9VEq",
        "colab_type": "code",
        "colab": {}
      },
      "source": [
        ""
      ],
      "execution_count": null,
      "outputs": []
    }
  ]
}