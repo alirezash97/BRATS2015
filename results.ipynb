{
  "nbformat": 4,
  "nbformat_minor": 0,
  "metadata": {
    "colab": {
      "name": "results.ipynb",
      "provenance": [],
      "mount_file_id": "https://github.com/alirezash97/BRATS2015/blob/master/results.ipynb",
      "authorship_tag": "ABX9TyPizRFSob1Q37r48q+tU97Z",
      "include_colab_link": true
    },
    "kernelspec": {
      "name": "python3",
      "display_name": "Python 3"
    },
    "widgets": {
      "application/vnd.jupyter.widget-state+json": {
        "17368e07e8d548efa672a2993dc85149": {
          "model_module": "@jupyter-widgets/controls",
          "model_name": "VBoxModel",
          "state": {
            "_view_name": "VBoxView",
            "_dom_classes": [
              "widget-interact"
            ],
            "_model_name": "VBoxModel",
            "_view_module": "@jupyter-widgets/controls",
            "_model_module_version": "1.5.0",
            "_view_count": null,
            "_view_module_version": "1.5.0",
            "box_style": "",
            "layout": "IPY_MODEL_12c9a8a7340e43a3ad7b3a057d26b2a2",
            "_model_module": "@jupyter-widgets/controls",
            "children": [
              "IPY_MODEL_242ac40cae294ab3bb22e34d36f883f3",
              "IPY_MODEL_2d7206b5c65e4591bcd5440f4b7bc808"
            ]
          }
        },
        "12c9a8a7340e43a3ad7b3a057d26b2a2": {
          "model_module": "@jupyter-widgets/base",
          "model_name": "LayoutModel",
          "state": {
            "_view_name": "LayoutView",
            "grid_template_rows": null,
            "right": null,
            "justify_content": null,
            "_view_module": "@jupyter-widgets/base",
            "overflow": null,
            "_model_module_version": "1.2.0",
            "_view_count": null,
            "flex_flow": null,
            "width": null,
            "min_width": null,
            "border": null,
            "align_items": null,
            "bottom": null,
            "_model_module": "@jupyter-widgets/base",
            "top": null,
            "grid_column": null,
            "overflow_y": null,
            "overflow_x": null,
            "grid_auto_flow": null,
            "grid_area": null,
            "grid_template_columns": null,
            "flex": null,
            "_model_name": "LayoutModel",
            "justify_items": null,
            "grid_row": null,
            "max_height": null,
            "align_content": null,
            "visibility": null,
            "align_self": null,
            "height": null,
            "min_height": null,
            "padding": null,
            "grid_auto_rows": null,
            "grid_gap": null,
            "max_width": null,
            "order": null,
            "_view_module_version": "1.2.0",
            "grid_template_areas": null,
            "object_position": null,
            "object_fit": null,
            "grid_auto_columns": null,
            "margin": null,
            "display": null,
            "left": null
          }
        },
        "242ac40cae294ab3bb22e34d36f883f3": {
          "model_module": "@jupyter-widgets/controls",
          "model_name": "IntSliderModel",
          "state": {
            "_view_name": "IntSliderView",
            "style": "IPY_MODEL_1ee2b9fc58b7415f9f18b565e3bfe9c6",
            "_dom_classes": [],
            "description": "layer",
            "step": 1,
            "_model_name": "IntSliderModel",
            "orientation": "horizontal",
            "max": 154,
            "_view_module": "@jupyter-widgets/controls",
            "_model_module_version": "1.5.0",
            "value": 99,
            "_view_count": null,
            "disabled": false,
            "_view_module_version": "1.5.0",
            "min": 0,
            "continuous_update": true,
            "readout_format": "d",
            "description_tooltip": null,
            "readout": true,
            "_model_module": "@jupyter-widgets/controls",
            "layout": "IPY_MODEL_f4847fa947b64b79ba9fe8ff48942255"
          }
        },
        "2d7206b5c65e4591bcd5440f4b7bc808": {
          "model_module": "@jupyter-widgets/output",
          "model_name": "OutputModel",
          "state": {
            "_view_name": "OutputView",
            "msg_id": "",
            "_dom_classes": [],
            "_model_name": "OutputModel",
            "outputs": [
              {
                "output_type": "display_data",
                "metadata": {
                  "tags": [],
                  "needs_background": "light"
                },
                "image/png": "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\n",
                "text/plain": "<Figure size 720x360 with 1 Axes>"
              },
              {
                "output_type": "display_data",
                "metadata": {
                  "tags": []
                },
                "text/plain": "99"
              }
            ],
            "_view_module": "@jupyter-widgets/output",
            "_model_module_version": "1.0.0",
            "_view_count": null,
            "_view_module_version": "1.0.0",
            "layout": "IPY_MODEL_4a9627210e444e3d8a54a52bd9daef49",
            "_model_module": "@jupyter-widgets/output"
          }
        },
        "1ee2b9fc58b7415f9f18b565e3bfe9c6": {
          "model_module": "@jupyter-widgets/controls",
          "model_name": "SliderStyleModel",
          "state": {
            "_view_name": "StyleView",
            "handle_color": null,
            "_model_name": "SliderStyleModel",
            "description_width": "",
            "_view_module": "@jupyter-widgets/base",
            "_model_module_version": "1.5.0",
            "_view_count": null,
            "_view_module_version": "1.2.0",
            "_model_module": "@jupyter-widgets/controls"
          }
        },
        "f4847fa947b64b79ba9fe8ff48942255": {
          "model_module": "@jupyter-widgets/base",
          "model_name": "LayoutModel",
          "state": {
            "_view_name": "LayoutView",
            "grid_template_rows": null,
            "right": null,
            "justify_content": null,
            "_view_module": "@jupyter-widgets/base",
            "overflow": null,
            "_model_module_version": "1.2.0",
            "_view_count": null,
            "flex_flow": null,
            "width": null,
            "min_width": null,
            "border": null,
            "align_items": null,
            "bottom": null,
            "_model_module": "@jupyter-widgets/base",
            "top": null,
            "grid_column": null,
            "overflow_y": null,
            "overflow_x": null,
            "grid_auto_flow": null,
            "grid_area": null,
            "grid_template_columns": null,
            "flex": null,
            "_model_name": "LayoutModel",
            "justify_items": null,
            "grid_row": null,
            "max_height": null,
            "align_content": null,
            "visibility": null,
            "align_self": null,
            "height": null,
            "min_height": null,
            "padding": null,
            "grid_auto_rows": null,
            "grid_gap": null,
            "max_width": null,
            "order": null,
            "_view_module_version": "1.2.0",
            "grid_template_areas": null,
            "object_position": null,
            "object_fit": null,
            "grid_auto_columns": null,
            "margin": null,
            "display": null,
            "left": null
          }
        },
        "4a9627210e444e3d8a54a52bd9daef49": {
          "model_module": "@jupyter-widgets/base",
          "model_name": "LayoutModel",
          "state": {
            "_view_name": "LayoutView",
            "grid_template_rows": null,
            "right": null,
            "justify_content": null,
            "_view_module": "@jupyter-widgets/base",
            "overflow": null,
            "_model_module_version": "1.2.0",
            "_view_count": null,
            "flex_flow": null,
            "width": null,
            "min_width": null,
            "border": null,
            "align_items": null,
            "bottom": null,
            "_model_module": "@jupyter-widgets/base",
            "top": null,
            "grid_column": null,
            "overflow_y": null,
            "overflow_x": null,
            "grid_auto_flow": null,
            "grid_area": null,
            "grid_template_columns": null,
            "flex": null,
            "_model_name": "LayoutModel",
            "justify_items": null,
            "grid_row": null,
            "max_height": null,
            "align_content": null,
            "visibility": null,
            "align_self": null,
            "height": null,
            "min_height": null,
            "padding": null,
            "grid_auto_rows": null,
            "grid_gap": null,
            "max_width": null,
            "order": null,
            "_view_module_version": "1.2.0",
            "grid_template_areas": null,
            "object_position": null,
            "object_fit": null,
            "grid_auto_columns": null,
            "margin": null,
            "display": null,
            "left": null
          }
        },
        "5591402ea814466f98777c04f83f29e7": {
          "model_module": "@jupyter-widgets/controls",
          "model_name": "VBoxModel",
          "state": {
            "_view_name": "VBoxView",
            "_dom_classes": [
              "widget-interact"
            ],
            "_model_name": "VBoxModel",
            "_view_module": "@jupyter-widgets/controls",
            "_model_module_version": "1.5.0",
            "_view_count": null,
            "_view_module_version": "1.5.0",
            "box_style": "",
            "layout": "IPY_MODEL_fe8b8ce0234842968776062dcffe2e36",
            "_model_module": "@jupyter-widgets/controls",
            "children": [
              "IPY_MODEL_c2ed92bf68094fffade782a928ee9dd7",
              "IPY_MODEL_88384de061b14382802264f01b1412e3"
            ]
          }
        },
        "fe8b8ce0234842968776062dcffe2e36": {
          "model_module": "@jupyter-widgets/base",
          "model_name": "LayoutModel",
          "state": {
            "_view_name": "LayoutView",
            "grid_template_rows": null,
            "right": null,
            "justify_content": null,
            "_view_module": "@jupyter-widgets/base",
            "overflow": null,
            "_model_module_version": "1.2.0",
            "_view_count": null,
            "flex_flow": null,
            "width": null,
            "min_width": null,
            "border": null,
            "align_items": null,
            "bottom": null,
            "_model_module": "@jupyter-widgets/base",
            "top": null,
            "grid_column": null,
            "overflow_y": null,
            "overflow_x": null,
            "grid_auto_flow": null,
            "grid_area": null,
            "grid_template_columns": null,
            "flex": null,
            "_model_name": "LayoutModel",
            "justify_items": null,
            "grid_row": null,
            "max_height": null,
            "align_content": null,
            "visibility": null,
            "align_self": null,
            "height": null,
            "min_height": null,
            "padding": null,
            "grid_auto_rows": null,
            "grid_gap": null,
            "max_width": null,
            "order": null,
            "_view_module_version": "1.2.0",
            "grid_template_areas": null,
            "object_position": null,
            "object_fit": null,
            "grid_auto_columns": null,
            "margin": null,
            "display": null,
            "left": null
          }
        },
        "c2ed92bf68094fffade782a928ee9dd7": {
          "model_module": "@jupyter-widgets/controls",
          "model_name": "IntSliderModel",
          "state": {
            "_view_name": "IntSliderView",
            "style": "IPY_MODEL_1ad7d7abdf41455fbafff92abe1a3570",
            "_dom_classes": [],
            "description": "layer",
            "step": 1,
            "_model_name": "IntSliderModel",
            "orientation": "horizontal",
            "max": 154,
            "_view_module": "@jupyter-widgets/controls",
            "_model_module_version": "1.5.0",
            "value": 99,
            "_view_count": null,
            "disabled": false,
            "_view_module_version": "1.5.0",
            "min": 0,
            "continuous_update": true,
            "readout_format": "d",
            "description_tooltip": null,
            "readout": true,
            "_model_module": "@jupyter-widgets/controls",
            "layout": "IPY_MODEL_834b58a9532b4ebb84a532ffb8e5660b"
          }
        },
        "88384de061b14382802264f01b1412e3": {
          "model_module": "@jupyter-widgets/output",
          "model_name": "OutputModel",
          "state": {
            "_view_name": "OutputView",
            "msg_id": "",
            "_dom_classes": [],
            "_model_name": "OutputModel",
            "outputs": [
              {
                "output_type": "display_data",
                "metadata": {
                  "tags": [],
                  "needs_background": "light"
                },
                "image/png": "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\n",
                "text/plain": "<Figure size 720x360 with 1 Axes>"
              },
              {
                "output_type": "display_data",
                "metadata": {
                  "tags": []
                },
                "text/plain": "99"
              }
            ],
            "_view_module": "@jupyter-widgets/output",
            "_model_module_version": "1.0.0",
            "_view_count": null,
            "_view_module_version": "1.0.0",
            "layout": "IPY_MODEL_365394e368994393a1132aae2ef1a72e",
            "_model_module": "@jupyter-widgets/output"
          }
        },
        "1ad7d7abdf41455fbafff92abe1a3570": {
          "model_module": "@jupyter-widgets/controls",
          "model_name": "SliderStyleModel",
          "state": {
            "_view_name": "StyleView",
            "handle_color": null,
            "_model_name": "SliderStyleModel",
            "description_width": "",
            "_view_module": "@jupyter-widgets/base",
            "_model_module_version": "1.5.0",
            "_view_count": null,
            "_view_module_version": "1.2.0",
            "_model_module": "@jupyter-widgets/controls"
          }
        },
        "834b58a9532b4ebb84a532ffb8e5660b": {
          "model_module": "@jupyter-widgets/base",
          "model_name": "LayoutModel",
          "state": {
            "_view_name": "LayoutView",
            "grid_template_rows": null,
            "right": null,
            "justify_content": null,
            "_view_module": "@jupyter-widgets/base",
            "overflow": null,
            "_model_module_version": "1.2.0",
            "_view_count": null,
            "flex_flow": null,
            "width": null,
            "min_width": null,
            "border": null,
            "align_items": null,
            "bottom": null,
            "_model_module": "@jupyter-widgets/base",
            "top": null,
            "grid_column": null,
            "overflow_y": null,
            "overflow_x": null,
            "grid_auto_flow": null,
            "grid_area": null,
            "grid_template_columns": null,
            "flex": null,
            "_model_name": "LayoutModel",
            "justify_items": null,
            "grid_row": null,
            "max_height": null,
            "align_content": null,
            "visibility": null,
            "align_self": null,
            "height": null,
            "min_height": null,
            "padding": null,
            "grid_auto_rows": null,
            "grid_gap": null,
            "max_width": null,
            "order": null,
            "_view_module_version": "1.2.0",
            "grid_template_areas": null,
            "object_position": null,
            "object_fit": null,
            "grid_auto_columns": null,
            "margin": null,
            "display": null,
            "left": null
          }
        },
        "365394e368994393a1132aae2ef1a72e": {
          "model_module": "@jupyter-widgets/base",
          "model_name": "LayoutModel",
          "state": {
            "_view_name": "LayoutView",
            "grid_template_rows": null,
            "right": null,
            "justify_content": null,
            "_view_module": "@jupyter-widgets/base",
            "overflow": null,
            "_model_module_version": "1.2.0",
            "_view_count": null,
            "flex_flow": null,
            "width": null,
            "min_width": null,
            "border": null,
            "align_items": null,
            "bottom": null,
            "_model_module": "@jupyter-widgets/base",
            "top": null,
            "grid_column": null,
            "overflow_y": null,
            "overflow_x": null,
            "grid_auto_flow": null,
            "grid_area": null,
            "grid_template_columns": null,
            "flex": null,
            "_model_name": "LayoutModel",
            "justify_items": null,
            "grid_row": null,
            "max_height": null,
            "align_content": null,
            "visibility": null,
            "align_self": null,
            "height": null,
            "min_height": null,
            "padding": null,
            "grid_auto_rows": null,
            "grid_gap": null,
            "max_width": null,
            "order": null,
            "_view_module_version": "1.2.0",
            "grid_template_areas": null,
            "object_position": null,
            "object_fit": null,
            "grid_auto_columns": null,
            "margin": null,
            "display": null,
            "left": null
          }
        }
      }
    }
  },
  "cells": [
    {
      "cell_type": "markdown",
      "metadata": {
        "id": "view-in-github",
        "colab_type": "text"
      },
      "source": [
        "<a href=\"https://colab.research.google.com/github/alirezash97/BRATS2015/blob/master/results.ipynb\" target=\"_parent\"><img src=\"https://colab.research.google.com/assets/colab-badge.svg\" alt=\"Open In Colab\"/></a>"
      ]
    },
    {
      "cell_type": "code",
      "metadata": {
        "id": "UI48aQ_0NF7R",
        "colab_type": "code",
        "colab": {
          "base_uri": "https://localhost:8080/",
          "height": 34
        },
        "outputId": "a0b27741-28fa-4938-ae6d-cbcd76b1e60b"
      },
      "source": [
        "\n",
        "import os\n",
        "import numpy as np\n",
        "from nibabel.testing import data_path\n",
        "import nibabel as nib\n",
        "import matplotlib.pyplot as plt\n",
        "from keras.utils import to_categorical\n",
        "import cv2\n",
        "import keras \n",
        "import random"
      ],
      "execution_count": 1,
      "outputs": [
        {
          "output_type": "stream",
          "text": [
            "Using TensorFlow backend.\n"
          ],
          "name": "stderr"
        }
      ]
    },
    {
      "cell_type": "code",
      "metadata": {
        "id": "_CNCXiRMzhVZ",
        "colab_type": "code",
        "colab": {}
      },
      "source": [
        "from keras import backend as K\n",
        "\n",
        "def soft_dice_loss(y_true, y_pred, axis=(1, 2, 3), \n",
        "                   epsilon=0.00001):\n",
        "  \n",
        "    dice_numerator = 2. * K.sum(y_true * y_pred, axis=axis) + epsilon\n",
        "    dice_denominator = K.sum(y_true**2, axis=axis) + K.sum(y_pred**2, axis=axis) + epsilon\n",
        "    dice_loss = 1 - K.mean((dice_numerator)/(dice_denominator))\n",
        "\n",
        "\n",
        "    return dice_loss\n",
        "\n",
        "\n",
        "def dice_coefficient(y_true, y_pred, axis=(1, 2, 3), \n",
        "                     epsilon=0.00001):\n",
        "\n",
        "    dice_numerator = 2. * K.sum(y_true * y_pred, axis=axis) + epsilon\n",
        "    dice_denominator = K.sum(y_true, axis=axis) + K.sum(y_pred, axis=axis) + epsilon\n",
        "    dice_coefficient = K.mean((dice_numerator)/(dice_denominator))\n",
        "    \n",
        " \n",
        "    return dice_coefficient"
      ],
      "execution_count": 2,
      "outputs": []
    },
    {
      "cell_type": "code",
      "metadata": {
        "id": "HPMPEJPry_Ih",
        "colab_type": "code",
        "colab": {
          "base_uri": "https://localhost:8080/",
          "height": 1000
        },
        "outputId": "48186ab1-eaae-4fa3-d31e-6b22117430c8"
      },
      "source": [
        "\n",
        "# load and evaluate a saved model\n",
        "from numpy import loadtxt\n",
        "from keras.models import load_model\n",
        " \n",
        "# load model\n",
        "model = load_model('/content/drive/My Drive/BRATS2020/FlowerModel.01-0.23.h5', custom_objects={'soft_dice_loss':soft_dice_loss, 'dice_coefficient':dice_coefficient})\n",
        "# summarize model.\n",
        "model.summary()\n",
        "# load dataset"
      ],
      "execution_count": 3,
      "outputs": [
        {
          "output_type": "stream",
          "text": [
            "Model: \"model_2\"\n",
            "__________________________________________________________________________________________________\n",
            "Layer (type)                    Output Shape         Param #     Connected to                     \n",
            "==================================================================================================\n",
            "input_2 (InputLayer)            (None, 80, 80, 16, 4 0                                            \n",
            "__________________________________________________________________________________________________\n",
            "conv3d_58 (Conv3D)              (None, 80, 80, 16, 3 3488        input_2[0][0]                    \n",
            "__________________________________________________________________________________________________\n",
            "conv3d_72 (Conv3D)              (None, 80, 80, 16, 3 3488        input_2[0][0]                    \n",
            "__________________________________________________________________________________________________\n",
            "activation_58 (Activation)      (None, 80, 80, 16, 3 0           conv3d_58[0][0]                  \n",
            "__________________________________________________________________________________________________\n",
            "activation_72 (Activation)      (None, 80, 80, 16, 3 0           conv3d_72[0][0]                  \n",
            "__________________________________________________________________________________________________\n",
            "conv3d_86 (Conv3D)              (None, 80, 80, 16, 3 3488        input_2[0][0]                    \n",
            "__________________________________________________________________________________________________\n",
            "conv3d_59 (Conv3D)              (None, 80, 80, 16, 6 55360       activation_58[0][0]              \n",
            "__________________________________________________________________________________________________\n",
            "conv3d_73 (Conv3D)              (None, 80, 80, 16, 6 55360       activation_72[0][0]              \n",
            "__________________________________________________________________________________________________\n",
            "activation_86 (Activation)      (None, 80, 80, 16, 3 0           conv3d_86[0][0]                  \n",
            "__________________________________________________________________________________________________\n",
            "conv3d_100 (Conv3D)             (None, 80, 80, 16, 3 3488        input_2[0][0]                    \n",
            "__________________________________________________________________________________________________\n",
            "activation_59 (Activation)      (None, 80, 80, 16, 6 0           conv3d_59[0][0]                  \n",
            "__________________________________________________________________________________________________\n",
            "activation_73 (Activation)      (None, 80, 80, 16, 6 0           conv3d_73[0][0]                  \n",
            "__________________________________________________________________________________________________\n",
            "conv3d_87 (Conv3D)              (None, 80, 80, 16, 6 55360       activation_86[0][0]              \n",
            "__________________________________________________________________________________________________\n",
            "activation_100 (Activation)     (None, 80, 80, 16, 3 0           conv3d_100[0][0]                 \n",
            "__________________________________________________________________________________________________\n",
            "max_pooling3d_13 (MaxPooling3D) (None, 40, 40, 8, 64 0           activation_59[0][0]              \n",
            "__________________________________________________________________________________________________\n",
            "max_pooling3d_16 (MaxPooling3D) (None, 40, 40, 8, 64 0           activation_73[0][0]              \n",
            "__________________________________________________________________________________________________\n",
            "activation_87 (Activation)      (None, 80, 80, 16, 6 0           conv3d_87[0][0]                  \n",
            "__________________________________________________________________________________________________\n",
            "conv3d_101 (Conv3D)             (None, 80, 80, 16, 6 55360       activation_100[0][0]             \n",
            "__________________________________________________________________________________________________\n",
            "conv3d_60 (Conv3D)              (None, 40, 40, 8, 64 110656      max_pooling3d_13[0][0]           \n",
            "__________________________________________________________________________________________________\n",
            "conv3d_74 (Conv3D)              (None, 40, 40, 8, 64 110656      max_pooling3d_16[0][0]           \n",
            "__________________________________________________________________________________________________\n",
            "max_pooling3d_19 (MaxPooling3D) (None, 40, 40, 8, 64 0           activation_87[0][0]              \n",
            "__________________________________________________________________________________________________\n",
            "activation_101 (Activation)     (None, 80, 80, 16, 6 0           conv3d_101[0][0]                 \n",
            "__________________________________________________________________________________________________\n",
            "activation_60 (Activation)      (None, 40, 40, 8, 64 0           conv3d_60[0][0]                  \n",
            "__________________________________________________________________________________________________\n",
            "activation_74 (Activation)      (None, 40, 40, 8, 64 0           conv3d_74[0][0]                  \n",
            "__________________________________________________________________________________________________\n",
            "conv3d_88 (Conv3D)              (None, 40, 40, 8, 64 110656      max_pooling3d_19[0][0]           \n",
            "__________________________________________________________________________________________________\n",
            "max_pooling3d_22 (MaxPooling3D) (None, 40, 40, 8, 64 0           activation_101[0][0]             \n",
            "__________________________________________________________________________________________________\n",
            "conv3d_61 (Conv3D)              (None, 40, 40, 8, 12 221312      activation_60[0][0]              \n",
            "__________________________________________________________________________________________________\n",
            "conv3d_75 (Conv3D)              (None, 40, 40, 8, 12 221312      activation_74[0][0]              \n",
            "__________________________________________________________________________________________________\n",
            "activation_88 (Activation)      (None, 40, 40, 8, 64 0           conv3d_88[0][0]                  \n",
            "__________________________________________________________________________________________________\n",
            "conv3d_102 (Conv3D)             (None, 40, 40, 8, 64 110656      max_pooling3d_22[0][0]           \n",
            "__________________________________________________________________________________________________\n",
            "activation_61 (Activation)      (None, 40, 40, 8, 12 0           conv3d_61[0][0]                  \n",
            "__________________________________________________________________________________________________\n",
            "activation_75 (Activation)      (None, 40, 40, 8, 12 0           conv3d_75[0][0]                  \n",
            "__________________________________________________________________________________________________\n",
            "conv3d_89 (Conv3D)              (None, 40, 40, 8, 12 221312      activation_88[0][0]              \n",
            "__________________________________________________________________________________________________\n",
            "activation_102 (Activation)     (None, 40, 40, 8, 64 0           conv3d_102[0][0]                 \n",
            "__________________________________________________________________________________________________\n",
            "max_pooling3d_14 (MaxPooling3D) (None, 20, 20, 4, 12 0           activation_61[0][0]              \n",
            "__________________________________________________________________________________________________\n",
            "max_pooling3d_17 (MaxPooling3D) (None, 20, 20, 4, 12 0           activation_75[0][0]              \n",
            "__________________________________________________________________________________________________\n",
            "activation_89 (Activation)      (None, 40, 40, 8, 12 0           conv3d_89[0][0]                  \n",
            "__________________________________________________________________________________________________\n",
            "conv3d_103 (Conv3D)             (None, 40, 40, 8, 12 221312      activation_102[0][0]             \n",
            "__________________________________________________________________________________________________\n",
            "conv3d_62 (Conv3D)              (None, 20, 20, 4, 12 442496      max_pooling3d_14[0][0]           \n",
            "__________________________________________________________________________________________________\n",
            "conv3d_76 (Conv3D)              (None, 20, 20, 4, 12 442496      max_pooling3d_17[0][0]           \n",
            "__________________________________________________________________________________________________\n",
            "max_pooling3d_20 (MaxPooling3D) (None, 20, 20, 4, 12 0           activation_89[0][0]              \n",
            "__________________________________________________________________________________________________\n",
            "activation_103 (Activation)     (None, 40, 40, 8, 12 0           conv3d_103[0][0]                 \n",
            "__________________________________________________________________________________________________\n",
            "activation_62 (Activation)      (None, 20, 20, 4, 12 0           conv3d_62[0][0]                  \n",
            "__________________________________________________________________________________________________\n",
            "activation_76 (Activation)      (None, 20, 20, 4, 12 0           conv3d_76[0][0]                  \n",
            "__________________________________________________________________________________________________\n",
            "conv3d_90 (Conv3D)              (None, 20, 20, 4, 12 442496      max_pooling3d_20[0][0]           \n",
            "__________________________________________________________________________________________________\n",
            "max_pooling3d_23 (MaxPooling3D) (None, 20, 20, 4, 12 0           activation_103[0][0]             \n",
            "__________________________________________________________________________________________________\n",
            "conv3d_63 (Conv3D)              (None, 20, 20, 4, 25 884992      activation_62[0][0]              \n",
            "__________________________________________________________________________________________________\n",
            "conv3d_77 (Conv3D)              (None, 20, 20, 4, 25 884992      activation_76[0][0]              \n",
            "__________________________________________________________________________________________________\n",
            "activation_90 (Activation)      (None, 20, 20, 4, 12 0           conv3d_90[0][0]                  \n",
            "__________________________________________________________________________________________________\n",
            "conv3d_104 (Conv3D)             (None, 20, 20, 4, 12 442496      max_pooling3d_23[0][0]           \n",
            "__________________________________________________________________________________________________\n",
            "activation_63 (Activation)      (None, 20, 20, 4, 25 0           conv3d_63[0][0]                  \n",
            "__________________________________________________________________________________________________\n",
            "activation_77 (Activation)      (None, 20, 20, 4, 25 0           conv3d_77[0][0]                  \n",
            "__________________________________________________________________________________________________\n",
            "conv3d_91 (Conv3D)              (None, 20, 20, 4, 25 884992      activation_90[0][0]              \n",
            "__________________________________________________________________________________________________\n",
            "activation_104 (Activation)     (None, 20, 20, 4, 12 0           conv3d_104[0][0]                 \n",
            "__________________________________________________________________________________________________\n",
            "max_pooling3d_15 (MaxPooling3D) (None, 10, 10, 2, 25 0           activation_63[0][0]              \n",
            "__________________________________________________________________________________________________\n",
            "max_pooling3d_18 (MaxPooling3D) (None, 10, 10, 2, 25 0           activation_77[0][0]              \n",
            "__________________________________________________________________________________________________\n",
            "activation_91 (Activation)      (None, 20, 20, 4, 25 0           conv3d_91[0][0]                  \n",
            "__________________________________________________________________________________________________\n",
            "conv3d_105 (Conv3D)             (None, 20, 20, 4, 25 884992      activation_104[0][0]             \n",
            "__________________________________________________________________________________________________\n",
            "conv3d_64 (Conv3D)              (None, 10, 10, 2, 25 1769728     max_pooling3d_15[0][0]           \n",
            "__________________________________________________________________________________________________\n",
            "conv3d_78 (Conv3D)              (None, 10, 10, 2, 25 1769728     max_pooling3d_18[0][0]           \n",
            "__________________________________________________________________________________________________\n",
            "max_pooling3d_21 (MaxPooling3D) (None, 10, 10, 2, 25 0           activation_91[0][0]              \n",
            "__________________________________________________________________________________________________\n",
            "activation_105 (Activation)     (None, 20, 20, 4, 25 0           conv3d_105[0][0]                 \n",
            "__________________________________________________________________________________________________\n",
            "activation_64 (Activation)      (None, 10, 10, 2, 25 0           conv3d_64[0][0]                  \n",
            "__________________________________________________________________________________________________\n",
            "activation_78 (Activation)      (None, 10, 10, 2, 25 0           conv3d_78[0][0]                  \n",
            "__________________________________________________________________________________________________\n",
            "conv3d_92 (Conv3D)              (None, 10, 10, 2, 25 1769728     max_pooling3d_21[0][0]           \n",
            "__________________________________________________________________________________________________\n",
            "max_pooling3d_24 (MaxPooling3D) (None, 10, 10, 2, 25 0           activation_105[0][0]             \n",
            "__________________________________________________________________________________________________\n",
            "conv3d_65 (Conv3D)              (None, 10, 10, 2, 51 3539456     activation_64[0][0]              \n",
            "__________________________________________________________________________________________________\n",
            "conv3d_79 (Conv3D)              (None, 10, 10, 2, 51 3539456     activation_78[0][0]              \n",
            "__________________________________________________________________________________________________\n",
            "activation_92 (Activation)      (None, 10, 10, 2, 25 0           conv3d_92[0][0]                  \n",
            "__________________________________________________________________________________________________\n",
            "conv3d_106 (Conv3D)             (None, 10, 10, 2, 25 1769728     max_pooling3d_24[0][0]           \n",
            "__________________________________________________________________________________________________\n",
            "activation_65 (Activation)      (None, 10, 10, 2, 51 0           conv3d_65[0][0]                  \n",
            "__________________________________________________________________________________________________\n",
            "activation_79 (Activation)      (None, 10, 10, 2, 51 0           conv3d_79[0][0]                  \n",
            "__________________________________________________________________________________________________\n",
            "conv3d_93 (Conv3D)              (None, 10, 10, 2, 51 3539456     activation_92[0][0]              \n",
            "__________________________________________________________________________________________________\n",
            "activation_106 (Activation)     (None, 10, 10, 2, 25 0           conv3d_106[0][0]                 \n",
            "__________________________________________________________________________________________________\n",
            "up_sampling3d_13 (UpSampling3D) (None, 20, 20, 4, 51 0           activation_65[0][0]              \n",
            "__________________________________________________________________________________________________\n",
            "up_sampling3d_16 (UpSampling3D) (None, 20, 20, 4, 51 0           activation_79[0][0]              \n",
            "__________________________________________________________________________________________________\n",
            "activation_93 (Activation)      (None, 10, 10, 2, 51 0           conv3d_93[0][0]                  \n",
            "__________________________________________________________________________________________________\n",
            "conv3d_107 (Conv3D)             (None, 10, 10, 2, 51 3539456     activation_106[0][0]             \n",
            "__________________________________________________________________________________________________\n",
            "concatenate_16 (Concatenate)    (None, 20, 20, 4, 76 0           up_sampling3d_13[0][0]           \n",
            "                                                                 activation_63[0][0]              \n",
            "__________________________________________________________________________________________________\n",
            "concatenate_19 (Concatenate)    (None, 20, 20, 4, 76 0           up_sampling3d_16[0][0]           \n",
            "                                                                 activation_77[0][0]              \n",
            "__________________________________________________________________________________________________\n",
            "up_sampling3d_19 (UpSampling3D) (None, 20, 20, 4, 51 0           activation_93[0][0]              \n",
            "__________________________________________________________________________________________________\n",
            "activation_107 (Activation)     (None, 10, 10, 2, 51 0           conv3d_107[0][0]                 \n",
            "__________________________________________________________________________________________________\n",
            "conv3d_66 (Conv3D)              (None, 20, 20, 4, 20 414740      concatenate_16[0][0]             \n",
            "__________________________________________________________________________________________________\n",
            "conv3d_80 (Conv3D)              (None, 20, 20, 4, 20 414740      concatenate_19[0][0]             \n",
            "__________________________________________________________________________________________________\n",
            "concatenate_22 (Concatenate)    (None, 20, 20, 4, 76 0           up_sampling3d_19[0][0]           \n",
            "                                                                 activation_91[0][0]              \n",
            "__________________________________________________________________________________________________\n",
            "up_sampling3d_22 (UpSampling3D) (None, 20, 20, 4, 51 0           activation_107[0][0]             \n",
            "__________________________________________________________________________________________________\n",
            "activation_66 (Activation)      (None, 20, 20, 4, 20 0           conv3d_66[0][0]                  \n",
            "__________________________________________________________________________________________________\n",
            "activation_80 (Activation)      (None, 20, 20, 4, 20 0           conv3d_80[0][0]                  \n",
            "__________________________________________________________________________________________________\n",
            "conv3d_94 (Conv3D)              (None, 20, 20, 4, 20 414740      concatenate_22[0][0]             \n",
            "__________________________________________________________________________________________________\n",
            "concatenate_25 (Concatenate)    (None, 20, 20, 4, 76 0           up_sampling3d_22[0][0]           \n",
            "                                                                 activation_105[0][0]             \n",
            "__________________________________________________________________________________________________\n",
            "conv3d_67 (Conv3D)              (None, 20, 20, 4, 20 10820       activation_66[0][0]              \n",
            "__________________________________________________________________________________________________\n",
            "conv3d_81 (Conv3D)              (None, 20, 20, 4, 20 10820       activation_80[0][0]              \n",
            "__________________________________________________________________________________________________\n",
            "activation_94 (Activation)      (None, 20, 20, 4, 20 0           conv3d_94[0][0]                  \n",
            "__________________________________________________________________________________________________\n",
            "conv3d_108 (Conv3D)             (None, 20, 20, 4, 20 414740      concatenate_25[0][0]             \n",
            "__________________________________________________________________________________________________\n",
            "activation_67 (Activation)      (None, 20, 20, 4, 20 0           conv3d_67[0][0]                  \n",
            "__________________________________________________________________________________________________\n",
            "activation_81 (Activation)      (None, 20, 20, 4, 20 0           conv3d_81[0][0]                  \n",
            "__________________________________________________________________________________________________\n",
            "conv3d_95 (Conv3D)              (None, 20, 20, 4, 20 10820       activation_94[0][0]              \n",
            "__________________________________________________________________________________________________\n",
            "activation_108 (Activation)     (None, 20, 20, 4, 20 0           conv3d_108[0][0]                 \n",
            "__________________________________________________________________________________________________\n",
            "up_sampling3d_14 (UpSampling3D) (None, 40, 40, 8, 20 0           activation_67[0][0]              \n",
            "__________________________________________________________________________________________________\n",
            "up_sampling3d_17 (UpSampling3D) (None, 40, 40, 8, 20 0           activation_81[0][0]              \n",
            "__________________________________________________________________________________________________\n",
            "activation_95 (Activation)      (None, 20, 20, 4, 20 0           conv3d_95[0][0]                  \n",
            "__________________________________________________________________________________________________\n",
            "conv3d_109 (Conv3D)             (None, 20, 20, 4, 20 10820       activation_108[0][0]             \n",
            "__________________________________________________________________________________________________\n",
            "concatenate_17 (Concatenate)    (None, 40, 40, 8, 14 0           up_sampling3d_14[0][0]           \n",
            "                                                                 activation_61[0][0]              \n",
            "__________________________________________________________________________________________________\n",
            "concatenate_20 (Concatenate)    (None, 40, 40, 8, 14 0           up_sampling3d_17[0][0]           \n",
            "                                                                 activation_75[0][0]              \n",
            "__________________________________________________________________________________________________\n",
            "up_sampling3d_20 (UpSampling3D) (None, 40, 40, 8, 20 0           activation_95[0][0]              \n",
            "__________________________________________________________________________________________________\n",
            "activation_109 (Activation)     (None, 20, 20, 4, 20 0           conv3d_109[0][0]                 \n",
            "__________________________________________________________________________________________________\n",
            "conv3d_68 (Conv3D)              (None, 40, 40, 8, 40 159880      concatenate_17[0][0]             \n",
            "__________________________________________________________________________________________________\n",
            "conv3d_82 (Conv3D)              (None, 40, 40, 8, 40 159880      concatenate_20[0][0]             \n",
            "__________________________________________________________________________________________________\n",
            "concatenate_23 (Concatenate)    (None, 40, 40, 8, 14 0           up_sampling3d_20[0][0]           \n",
            "                                                                 activation_89[0][0]              \n",
            "__________________________________________________________________________________________________\n",
            "up_sampling3d_23 (UpSampling3D) (None, 40, 40, 8, 20 0           activation_109[0][0]             \n",
            "__________________________________________________________________________________________________\n",
            "activation_68 (Activation)      (None, 40, 40, 8, 40 0           conv3d_68[0][0]                  \n",
            "__________________________________________________________________________________________________\n",
            "activation_82 (Activation)      (None, 40, 40, 8, 40 0           conv3d_82[0][0]                  \n",
            "__________________________________________________________________________________________________\n",
            "conv3d_96 (Conv3D)              (None, 40, 40, 8, 40 159880      concatenate_23[0][0]             \n",
            "__________________________________________________________________________________________________\n",
            "concatenate_26 (Concatenate)    (None, 40, 40, 8, 14 0           up_sampling3d_23[0][0]           \n",
            "                                                                 activation_103[0][0]             \n",
            "__________________________________________________________________________________________________\n",
            "conv3d_69 (Conv3D)              (None, 40, 40, 8, 40 43240       activation_68[0][0]              \n",
            "__________________________________________________________________________________________________\n",
            "conv3d_83 (Conv3D)              (None, 40, 40, 8, 40 43240       activation_82[0][0]              \n",
            "__________________________________________________________________________________________________\n",
            "activation_96 (Activation)      (None, 40, 40, 8, 40 0           conv3d_96[0][0]                  \n",
            "__________________________________________________________________________________________________\n",
            "conv3d_110 (Conv3D)             (None, 40, 40, 8, 40 159880      concatenate_26[0][0]             \n",
            "__________________________________________________________________________________________________\n",
            "activation_69 (Activation)      (None, 40, 40, 8, 40 0           conv3d_69[0][0]                  \n",
            "__________________________________________________________________________________________________\n",
            "activation_83 (Activation)      (None, 40, 40, 8, 40 0           conv3d_83[0][0]                  \n",
            "__________________________________________________________________________________________________\n",
            "conv3d_97 (Conv3D)              (None, 40, 40, 8, 40 43240       activation_96[0][0]              \n",
            "__________________________________________________________________________________________________\n",
            "activation_110 (Activation)     (None, 40, 40, 8, 40 0           conv3d_110[0][0]                 \n",
            "__________________________________________________________________________________________________\n",
            "up_sampling3d_15 (UpSampling3D) (None, 80, 80, 16, 4 0           activation_69[0][0]              \n",
            "__________________________________________________________________________________________________\n",
            "up_sampling3d_18 (UpSampling3D) (None, 80, 80, 16, 4 0           activation_83[0][0]              \n",
            "__________________________________________________________________________________________________\n",
            "activation_97 (Activation)      (None, 40, 40, 8, 40 0           conv3d_97[0][0]                  \n",
            "__________________________________________________________________________________________________\n",
            "conv3d_111 (Conv3D)             (None, 40, 40, 8, 40 43240       activation_110[0][0]             \n",
            "__________________________________________________________________________________________________\n",
            "concatenate_18 (Concatenate)    (None, 80, 80, 16, 1 0           up_sampling3d_15[0][0]           \n",
            "                                                                 activation_59[0][0]              \n",
            "__________________________________________________________________________________________________\n",
            "concatenate_21 (Concatenate)    (None, 80, 80, 16, 1 0           up_sampling3d_18[0][0]           \n",
            "                                                                 activation_73[0][0]              \n",
            "__________________________________________________________________________________________________\n",
            "up_sampling3d_21 (UpSampling3D) (None, 80, 80, 16, 4 0           activation_97[0][0]              \n",
            "__________________________________________________________________________________________________\n",
            "activation_111 (Activation)     (None, 40, 40, 8, 40 0           conv3d_111[0][0]                 \n",
            "__________________________________________________________________________________________________\n",
            "conv3d_70 (Conv3D)              (None, 80, 80, 16, 8 224720      concatenate_18[0][0]             \n",
            "__________________________________________________________________________________________________\n",
            "conv3d_84 (Conv3D)              (None, 80, 80, 16, 8 224720      concatenate_21[0][0]             \n",
            "__________________________________________________________________________________________________\n",
            "concatenate_24 (Concatenate)    (None, 80, 80, 16, 1 0           up_sampling3d_21[0][0]           \n",
            "                                                                 activation_87[0][0]              \n",
            "__________________________________________________________________________________________________\n",
            "up_sampling3d_24 (UpSampling3D) (None, 80, 80, 16, 4 0           activation_111[0][0]             \n",
            "__________________________________________________________________________________________________\n",
            "activation_70 (Activation)      (None, 80, 80, 16, 8 0           conv3d_70[0][0]                  \n",
            "__________________________________________________________________________________________________\n",
            "activation_84 (Activation)      (None, 80, 80, 16, 8 0           conv3d_84[0][0]                  \n",
            "__________________________________________________________________________________________________\n",
            "conv3d_98 (Conv3D)              (None, 80, 80, 16, 8 224720      concatenate_24[0][0]             \n",
            "__________________________________________________________________________________________________\n",
            "concatenate_27 (Concatenate)    (None, 80, 80, 16, 1 0           up_sampling3d_24[0][0]           \n",
            "                                                                 activation_101[0][0]             \n",
            "__________________________________________________________________________________________________\n",
            "conv3d_71 (Conv3D)              (None, 80, 80, 16, 8 172880      activation_70[0][0]              \n",
            "__________________________________________________________________________________________________\n",
            "conv3d_85 (Conv3D)              (None, 80, 80, 16, 8 172880      activation_84[0][0]              \n",
            "__________________________________________________________________________________________________\n",
            "activation_98 (Activation)      (None, 80, 80, 16, 8 0           conv3d_98[0][0]                  \n",
            "__________________________________________________________________________________________________\n",
            "conv3d_112 (Conv3D)             (None, 80, 80, 16, 8 224720      concatenate_27[0][0]             \n",
            "__________________________________________________________________________________________________\n",
            "activation_71 (Activation)      (None, 80, 80, 16, 8 0           conv3d_71[0][0]                  \n",
            "__________________________________________________________________________________________________\n",
            "activation_85 (Activation)      (None, 80, 80, 16, 8 0           conv3d_85[0][0]                  \n",
            "__________________________________________________________________________________________________\n",
            "conv3d_99 (Conv3D)              (None, 80, 80, 16, 8 172880      activation_98[0][0]              \n",
            "__________________________________________________________________________________________________\n",
            "activation_112 (Activation)     (None, 80, 80, 16, 8 0           conv3d_112[0][0]                 \n",
            "__________________________________________________________________________________________________\n",
            "concatenate_28 (Concatenate)    (None, 80, 80, 16, 1 0           activation_71[0][0]              \n",
            "                                                                 activation_85[0][0]              \n",
            "__________________________________________________________________________________________________\n",
            "activation_99 (Activation)      (None, 80, 80, 16, 8 0           conv3d_99[0][0]                  \n",
            "__________________________________________________________________________________________________\n",
            "conv3d_113 (Conv3D)             (None, 80, 80, 16, 8 172880      activation_112[0][0]             \n",
            "__________________________________________________________________________________________________\n",
            "concatenate_29 (Concatenate)    (None, 80, 80, 16, 2 0           concatenate_28[0][0]             \n",
            "                                                                 activation_99[0][0]              \n",
            "__________________________________________________________________________________________________\n",
            "activation_113 (Activation)     (None, 80, 80, 16, 8 0           conv3d_113[0][0]                 \n",
            "__________________________________________________________________________________________________\n",
            "concatenate_30 (Concatenate)    (None, 80, 80, 16, 3 0           concatenate_29[0][0]             \n",
            "                                                                 activation_113[0][0]             \n",
            "__________________________________________________________________________________________________\n",
            "conv3d_114 (Conv3D)             (None, 80, 80, 16, 3 963         concatenate_30[0][0]             \n",
            "__________________________________________________________________________________________________\n",
            "activation_114 (Activation)     (None, 80, 80, 16, 3 0           conv3d_114[0][0]                 \n",
            "==================================================================================================\n",
            "Total params: 32,216,035\n",
            "Trainable params: 32,216,035\n",
            "Non-trainable params: 0\n",
            "__________________________________________________________________________________________________\n"
          ],
          "name": "stdout"
        }
      ]
    },
    {
      "cell_type": "code",
      "metadata": {
        "id": "NlHXi8yw0XHP",
        "colab_type": "code",
        "colab": {}
      },
      "source": [
        "import glob, os\n",
        "images_path = glob.glob('/content/drive/My Drive/BRATS2020/MICCAI_BraTS2020_TrainingData/**/*.nii.gz', recursive=True)\n",
        "\n",
        "data_path = \"\"\n",
        "\n",
        "X_trainset_filenames = []\n",
        "y_trainset_filenames = []\n",
        "\n",
        "for item in images_path:\n",
        "  if 'seg' in item:\n",
        "    y_trainset_filenames.append(os.path.join(data_path, item))\n",
        "  else:\n",
        "    X_trainset_filenames.append(os.path.join(data_path, item))"
      ],
      "execution_count": 9,
      "outputs": []
    },
    {
      "cell_type": "code",
      "metadata": {
        "id": "7sJXY3V2MpOK",
        "colab_type": "code",
        "colab": {}
      },
      "source": [
        "def load_case(image_nifty_file, label_nifty_file):\n",
        "\n",
        "\n",
        "    image_nifty_file \n",
        "    \n",
        "    # load the image and label file, get the image content and return a numpy array for each\n",
        "    image = np.zeros((240, 240, 155, 4))\n",
        "\n",
        "    img0 = np.array(nib.load(image_nifty_file[0]).get_fdata())\n",
        "    img1 = np.array(nib.load(image_nifty_file[1]).get_fdata())\n",
        "    img2 = np.array(nib.load(image_nifty_file[2]).get_fdata())\n",
        "    img3 = np.array(nib.load(image_nifty_file[3]).get_fdata())\n",
        "    \n",
        "    image[:, :, :, 0] = img0\n",
        "    image[:, :, :, 1] = img1\n",
        "    image[:, :, :, 2] = img2\n",
        "    image[:, :, :, 3] = img3\n",
        "      \n",
        "    label = np.array(nib.load(label_nifty_file).get_fdata())\n",
        "    \n",
        "    \n",
        "    return image, label"
      ],
      "execution_count": 10,
      "outputs": []
    },
    {
      "cell_type": "code",
      "metadata": {
        "id": "NO8ZyWuHUxmz",
        "colab_type": "code",
        "colab": {}
      },
      "source": [
        "def sort_by_channel(sample_path):\n",
        "\n",
        "  n = int(len(sample_path) / 4)\n",
        "  new_path = []\n",
        "  for i in range(n):\n",
        "    temp = sample_path[(i*4): (i+1)*4]\n",
        "    new_temp = []\n",
        "\n",
        "    ###############\n",
        "    for path in temp:\n",
        "      if '_t1.' in path:\n",
        "        new_temp.append(path)\n",
        "      else:\n",
        "        pass\n",
        "    for path in temp:\n",
        "      if '_t1ce.' in path:\n",
        "        new_temp.append(path)\n",
        "      else:\n",
        "        pass\n",
        "    for path in temp:\n",
        "      if '_t2.' in path:\n",
        "        new_temp.append(path)\n",
        "      else:\n",
        "        pass\n",
        "    for path in temp:\n",
        "      if '_flair.' in path:\n",
        "        new_temp.append(path)\n",
        "      else:\n",
        "        pass\n",
        "\n",
        "    ################    \n",
        "    for path in new_temp:\n",
        "      new_path.append(path)\n",
        "\n",
        "\n",
        "  return new_path"
      ],
      "execution_count": 11,
      "outputs": []
    },
    {
      "cell_type": "code",
      "metadata": {
        "id": "oLXNvH51Uzi4",
        "colab_type": "code",
        "colab": {}
      },
      "source": [
        "X_trainset_filenames_by_channels = sort_by_channel(X_trainset_filenames[26:30])"
      ],
      "execution_count": 12,
      "outputs": []
    },
    {
      "cell_type": "code",
      "metadata": {
        "id": "g1S5oeM4NAoX",
        "colab_type": "code",
        "colab": {}
      },
      "source": [
        "image , label = load_case(X_trainset_filenames_by_channels, y_trainset_filenames[6])"
      ],
      "execution_count": 41,
      "outputs": []
    },
    {
      "cell_type": "code",
      "metadata": {
        "id": "UqR374bpT_kZ",
        "colab_type": "code",
        "colab": {
          "base_uri": "https://localhost:8080/",
          "height": 50
        },
        "outputId": "44e0640c-a098-42f4-9963-b178bd90f3ac"
      },
      "source": [
        "print(image.shape)\n",
        "print(label.shape)"
      ],
      "execution_count": 14,
      "outputs": [
        {
          "output_type": "stream",
          "text": [
            "(240, 240, 155, 4)\n",
            "(240, 240, 155)\n"
          ],
          "name": "stdout"
        }
      ]
    },
    {
      "cell_type": "code",
      "metadata": {
        "id": "knTTWkQrT1Q8",
        "colab_type": "code",
        "colab": {}
      },
      "source": [
        "def get_sub_volume(image, label):\n",
        "  \n",
        "  sub_volume_X = []\n",
        "  sub_volume_y = []\n",
        "\n",
        "  for j in range (0, 240, 80):\n",
        "    for k in range(0, 240, 80):\n",
        "      for z in range(8, 147, 16):\n",
        "        sub = image[ j:j+80, k:k+80, z:z+16, :]\n",
        "        sub_volume_X.append(sub)\n",
        "        sub = label[ j:j+80, k:k+80, z:z+16]\n",
        "        sub_volume_y.append(sub)\n",
        "\n",
        "\n",
        "\n",
        "  return sub_volume_X, sub_volume_y\n",
        "\n",
        "\n",
        "\n"
      ],
      "execution_count": 29,
      "outputs": []
    },
    {
      "cell_type": "code",
      "metadata": {
        "id": "7gw2iTqbW7ur",
        "colab_type": "code",
        "colab": {}
      },
      "source": [
        "X, y = get_sub_volume(image, label)"
      ],
      "execution_count": 39,
      "outputs": []
    },
    {
      "cell_type": "code",
      "metadata": {
        "id": "vHgwXCgVXH3y",
        "colab_type": "code",
        "colab": {
          "base_uri": "https://localhost:8080/",
          "height": 50
        },
        "outputId": "607106af-5940-40dd-cb71-4046a89727cb"
      },
      "source": [
        "print(len(X))\n",
        "print(len(y))"
      ],
      "execution_count": 31,
      "outputs": [
        {
          "output_type": "stream",
          "text": [
            "81\n",
            "81\n"
          ],
          "name": "stdout"
        }
      ]
    },
    {
      "cell_type": "code",
      "metadata": {
        "id": "lVgqjfghXTZX",
        "colab_type": "code",
        "colab": {
          "base_uri": "https://localhost:8080/",
          "height": 50
        },
        "outputId": "3694640e-13a6-4ba5-b1f7-87eeaef857b9"
      },
      "source": [
        "print(X[1].shape)\n",
        "print(y[1].shape)"
      ],
      "execution_count": 33,
      "outputs": [
        {
          "output_type": "stream",
          "text": [
            "(80, 80, 16, 4)\n",
            "(80, 80, 16)\n"
          ],
          "name": "stdout"
        }
      ]
    },
    {
      "cell_type": "code",
      "metadata": {
        "id": "VsRRJ9tUYvvH",
        "colab_type": "code",
        "colab": {
          "base_uri": "https://localhost:8080/",
          "height": 34
        },
        "outputId": "643cd1b7-0b50-4c2d-afcf-48e495e8b562"
      },
      "source": [
        "from tqdm import tqdm\n",
        "\n",
        "y_pred = []\n",
        "for item in tqdm(X):\n",
        "  temp_0 = item.reshape((1, 80, 80, 16, 4))\n",
        "  temp = model.predict(temp_0)\n",
        "  y_pred.append(temp)\n"
      ],
      "execution_count": 38,
      "outputs": [
        {
          "output_type": "stream",
          "text": [
            "100%|██████████| 81/81 [09:00<00:00,  6.68s/it]\n"
          ],
          "name": "stderr"
        }
      ]
    },
    {
      "cell_type": "code",
      "metadata": {
        "id": "-iqdJDSzciQw",
        "colab_type": "code",
        "colab": {
          "base_uri": "https://localhost:8080/",
          "height": 34
        },
        "outputId": "9731e279-272a-4d5b-87fa-4d19aab2e50d"
      },
      "source": [
        "label.shape"
      ],
      "execution_count": 42,
      "outputs": [
        {
          "output_type": "execute_result",
          "data": {
            "text/plain": [
              "(240, 240, 155)"
            ]
          },
          "metadata": {
            "tags": []
          },
          "execution_count": 42
        }
      ]
    },
    {
      "cell_type": "code",
      "metadata": {
        "id": "fBCERxAGczRE",
        "colab_type": "code",
        "colab": {}
      },
      "source": [
        "def get_whole_image(predict):\n",
        "  \n",
        "  prediction = np.zeros((240, 240, 155, 3))\n",
        "\n",
        "  counter = 0\n",
        "  for j in range (0, 240, 80):\n",
        "    for k in range(0, 240, 80):\n",
        "      for z in range(8, 147, 16):\n",
        "        prediction[j:j+80, k:k+80, z:z+16, :] = predict[counter]\n",
        "        counter +=1\n",
        "\n",
        "\n",
        "\n",
        "  return prediction"
      ],
      "execution_count": 55,
      "outputs": []
    },
    {
      "cell_type": "code",
      "metadata": {
        "id": "f1H3V48jeZvu",
        "colab_type": "code",
        "colab": {
          "base_uri": "https://localhost:8080/",
          "height": 34
        },
        "outputId": "6e4277ea-488b-479b-9926-c44feb66814c"
      },
      "source": [
        "y = get_whole_image(y_pred)\n",
        "print(y.shape)"
      ],
      "execution_count": 56,
      "outputs": [
        {
          "output_type": "stream",
          "text": [
            "(240, 240, 155, 3)\n"
          ],
          "name": "stdout"
        }
      ]
    },
    {
      "cell_type": "code",
      "metadata": {
        "id": "cf2EY0yApFoN",
        "colab_type": "code",
        "colab": {
          "base_uri": "https://localhost:8080/",
          "height": 373,
          "referenced_widgets": [
            "17368e07e8d548efa672a2993dc85149",
            "12c9a8a7340e43a3ad7b3a057d26b2a2",
            "242ac40cae294ab3bb22e34d36f883f3",
            "2d7206b5c65e4591bcd5440f4b7bc808",
            "1ee2b9fc58b7415f9f18b565e3bfe9c6",
            "f4847fa947b64b79ba9fe8ff48942255",
            "4a9627210e444e3d8a54a52bd9daef49"
          ]
        },
        "outputId": "13585090-9022-4628-c180-34a0a27f5d76"
      },
      "source": [
        "from ipywidgets import interact\n",
        "\n",
        "def explore_3dimage(layer):\n",
        "    plt.figure(figsize=(10, 5))\n",
        "    channel = 3\n",
        "    plt.imshow(y[:, :, layer, :]);\n",
        "    plt.title('Explore Layers of Brain MRI', fontsize=20)\n",
        "    plt.axis('off')\n",
        "    return layer\n",
        "\n",
        "# Run the ipywidgets interact() function to explore the data\n",
        "interact(explore_3dimage, layer=(0, 155 - 1));"
      ],
      "execution_count": 62,
      "outputs": [
        {
          "output_type": "display_data",
          "data": {
            "application/vnd.jupyter.widget-view+json": {
              "model_id": "17368e07e8d548efa672a2993dc85149",
              "version_minor": 0,
              "version_major": 2
            },
            "text/plain": [
              "interactive(children=(IntSlider(value=77, description='layer', max=154), Output()), _dom_classes=('widget-inte…"
            ]
          },
          "metadata": {
            "tags": []
          }
        }
      ]
    },
    {
      "cell_type": "code",
      "metadata": {
        "id": "-9Y65NLofVpO",
        "colab_type": "code",
        "colab": {
          "base_uri": "https://localhost:8080/",
          "height": 373,
          "referenced_widgets": [
            "5591402ea814466f98777c04f83f29e7",
            "fe8b8ce0234842968776062dcffe2e36",
            "c2ed92bf68094fffade782a928ee9dd7",
            "88384de061b14382802264f01b1412e3",
            "1ad7d7abdf41455fbafff92abe1a3570",
            "834b58a9532b4ebb84a532ffb8e5660b",
            "365394e368994393a1132aae2ef1a72e"
          ]
        },
        "outputId": "9380fe26-f637-4594-feb7-9adf5aadb45d"
      },
      "source": [
        "from ipywidgets import interact\n",
        "\n",
        "def explore_3dimage(layer):\n",
        "    plt.figure(figsize=(10, 5))\n",
        "    channel = 3\n",
        "    plt.imshow(label[:, :, layer]);\n",
        "    plt.title('Explore Layers of Brain MRI', fontsize=20)\n",
        "    plt.axis('off')\n",
        "    return layer\n",
        "\n",
        "# Run the ipywidgets interact() function to explore the data\n",
        "interact(explore_3dimage, layer=(0, 155 - 1));"
      ],
      "execution_count": 53,
      "outputs": [
        {
          "output_type": "display_data",
          "data": {
            "application/vnd.jupyter.widget-view+json": {
              "model_id": "5591402ea814466f98777c04f83f29e7",
              "version_minor": 0,
              "version_major": 2
            },
            "text/plain": [
              "interactive(children=(IntSlider(value=77, description='layer', max=154), Output()), _dom_classes=('widget-inte…"
            ]
          },
          "metadata": {
            "tags": []
          }
        }
      ]
    },
    {
      "cell_type": "code",
      "metadata": {
        "id": "lRKHo13zcTBp",
        "colab_type": "code",
        "colab": {
          "base_uri": "https://localhost:8080/",
          "height": 286
        },
        "outputId": "4fc49906-99d9-4b34-9651-fe9b14d508cc"
      },
      "source": [
        "plt.imshow((img[0, :, :, 100] * 255).astype(np.uint8))"
      ],
      "execution_count": null,
      "outputs": [
        {
          "output_type": "execute_result",
          "data": {
            "text/plain": [
              "<matplotlib.image.AxesImage at 0x7f039b64d9b0>"
            ]
          },
          "metadata": {
            "tags": []
          },
          "execution_count": 31
        },
        {
          "output_type": "display_data",
          "data": {
            "image/png": "[encoded data removed]",
            "text/plain": [
              "<Figure size 432x288 with 1 Axes>"
            ]
          },
          "metadata": {
            "tags": [],
            "needs_background": "light"
          }
        }
      ]
    },
    {
      "cell_type": "code",
      "metadata": {
        "id": "RLHj4eBVEd75",
        "colab_type": "code",
        "colab": {
          "base_uri": "https://localhost:8080/",
          "height": 34
        },
        "outputId": "d4192412-e09d-48e9-d7f7-e25031a080a7"
      },
      "source": [
        "print(y_predict.shape)"
      ],
      "execution_count": null,
      "outputs": [
        {
          "output_type": "stream",
          "text": [
            "(1, 240, 240, 155)\n"
          ],
          "name": "stdout"
        }
      ]
    },
    {
      "cell_type": "code",
      "metadata": {
        "id": "6HOj0Lem3H9J",
        "colab_type": "code",
        "colab": {
          "base_uri": "https://localhost:8080/",
          "height": 486
        },
        "outputId": "87c0f703-2866-430b-caa1-884952f8f454"
      },
      "source": [
        "fig=plt.figure(figsize=(8, 8))\n",
        "columns = 3\n",
        "rows = 4\n",
        "for i in range(1, columns*rows +1):\n",
        "    img = y_pred[0, :, :, i, 2]\n",
        "    fig.add_subplot(rows, columns, i)\n",
        "    plt.imshow(img)\n",
        "plt.show()"
      ],
      "execution_count": null,
      "outputs": [
        {
          "output_type": "display_data",
          "data": {
            "image/png": "[encoded data removed]",
            "text/plain": [
              "<Figure size 576x576 with 12 Axes>"
            ]
          },
          "metadata": {
            "tags": [],
            "needs_background": "light"
          }
        }
      ]
    },
    {
      "cell_type": "code",
      "metadata": {
        "id": "0_wdCSNl9Lof",
        "colab_type": "code",
        "colab": {
          "base_uri": "https://localhost:8080/",
          "height": 486
        },
        "outputId": "eca6c912-29bb-4e65-9626-d91ab6bba918"
      },
      "source": [
        "fig=plt.figure(figsize=(8, 8))\n",
        "columns = 3\n",
        "rows = 4\n",
        "for i in range(1, columns*rows +1):\n",
        "    img = y[0, :, :, i]\n",
        "    fig.add_subplot(rows, columns, i)\n",
        "    plt.imshow((img * 255).astype(np.uint8))\n",
        "plt.show()"
      ],
      "execution_count": null,
      "outputs": [
        {
          "output_type": "display_data",
          "data": {
            "image/png": "[encoded data removed]",
            "text/plain": [
              "<Figure size 576x576 with 12 Axes>"
            ]
          },
          "metadata": {
            "tags": [],
            "needs_background": "light"
          }
        }
      ]
    },
    {
      "cell_type": "code",
      "metadata": {
        "id": "BztSTFdp9VEq",
        "colab_type": "code",
        "colab": {}
      },
      "source": [
        ""
      ],
      "execution_count": null,
      "outputs": []
    }
  ]
}